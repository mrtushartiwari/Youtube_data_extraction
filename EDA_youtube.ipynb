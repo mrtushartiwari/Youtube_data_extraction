{
 "cells": [
  {
   "cell_type": "code",
   "execution_count": 163,
   "metadata": {},
   "outputs": [],
   "source": [
    "import os\n",
    "import googleapiclient.discovery\n",
    "import pandas as pd\n",
    "import time\n",
    "from tqdm import tqdm\n",
    "\n",
    "os.environ[\"OAUTHLIB_INSECURE_TRANSPORT\"] = \"1\"\n",
    "api_service_name = \"youtube\"\n",
    "api_version = \"v3\"\n",
    "DEVELOPER_KEY = os.environ.get(\"YOUTUBE_DEVELOPER_KEY\")\n",
    "\n",
    "youtube = googleapiclient.discovery.build(\n",
    "    api_service_name, api_version, developerKey = DEVELOPER_KEY)\n",
    "\n",
    "playlist_parts = ['contentDetails','id','localizations','player','snippet','status']\n",
    "def find_playlists(channel_id, youtube = youtube):\n",
    "    request = youtube.playlists().list(part=playlist_parts, channelId = channel_id,maxResults = 50)\n",
    "    response = request.execute()\n",
    "    return response\n",
    "\n"
   ]
  },
  {
   "cell_type": "code",
   "execution_count": 2,
   "metadata": {},
   "outputs": [],
   "source": [
    "\n",
    "channel_id = \"UCfzlCWGWYyIQ0aLC5w48gBQ\" # This is Sendex channel Id\n",
    "\n",
    "playlists_found =find_playlists(channel_id = channel_id, youtube = youtube)"
   ]
  },
  {
   "cell_type": "code",
   "execution_count": 34,
   "metadata": {},
   "outputs": [
    {
     "data": {
      "text/plain": [
       "dict_keys(['kind', 'etag', 'nextPageToken', 'pageInfo', 'items'])"
      ]
     },
     "execution_count": 34,
     "metadata": {},
     "output_type": "execute_result"
    }
   ],
   "source": [
    "playlists_found.keys()"
   ]
  },
  {
   "cell_type": "code",
   "execution_count": 6,
   "metadata": {},
   "outputs": [
    {
     "data": {
      "text/plain": [
       "dict_keys(['kind', 'etag', 'id', 'snippet', 'status', 'contentDetails', 'player'])"
      ]
     },
     "execution_count": 6,
     "metadata": {},
     "output_type": "execute_result"
    }
   ],
   "source": [
    "playlists_found['items'][0].keys()"
   ]
  },
  {
   "cell_type": "code",
   "execution_count": 33,
   "metadata": {},
   "outputs": [
    {
     "data": {
      "text/plain": [
       "list"
      ]
     },
     "execution_count": 33,
     "metadata": {},
     "output_type": "execute_result"
    }
   ],
   "source": [
    "type(playlists_found['items'])"
   ]
  },
  {
   "cell_type": "code",
   "execution_count": 16,
   "metadata": {},
   "outputs": [
    {
     "data": {
      "text/plain": [
       "({'privacyStatus': 'public'},\n",
       " {'itemCount': 2},\n",
       " {'embedHtml': '<iframe width=\"640\" height=\"360\" src=\"http://www.youtube.com/embed/videoseries?list=PLQVvvaa0QuDfK-Zv2FS29XfQ1CHJbcPpP\" frameborder=\"0\" allow=\"accelerometer; autoplay; clipboard-write; encrypted-media; gyroscope; picture-in-picture\" allowfullscreen></iframe>'})"
      ]
     },
     "execution_count": 16,
     "metadata": {},
     "output_type": "execute_result"
    }
   ],
   "source": [
    "playlists_found['items'][0]['status'], playlists_found['items'][0]['contentDetails'], playlists_found['items'][0]['player']"
   ]
  },
  {
   "cell_type": "code",
   "execution_count": 17,
   "metadata": {},
   "outputs": [
    {
     "data": {
      "text/plain": [
       "('youtube#playlist', 'X5xYzLa8o6Gcb70nh-Oz-Am3PmA')"
      ]
     },
     "execution_count": 17,
     "metadata": {},
     "output_type": "execute_result"
    }
   ],
   "source": [
    "playlists_found['items'][0]['kind'], playlists_found['items'][0]['etag']"
   ]
  },
  {
   "cell_type": "code",
   "execution_count": 18,
   "metadata": {},
   "outputs": [
    {
     "data": {
      "text/plain": [
       "('PLQVvvaa0QuDfK-Zv2FS29XfQ1CHJbcPpP',\n",
       " {'publishedAt': '2022-07-01T14:39:41Z',\n",
       "  'channelId': 'UCfzlCWGWYyIQ0aLC5w48gBQ',\n",
       "  'title': 'Home Lab',\n",
       "  'description': '',\n",
       "  'thumbnails': {'default': {'url': 'https://i.ytimg.com/vi/CIQ20FWs478/default.jpg',\n",
       "    'width': 120,\n",
       "    'height': 90},\n",
       "   'medium': {'url': 'https://i.ytimg.com/vi/CIQ20FWs478/mqdefault.jpg',\n",
       "    'width': 320,\n",
       "    'height': 180},\n",
       "   'high': {'url': 'https://i.ytimg.com/vi/CIQ20FWs478/hqdefault.jpg',\n",
       "    'width': 480,\n",
       "    'height': 360},\n",
       "   'standard': {'url': 'https://i.ytimg.com/vi/CIQ20FWs478/sddefault.jpg',\n",
       "    'width': 640,\n",
       "    'height': 480},\n",
       "   'maxres': {'url': 'https://i.ytimg.com/vi/CIQ20FWs478/maxresdefault.jpg',\n",
       "    'width': 1280,\n",
       "    'height': 720}},\n",
       "  'channelTitle': 'sentdex',\n",
       "  'localized': {'title': 'Home Lab', 'description': ''}})"
      ]
     },
     "execution_count": 18,
     "metadata": {},
     "output_type": "execute_result"
    }
   ],
   "source": [
    "playlists_found['items'][0]['id'], playlists_found['items'][0]['snippet']"
   ]
  },
  {
   "cell_type": "code",
   "execution_count": 20,
   "metadata": {},
   "outputs": [
    {
     "data": {
      "text/plain": [
       "dict"
      ]
     },
     "execution_count": 20,
     "metadata": {},
     "output_type": "execute_result"
    }
   ],
   "source": [
    "type(playlists_found['items'][0])"
   ]
  },
  {
   "cell_type": "code",
   "execution_count": 30,
   "metadata": {},
   "outputs": [],
   "source": [
    "df = pd.DataFrame([playlists_found['items'][0], playlists_found['items'][1]])"
   ]
  },
  {
   "cell_type": "code",
   "execution_count": 32,
   "metadata": {},
   "outputs": [
    {
     "data": {
      "text/plain": [
       "array([{'embedHtml': '<iframe width=\"640\" height=\"360\" src=\"http://www.youtube.com/embed/videoseries?list=PLQVvvaa0QuDfK-Zv2FS29XfQ1CHJbcPpP\" frameborder=\"0\" allow=\"accelerometer; autoplay; clipboard-write; encrypted-media; gyroscope; picture-in-picture\" allowfullscreen></iframe>'},\n",
       "       {'embedHtml': '<iframe width=\"640\" height=\"360\" src=\"http://www.youtube.com/embed/videoseries?list=PLQVvvaa0QuDcBby2qVDsDv41GghEQfr5E\" frameborder=\"0\" allow=\"accelerometer; autoplay; clipboard-write; encrypted-media; gyroscope; picture-in-picture\" allowfullscreen></iframe>'}],\n",
       "      dtype=object)"
      ]
     },
     "execution_count": 32,
     "metadata": {},
     "output_type": "execute_result"
    }
   ],
   "source": [
    "df['player'].values"
   ]
  },
  {
   "cell_type": "code",
   "execution_count": 41,
   "metadata": {},
   "outputs": [],
   "source": [
    "playlist_df = pd.DataFrame(playlists_found['items'])"
   ]
  },
  {
   "cell_type": "code",
   "execution_count": 42,
   "metadata": {},
   "outputs": [
    {
     "data": {
      "text/html": [
       "<div>\n",
       "<style scoped>\n",
       "    .dataframe tbody tr th:only-of-type {\n",
       "        vertical-align: middle;\n",
       "    }\n",
       "\n",
       "    .dataframe tbody tr th {\n",
       "        vertical-align: top;\n",
       "    }\n",
       "\n",
       "    .dataframe thead th {\n",
       "        text-align: right;\n",
       "    }\n",
       "</style>\n",
       "<table border=\"1\" class=\"dataframe\">\n",
       "  <thead>\n",
       "    <tr style=\"text-align: right;\">\n",
       "      <th></th>\n",
       "      <th>kind</th>\n",
       "      <th>etag</th>\n",
       "      <th>id</th>\n",
       "      <th>snippet</th>\n",
       "      <th>status</th>\n",
       "      <th>contentDetails</th>\n",
       "      <th>player</th>\n",
       "    </tr>\n",
       "  </thead>\n",
       "  <tbody>\n",
       "    <tr>\n",
       "      <th>0</th>\n",
       "      <td>youtube#playlist</td>\n",
       "      <td>X5xYzLa8o6Gcb70nh-Oz-Am3PmA</td>\n",
       "      <td>PLQVvvaa0QuDfK-Zv2FS29XfQ1CHJbcPpP</td>\n",
       "      <td>{'publishedAt': '2022-07-01T14:39:41Z', 'chann...</td>\n",
       "      <td>{'privacyStatus': 'public'}</td>\n",
       "      <td>{'itemCount': 2}</td>\n",
       "      <td>{'embedHtml': '&lt;iframe width=\"640\" height=\"360...</td>\n",
       "    </tr>\n",
       "    <tr>\n",
       "      <th>1</th>\n",
       "      <td>youtube#playlist</td>\n",
       "      <td>f9BDftZS9ooPqOKWlRLNZc2Olss</td>\n",
       "      <td>PLQVvvaa0QuDcBby2qVDsDv41GghEQfr5E</td>\n",
       "      <td>{'publishedAt': '2022-03-05T16:52:28Z', 'chann...</td>\n",
       "      <td>{'privacyStatus': 'public'}</td>\n",
       "      <td>{'itemCount': 4}</td>\n",
       "      <td>{'embedHtml': '&lt;iframe width=\"640\" height=\"360...</td>\n",
       "    </tr>\n",
       "    <tr>\n",
       "      <th>2</th>\n",
       "      <td>youtube#playlist</td>\n",
       "      <td>zDHcVUIl3Li7wdY9Oym7LNM58Bw</td>\n",
       "      <td>PLQVvvaa0QuDf0O2DWwLZBfJeYY-JOeZB1</td>\n",
       "      <td>{'publishedAt': '2022-02-05T15:37:22Z', 'chann...</td>\n",
       "      <td>{'privacyStatus': 'public'}</td>\n",
       "      <td>{'itemCount': 4}</td>\n",
       "      <td>{'embedHtml': '&lt;iframe width=\"640\" height=\"360...</td>\n",
       "    </tr>\n",
       "    <tr>\n",
       "      <th>3</th>\n",
       "      <td>youtube#playlist</td>\n",
       "      <td>fmBRdjIOzlSDr4P7Zor_CoJMd8I</td>\n",
       "      <td>PLQVvvaa0QuDenVbxP4LXYZoGbjfgP-Y5i</td>\n",
       "      <td>{'publishedAt': '2021-11-28T16:51:04Z', 'chann...</td>\n",
       "      <td>{'privacyStatus': 'public'}</td>\n",
       "      <td>{'itemCount': 3}</td>\n",
       "      <td>{'embedHtml': '&lt;iframe width=\"640\" height=\"360...</td>\n",
       "    </tr>\n",
       "    <tr>\n",
       "      <th>4</th>\n",
       "      <td>youtube#playlist</td>\n",
       "      <td>LSk7Ls_Q91qspcLuC5aiDBR0zhg</td>\n",
       "      <td>PLQVvvaa0QuDdKvPge9PXQtFzvhMRyFPhW</td>\n",
       "      <td>{'publishedAt': '2021-05-07T15:06:50Z', 'chann...</td>\n",
       "      <td>{'privacyStatus': 'public'}</td>\n",
       "      <td>{'itemCount': 7}</td>\n",
       "      <td>{'embedHtml': '&lt;iframe width=\"640\" height=\"360...</td>\n",
       "    </tr>\n",
       "  </tbody>\n",
       "</table>\n",
       "</div>"
      ],
      "text/plain": [
       "               kind                         etag  \\\n",
       "0  youtube#playlist  X5xYzLa8o6Gcb70nh-Oz-Am3PmA   \n",
       "1  youtube#playlist  f9BDftZS9ooPqOKWlRLNZc2Olss   \n",
       "2  youtube#playlist  zDHcVUIl3Li7wdY9Oym7LNM58Bw   \n",
       "3  youtube#playlist  fmBRdjIOzlSDr4P7Zor_CoJMd8I   \n",
       "4  youtube#playlist  LSk7Ls_Q91qspcLuC5aiDBR0zhg   \n",
       "\n",
       "                                   id  \\\n",
       "0  PLQVvvaa0QuDfK-Zv2FS29XfQ1CHJbcPpP   \n",
       "1  PLQVvvaa0QuDcBby2qVDsDv41GghEQfr5E   \n",
       "2  PLQVvvaa0QuDf0O2DWwLZBfJeYY-JOeZB1   \n",
       "3  PLQVvvaa0QuDenVbxP4LXYZoGbjfgP-Y5i   \n",
       "4  PLQVvvaa0QuDdKvPge9PXQtFzvhMRyFPhW   \n",
       "\n",
       "                                             snippet  \\\n",
       "0  {'publishedAt': '2022-07-01T14:39:41Z', 'chann...   \n",
       "1  {'publishedAt': '2022-03-05T16:52:28Z', 'chann...   \n",
       "2  {'publishedAt': '2022-02-05T15:37:22Z', 'chann...   \n",
       "3  {'publishedAt': '2021-11-28T16:51:04Z', 'chann...   \n",
       "4  {'publishedAt': '2021-05-07T15:06:50Z', 'chann...   \n",
       "\n",
       "                        status    contentDetails  \\\n",
       "0  {'privacyStatus': 'public'}  {'itemCount': 2}   \n",
       "1  {'privacyStatus': 'public'}  {'itemCount': 4}   \n",
       "2  {'privacyStatus': 'public'}  {'itemCount': 4}   \n",
       "3  {'privacyStatus': 'public'}  {'itemCount': 3}   \n",
       "4  {'privacyStatus': 'public'}  {'itemCount': 7}   \n",
       "\n",
       "                                              player  \n",
       "0  {'embedHtml': '<iframe width=\"640\" height=\"360...  \n",
       "1  {'embedHtml': '<iframe width=\"640\" height=\"360...  \n",
       "2  {'embedHtml': '<iframe width=\"640\" height=\"360...  \n",
       "3  {'embedHtml': '<iframe width=\"640\" height=\"360...  \n",
       "4  {'embedHtml': '<iframe width=\"640\" height=\"360...  "
      ]
     },
     "execution_count": 42,
     "metadata": {},
     "output_type": "execute_result"
    }
   ],
   "source": [
    "playlist_df.head()"
   ]
  },
  {
   "cell_type": "code",
   "execution_count": 43,
   "metadata": {},
   "outputs": [],
   "source": [
    "playlist_df.to_csv('Sendex_playlist.csv')"
   ]
  },
  {
   "cell_type": "markdown",
   "metadata": {},
   "source": [
    "### For multiple channels"
   ]
  },
  {
   "cell_type": "code",
   "execution_count": 53,
   "metadata": {},
   "outputs": [],
   "source": [
    "# I would need a dictionary which maps channel name to ID\n",
    "channel_name_id_map = {'Freecodecamp':'UC8butISFwT-Wl7EV0hUK0BQ',\n",
    "                      'krishnaik06':'UCNU_lfiiWBdtULKOw6X0Dig',\n",
    "                      'iNeuron_Intelligence':'UCb1GdqUqArXMQ3RS86lqqOw',\n",
    "                       'Coreyms':'UCCezIgC97PvUuR4_gbFUs5g',\n",
    "                       'realpython':'UCI0vQvr9aFn27yR6Ej6n5UA',\n",
    "                       'NeetCode':'UC_mYaQAE6-71rjSN6CeCA-g',\n",
    "                       'dataschool':'UCnVzApLJE2ljPZSeQylSEyg',\n",
    "                       'howardjeremyp':'UCX7Y2qWriXpqocG97SFW2OQ',\n",
    "                       'DataInterviewPro':'UCAWsBMQY4KSuOuGODki-l7A',\n",
    "                       'CampusX-official':'UCCWi3hpnq_Pe03nGxuS7isg'\n",
    "                      }"
   ]
  },
  {
   "cell_type": "code",
   "execution_count": 48,
   "metadata": {},
   "outputs": [
    {
     "data": {
      "text/plain": [
       "dict"
      ]
     },
     "execution_count": 48,
     "metadata": {},
     "output_type": "execute_result"
    }
   ],
   "source": [
    "type(channel_name_id_map)"
   ]
  },
  {
   "cell_type": "code",
   "execution_count": 54,
   "metadata": {},
   "outputs": [],
   "source": [
    "for channel_name,channel_id in channel_name_id_map.items():\n",
    "    playlists_found =find_playlists(channel_id = channel_id, youtube = youtube)\n",
    "    playlist_df = pd.DataFrame(playlists_found['items'])\n",
    "\n",
    "    playlist_df.to_csv(f'{channel_name}_playlist.csv')"
   ]
  },
  {
   "cell_type": "code",
   "execution_count": 51,
   "metadata": {},
   "outputs": [],
   "source": [
    "playlist_df.to_csv(f'{abc}_playlist.csv')"
   ]
  },
  {
   "cell_type": "code",
   "execution_count": 138,
   "metadata": {},
   "outputs": [],
   "source": [
    "df = pd.read_csv('Sendex_playlist.csv')"
   ]
  },
  {
   "cell_type": "code",
   "execution_count": 139,
   "metadata": {},
   "outputs": [
    {
     "data": {
      "text/html": [
       "<div>\n",
       "<style scoped>\n",
       "    .dataframe tbody tr th:only-of-type {\n",
       "        vertical-align: middle;\n",
       "    }\n",
       "\n",
       "    .dataframe tbody tr th {\n",
       "        vertical-align: top;\n",
       "    }\n",
       "\n",
       "    .dataframe thead th {\n",
       "        text-align: right;\n",
       "    }\n",
       "</style>\n",
       "<table border=\"1\" class=\"dataframe\">\n",
       "  <thead>\n",
       "    <tr style=\"text-align: right;\">\n",
       "      <th></th>\n",
       "      <th>Unnamed: 0</th>\n",
       "      <th>kind</th>\n",
       "      <th>etag</th>\n",
       "      <th>id</th>\n",
       "      <th>snippet</th>\n",
       "      <th>status</th>\n",
       "      <th>contentDetails</th>\n",
       "      <th>player</th>\n",
       "    </tr>\n",
       "  </thead>\n",
       "  <tbody>\n",
       "    <tr>\n",
       "      <th>0</th>\n",
       "      <td>0</td>\n",
       "      <td>youtube#playlist</td>\n",
       "      <td>X5xYzLa8o6Gcb70nh-Oz-Am3PmA</td>\n",
       "      <td>PLQVvvaa0QuDfK-Zv2FS29XfQ1CHJbcPpP</td>\n",
       "      <td>{'publishedAt': '2022-07-01T14:39:41Z', 'chann...</td>\n",
       "      <td>{'privacyStatus': 'public'}</td>\n",
       "      <td>{'itemCount': 2}</td>\n",
       "      <td>{'embedHtml': '&lt;iframe width=\"640\" height=\"360...</td>\n",
       "    </tr>\n",
       "    <tr>\n",
       "      <th>1</th>\n",
       "      <td>1</td>\n",
       "      <td>youtube#playlist</td>\n",
       "      <td>f9BDftZS9ooPqOKWlRLNZc2Olss</td>\n",
       "      <td>PLQVvvaa0QuDcBby2qVDsDv41GghEQfr5E</td>\n",
       "      <td>{'publishedAt': '2022-03-05T16:52:28Z', 'chann...</td>\n",
       "      <td>{'privacyStatus': 'public'}</td>\n",
       "      <td>{'itemCount': 4}</td>\n",
       "      <td>{'embedHtml': '&lt;iframe width=\"640\" height=\"360...</td>\n",
       "    </tr>\n",
       "    <tr>\n",
       "      <th>2</th>\n",
       "      <td>2</td>\n",
       "      <td>youtube#playlist</td>\n",
       "      <td>zDHcVUIl3Li7wdY9Oym7LNM58Bw</td>\n",
       "      <td>PLQVvvaa0QuDf0O2DWwLZBfJeYY-JOeZB1</td>\n",
       "      <td>{'publishedAt': '2022-02-05T15:37:22Z', 'chann...</td>\n",
       "      <td>{'privacyStatus': 'public'}</td>\n",
       "      <td>{'itemCount': 4}</td>\n",
       "      <td>{'embedHtml': '&lt;iframe width=\"640\" height=\"360...</td>\n",
       "    </tr>\n",
       "    <tr>\n",
       "      <th>3</th>\n",
       "      <td>3</td>\n",
       "      <td>youtube#playlist</td>\n",
       "      <td>fmBRdjIOzlSDr4P7Zor_CoJMd8I</td>\n",
       "      <td>PLQVvvaa0QuDenVbxP4LXYZoGbjfgP-Y5i</td>\n",
       "      <td>{'publishedAt': '2021-11-28T16:51:04Z', 'chann...</td>\n",
       "      <td>{'privacyStatus': 'public'}</td>\n",
       "      <td>{'itemCount': 3}</td>\n",
       "      <td>{'embedHtml': '&lt;iframe width=\"640\" height=\"360...</td>\n",
       "    </tr>\n",
       "    <tr>\n",
       "      <th>4</th>\n",
       "      <td>4</td>\n",
       "      <td>youtube#playlist</td>\n",
       "      <td>LSk7Ls_Q91qspcLuC5aiDBR0zhg</td>\n",
       "      <td>PLQVvvaa0QuDdKvPge9PXQtFzvhMRyFPhW</td>\n",
       "      <td>{'publishedAt': '2021-05-07T15:06:50Z', 'chann...</td>\n",
       "      <td>{'privacyStatus': 'public'}</td>\n",
       "      <td>{'itemCount': 7}</td>\n",
       "      <td>{'embedHtml': '&lt;iframe width=\"640\" height=\"360...</td>\n",
       "    </tr>\n",
       "  </tbody>\n",
       "</table>\n",
       "</div>"
      ],
      "text/plain": [
       "   Unnamed: 0              kind                         etag  \\\n",
       "0           0  youtube#playlist  X5xYzLa8o6Gcb70nh-Oz-Am3PmA   \n",
       "1           1  youtube#playlist  f9BDftZS9ooPqOKWlRLNZc2Olss   \n",
       "2           2  youtube#playlist  zDHcVUIl3Li7wdY9Oym7LNM58Bw   \n",
       "3           3  youtube#playlist  fmBRdjIOzlSDr4P7Zor_CoJMd8I   \n",
       "4           4  youtube#playlist  LSk7Ls_Q91qspcLuC5aiDBR0zhg   \n",
       "\n",
       "                                   id  \\\n",
       "0  PLQVvvaa0QuDfK-Zv2FS29XfQ1CHJbcPpP   \n",
       "1  PLQVvvaa0QuDcBby2qVDsDv41GghEQfr5E   \n",
       "2  PLQVvvaa0QuDf0O2DWwLZBfJeYY-JOeZB1   \n",
       "3  PLQVvvaa0QuDenVbxP4LXYZoGbjfgP-Y5i   \n",
       "4  PLQVvvaa0QuDdKvPge9PXQtFzvhMRyFPhW   \n",
       "\n",
       "                                             snippet  \\\n",
       "0  {'publishedAt': '2022-07-01T14:39:41Z', 'chann...   \n",
       "1  {'publishedAt': '2022-03-05T16:52:28Z', 'chann...   \n",
       "2  {'publishedAt': '2022-02-05T15:37:22Z', 'chann...   \n",
       "3  {'publishedAt': '2021-11-28T16:51:04Z', 'chann...   \n",
       "4  {'publishedAt': '2021-05-07T15:06:50Z', 'chann...   \n",
       "\n",
       "                        status    contentDetails  \\\n",
       "0  {'privacyStatus': 'public'}  {'itemCount': 2}   \n",
       "1  {'privacyStatus': 'public'}  {'itemCount': 4}   \n",
       "2  {'privacyStatus': 'public'}  {'itemCount': 4}   \n",
       "3  {'privacyStatus': 'public'}  {'itemCount': 3}   \n",
       "4  {'privacyStatus': 'public'}  {'itemCount': 7}   \n",
       "\n",
       "                                              player  \n",
       "0  {'embedHtml': '<iframe width=\"640\" height=\"360...  \n",
       "1  {'embedHtml': '<iframe width=\"640\" height=\"360...  \n",
       "2  {'embedHtml': '<iframe width=\"640\" height=\"360...  \n",
       "3  {'embedHtml': '<iframe width=\"640\" height=\"360...  \n",
       "4  {'embedHtml': '<iframe width=\"640\" height=\"360...  "
      ]
     },
     "execution_count": 139,
     "metadata": {},
     "output_type": "execute_result"
    }
   ],
   "source": [
    "df.head()"
   ]
  },
  {
   "cell_type": "code",
   "execution_count": 59,
   "metadata": {},
   "outputs": [],
   "source": [
    "# id here refers to the playlist id"
   ]
  },
  {
   "cell_type": "code",
   "execution_count": 132,
   "metadata": {},
   "outputs": [],
   "source": [
    "playlist_id_value= 'PLQVvvaa0QuDf0O2DWwLZBfJeYY-JOeZB1'\n",
    "request = youtube.playlistItems().list(part=['contentDetails'],\n",
    "                                       playlistId= playlist_id_value,\n",
    "                                       maxResults=50\n",
    "\n",
    ")\n",
    "response = request.execute()"
   ]
  },
  {
   "cell_type": "code",
   "execution_count": 133,
   "metadata": {},
   "outputs": [
    {
     "data": {
      "text/plain": [
       "[{'kind': 'youtube#playlistItem',\n",
       "  'etag': 'ffSwlAR_QOiUwih08qFgR0KJTVI',\n",
       "  'id': 'UExRVnZ2YWEwUXVEZjBPMkRXd0xaQmZKZVlZLUpPZVpCMS41NkI0NEY2RDEwNTU3Q0M2',\n",
       "  'contentDetails': {'videoId': 'XbWhJdQgi7E',\n",
       "   'videoPublishedAt': '2022-02-05T15:56:01Z'}},\n",
       " {'kind': 'youtube#playlistItem',\n",
       "  'etag': '4n9D0Dj-l0Ulu90S0hVZZMGRbS0',\n",
       "  'id': 'UExRVnZ2YWEwUXVEZjBPMkRXd0xaQmZKZVlZLUpPZVpCMS4yODlGNEE0NkRGMEEzMEQy',\n",
       "  'contentDetails': {'videoId': 'dLP-2Y6yu70',\n",
       "   'videoPublishedAt': '2022-02-06T15:48:54Z'}},\n",
       " {'kind': 'youtube#playlistItem',\n",
       "  'etag': 'U6TNPXbRNuxY9L9E4eUyknEJM00',\n",
       "  'id': 'UExRVnZ2YWEwUXVEZjBPMkRXd0xaQmZKZVlZLUpPZVpCMS4wMTcyMDhGQUE4NTIzM0Y5',\n",
       "  'contentDetails': {'videoId': 'uKnjGn8fF70',\n",
       "   'videoPublishedAt': '2022-02-07T15:00:05Z'}},\n",
       " {'kind': 'youtube#playlistItem',\n",
       "  'etag': 'da3oWP40_U_s2KbMAPzPWwI6I3Y',\n",
       "  'id': 'UExRVnZ2YWEwUXVEZjBPMkRXd0xaQmZKZVlZLUpPZVpCMS41MjE1MkI0OTQ2QzJGNzNG',\n",
       "  'contentDetails': {'videoId': 'yvwxbkKX9dc',\n",
       "   'videoPublishedAt': '2022-02-08T15:18:17Z'}}]"
      ]
     },
     "execution_count": 133,
     "metadata": {},
     "output_type": "execute_result"
    }
   ],
   "source": [
    "response['items']"
   ]
  },
  {
   "cell_type": "code",
   "execution_count": 134,
   "metadata": {},
   "outputs": [],
   "source": [
    "playlist_videos_df = pd.DataFrame(response['items'])#.head()['contentDetails'].values"
   ]
  },
  {
   "cell_type": "code",
   "execution_count": 135,
   "metadata": {},
   "outputs": [
    {
     "data": {
      "text/plain": [
       "Index(['kind', 'etag', 'id', 'contentDetails'], dtype='object')"
      ]
     },
     "execution_count": 135,
     "metadata": {},
     "output_type": "execute_result"
    }
   ],
   "source": [
    "playlist_videos_df.columns"
   ]
  },
  {
   "cell_type": "code",
   "execution_count": 136,
   "metadata": {},
   "outputs": [],
   "source": [
    "video_df = pd.DataFrame(list(playlist_videos_df['contentDetails'].values))"
   ]
  },
  {
   "cell_type": "code",
   "execution_count": 137,
   "metadata": {},
   "outputs": [
    {
     "data": {
      "text/html": [
       "<div>\n",
       "<style scoped>\n",
       "    .dataframe tbody tr th:only-of-type {\n",
       "        vertical-align: middle;\n",
       "    }\n",
       "\n",
       "    .dataframe tbody tr th {\n",
       "        vertical-align: top;\n",
       "    }\n",
       "\n",
       "    .dataframe thead th {\n",
       "        text-align: right;\n",
       "    }\n",
       "</style>\n",
       "<table border=\"1\" class=\"dataframe\">\n",
       "  <thead>\n",
       "    <tr style=\"text-align: right;\">\n",
       "      <th></th>\n",
       "      <th>videoId</th>\n",
       "      <th>videoPublishedAt</th>\n",
       "      <th>playlist_id</th>\n",
       "    </tr>\n",
       "  </thead>\n",
       "  <tbody>\n",
       "    <tr>\n",
       "      <th>0</th>\n",
       "      <td>XbWhJdQgi7E</td>\n",
       "      <td>2022-02-05T15:56:01Z</td>\n",
       "      <td>PLQVvvaa0QuDf0O2DWwLZBfJeYY-JOeZB1</td>\n",
       "    </tr>\n",
       "    <tr>\n",
       "      <th>1</th>\n",
       "      <td>dLP-2Y6yu70</td>\n",
       "      <td>2022-02-06T15:48:54Z</td>\n",
       "      <td>PLQVvvaa0QuDf0O2DWwLZBfJeYY-JOeZB1</td>\n",
       "    </tr>\n",
       "    <tr>\n",
       "      <th>2</th>\n",
       "      <td>uKnjGn8fF70</td>\n",
       "      <td>2022-02-07T15:00:05Z</td>\n",
       "      <td>PLQVvvaa0QuDf0O2DWwLZBfJeYY-JOeZB1</td>\n",
       "    </tr>\n",
       "    <tr>\n",
       "      <th>3</th>\n",
       "      <td>yvwxbkKX9dc</td>\n",
       "      <td>2022-02-08T15:18:17Z</td>\n",
       "      <td>PLQVvvaa0QuDf0O2DWwLZBfJeYY-JOeZB1</td>\n",
       "    </tr>\n",
       "  </tbody>\n",
       "</table>\n",
       "</div>"
      ],
      "text/plain": [
       "       videoId      videoPublishedAt                         playlist_id\n",
       "0  XbWhJdQgi7E  2022-02-05T15:56:01Z  PLQVvvaa0QuDf0O2DWwLZBfJeYY-JOeZB1\n",
       "1  dLP-2Y6yu70  2022-02-06T15:48:54Z  PLQVvvaa0QuDf0O2DWwLZBfJeYY-JOeZB1\n",
       "2  uKnjGn8fF70  2022-02-07T15:00:05Z  PLQVvvaa0QuDf0O2DWwLZBfJeYY-JOeZB1\n",
       "3  yvwxbkKX9dc  2022-02-08T15:18:17Z  PLQVvvaa0QuDf0O2DWwLZBfJeYY-JOeZB1"
      ]
     },
     "execution_count": 137,
     "metadata": {},
     "output_type": "execute_result"
    }
   ],
   "source": [
    "video_df['playlist_id'] = playlist_id_value\n",
    "video_df.head()"
   ]
  },
  {
   "cell_type": "code",
   "execution_count": null,
   "metadata": {},
   "outputs": [],
   "source": [
    "video_df.to_csv(f\"{}_videos\")"
   ]
  },
  {
   "cell_type": "code",
   "execution_count": 143,
   "metadata": {},
   "outputs": [
    {
     "name": "stdout",
     "output_type": "stream",
     "text": [
      "PLQVvvaa0QuDfK-Zv2FS29XfQ1CHJbcPpP\n",
      "Saving playlist items\n",
      "waiting \n",
      "\n",
      "PLQVvvaa0QuDcBby2qVDsDv41GghEQfr5E\n",
      "Saving playlist items\n",
      "waiting \n",
      "\n",
      "PLQVvvaa0QuDf0O2DWwLZBfJeYY-JOeZB1\n",
      "Saving playlist items\n",
      "waiting \n",
      "\n",
      "PLQVvvaa0QuDenVbxP4LXYZoGbjfgP-Y5i\n",
      "Saving playlist items\n",
      "waiting \n",
      "\n",
      "PLQVvvaa0QuDdKvPge9PXQtFzvhMRyFPhW\n",
      "Saving playlist items\n",
      "waiting \n",
      "\n",
      "PLQVvvaa0QuDc6XkxPPWF0APTmiofFV-lE\n",
      "Saving playlist items\n",
      "waiting \n",
      "\n",
      "PLQVvvaa0QuDdcI_Z6S1nbWyOfqY48SKnM\n",
      "Saving playlist items\n",
      "waiting \n",
      "\n",
      "PLQVvvaa0QuDcjD5BAw2DxE6OF2tius3V3\n",
      "Saving playlist items\n",
      "waiting \n",
      "\n",
      "PLQVvvaa0QuDcDqgpLLJJM15NpIGNfrKY5\n",
      "Saving playlist items\n",
      "waiting \n",
      "\n",
      "PLQVvvaa0QuDc79w6NcGB0pnoJBgaKdfrW\n",
      "Saving playlist items\n",
      "waiting \n",
      "\n",
      "PLQVvvaa0QuDeU-QCAwZl2UmSpfb4sWbxY\n",
      "Saving playlist items\n",
      "waiting \n",
      "\n",
      "PLQVvvaa0QuDdeMyHEYc0gxFpYwHY2Qfdh\n",
      "Saving playlist items\n",
      "waiting \n",
      "\n",
      "PLQVvvaa0QuDeI12McNQdnTlWz9XlCa0uo\n",
      "Saving playlist items\n",
      "waiting \n",
      "\n",
      "PLQVvvaa0QuDezJFIOU5wDdfy4e9vdnx-7\n",
      "Saving playlist items\n",
      "waiting \n",
      "\n",
      "PLQVvvaa0QuDf2_A04M-m0WubgLf2_geR6\n",
      "Saving playlist items\n",
      "waiting \n",
      "\n",
      "PLQVvvaa0QuDfWjcDi0GB1AsAuSCAb_JoX\n",
      "Saving playlist items\n",
      "waiting \n",
      "\n",
      "PLQVvvaa0QuDfwnDTZWw8H3hN_VRQfq8rF\n",
      "Saving playlist items\n",
      "waiting \n",
      "\n",
      "PLQVvvaa0QuDdzLB_0JSTTcl8E8jsJLhR5\n",
      "Saving playlist items\n",
      "waiting \n",
      "\n",
      "PLQVvvaa0QuDfSfqQuee6K8opKtZsh7sA9\n",
      "Saving playlist items\n",
      "waiting \n",
      "\n",
      "PLQVvvaa0QuDe9nqlirjacLkBYdgc2inh3\n",
      "Saving playlist items\n",
      "waiting \n",
      "\n",
      "PLQVvvaa0QuDeTwslmtfNabnRuXGabKIOj\n",
      "Saving playlist items\n",
      "waiting \n",
      "\n",
      "PLQVvvaa0QuDeAams7fkdcwOGBpGdHpXln\n",
      "Saving playlist items\n",
      "waiting \n",
      "\n",
      "PLQVvvaa0QuDcJe7DPD0I5J-EDKomQDKsz\n",
      "Saving playlist items\n",
      "waiting \n",
      "\n",
      "PLQVvvaa0QuDf5LApiJp_I5lmJ0zNT6Po4\n",
      "Saving playlist items\n",
      "waiting \n",
      "\n",
      "PLQVvvaa0QuDfhTox0AjmQ6tvTgMBZBEXN\n",
      "Saving playlist items\n",
      "waiting \n",
      "\n",
      "PLQVvvaa0QuDcT3tPehHdisGMc8TInNqdq\n",
      "Saving playlist items\n",
      "waiting \n",
      "\n",
      "PLQVvvaa0QuDcsopCRwbxxVZtJmHplV3uZ\n",
      "Saving playlist items\n",
      "waiting \n",
      "\n",
      "PLQVvvaa0QuDebFAC20X4iyF0KR-s9LGnu\n",
      "Saving playlist items\n",
      "waiting \n",
      "\n",
      "PLQVvvaa0QuDdfN3lrO0NDYxa1JwCYes-E\n",
      "Saving playlist items\n",
      "waiting \n",
      "\n",
      "PLQVvvaa0QuDfsGImWNt1eUEveHOepkjqt\n",
      "Saving playlist items\n",
      "waiting \n",
      "\n",
      "PLQVvvaa0QuDeIXLGcc7ZxHSCq8br_d1P-\n",
      "Saving playlist items\n",
      "waiting \n",
      "\n",
      "PLQVvvaa0QuDdc2k5dwtDTyT9aCja0on8j\n",
      "Saving playlist items\n",
      "waiting \n",
      "\n",
      "PLQVvvaa0QuDeF3hP0wQoSxpkqgRcgxMqX\n",
      "Saving playlist items\n",
      "waiting \n",
      "\n",
      "PLQVvvaa0QuDcNK5GeCQnxYnSSaar2tpku\n",
      "Saving playlist items\n",
      "waiting \n",
      "\n",
      "PLQVvvaa0QuDcg7v9OIyT-DWXX4WOjmJ9I\n",
      "Saving playlist items\n",
      "waiting \n",
      "\n",
      "PLQVvvaa0QuDeETZEOy4VdocT7TOjfSA8a\n",
      "Saving playlist items\n",
      "waiting \n",
      "\n",
      "PLQVvvaa0QuDesV8WWHLLXW_avmTzHmJLv\n",
      "Saving playlist items\n",
      "waiting \n",
      "\n",
      "PLQVvvaa0QuDfGVb3yucqvKtUgwOJgZWCm\n",
      "Saving playlist items\n",
      "waiting \n",
      "\n",
      "PLQVvvaa0QuDf5h6si5lUbTh4ejzTQVJCW\n",
      "Saving playlist items\n",
      "waiting \n",
      "\n",
      "PLQVvvaa0QuDd5meH8cStO9cMi98tPT12_\n",
      "Saving playlist items\n",
      "waiting \n",
      "\n",
      "PLQVvvaa0QuDcOdF96TBtRtuQksErCEBYZ\n",
      "Saving playlist items\n",
      "waiting \n",
      "\n",
      "PLQVvvaa0QuDe3E0TlV7q7bFyMqbnO5-TL\n",
      "Saving playlist items\n",
      "waiting \n",
      "\n",
      "PLQVvvaa0QuDffrguXj7ZZsqkDQwFi20QQ\n",
      "Saving playlist items\n",
      "waiting \n",
      "\n",
      "PLQVvvaa0QuDfju7ADVp5W1GF9jVhjbX-_\n",
      "Saving playlist items\n",
      "waiting \n",
      "\n",
      "PLQVvvaa0QuDfV1MIRBOcqClP6VZXsvyZS\n",
      "Saving playlist items\n",
      "waiting \n",
      "\n",
      "PLQVvvaa0QuDfKTOs3Keq_kaG2P55YRn5v\n",
      "Saving playlist items\n",
      "waiting \n",
      "\n",
      "PLQVvvaa0QuDfp4GmCdhbPhPwWt4O_TBmB\n",
      "Saving playlist items\n",
      "waiting \n",
      "\n",
      "PLQVvvaa0QuDeA05ZouE4OzDYLHY-XH-Nd\n",
      "Saving playlist items\n",
      "waiting \n",
      "\n",
      "PLQVvvaa0QuDezJh0sC5CqXLKZTSKU1YNo\n",
      "Saving playlist items\n",
      "waiting \n",
      "\n",
      "PLQVvvaa0QuDdttJXlLtAJxJetJcqmqlQq\n",
      "Saving playlist items\n",
      "waiting \n",
      "\n"
     ]
    }
   ],
   "source": [
    "video_df_list = []\n",
    "for playlist_id_value in df['id']:\n",
    "    print(playlist_id_value)\n",
    "    request = youtube.playlistItems().list(part=['contentDetails'],\n",
    "                                           playlistId= playlist_id_value,\n",
    "                                           maxResults=50)\n",
    "    response = request.execute()\n",
    "    \n",
    "    print(\"Saving playlist items\")\n",
    "    playlist_videos_df = pd.DataFrame(response['items'])\n",
    "    \n",
    "    video_df = pd.DataFrame(list(playlist_videos_df['contentDetails'].values))\n",
    "    video_df['playlist_id'] = playlist_id_value\n",
    "    video_df_list.append(video_df)\n",
    "    print('waiting \\n')\n",
    "    time.sleep(2)"
   ]
  },
  {
   "cell_type": "code",
   "execution_count": 146,
   "metadata": {},
   "outputs": [
    {
     "data": {
      "text/html": [
       "<div>\n",
       "<style scoped>\n",
       "    .dataframe tbody tr th:only-of-type {\n",
       "        vertical-align: middle;\n",
       "    }\n",
       "\n",
       "    .dataframe tbody tr th {\n",
       "        vertical-align: top;\n",
       "    }\n",
       "\n",
       "    .dataframe thead th {\n",
       "        text-align: right;\n",
       "    }\n",
       "</style>\n",
       "<table border=\"1\" class=\"dataframe\">\n",
       "  <thead>\n",
       "    <tr style=\"text-align: right;\">\n",
       "      <th></th>\n",
       "      <th>videoId</th>\n",
       "      <th>videoPublishedAt</th>\n",
       "      <th>playlist_id</th>\n",
       "    </tr>\n",
       "  </thead>\n",
       "  <tbody>\n",
       "    <tr>\n",
       "      <th>0</th>\n",
       "      <td>Lbfe3-v7yE0</td>\n",
       "      <td>2019-03-11T14:22:40Z</td>\n",
       "      <td>PLQVvvaa0QuDfK-Zv2FS29XfQ1CHJbcPpP</td>\n",
       "    </tr>\n",
       "    <tr>\n",
       "      <th>1</th>\n",
       "      <td>8A4dqoGL62E</td>\n",
       "      <td>2019-03-12T17:39:40Z</td>\n",
       "      <td>PLQVvvaa0QuDfK-Zv2FS29XfQ1CHJbcPpP</td>\n",
       "    </tr>\n",
       "    <tr>\n",
       "      <th>2</th>\n",
       "      <td>WM1z8soch0Q</td>\n",
       "      <td>2019-03-13T13:52:35Z</td>\n",
       "      <td>PLQVvvaa0QuDfK-Zv2FS29XfQ1CHJbcPpP</td>\n",
       "    </tr>\n",
       "    <tr>\n",
       "      <th>3</th>\n",
       "      <td>CV7_stUWvBQ</td>\n",
       "      <td>2019-04-02T14:00:19Z</td>\n",
       "      <td>PLQVvvaa0QuDfK-Zv2FS29XfQ1CHJbcPpP</td>\n",
       "    </tr>\n",
       "    <tr>\n",
       "      <th>4</th>\n",
       "      <td>ytu2yV3Gn1I</td>\n",
       "      <td>2019-04-03T14:27:28Z</td>\n",
       "      <td>PLQVvvaa0QuDfK-Zv2FS29XfQ1CHJbcPpP</td>\n",
       "    </tr>\n",
       "  </tbody>\n",
       "</table>\n",
       "</div>"
      ],
      "text/plain": [
       "       videoId      videoPublishedAt                         playlist_id\n",
       "0  Lbfe3-v7yE0  2019-03-11T14:22:40Z  PLQVvvaa0QuDfK-Zv2FS29XfQ1CHJbcPpP\n",
       "1  8A4dqoGL62E  2019-03-12T17:39:40Z  PLQVvvaa0QuDfK-Zv2FS29XfQ1CHJbcPpP\n",
       "2  WM1z8soch0Q  2019-03-13T13:52:35Z  PLQVvvaa0QuDfK-Zv2FS29XfQ1CHJbcPpP\n",
       "3  CV7_stUWvBQ  2019-04-02T14:00:19Z  PLQVvvaa0QuDfK-Zv2FS29XfQ1CHJbcPpP\n",
       "4  ytu2yV3Gn1I  2019-04-03T14:27:28Z  PLQVvvaa0QuDfK-Zv2FS29XfQ1CHJbcPpP"
      ]
     },
     "execution_count": 146,
     "metadata": {},
     "output_type": "execute_result"
    }
   ],
   "source": [
    "channel_all_playlistvideo_df = pd.concat(video_df_list)\n",
    "channel_all_playlistvideo_df.head()"
   ]
  },
  {
   "cell_type": "code",
   "execution_count": 147,
   "metadata": {},
   "outputs": [],
   "source": [
    "channel_all_playlistvideo_df.to_csv(\"Sendex_videos.csv\")"
   ]
  },
  {
   "cell_type": "code",
   "execution_count": 150,
   "metadata": {},
   "outputs": [
    {
     "data": {
      "text/plain": [
       "{'Freecodecamp': 'UC8butISFwT-Wl7EV0hUK0BQ',\n",
       " 'krishnaik06': 'UCNU_lfiiWBdtULKOw6X0Dig',\n",
       " 'iNeuron_Intelligence': 'UCb1GdqUqArXMQ3RS86lqqOw',\n",
       " 'Coreyms': 'UCCezIgC97PvUuR4_gbFUs5g',\n",
       " 'realpython': 'UCI0vQvr9aFn27yR6Ej6n5UA',\n",
       " 'NeetCode': 'UC_mYaQAE6-71rjSN6CeCA-g',\n",
       " 'dataschool': 'UCnVzApLJE2ljPZSeQylSEyg',\n",
       " 'howardjeremyp': 'UCX7Y2qWriXpqocG97SFW2OQ',\n",
       " 'DataInterviewPro': 'UCAWsBMQY4KSuOuGODki-l7A',\n",
       " 'CampusX-official': 'UCCWi3hpnq_Pe03nGxuS7isg'}"
      ]
     },
     "execution_count": 150,
     "metadata": {},
     "output_type": "execute_result"
    }
   ],
   "source": [
    "channel_name_id_map"
   ]
  },
  {
   "cell_type": "code",
   "execution_count": 183,
   "metadata": {},
   "outputs": [],
   "source": [
    "def create_video_df(df):\n",
    "    video_df_list = []\n",
    "    print(\"channel_name\",channel_name)  \n",
    "    for playlist_id_value in tqdm(df['id']):    \n",
    "        request = youtube.playlistItems().list(part=['contentDetails'],\n",
    "                                               playlistId= playlist_id_value,\n",
    "                                               maxResults=50)\n",
    "        response = request.execute()\n",
    "        playlist_videos_df = pd.DataFrame(response['items'])\n",
    "        if 'contentDetails' not in playlist_videos_df.columns:\n",
    "            continue\n",
    "        video_df = pd.DataFrame(list(playlist_videos_df['contentDetails'].values))\n",
    "        video_df['playlist_id'] = playlist_id_value\n",
    "        video_df_list.append(video_df)\n",
    "        time.sleep(2)\n",
    "    # Concat and save the dataframe\n",
    "    print(\"length of df\", len(video_df_list))\n",
    "    channel_all_playlistvideo_df = pd.concat(video_df_list)\n",
    "    channel_all_playlistvideo_df.to_csv(f\"{channel_name}_videos.csv\")\n",
    "    print(f\"saved as {channel_name}_videos.csv\")\n"
   ]
  },
  {
   "cell_type": "markdown",
   "metadata": {},
   "source": [
    "## Repeat for multiple channels"
   ]
  },
  {
   "cell_type": "code",
   "execution_count": null,
   "metadata": {},
   "outputs": [],
   "source": [
    "for channel_name,channel_id in tqdm(channel_name_id_map.items()):\n",
    "    print(channel_name,channel_id)\n",
    "    df = pd.read_csv(f\"{channel_name}_playlist.csv\")\n",
    "    create_video_df(df)"
   ]
  },
  {
   "cell_type": "markdown",
   "metadata": {},
   "source": [
    " Issue came with the last channel that is CampusX-official.\n",
    " \n",
    " Needs investigation : There was a KeyError: 'contentDetails', so added a safe condition before it."
   ]
  },
  {
   "cell_type": "code",
   "execution_count": 188,
   "metadata": {},
   "outputs": [
    {
     "name": "stdout",
     "output_type": "stream",
     "text": [
      "krishnaik06_videos.csv\n",
      "howardjeremyp_videos.csv\n",
      "iNeuron_Intelligence_videos.csv\n",
      "Freecodecamp_videos.csv\n",
      "realpython_videos.csv\n",
      "CampusX-official_videos.csv\n",
      "dataschool_videos.csv\n",
      "DataInterviewPro_videos.csv\n",
      "Coreyms_videos.csv\n",
      "Sendex_videos.csv\n",
      "NeetCode_videos.csv\n"
     ]
    }
   ],
   "source": [
    "for f in os.listdir(os.curdir):\n",
    "    if f.endswith(\"_videos.csv\"):\n",
    "        print(f)"
   ]
  },
  {
   "cell_type": "markdown",
   "metadata": {},
   "source": [
    "## Comments"
   ]
  },
  {
   "cell_type": "code",
   "execution_count": 84,
   "metadata": {},
   "outputs": [],
   "source": [
    "request = youtube.commentThreads().list(part = ['id','snippet'],\n",
    "                                  maxResults = 100,videoId = '1PMECYArtuk'\n",
    ")\n",
    "response = request.execute()"
   ]
  },
  {
   "cell_type": "code",
   "execution_count": 86,
   "metadata": {},
   "outputs": [
    {
     "data": {
      "text/plain": [
       "dict_keys(['kind', 'etag', 'pageInfo', 'items'])"
      ]
     },
     "execution_count": 86,
     "metadata": {},
     "output_type": "execute_result"
    }
   ],
   "source": [
    "response.keys()"
   ]
  },
  {
   "cell_type": "code",
   "execution_count": 92,
   "metadata": {},
   "outputs": [
    {
     "data": {
      "text/plain": [
       "Index(['kind', 'etag', 'id', 'snippet'], dtype='object')"
      ]
     },
     "execution_count": 92,
     "metadata": {},
     "output_type": "execute_result"
    }
   ],
   "source": [
    "comments_df = pd.DataFrame(response['items'])\n",
    "comments_df.columns"
   ]
  },
  {
   "cell_type": "code",
   "execution_count": 94,
   "metadata": {},
   "outputs": [],
   "source": [
    "comments_df.drop(['kind','etag','id'],axis=1,inplace= True)"
   ]
  },
  {
   "cell_type": "code",
   "execution_count": 107,
   "metadata": {},
   "outputs": [],
   "source": [
    "filter_comments_df = pd.DataFrame(list(comments_df['snippet'].values))"
   ]
  },
  {
   "cell_type": "code",
   "execution_count": 113,
   "metadata": {},
   "outputs": [
    {
     "name": "stdout",
     "output_type": "stream",
     "text": [
      "<class 'dict'> {'kind': 'youtube#comment', 'etag': '9GQ07Ii6Igo3CG4_f7c6RA0FU8c', 'id': 'UgyERxc29gGurJJq0AB4AaABAg', 'snippet': {'videoId': '1PMECYArtuk', 'textDisplay': 'You can make a video about gait recognition biometrics in python<br>recognized you from your walk model ??', 'textOriginal': 'You can make a video about gait recognition biometrics in python\\nrecognized you from your walk model ??', 'authorDisplayName': 'G G', 'authorProfileImageUrl': 'https://yt3.ggpht.com/ytc/AMLnZu-dOgI718vYru4xaCePCW_rU8yvitTDD7jybD1R0Q=s48-c-k-c0x00ffffff-no-rj', 'authorChannelUrl': 'http://www.youtube.com/channel/UCUbbHQCSgNv8IM_C6bnIzaA', 'authorChannelId': {'value': 'UCUbbHQCSgNv8IM_C6bnIzaA'}, 'canRate': True, 'viewerRating': 'none', 'likeCount': 1, 'publishedAt': '2022-03-01T11:05:56Z', 'updatedAt': '2022-03-01T11:05:56Z'}}\n",
      "<class 'dict'> {'kind': 'youtube#comment', 'etag': 'PkYB4eH635TPnljuDuTN4iti5R8', 'id': 'UgxqmaUq6NcRrKNyGe14AaABAg', 'snippet': {'videoId': '1PMECYArtuk', 'textDisplay': 'Is there anyplace I can find the code for this entire playlist?', 'textOriginal': 'Is there anyplace I can find the code for this entire playlist?', 'authorDisplayName': 'ATISHAY JAIN', 'authorProfileImageUrl': 'https://yt3.ggpht.com/ytc/AMLnZu-6bQzOfp8VqNH9n_zFdzuSf7jWr_enuHK_8xHFSA=s48-c-k-c0x00ffffff-no-rj', 'authorChannelUrl': 'http://www.youtube.com/channel/UCmws8U97fSGXsaHgoEU4ZkA', 'authorChannelId': {'value': 'UCmws8U97fSGXsaHgoEU4ZkA'}, 'canRate': True, 'viewerRating': 'none', 'likeCount': 0, 'publishedAt': '2022-01-10T17:45:53Z', 'updatedAt': '2022-01-10T17:45:53Z'}}\n",
      "<class 'dict'> {'kind': 'youtube#comment', 'etag': '3ZktibXvC12zmpxVB4AE_NAq2Q8', 'id': 'Ugy2m1RAE4avb2f6fvZ4AaABAg', 'snippet': {'videoId': '1PMECYArtuk', 'textDisplay': 'I recognize a cool browser when I see it. What&#39;s that browser man?', 'textOriginal': \"I recognize a cool browser when I see it. What's that browser man?\", 'authorDisplayName': 'Ezaz Akhtar', 'authorProfileImageUrl': 'https://yt3.ggpht.com/ytc/AMLnZu9e3bPVuUa9eRFKBS34ZJtZq3ygP9emi6bT4tbo=s48-c-k-c0x00ffffff-no-rj', 'authorChannelUrl': 'http://www.youtube.com/channel/UC1BVNit-Il6NxbhT5qAxcYg', 'authorChannelId': {'value': 'UC1BVNit-Il6NxbhT5qAxcYg'}, 'canRate': True, 'viewerRating': 'none', 'likeCount': 0, 'publishedAt': '2021-12-22T04:24:14Z', 'updatedAt': '2021-12-22T04:24:14Z'}}\n",
      "<class 'dict'> {'kind': 'youtube#comment', 'etag': 'jFl3rxGyyrTQeE0UBYiBYzvoaAI', 'id': 'UgyR8q3dnNCGQf_2Y154AaABAg', 'snippet': {'videoId': '1PMECYArtuk', 'textDisplay': 'This is awesome! (Inspired awe, not just cool) Could this be made with GPT-J? If so, any suggestions?', 'textOriginal': 'This is awesome! (Inspired awe, not just cool) Could this be made with GPT-J? If so, any suggestions?', 'authorDisplayName': 'Not K¡nt@ N@om¡', 'authorProfileImageUrl': 'https://yt3.ggpht.com/jOH0RsuEhMAWNxFg-ri1-eo7sRr9Cv8oxFb7fuR2yx88-NHHGb327V-KbIBL40aaStAQpNdqaaM=s48-c-k-c0x00ffffff-no-rj', 'authorChannelUrl': 'http://www.youtube.com/channel/UCbjR7zCJLj4sH_hoWM-Ps6A', 'authorChannelId': {'value': 'UCbjR7zCJLj4sH_hoWM-Ps6A'}, 'canRate': True, 'viewerRating': 'none', 'likeCount': 0, 'publishedAt': '2021-11-25T19:37:38Z', 'updatedAt': '2021-11-25T19:37:38Z'}}\n",
      "<class 'dict'> {'kind': 'youtube#comment', 'etag': '0Ogl9ZNgcEvWNO-7k6AnSvRTDiI', 'id': 'UgxP-GWvLrWhRrZcxZx4AaABAg', 'snippet': {'videoId': '1PMECYArtuk', 'textDisplay': 'it does parse docstrings as well, right? Perhaps it can not only generate functions from docstrings (especially with examples?) Perhaps the opposite. <br>It&#39;s really exciting to shift the conversation for computational linguistics to programming language as formal languages, because getting syntax right is already a hurdle.', 'textOriginal': \"it does parse docstrings as well, right? Perhaps it can not only generate functions from docstrings (especially with examples?) Perhaps the opposite. \\nIt's really exciting to shift the conversation for computational linguistics to programming language as formal languages, because getting syntax right is already a hurdle.\", 'authorDisplayName': 'MrVipitis', 'authorProfileImageUrl': 'https://yt3.ggpht.com/ytc/AMLnZu_MKXKOi8cH__VIkZXrFbrq5SSwzIfnptWVkmqS=s48-c-k-c0x00ffffff-no-rj', 'authorChannelUrl': 'http://www.youtube.com/channel/UCL2tx0Ke5PvhafL_hU32VUg', 'authorChannelId': {'value': 'UCL2tx0Ke5PvhafL_hU32VUg'}, 'canRate': True, 'viewerRating': 'none', 'likeCount': 0, 'publishedAt': '2021-09-06T13:50:23Z', 'updatedAt': '2021-09-06T13:52:33Z'}}\n"
     ]
    }
   ],
   "source": [
    "for i in filter_comments_df['topLevelComment'].values[:5]:\n",
    "    print(type(i),i)"
   ]
  },
  {
   "cell_type": "code",
   "execution_count": null,
   "metadata": {},
   "outputs": [],
   "source": []
  }
 ],
 "metadata": {
  "kernelspec": {
   "display_name": "Python 3",
   "language": "python",
   "name": "python3"
  },
  "language_info": {
   "codemirror_mode": {
    "name": "ipython",
    "version": 3
   },
   "file_extension": ".py",
   "mimetype": "text/x-python",
   "name": "python",
   "nbconvert_exporter": "python",
   "pygments_lexer": "ipython3",
   "version": "3.7.6"
  }
 },
 "nbformat": 4,
 "nbformat_minor": 4
}
