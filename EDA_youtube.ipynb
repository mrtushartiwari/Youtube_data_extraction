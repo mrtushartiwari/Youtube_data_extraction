{
 "cells": [
  {
   "cell_type": "code",
   "execution_count": 1,
   "metadata": {},
   "outputs": [],
   "source": [
    "import os\n",
    "import googleapiclient.discovery\n",
    "import pandas as pd\n",
    "import time\n",
    "from tqdm import tqdm\n",
    "\n",
    "os.environ[\"OAUTHLIB_INSECURE_TRANSPORT\"] = \"1\"\n",
    "api_service_name = \"youtube\"\n",
    "api_version = \"v3\"\n",
    "DEVELOPER_KEY = os.environ.get(\"YOUTUBE_DEVELOPER_KEY\")\n",
    "\n",
    "youtube = googleapiclient.discovery.build(\n",
    "    api_service_name, api_version, developerKey = DEVELOPER_KEY)\n",
    "\n",
    "playlist_parts = ['contentDetails','id','localizations','player','snippet','status']\n",
    "def find_playlists(channel_id, youtube = youtube):\n",
    "    request = youtube.playlists().list(part=playlist_parts, channelId = channel_id,maxResults = 50)\n",
    "    response = request.execute()\n",
    "    return response\n",
    "\n"
   ]
  },
  {
   "cell_type": "code",
   "execution_count": 2,
   "metadata": {},
   "outputs": [],
   "source": [
    "\n",
    "channel_id = \"UCfzlCWGWYyIQ0aLC5w48gBQ\" # This is Sendex channel Id\n",
    "\n",
    "playlists_found =find_playlists(channel_id = channel_id, youtube = youtube)"
   ]
  },
  {
   "cell_type": "code",
   "execution_count": 34,
   "metadata": {},
   "outputs": [
    {
     "data": {
      "text/plain": [
       "dict_keys(['kind', 'etag', 'nextPageToken', 'pageInfo', 'items'])"
      ]
     },
     "execution_count": 34,
     "metadata": {},
     "output_type": "execute_result"
    }
   ],
   "source": [
    "playlists_found.keys()"
   ]
  },
  {
   "cell_type": "code",
   "execution_count": 6,
   "metadata": {},
   "outputs": [
    {
     "data": {
      "text/plain": [
       "dict_keys(['kind', 'etag', 'id', 'snippet', 'status', 'contentDetails', 'player'])"
      ]
     },
     "execution_count": 6,
     "metadata": {},
     "output_type": "execute_result"
    }
   ],
   "source": [
    "playlists_found['items'][0].keys()"
   ]
  },
  {
   "cell_type": "code",
   "execution_count": 33,
   "metadata": {},
   "outputs": [
    {
     "data": {
      "text/plain": [
       "list"
      ]
     },
     "execution_count": 33,
     "metadata": {},
     "output_type": "execute_result"
    }
   ],
   "source": [
    "type(playlists_found['items'])"
   ]
  },
  {
   "cell_type": "code",
   "execution_count": 16,
   "metadata": {},
   "outputs": [
    {
     "data": {
      "text/plain": [
       "({'privacyStatus': 'public'},\n",
       " {'itemCount': 2},\n",
       " {'embedHtml': '<iframe width=\"640\" height=\"360\" src=\"http://www.youtube.com/embed/videoseries?list=PLQVvvaa0QuDfK-Zv2FS29XfQ1CHJbcPpP\" frameborder=\"0\" allow=\"accelerometer; autoplay; clipboard-write; encrypted-media; gyroscope; picture-in-picture\" allowfullscreen></iframe>'})"
      ]
     },
     "execution_count": 16,
     "metadata": {},
     "output_type": "execute_result"
    }
   ],
   "source": [
    "playlists_found['items'][0]['status'], playlists_found['items'][0]['contentDetails'], playlists_found['items'][0]['player']"
   ]
  },
  {
   "cell_type": "code",
   "execution_count": 17,
   "metadata": {},
   "outputs": [
    {
     "data": {
      "text/plain": [
       "('youtube#playlist', 'X5xYzLa8o6Gcb70nh-Oz-Am3PmA')"
      ]
     },
     "execution_count": 17,
     "metadata": {},
     "output_type": "execute_result"
    }
   ],
   "source": [
    "playlists_found['items'][0]['kind'], playlists_found['items'][0]['etag']"
   ]
  },
  {
   "cell_type": "code",
   "execution_count": 18,
   "metadata": {},
   "outputs": [
    {
     "data": {
      "text/plain": [
       "('PLQVvvaa0QuDfK-Zv2FS29XfQ1CHJbcPpP',\n",
       " {'publishedAt': '2022-07-01T14:39:41Z',\n",
       "  'channelId': 'UCfzlCWGWYyIQ0aLC5w48gBQ',\n",
       "  'title': 'Home Lab',\n",
       "  'description': '',\n",
       "  'thumbnails': {'default': {'url': 'https://i.ytimg.com/vi/CIQ20FWs478/default.jpg',\n",
       "    'width': 120,\n",
       "    'height': 90},\n",
       "   'medium': {'url': 'https://i.ytimg.com/vi/CIQ20FWs478/mqdefault.jpg',\n",
       "    'width': 320,\n",
       "    'height': 180},\n",
       "   'high': {'url': 'https://i.ytimg.com/vi/CIQ20FWs478/hqdefault.jpg',\n",
       "    'width': 480,\n",
       "    'height': 360},\n",
       "   'standard': {'url': 'https://i.ytimg.com/vi/CIQ20FWs478/sddefault.jpg',\n",
       "    'width': 640,\n",
       "    'height': 480},\n",
       "   'maxres': {'url': 'https://i.ytimg.com/vi/CIQ20FWs478/maxresdefault.jpg',\n",
       "    'width': 1280,\n",
       "    'height': 720}},\n",
       "  'channelTitle': 'sentdex',\n",
       "  'localized': {'title': 'Home Lab', 'description': ''}})"
      ]
     },
     "execution_count": 18,
     "metadata": {},
     "output_type": "execute_result"
    }
   ],
   "source": [
    "playlists_found['items'][0]['id'], playlists_found['items'][0]['snippet']"
   ]
  },
  {
   "cell_type": "code",
   "execution_count": 20,
   "metadata": {},
   "outputs": [
    {
     "data": {
      "text/plain": [
       "dict"
      ]
     },
     "execution_count": 20,
     "metadata": {},
     "output_type": "execute_result"
    }
   ],
   "source": [
    "type(playlists_found['items'][0])"
   ]
  },
  {
   "cell_type": "code",
   "execution_count": 30,
   "metadata": {},
   "outputs": [],
   "source": [
    "df = pd.DataFrame([playlists_found['items'][0], playlists_found['items'][1]])"
   ]
  },
  {
   "cell_type": "code",
   "execution_count": 32,
   "metadata": {},
   "outputs": [
    {
     "data": {
      "text/plain": [
       "array([{'embedHtml': '<iframe width=\"640\" height=\"360\" src=\"http://www.youtube.com/embed/videoseries?list=PLQVvvaa0QuDfK-Zv2FS29XfQ1CHJbcPpP\" frameborder=\"0\" allow=\"accelerometer; autoplay; clipboard-write; encrypted-media; gyroscope; picture-in-picture\" allowfullscreen></iframe>'},\n",
       "       {'embedHtml': '<iframe width=\"640\" height=\"360\" src=\"http://www.youtube.com/embed/videoseries?list=PLQVvvaa0QuDcBby2qVDsDv41GghEQfr5E\" frameborder=\"0\" allow=\"accelerometer; autoplay; clipboard-write; encrypted-media; gyroscope; picture-in-picture\" allowfullscreen></iframe>'}],\n",
       "      dtype=object)"
      ]
     },
     "execution_count": 32,
     "metadata": {},
     "output_type": "execute_result"
    }
   ],
   "source": [
    "df['player'].values"
   ]
  },
  {
   "cell_type": "code",
   "execution_count": 41,
   "metadata": {},
   "outputs": [],
   "source": [
    "playlist_df = pd.DataFrame(playlists_found['items'])"
   ]
  },
  {
   "cell_type": "code",
   "execution_count": 42,
   "metadata": {},
   "outputs": [
    {
     "data": {
      "text/html": [
       "<div>\n",
       "<style scoped>\n",
       "    .dataframe tbody tr th:only-of-type {\n",
       "        vertical-align: middle;\n",
       "    }\n",
       "\n",
       "    .dataframe tbody tr th {\n",
       "        vertical-align: top;\n",
       "    }\n",
       "\n",
       "    .dataframe thead th {\n",
       "        text-align: right;\n",
       "    }\n",
       "</style>\n",
       "<table border=\"1\" class=\"dataframe\">\n",
       "  <thead>\n",
       "    <tr style=\"text-align: right;\">\n",
       "      <th></th>\n",
       "      <th>kind</th>\n",
       "      <th>etag</th>\n",
       "      <th>id</th>\n",
       "      <th>snippet</th>\n",
       "      <th>status</th>\n",
       "      <th>contentDetails</th>\n",
       "      <th>player</th>\n",
       "    </tr>\n",
       "  </thead>\n",
       "  <tbody>\n",
       "    <tr>\n",
       "      <th>0</th>\n",
       "      <td>youtube#playlist</td>\n",
       "      <td>X5xYzLa8o6Gcb70nh-Oz-Am3PmA</td>\n",
       "      <td>PLQVvvaa0QuDfK-Zv2FS29XfQ1CHJbcPpP</td>\n",
       "      <td>{'publishedAt': '2022-07-01T14:39:41Z', 'chann...</td>\n",
       "      <td>{'privacyStatus': 'public'}</td>\n",
       "      <td>{'itemCount': 2}</td>\n",
       "      <td>{'embedHtml': '&lt;iframe width=\"640\" height=\"360...</td>\n",
       "    </tr>\n",
       "    <tr>\n",
       "      <th>1</th>\n",
       "      <td>youtube#playlist</td>\n",
       "      <td>f9BDftZS9ooPqOKWlRLNZc2Olss</td>\n",
       "      <td>PLQVvvaa0QuDcBby2qVDsDv41GghEQfr5E</td>\n",
       "      <td>{'publishedAt': '2022-03-05T16:52:28Z', 'chann...</td>\n",
       "      <td>{'privacyStatus': 'public'}</td>\n",
       "      <td>{'itemCount': 4}</td>\n",
       "      <td>{'embedHtml': '&lt;iframe width=\"640\" height=\"360...</td>\n",
       "    </tr>\n",
       "    <tr>\n",
       "      <th>2</th>\n",
       "      <td>youtube#playlist</td>\n",
       "      <td>zDHcVUIl3Li7wdY9Oym7LNM58Bw</td>\n",
       "      <td>PLQVvvaa0QuDf0O2DWwLZBfJeYY-JOeZB1</td>\n",
       "      <td>{'publishedAt': '2022-02-05T15:37:22Z', 'chann...</td>\n",
       "      <td>{'privacyStatus': 'public'}</td>\n",
       "      <td>{'itemCount': 4}</td>\n",
       "      <td>{'embedHtml': '&lt;iframe width=\"640\" height=\"360...</td>\n",
       "    </tr>\n",
       "    <tr>\n",
       "      <th>3</th>\n",
       "      <td>youtube#playlist</td>\n",
       "      <td>fmBRdjIOzlSDr4P7Zor_CoJMd8I</td>\n",
       "      <td>PLQVvvaa0QuDenVbxP4LXYZoGbjfgP-Y5i</td>\n",
       "      <td>{'publishedAt': '2021-11-28T16:51:04Z', 'chann...</td>\n",
       "      <td>{'privacyStatus': 'public'}</td>\n",
       "      <td>{'itemCount': 3}</td>\n",
       "      <td>{'embedHtml': '&lt;iframe width=\"640\" height=\"360...</td>\n",
       "    </tr>\n",
       "    <tr>\n",
       "      <th>4</th>\n",
       "      <td>youtube#playlist</td>\n",
       "      <td>LSk7Ls_Q91qspcLuC5aiDBR0zhg</td>\n",
       "      <td>PLQVvvaa0QuDdKvPge9PXQtFzvhMRyFPhW</td>\n",
       "      <td>{'publishedAt': '2021-05-07T15:06:50Z', 'chann...</td>\n",
       "      <td>{'privacyStatus': 'public'}</td>\n",
       "      <td>{'itemCount': 7}</td>\n",
       "      <td>{'embedHtml': '&lt;iframe width=\"640\" height=\"360...</td>\n",
       "    </tr>\n",
       "  </tbody>\n",
       "</table>\n",
       "</div>"
      ],
      "text/plain": [
       "               kind                         etag  \\\n",
       "0  youtube#playlist  X5xYzLa8o6Gcb70nh-Oz-Am3PmA   \n",
       "1  youtube#playlist  f9BDftZS9ooPqOKWlRLNZc2Olss   \n",
       "2  youtube#playlist  zDHcVUIl3Li7wdY9Oym7LNM58Bw   \n",
       "3  youtube#playlist  fmBRdjIOzlSDr4P7Zor_CoJMd8I   \n",
       "4  youtube#playlist  LSk7Ls_Q91qspcLuC5aiDBR0zhg   \n",
       "\n",
       "                                   id  \\\n",
       "0  PLQVvvaa0QuDfK-Zv2FS29XfQ1CHJbcPpP   \n",
       "1  PLQVvvaa0QuDcBby2qVDsDv41GghEQfr5E   \n",
       "2  PLQVvvaa0QuDf0O2DWwLZBfJeYY-JOeZB1   \n",
       "3  PLQVvvaa0QuDenVbxP4LXYZoGbjfgP-Y5i   \n",
       "4  PLQVvvaa0QuDdKvPge9PXQtFzvhMRyFPhW   \n",
       "\n",
       "                                             snippet  \\\n",
       "0  {'publishedAt': '2022-07-01T14:39:41Z', 'chann...   \n",
       "1  {'publishedAt': '2022-03-05T16:52:28Z', 'chann...   \n",
       "2  {'publishedAt': '2022-02-05T15:37:22Z', 'chann...   \n",
       "3  {'publishedAt': '2021-11-28T16:51:04Z', 'chann...   \n",
       "4  {'publishedAt': '2021-05-07T15:06:50Z', 'chann...   \n",
       "\n",
       "                        status    contentDetails  \\\n",
       "0  {'privacyStatus': 'public'}  {'itemCount': 2}   \n",
       "1  {'privacyStatus': 'public'}  {'itemCount': 4}   \n",
       "2  {'privacyStatus': 'public'}  {'itemCount': 4}   \n",
       "3  {'privacyStatus': 'public'}  {'itemCount': 3}   \n",
       "4  {'privacyStatus': 'public'}  {'itemCount': 7}   \n",
       "\n",
       "                                              player  \n",
       "0  {'embedHtml': '<iframe width=\"640\" height=\"360...  \n",
       "1  {'embedHtml': '<iframe width=\"640\" height=\"360...  \n",
       "2  {'embedHtml': '<iframe width=\"640\" height=\"360...  \n",
       "3  {'embedHtml': '<iframe width=\"640\" height=\"360...  \n",
       "4  {'embedHtml': '<iframe width=\"640\" height=\"360...  "
      ]
     },
     "execution_count": 42,
     "metadata": {},
     "output_type": "execute_result"
    }
   ],
   "source": [
    "playlist_df.head()"
   ]
  },
  {
   "cell_type": "code",
   "execution_count": 43,
   "metadata": {},
   "outputs": [],
   "source": [
    "playlist_df.to_csv('Sendex_playlist.csv')"
   ]
  },
  {
   "cell_type": "markdown",
   "metadata": {},
   "source": [
    "### For multiple channels"
   ]
  },
  {
   "cell_type": "code",
   "execution_count": 48,
   "metadata": {},
   "outputs": [],
   "source": [
    "# I would need a dictionary which maps channel name to ID\n",
    "channel_name_id_map = {'Freecodecamp':'UC8butISFwT-Wl7EV0hUK0BQ',\n",
    "                      'krishnaik06':'UCNU_lfiiWBdtULKOw6X0Dig',\n",
    "                      'iNeuron_Intelligence':'UCb1GdqUqArXMQ3RS86lqqOw',\n",
    "                       'Coreyms':'UCCezIgC97PvUuR4_gbFUs5g',\n",
    "                       'realpython':'UCI0vQvr9aFn27yR6Ej6n5UA',\n",
    "                       'NeetCode':'UC_mYaQAE6-71rjSN6CeCA-g',\n",
    "                       'dataschool':'UCnVzApLJE2ljPZSeQylSEyg',\n",
    "                       'howardjeremyp':'UCX7Y2qWriXpqocG97SFW2OQ',\n",
    "                       'DataInterviewPro':'UCAWsBMQY4KSuOuGODki-l7A',\n",
    "                       'CampusX-official':'UCCWi3hpnq_Pe03nGxuS7isg'\n",
    "                      }"
   ]
  },
  {
   "cell_type": "code",
   "execution_count": 48,
   "metadata": {},
   "outputs": [
    {
     "data": {
      "text/plain": [
       "dict"
      ]
     },
     "execution_count": 48,
     "metadata": {},
     "output_type": "execute_result"
    }
   ],
   "source": [
    "type(channel_name_id_map)"
   ]
  },
  {
   "cell_type": "code",
   "execution_count": 54,
   "metadata": {},
   "outputs": [],
   "source": [
    "for channel_name,channel_id in channel_name_id_map.items():\n",
    "    playlists_found =find_playlists(channel_id = channel_id, youtube = youtube)\n",
    "    playlist_df = pd.DataFrame(playlists_found['items'])\n",
    "\n",
    "    playlist_df.to_csv(f'{channel_name}_playlist.csv')"
   ]
  },
  {
   "cell_type": "code",
   "execution_count": 51,
   "metadata": {},
   "outputs": [],
   "source": [
    "playlist_df.to_csv(f'{abc}_playlist.csv')"
   ]
  },
  {
   "cell_type": "code",
   "execution_count": 138,
   "metadata": {},
   "outputs": [],
   "source": [
    "df = pd.read_csv('Sendex_playlist.csv')"
   ]
  },
  {
   "cell_type": "code",
   "execution_count": 139,
   "metadata": {},
   "outputs": [
    {
     "data": {
      "text/html": [
       "<div>\n",
       "<style scoped>\n",
       "    .dataframe tbody tr th:only-of-type {\n",
       "        vertical-align: middle;\n",
       "    }\n",
       "\n",
       "    .dataframe tbody tr th {\n",
       "        vertical-align: top;\n",
       "    }\n",
       "\n",
       "    .dataframe thead th {\n",
       "        text-align: right;\n",
       "    }\n",
       "</style>\n",
       "<table border=\"1\" class=\"dataframe\">\n",
       "  <thead>\n",
       "    <tr style=\"text-align: right;\">\n",
       "      <th></th>\n",
       "      <th>Unnamed: 0</th>\n",
       "      <th>kind</th>\n",
       "      <th>etag</th>\n",
       "      <th>id</th>\n",
       "      <th>snippet</th>\n",
       "      <th>status</th>\n",
       "      <th>contentDetails</th>\n",
       "      <th>player</th>\n",
       "    </tr>\n",
       "  </thead>\n",
       "  <tbody>\n",
       "    <tr>\n",
       "      <th>0</th>\n",
       "      <td>0</td>\n",
       "      <td>youtube#playlist</td>\n",
       "      <td>X5xYzLa8o6Gcb70nh-Oz-Am3PmA</td>\n",
       "      <td>PLQVvvaa0QuDfK-Zv2FS29XfQ1CHJbcPpP</td>\n",
       "      <td>{'publishedAt': '2022-07-01T14:39:41Z', 'chann...</td>\n",
       "      <td>{'privacyStatus': 'public'}</td>\n",
       "      <td>{'itemCount': 2}</td>\n",
       "      <td>{'embedHtml': '&lt;iframe width=\"640\" height=\"360...</td>\n",
       "    </tr>\n",
       "    <tr>\n",
       "      <th>1</th>\n",
       "      <td>1</td>\n",
       "      <td>youtube#playlist</td>\n",
       "      <td>f9BDftZS9ooPqOKWlRLNZc2Olss</td>\n",
       "      <td>PLQVvvaa0QuDcBby2qVDsDv41GghEQfr5E</td>\n",
       "      <td>{'publishedAt': '2022-03-05T16:52:28Z', 'chann...</td>\n",
       "      <td>{'privacyStatus': 'public'}</td>\n",
       "      <td>{'itemCount': 4}</td>\n",
       "      <td>{'embedHtml': '&lt;iframe width=\"640\" height=\"360...</td>\n",
       "    </tr>\n",
       "    <tr>\n",
       "      <th>2</th>\n",
       "      <td>2</td>\n",
       "      <td>youtube#playlist</td>\n",
       "      <td>zDHcVUIl3Li7wdY9Oym7LNM58Bw</td>\n",
       "      <td>PLQVvvaa0QuDf0O2DWwLZBfJeYY-JOeZB1</td>\n",
       "      <td>{'publishedAt': '2022-02-05T15:37:22Z', 'chann...</td>\n",
       "      <td>{'privacyStatus': 'public'}</td>\n",
       "      <td>{'itemCount': 4}</td>\n",
       "      <td>{'embedHtml': '&lt;iframe width=\"640\" height=\"360...</td>\n",
       "    </tr>\n",
       "    <tr>\n",
       "      <th>3</th>\n",
       "      <td>3</td>\n",
       "      <td>youtube#playlist</td>\n",
       "      <td>fmBRdjIOzlSDr4P7Zor_CoJMd8I</td>\n",
       "      <td>PLQVvvaa0QuDenVbxP4LXYZoGbjfgP-Y5i</td>\n",
       "      <td>{'publishedAt': '2021-11-28T16:51:04Z', 'chann...</td>\n",
       "      <td>{'privacyStatus': 'public'}</td>\n",
       "      <td>{'itemCount': 3}</td>\n",
       "      <td>{'embedHtml': '&lt;iframe width=\"640\" height=\"360...</td>\n",
       "    </tr>\n",
       "    <tr>\n",
       "      <th>4</th>\n",
       "      <td>4</td>\n",
       "      <td>youtube#playlist</td>\n",
       "      <td>LSk7Ls_Q91qspcLuC5aiDBR0zhg</td>\n",
       "      <td>PLQVvvaa0QuDdKvPge9PXQtFzvhMRyFPhW</td>\n",
       "      <td>{'publishedAt': '2021-05-07T15:06:50Z', 'chann...</td>\n",
       "      <td>{'privacyStatus': 'public'}</td>\n",
       "      <td>{'itemCount': 7}</td>\n",
       "      <td>{'embedHtml': '&lt;iframe width=\"640\" height=\"360...</td>\n",
       "    </tr>\n",
       "  </tbody>\n",
       "</table>\n",
       "</div>"
      ],
      "text/plain": [
       "   Unnamed: 0              kind                         etag  \\\n",
       "0           0  youtube#playlist  X5xYzLa8o6Gcb70nh-Oz-Am3PmA   \n",
       "1           1  youtube#playlist  f9BDftZS9ooPqOKWlRLNZc2Olss   \n",
       "2           2  youtube#playlist  zDHcVUIl3Li7wdY9Oym7LNM58Bw   \n",
       "3           3  youtube#playlist  fmBRdjIOzlSDr4P7Zor_CoJMd8I   \n",
       "4           4  youtube#playlist  LSk7Ls_Q91qspcLuC5aiDBR0zhg   \n",
       "\n",
       "                                   id  \\\n",
       "0  PLQVvvaa0QuDfK-Zv2FS29XfQ1CHJbcPpP   \n",
       "1  PLQVvvaa0QuDcBby2qVDsDv41GghEQfr5E   \n",
       "2  PLQVvvaa0QuDf0O2DWwLZBfJeYY-JOeZB1   \n",
       "3  PLQVvvaa0QuDenVbxP4LXYZoGbjfgP-Y5i   \n",
       "4  PLQVvvaa0QuDdKvPge9PXQtFzvhMRyFPhW   \n",
       "\n",
       "                                             snippet  \\\n",
       "0  {'publishedAt': '2022-07-01T14:39:41Z', 'chann...   \n",
       "1  {'publishedAt': '2022-03-05T16:52:28Z', 'chann...   \n",
       "2  {'publishedAt': '2022-02-05T15:37:22Z', 'chann...   \n",
       "3  {'publishedAt': '2021-11-28T16:51:04Z', 'chann...   \n",
       "4  {'publishedAt': '2021-05-07T15:06:50Z', 'chann...   \n",
       "\n",
       "                        status    contentDetails  \\\n",
       "0  {'privacyStatus': 'public'}  {'itemCount': 2}   \n",
       "1  {'privacyStatus': 'public'}  {'itemCount': 4}   \n",
       "2  {'privacyStatus': 'public'}  {'itemCount': 4}   \n",
       "3  {'privacyStatus': 'public'}  {'itemCount': 3}   \n",
       "4  {'privacyStatus': 'public'}  {'itemCount': 7}   \n",
       "\n",
       "                                              player  \n",
       "0  {'embedHtml': '<iframe width=\"640\" height=\"360...  \n",
       "1  {'embedHtml': '<iframe width=\"640\" height=\"360...  \n",
       "2  {'embedHtml': '<iframe width=\"640\" height=\"360...  \n",
       "3  {'embedHtml': '<iframe width=\"640\" height=\"360...  \n",
       "4  {'embedHtml': '<iframe width=\"640\" height=\"360...  "
      ]
     },
     "execution_count": 139,
     "metadata": {},
     "output_type": "execute_result"
    }
   ],
   "source": [
    "df.head()"
   ]
  },
  {
   "cell_type": "code",
   "execution_count": 59,
   "metadata": {},
   "outputs": [],
   "source": [
    "# id here refers to the playlist id"
   ]
  },
  {
   "cell_type": "code",
   "execution_count": 132,
   "metadata": {},
   "outputs": [],
   "source": [
    "playlist_id_value= 'PLQVvvaa0QuDf0O2DWwLZBfJeYY-JOeZB1'\n",
    "request = youtube.playlistItems().list(part=['contentDetails'],\n",
    "                                       playlistId= playlist_id_value,\n",
    "                                       maxResults=50\n",
    "\n",
    ")\n",
    "response = request.execute()"
   ]
  },
  {
   "cell_type": "code",
   "execution_count": 133,
   "metadata": {},
   "outputs": [
    {
     "data": {
      "text/plain": [
       "[{'kind': 'youtube#playlistItem',\n",
       "  'etag': 'ffSwlAR_QOiUwih08qFgR0KJTVI',\n",
       "  'id': 'UExRVnZ2YWEwUXVEZjBPMkRXd0xaQmZKZVlZLUpPZVpCMS41NkI0NEY2RDEwNTU3Q0M2',\n",
       "  'contentDetails': {'videoId': 'XbWhJdQgi7E',\n",
       "   'videoPublishedAt': '2022-02-05T15:56:01Z'}},\n",
       " {'kind': 'youtube#playlistItem',\n",
       "  'etag': '4n9D0Dj-l0Ulu90S0hVZZMGRbS0',\n",
       "  'id': 'UExRVnZ2YWEwUXVEZjBPMkRXd0xaQmZKZVlZLUpPZVpCMS4yODlGNEE0NkRGMEEzMEQy',\n",
       "  'contentDetails': {'videoId': 'dLP-2Y6yu70',\n",
       "   'videoPublishedAt': '2022-02-06T15:48:54Z'}},\n",
       " {'kind': 'youtube#playlistItem',\n",
       "  'etag': 'U6TNPXbRNuxY9L9E4eUyknEJM00',\n",
       "  'id': 'UExRVnZ2YWEwUXVEZjBPMkRXd0xaQmZKZVlZLUpPZVpCMS4wMTcyMDhGQUE4NTIzM0Y5',\n",
       "  'contentDetails': {'videoId': 'uKnjGn8fF70',\n",
       "   'videoPublishedAt': '2022-02-07T15:00:05Z'}},\n",
       " {'kind': 'youtube#playlistItem',\n",
       "  'etag': 'da3oWP40_U_s2KbMAPzPWwI6I3Y',\n",
       "  'id': 'UExRVnZ2YWEwUXVEZjBPMkRXd0xaQmZKZVlZLUpPZVpCMS41MjE1MkI0OTQ2QzJGNzNG',\n",
       "  'contentDetails': {'videoId': 'yvwxbkKX9dc',\n",
       "   'videoPublishedAt': '2022-02-08T15:18:17Z'}}]"
      ]
     },
     "execution_count": 133,
     "metadata": {},
     "output_type": "execute_result"
    }
   ],
   "source": [
    "response['items']"
   ]
  },
  {
   "cell_type": "code",
   "execution_count": 134,
   "metadata": {},
   "outputs": [],
   "source": [
    "playlist_videos_df = pd.DataFrame(response['items'])#.head()['contentDetails'].values"
   ]
  },
  {
   "cell_type": "code",
   "execution_count": 135,
   "metadata": {},
   "outputs": [
    {
     "data": {
      "text/plain": [
       "Index(['kind', 'etag', 'id', 'contentDetails'], dtype='object')"
      ]
     },
     "execution_count": 135,
     "metadata": {},
     "output_type": "execute_result"
    }
   ],
   "source": [
    "playlist_videos_df.columns"
   ]
  },
  {
   "cell_type": "code",
   "execution_count": 136,
   "metadata": {},
   "outputs": [],
   "source": [
    "video_df = pd.DataFrame(list(playlist_videos_df['contentDetails'].values))"
   ]
  },
  {
   "cell_type": "code",
   "execution_count": 137,
   "metadata": {},
   "outputs": [
    {
     "data": {
      "text/html": [
       "<div>\n",
       "<style scoped>\n",
       "    .dataframe tbody tr th:only-of-type {\n",
       "        vertical-align: middle;\n",
       "    }\n",
       "\n",
       "    .dataframe tbody tr th {\n",
       "        vertical-align: top;\n",
       "    }\n",
       "\n",
       "    .dataframe thead th {\n",
       "        text-align: right;\n",
       "    }\n",
       "</style>\n",
       "<table border=\"1\" class=\"dataframe\">\n",
       "  <thead>\n",
       "    <tr style=\"text-align: right;\">\n",
       "      <th></th>\n",
       "      <th>videoId</th>\n",
       "      <th>videoPublishedAt</th>\n",
       "      <th>playlist_id</th>\n",
       "    </tr>\n",
       "  </thead>\n",
       "  <tbody>\n",
       "    <tr>\n",
       "      <th>0</th>\n",
       "      <td>XbWhJdQgi7E</td>\n",
       "      <td>2022-02-05T15:56:01Z</td>\n",
       "      <td>PLQVvvaa0QuDf0O2DWwLZBfJeYY-JOeZB1</td>\n",
       "    </tr>\n",
       "    <tr>\n",
       "      <th>1</th>\n",
       "      <td>dLP-2Y6yu70</td>\n",
       "      <td>2022-02-06T15:48:54Z</td>\n",
       "      <td>PLQVvvaa0QuDf0O2DWwLZBfJeYY-JOeZB1</td>\n",
       "    </tr>\n",
       "    <tr>\n",
       "      <th>2</th>\n",
       "      <td>uKnjGn8fF70</td>\n",
       "      <td>2022-02-07T15:00:05Z</td>\n",
       "      <td>PLQVvvaa0QuDf0O2DWwLZBfJeYY-JOeZB1</td>\n",
       "    </tr>\n",
       "    <tr>\n",
       "      <th>3</th>\n",
       "      <td>yvwxbkKX9dc</td>\n",
       "      <td>2022-02-08T15:18:17Z</td>\n",
       "      <td>PLQVvvaa0QuDf0O2DWwLZBfJeYY-JOeZB1</td>\n",
       "    </tr>\n",
       "  </tbody>\n",
       "</table>\n",
       "</div>"
      ],
      "text/plain": [
       "       videoId      videoPublishedAt                         playlist_id\n",
       "0  XbWhJdQgi7E  2022-02-05T15:56:01Z  PLQVvvaa0QuDf0O2DWwLZBfJeYY-JOeZB1\n",
       "1  dLP-2Y6yu70  2022-02-06T15:48:54Z  PLQVvvaa0QuDf0O2DWwLZBfJeYY-JOeZB1\n",
       "2  uKnjGn8fF70  2022-02-07T15:00:05Z  PLQVvvaa0QuDf0O2DWwLZBfJeYY-JOeZB1\n",
       "3  yvwxbkKX9dc  2022-02-08T15:18:17Z  PLQVvvaa0QuDf0O2DWwLZBfJeYY-JOeZB1"
      ]
     },
     "execution_count": 137,
     "metadata": {},
     "output_type": "execute_result"
    }
   ],
   "source": [
    "video_df['playlist_id'] = playlist_id_value\n",
    "video_df.head()"
   ]
  },
  {
   "cell_type": "code",
   "execution_count": null,
   "metadata": {},
   "outputs": [],
   "source": [
    "video_df.to_csv(f\"{}_videos\")"
   ]
  },
  {
   "cell_type": "code",
   "execution_count": 143,
   "metadata": {},
   "outputs": [
    {
     "name": "stdout",
     "output_type": "stream",
     "text": [
      "PLQVvvaa0QuDfK-Zv2FS29XfQ1CHJbcPpP\n",
      "Saving playlist items\n",
      "waiting \n",
      "\n",
      "PLQVvvaa0QuDcBby2qVDsDv41GghEQfr5E\n",
      "Saving playlist items\n",
      "waiting \n",
      "\n",
      "PLQVvvaa0QuDf0O2DWwLZBfJeYY-JOeZB1\n",
      "Saving playlist items\n",
      "waiting \n",
      "\n",
      "PLQVvvaa0QuDenVbxP4LXYZoGbjfgP-Y5i\n",
      "Saving playlist items\n",
      "waiting \n",
      "\n",
      "PLQVvvaa0QuDdKvPge9PXQtFzvhMRyFPhW\n",
      "Saving playlist items\n",
      "waiting \n",
      "\n",
      "PLQVvvaa0QuDc6XkxPPWF0APTmiofFV-lE\n",
      "Saving playlist items\n",
      "waiting \n",
      "\n",
      "PLQVvvaa0QuDdcI_Z6S1nbWyOfqY48SKnM\n",
      "Saving playlist items\n",
      "waiting \n",
      "\n",
      "PLQVvvaa0QuDcjD5BAw2DxE6OF2tius3V3\n",
      "Saving playlist items\n",
      "waiting \n",
      "\n",
      "PLQVvvaa0QuDcDqgpLLJJM15NpIGNfrKY5\n",
      "Saving playlist items\n",
      "waiting \n",
      "\n",
      "PLQVvvaa0QuDc79w6NcGB0pnoJBgaKdfrW\n",
      "Saving playlist items\n",
      "waiting \n",
      "\n",
      "PLQVvvaa0QuDeU-QCAwZl2UmSpfb4sWbxY\n",
      "Saving playlist items\n",
      "waiting \n",
      "\n",
      "PLQVvvaa0QuDdeMyHEYc0gxFpYwHY2Qfdh\n",
      "Saving playlist items\n",
      "waiting \n",
      "\n",
      "PLQVvvaa0QuDeI12McNQdnTlWz9XlCa0uo\n",
      "Saving playlist items\n",
      "waiting \n",
      "\n",
      "PLQVvvaa0QuDezJFIOU5wDdfy4e9vdnx-7\n",
      "Saving playlist items\n",
      "waiting \n",
      "\n",
      "PLQVvvaa0QuDf2_A04M-m0WubgLf2_geR6\n",
      "Saving playlist items\n",
      "waiting \n",
      "\n",
      "PLQVvvaa0QuDfWjcDi0GB1AsAuSCAb_JoX\n",
      "Saving playlist items\n",
      "waiting \n",
      "\n",
      "PLQVvvaa0QuDfwnDTZWw8H3hN_VRQfq8rF\n",
      "Saving playlist items\n",
      "waiting \n",
      "\n",
      "PLQVvvaa0QuDdzLB_0JSTTcl8E8jsJLhR5\n",
      "Saving playlist items\n",
      "waiting \n",
      "\n",
      "PLQVvvaa0QuDfSfqQuee6K8opKtZsh7sA9\n",
      "Saving playlist items\n",
      "waiting \n",
      "\n",
      "PLQVvvaa0QuDe9nqlirjacLkBYdgc2inh3\n",
      "Saving playlist items\n",
      "waiting \n",
      "\n",
      "PLQVvvaa0QuDeTwslmtfNabnRuXGabKIOj\n",
      "Saving playlist items\n",
      "waiting \n",
      "\n",
      "PLQVvvaa0QuDeAams7fkdcwOGBpGdHpXln\n",
      "Saving playlist items\n",
      "waiting \n",
      "\n",
      "PLQVvvaa0QuDcJe7DPD0I5J-EDKomQDKsz\n",
      "Saving playlist items\n",
      "waiting \n",
      "\n",
      "PLQVvvaa0QuDf5LApiJp_I5lmJ0zNT6Po4\n",
      "Saving playlist items\n",
      "waiting \n",
      "\n",
      "PLQVvvaa0QuDfhTox0AjmQ6tvTgMBZBEXN\n",
      "Saving playlist items\n",
      "waiting \n",
      "\n",
      "PLQVvvaa0QuDcT3tPehHdisGMc8TInNqdq\n",
      "Saving playlist items\n",
      "waiting \n",
      "\n",
      "PLQVvvaa0QuDcsopCRwbxxVZtJmHplV3uZ\n",
      "Saving playlist items\n",
      "waiting \n",
      "\n",
      "PLQVvvaa0QuDebFAC20X4iyF0KR-s9LGnu\n",
      "Saving playlist items\n",
      "waiting \n",
      "\n",
      "PLQVvvaa0QuDdfN3lrO0NDYxa1JwCYes-E\n",
      "Saving playlist items\n",
      "waiting \n",
      "\n",
      "PLQVvvaa0QuDfsGImWNt1eUEveHOepkjqt\n",
      "Saving playlist items\n",
      "waiting \n",
      "\n",
      "PLQVvvaa0QuDeIXLGcc7ZxHSCq8br_d1P-\n",
      "Saving playlist items\n",
      "waiting \n",
      "\n",
      "PLQVvvaa0QuDdc2k5dwtDTyT9aCja0on8j\n",
      "Saving playlist items\n",
      "waiting \n",
      "\n",
      "PLQVvvaa0QuDeF3hP0wQoSxpkqgRcgxMqX\n",
      "Saving playlist items\n",
      "waiting \n",
      "\n",
      "PLQVvvaa0QuDcNK5GeCQnxYnSSaar2tpku\n",
      "Saving playlist items\n",
      "waiting \n",
      "\n",
      "PLQVvvaa0QuDcg7v9OIyT-DWXX4WOjmJ9I\n",
      "Saving playlist items\n",
      "waiting \n",
      "\n",
      "PLQVvvaa0QuDeETZEOy4VdocT7TOjfSA8a\n",
      "Saving playlist items\n",
      "waiting \n",
      "\n",
      "PLQVvvaa0QuDesV8WWHLLXW_avmTzHmJLv\n",
      "Saving playlist items\n",
      "waiting \n",
      "\n",
      "PLQVvvaa0QuDfGVb3yucqvKtUgwOJgZWCm\n",
      "Saving playlist items\n",
      "waiting \n",
      "\n",
      "PLQVvvaa0QuDf5h6si5lUbTh4ejzTQVJCW\n",
      "Saving playlist items\n",
      "waiting \n",
      "\n",
      "PLQVvvaa0QuDd5meH8cStO9cMi98tPT12_\n",
      "Saving playlist items\n",
      "waiting \n",
      "\n",
      "PLQVvvaa0QuDcOdF96TBtRtuQksErCEBYZ\n",
      "Saving playlist items\n",
      "waiting \n",
      "\n",
      "PLQVvvaa0QuDe3E0TlV7q7bFyMqbnO5-TL\n",
      "Saving playlist items\n",
      "waiting \n",
      "\n",
      "PLQVvvaa0QuDffrguXj7ZZsqkDQwFi20QQ\n",
      "Saving playlist items\n",
      "waiting \n",
      "\n",
      "PLQVvvaa0QuDfju7ADVp5W1GF9jVhjbX-_\n",
      "Saving playlist items\n",
      "waiting \n",
      "\n",
      "PLQVvvaa0QuDfV1MIRBOcqClP6VZXsvyZS\n",
      "Saving playlist items\n",
      "waiting \n",
      "\n",
      "PLQVvvaa0QuDfKTOs3Keq_kaG2P55YRn5v\n",
      "Saving playlist items\n",
      "waiting \n",
      "\n",
      "PLQVvvaa0QuDfp4GmCdhbPhPwWt4O_TBmB\n",
      "Saving playlist items\n",
      "waiting \n",
      "\n",
      "PLQVvvaa0QuDeA05ZouE4OzDYLHY-XH-Nd\n",
      "Saving playlist items\n",
      "waiting \n",
      "\n",
      "PLQVvvaa0QuDezJh0sC5CqXLKZTSKU1YNo\n",
      "Saving playlist items\n",
      "waiting \n",
      "\n",
      "PLQVvvaa0QuDdttJXlLtAJxJetJcqmqlQq\n",
      "Saving playlist items\n",
      "waiting \n",
      "\n"
     ]
    }
   ],
   "source": [
    "video_df_list = []\n",
    "for playlist_id_value in df['id']:\n",
    "    print(playlist_id_value)\n",
    "    request = youtube.playlistItems().list(part=['contentDetails'],\n",
    "                                           playlistId= playlist_id_value,\n",
    "                                           maxResults=50)\n",
    "    response = request.execute()\n",
    "    \n",
    "    print(\"Saving playlist items\")\n",
    "    playlist_videos_df = pd.DataFrame(response['items'])\n",
    "    \n",
    "    video_df = pd.DataFrame(list(playlist_videos_df['contentDetails'].values))\n",
    "    video_df['playlist_id'] = playlist_id_value\n",
    "    video_df_list.append(video_df)\n",
    "    print('waiting \\n')\n",
    "    time.sleep(2)"
   ]
  },
  {
   "cell_type": "code",
   "execution_count": 146,
   "metadata": {},
   "outputs": [
    {
     "data": {
      "text/html": [
       "<div>\n",
       "<style scoped>\n",
       "    .dataframe tbody tr th:only-of-type {\n",
       "        vertical-align: middle;\n",
       "    }\n",
       "\n",
       "    .dataframe tbody tr th {\n",
       "        vertical-align: top;\n",
       "    }\n",
       "\n",
       "    .dataframe thead th {\n",
       "        text-align: right;\n",
       "    }\n",
       "</style>\n",
       "<table border=\"1\" class=\"dataframe\">\n",
       "  <thead>\n",
       "    <tr style=\"text-align: right;\">\n",
       "      <th></th>\n",
       "      <th>videoId</th>\n",
       "      <th>videoPublishedAt</th>\n",
       "      <th>playlist_id</th>\n",
       "    </tr>\n",
       "  </thead>\n",
       "  <tbody>\n",
       "    <tr>\n",
       "      <th>0</th>\n",
       "      <td>Lbfe3-v7yE0</td>\n",
       "      <td>2019-03-11T14:22:40Z</td>\n",
       "      <td>PLQVvvaa0QuDfK-Zv2FS29XfQ1CHJbcPpP</td>\n",
       "    </tr>\n",
       "    <tr>\n",
       "      <th>1</th>\n",
       "      <td>8A4dqoGL62E</td>\n",
       "      <td>2019-03-12T17:39:40Z</td>\n",
       "      <td>PLQVvvaa0QuDfK-Zv2FS29XfQ1CHJbcPpP</td>\n",
       "    </tr>\n",
       "    <tr>\n",
       "      <th>2</th>\n",
       "      <td>WM1z8soch0Q</td>\n",
       "      <td>2019-03-13T13:52:35Z</td>\n",
       "      <td>PLQVvvaa0QuDfK-Zv2FS29XfQ1CHJbcPpP</td>\n",
       "    </tr>\n",
       "    <tr>\n",
       "      <th>3</th>\n",
       "      <td>CV7_stUWvBQ</td>\n",
       "      <td>2019-04-02T14:00:19Z</td>\n",
       "      <td>PLQVvvaa0QuDfK-Zv2FS29XfQ1CHJbcPpP</td>\n",
       "    </tr>\n",
       "    <tr>\n",
       "      <th>4</th>\n",
       "      <td>ytu2yV3Gn1I</td>\n",
       "      <td>2019-04-03T14:27:28Z</td>\n",
       "      <td>PLQVvvaa0QuDfK-Zv2FS29XfQ1CHJbcPpP</td>\n",
       "    </tr>\n",
       "  </tbody>\n",
       "</table>\n",
       "</div>"
      ],
      "text/plain": [
       "       videoId      videoPublishedAt                         playlist_id\n",
       "0  Lbfe3-v7yE0  2019-03-11T14:22:40Z  PLQVvvaa0QuDfK-Zv2FS29XfQ1CHJbcPpP\n",
       "1  8A4dqoGL62E  2019-03-12T17:39:40Z  PLQVvvaa0QuDfK-Zv2FS29XfQ1CHJbcPpP\n",
       "2  WM1z8soch0Q  2019-03-13T13:52:35Z  PLQVvvaa0QuDfK-Zv2FS29XfQ1CHJbcPpP\n",
       "3  CV7_stUWvBQ  2019-04-02T14:00:19Z  PLQVvvaa0QuDfK-Zv2FS29XfQ1CHJbcPpP\n",
       "4  ytu2yV3Gn1I  2019-04-03T14:27:28Z  PLQVvvaa0QuDfK-Zv2FS29XfQ1CHJbcPpP"
      ]
     },
     "execution_count": 146,
     "metadata": {},
     "output_type": "execute_result"
    }
   ],
   "source": [
    "channel_all_playlistvideo_df = pd.concat(video_df_list)\n",
    "channel_all_playlistvideo_df.head()"
   ]
  },
  {
   "cell_type": "code",
   "execution_count": 147,
   "metadata": {},
   "outputs": [],
   "source": [
    "channel_all_playlistvideo_df.to_csv(\"Sendex_videos.csv\")"
   ]
  },
  {
   "cell_type": "code",
   "execution_count": 49,
   "metadata": {},
   "outputs": [
    {
     "data": {
      "text/plain": [
       "{'Freecodecamp': 'UC8butISFwT-Wl7EV0hUK0BQ',\n",
       " 'krishnaik06': 'UCNU_lfiiWBdtULKOw6X0Dig',\n",
       " 'iNeuron_Intelligence': 'UCb1GdqUqArXMQ3RS86lqqOw',\n",
       " 'Coreyms': 'UCCezIgC97PvUuR4_gbFUs5g',\n",
       " 'realpython': 'UCI0vQvr9aFn27yR6Ej6n5UA',\n",
       " 'NeetCode': 'UC_mYaQAE6-71rjSN6CeCA-g',\n",
       " 'dataschool': 'UCnVzApLJE2ljPZSeQylSEyg',\n",
       " 'howardjeremyp': 'UCX7Y2qWriXpqocG97SFW2OQ',\n",
       " 'DataInterviewPro': 'UCAWsBMQY4KSuOuGODki-l7A',\n",
       " 'CampusX-official': 'UCCWi3hpnq_Pe03nGxuS7isg'}"
      ]
     },
     "execution_count": 49,
     "metadata": {},
     "output_type": "execute_result"
    }
   ],
   "source": [
    "channel_name_id_map"
   ]
  },
  {
   "cell_type": "code",
   "execution_count": 183,
   "metadata": {},
   "outputs": [],
   "source": [
    "def create_video_df(df):\n",
    "    video_df_list = []\n",
    "    print(\"channel_name\",channel_name)  \n",
    "    for playlist_id_value in tqdm(df['id']):    \n",
    "        request = youtube.playlistItems().list(part=['contentDetails'],\n",
    "                                               playlistId= playlist_id_value,\n",
    "                                               maxResults=50)\n",
    "        response = request.execute()\n",
    "        playlist_videos_df = pd.DataFrame(response['items'])\n",
    "        if 'contentDetails' not in playlist_videos_df.columns:\n",
    "            continue\n",
    "        video_df = pd.DataFrame(list(playlist_videos_df['contentDetails'].values))\n",
    "        video_df['playlist_id'] = playlist_id_value\n",
    "        video_df_list.append(video_df)\n",
    "        time.sleep(2)\n",
    "    # Concat and save the dataframe\n",
    "    print(\"length of df\", len(video_df_list))\n",
    "    channel_all_playlistvideo_df = pd.concat(video_df_list)\n",
    "    channel_all_playlistvideo_df.to_csv(f\"{channel_name}_videos.csv\")\n",
    "    print(f\"saved as {channel_name}_videos.csv\")\n"
   ]
  },
  {
   "cell_type": "markdown",
   "metadata": {},
   "source": [
    "## Repeat for multiple channels"
   ]
  },
  {
   "cell_type": "code",
   "execution_count": null,
   "metadata": {},
   "outputs": [],
   "source": [
    "for channel_name,channel_id in tqdm(channel_name_id_map.items()):\n",
    "    print(channel_name,channel_id)\n",
    "    df = pd.read_csv(f\"{channel_name}_playlist.csv\")\n",
    "    create_video_df(df)"
   ]
  },
  {
   "cell_type": "markdown",
   "metadata": {},
   "source": [
    " Issue came with the last channel that is CampusX-official.\n",
    " \n",
    " Needs investigation : There was a KeyError: 'contentDetails', so added a safe condition before it."
   ]
  },
  {
   "cell_type": "code",
   "execution_count": 50,
   "metadata": {},
   "outputs": [
    {
     "name": "stdout",
     "output_type": "stream",
     "text": [
      "krishnaik06_videos.csv has 447 videos\n",
      "howardjeremyp_videos.csv has 104 videos\n",
      "iNeuron_Intelligence_videos.csv has 339 videos\n",
      "Freecodecamp_videos.csv has 690 videos\n",
      "realpython_videos.csv has 315 videos\n",
      "CampusX-official_videos.csv has 452 videos\n",
      "dataschool_videos.csv has 218 videos\n",
      "DataInterviewPro_videos.csv has 113 videos\n",
      "Coreyms_videos.csv has 223 videos\n",
      "Sendex_videos.csv has 461 videos\n",
      "NeetCode_videos.csv has 437 videos\n"
     ]
    }
   ],
   "source": [
    "total = 0\n",
    "for f in os.listdir(os.curdir):\n",
    "    if f.endswith(\"_videos.csv\"):\n",
    "        df = pd.read_csv(f)\n",
    "        print(f\"{f} has {df.shape[0]} videos\")\n",
    "        total = total + df.shape[0]"
   ]
  },
  {
   "cell_type": "code",
   "execution_count": 193,
   "metadata": {},
   "outputs": [
    {
     "data": {
      "text/plain": [
       "3799"
      ]
     },
     "execution_count": 193,
     "metadata": {},
     "output_type": "execute_result"
    }
   ],
   "source": [
    "total"
   ]
  },
  {
   "cell_type": "markdown",
   "metadata": {},
   "source": [
    "## Comments"
   ]
  },
  {
   "cell_type": "code",
   "execution_count": 68,
   "metadata": {},
   "outputs": [],
   "source": [
    "request = youtube.commentThreads().list(part = ['id','snippet'],\n",
    "                                  maxResults = 100,videoId = '1PMECYArtuk'\n",
    ")\n",
    "response = request.execute()"
   ]
  },
  {
   "cell_type": "code",
   "execution_count": 69,
   "metadata": {},
   "outputs": [
    {
     "data": {
      "text/plain": [
       "dict_keys(['kind', 'etag', 'pageInfo', 'items'])"
      ]
     },
     "execution_count": 69,
     "metadata": {},
     "output_type": "execute_result"
    }
   ],
   "source": [
    "response.keys()"
   ]
  },
  {
   "cell_type": "code",
   "execution_count": 73,
   "metadata": {},
   "outputs": [],
   "source": [
    "def extract_comments_from_video(video_id):\n",
    "    try:\n",
    "        request = youtube.commentThreads().list(part = ['id','snippet'],\n",
    "                                          maxResults = 100,videoId = video_id)\n",
    "        response = request.execute()\n",
    "    except:\n",
    "        print(\"An exception occurred\")\n",
    "        return \"error\"\n",
    "    comments_df = pd.json_normalize(response['items'],sep='_')\n",
    "#     comments_df.drop(['kind','etag','id','snippet_videoId', 'snippet_topLevelComment_kind',\n",
    "#            'snippet_topLevelComment_etag','snippet_topLevelComment_snippet_authorDisplayName',\n",
    "#            'snippet_topLevelComment_snippet_authorProfileImageUrl',\n",
    "#            'snippet_topLevelComment_snippet_authorChannelUrl',\n",
    "#            'snippet_topLevelComment_snippet_authorChannelId_value',\n",
    "#            'snippet_topLevelComment_snippet_canRate',],axis=1,inplace= True)\n",
    "    try:\n",
    "        comments_df=comments_df[['snippet_topLevelComment_id', 'snippet_topLevelComment_snippet_videoId',\n",
    "           'snippet_topLevelComment_snippet_textDisplay',\n",
    "           'snippet_topLevelComment_snippet_textOriginal',\n",
    "           'snippet_topLevelComment_snippet_viewerRating',\n",
    "           'snippet_topLevelComment_snippet_likeCount',\n",
    "           'snippet_topLevelComment_snippet_publishedAt',\n",
    "           'snippet_topLevelComment_snippet_updatedAt', 'snippet_canReply',\n",
    "           'snippet_totalReplyCount', 'snippet_isPublic']]\n",
    "    except:\n",
    "        print(\"An exception occurred Key error\")\n",
    "        return \"error\"\n",
    "    return comments_df"
   ]
  },
  {
   "cell_type": "code",
   "execution_count": 26,
   "metadata": {},
   "outputs": [
    {
     "data": {
      "text/plain": [
       "Index(['kind', 'etag', 'id', 'snippet'], dtype='object')"
      ]
     },
     "execution_count": 26,
     "metadata": {},
     "output_type": "execute_result"
    }
   ],
   "source": [
    "comments_df = pd.DataFrame(response['items'])\n",
    "comments_df.columns"
   ]
  },
  {
   "cell_type": "code",
   "execution_count": 70,
   "metadata": {},
   "outputs": [
    {
     "data": {
      "text/html": [
       "<div>\n",
       "<style scoped>\n",
       "    .dataframe tbody tr th:only-of-type {\n",
       "        vertical-align: middle;\n",
       "    }\n",
       "\n",
       "    .dataframe tbody tr th {\n",
       "        vertical-align: top;\n",
       "    }\n",
       "\n",
       "    .dataframe thead th {\n",
       "        text-align: right;\n",
       "    }\n",
       "</style>\n",
       "<table border=\"1\" class=\"dataframe\">\n",
       "  <thead>\n",
       "    <tr style=\"text-align: right;\">\n",
       "      <th></th>\n",
       "      <th>kind</th>\n",
       "      <th>etag</th>\n",
       "      <th>id</th>\n",
       "      <th>snippet_videoId</th>\n",
       "      <th>snippet_topLevelComment_kind</th>\n",
       "      <th>snippet_topLevelComment_etag</th>\n",
       "      <th>snippet_topLevelComment_id</th>\n",
       "      <th>snippet_topLevelComment_snippet_videoId</th>\n",
       "      <th>snippet_topLevelComment_snippet_textDisplay</th>\n",
       "      <th>snippet_topLevelComment_snippet_textOriginal</th>\n",
       "      <th>...</th>\n",
       "      <th>snippet_topLevelComment_snippet_authorChannelUrl</th>\n",
       "      <th>snippet_topLevelComment_snippet_authorChannelId_value</th>\n",
       "      <th>snippet_topLevelComment_snippet_canRate</th>\n",
       "      <th>snippet_topLevelComment_snippet_viewerRating</th>\n",
       "      <th>snippet_topLevelComment_snippet_likeCount</th>\n",
       "      <th>snippet_topLevelComment_snippet_publishedAt</th>\n",
       "      <th>snippet_topLevelComment_snippet_updatedAt</th>\n",
       "      <th>snippet_canReply</th>\n",
       "      <th>snippet_totalReplyCount</th>\n",
       "      <th>snippet_isPublic</th>\n",
       "    </tr>\n",
       "  </thead>\n",
       "  <tbody>\n",
       "    <tr>\n",
       "      <th>0</th>\n",
       "      <td>youtube#commentThread</td>\n",
       "      <td>2Dvy2SZ1H48EsQMjYLaZj_muLHo</td>\n",
       "      <td>UgyERxc29gGurJJq0AB4AaABAg</td>\n",
       "      <td>1PMECYArtuk</td>\n",
       "      <td>youtube#comment</td>\n",
       "      <td>9GQ07Ii6Igo3CG4_f7c6RA0FU8c</td>\n",
       "      <td>UgyERxc29gGurJJq0AB4AaABAg</td>\n",
       "      <td>1PMECYArtuk</td>\n",
       "      <td>You can make a video about gait recognition bi...</td>\n",
       "      <td>You can make a video about gait recognition bi...</td>\n",
       "      <td>...</td>\n",
       "      <td>http://www.youtube.com/channel/UCUbbHQCSgNv8IM...</td>\n",
       "      <td>UCUbbHQCSgNv8IM_C6bnIzaA</td>\n",
       "      <td>True</td>\n",
       "      <td>none</td>\n",
       "      <td>1</td>\n",
       "      <td>2022-03-01T11:05:56Z</td>\n",
       "      <td>2022-03-01T11:05:56Z</td>\n",
       "      <td>True</td>\n",
       "      <td>0</td>\n",
       "      <td>True</td>\n",
       "    </tr>\n",
       "    <tr>\n",
       "      <th>1</th>\n",
       "      <td>youtube#commentThread</td>\n",
       "      <td>njI_EmVzzGBFbEiWgpPkYhXTaEw</td>\n",
       "      <td>UgxqmaUq6NcRrKNyGe14AaABAg</td>\n",
       "      <td>1PMECYArtuk</td>\n",
       "      <td>youtube#comment</td>\n",
       "      <td>PkYB4eH635TPnljuDuTN4iti5R8</td>\n",
       "      <td>UgxqmaUq6NcRrKNyGe14AaABAg</td>\n",
       "      <td>1PMECYArtuk</td>\n",
       "      <td>Is there anyplace I can find the code for this...</td>\n",
       "      <td>Is there anyplace I can find the code for this...</td>\n",
       "      <td>...</td>\n",
       "      <td>http://www.youtube.com/channel/UCmws8U97fSGXsa...</td>\n",
       "      <td>UCmws8U97fSGXsaHgoEU4ZkA</td>\n",
       "      <td>True</td>\n",
       "      <td>none</td>\n",
       "      <td>0</td>\n",
       "      <td>2022-01-10T17:45:53Z</td>\n",
       "      <td>2022-01-10T17:45:53Z</td>\n",
       "      <td>True</td>\n",
       "      <td>0</td>\n",
       "      <td>True</td>\n",
       "    </tr>\n",
       "    <tr>\n",
       "      <th>2</th>\n",
       "      <td>youtube#commentThread</td>\n",
       "      <td>6tWd8s1DlGY_E-97o36OsTI4PF0</td>\n",
       "      <td>Ugy2m1RAE4avb2f6fvZ4AaABAg</td>\n",
       "      <td>1PMECYArtuk</td>\n",
       "      <td>youtube#comment</td>\n",
       "      <td>3ZktibXvC12zmpxVB4AE_NAq2Q8</td>\n",
       "      <td>Ugy2m1RAE4avb2f6fvZ4AaABAg</td>\n",
       "      <td>1PMECYArtuk</td>\n",
       "      <td>I recognize a cool browser when I see it. What...</td>\n",
       "      <td>I recognize a cool browser when I see it. What...</td>\n",
       "      <td>...</td>\n",
       "      <td>http://www.youtube.com/channel/UC1BVNit-Il6Nxb...</td>\n",
       "      <td>UC1BVNit-Il6NxbhT5qAxcYg</td>\n",
       "      <td>True</td>\n",
       "      <td>none</td>\n",
       "      <td>0</td>\n",
       "      <td>2021-12-22T04:24:14Z</td>\n",
       "      <td>2021-12-22T04:24:14Z</td>\n",
       "      <td>True</td>\n",
       "      <td>1</td>\n",
       "      <td>True</td>\n",
       "    </tr>\n",
       "    <tr>\n",
       "      <th>3</th>\n",
       "      <td>youtube#commentThread</td>\n",
       "      <td>fo5Sq4BiLL04c5eRFPornf3-oZE</td>\n",
       "      <td>UgyR8q3dnNCGQf_2Y154AaABAg</td>\n",
       "      <td>1PMECYArtuk</td>\n",
       "      <td>youtube#comment</td>\n",
       "      <td>jFl3rxGyyrTQeE0UBYiBYzvoaAI</td>\n",
       "      <td>UgyR8q3dnNCGQf_2Y154AaABAg</td>\n",
       "      <td>1PMECYArtuk</td>\n",
       "      <td>This is awesome! (Inspired awe, not just cool)...</td>\n",
       "      <td>This is awesome! (Inspired awe, not just cool)...</td>\n",
       "      <td>...</td>\n",
       "      <td>http://www.youtube.com/channel/UCbjR7zCJLj4sH_...</td>\n",
       "      <td>UCbjR7zCJLj4sH_hoWM-Ps6A</td>\n",
       "      <td>True</td>\n",
       "      <td>none</td>\n",
       "      <td>0</td>\n",
       "      <td>2021-11-25T19:37:38Z</td>\n",
       "      <td>2021-11-25T19:37:38Z</td>\n",
       "      <td>True</td>\n",
       "      <td>0</td>\n",
       "      <td>True</td>\n",
       "    </tr>\n",
       "    <tr>\n",
       "      <th>4</th>\n",
       "      <td>youtube#commentThread</td>\n",
       "      <td>PvnBdilDsKKCGp_2bnsBjzWiJRE</td>\n",
       "      <td>UgxP-GWvLrWhRrZcxZx4AaABAg</td>\n",
       "      <td>1PMECYArtuk</td>\n",
       "      <td>youtube#comment</td>\n",
       "      <td>0Ogl9ZNgcEvWNO-7k6AnSvRTDiI</td>\n",
       "      <td>UgxP-GWvLrWhRrZcxZx4AaABAg</td>\n",
       "      <td>1PMECYArtuk</td>\n",
       "      <td>it does parse docstrings as well, right? Perha...</td>\n",
       "      <td>it does parse docstrings as well, right? Perha...</td>\n",
       "      <td>...</td>\n",
       "      <td>http://www.youtube.com/channel/UCL2tx0Ke5Pvhaf...</td>\n",
       "      <td>UCL2tx0Ke5PvhafL_hU32VUg</td>\n",
       "      <td>True</td>\n",
       "      <td>none</td>\n",
       "      <td>0</td>\n",
       "      <td>2021-09-06T13:50:23Z</td>\n",
       "      <td>2021-09-06T13:52:33Z</td>\n",
       "      <td>True</td>\n",
       "      <td>0</td>\n",
       "      <td>True</td>\n",
       "    </tr>\n",
       "  </tbody>\n",
       "</table>\n",
       "<p>5 rows × 22 columns</p>\n",
       "</div>"
      ],
      "text/plain": [
       "                    kind                         etag  \\\n",
       "0  youtube#commentThread  2Dvy2SZ1H48EsQMjYLaZj_muLHo   \n",
       "1  youtube#commentThread  njI_EmVzzGBFbEiWgpPkYhXTaEw   \n",
       "2  youtube#commentThread  6tWd8s1DlGY_E-97o36OsTI4PF0   \n",
       "3  youtube#commentThread  fo5Sq4BiLL04c5eRFPornf3-oZE   \n",
       "4  youtube#commentThread  PvnBdilDsKKCGp_2bnsBjzWiJRE   \n",
       "\n",
       "                           id snippet_videoId snippet_topLevelComment_kind  \\\n",
       "0  UgyERxc29gGurJJq0AB4AaABAg     1PMECYArtuk              youtube#comment   \n",
       "1  UgxqmaUq6NcRrKNyGe14AaABAg     1PMECYArtuk              youtube#comment   \n",
       "2  Ugy2m1RAE4avb2f6fvZ4AaABAg     1PMECYArtuk              youtube#comment   \n",
       "3  UgyR8q3dnNCGQf_2Y154AaABAg     1PMECYArtuk              youtube#comment   \n",
       "4  UgxP-GWvLrWhRrZcxZx4AaABAg     1PMECYArtuk              youtube#comment   \n",
       "\n",
       "  snippet_topLevelComment_etag  snippet_topLevelComment_id  \\\n",
       "0  9GQ07Ii6Igo3CG4_f7c6RA0FU8c  UgyERxc29gGurJJq0AB4AaABAg   \n",
       "1  PkYB4eH635TPnljuDuTN4iti5R8  UgxqmaUq6NcRrKNyGe14AaABAg   \n",
       "2  3ZktibXvC12zmpxVB4AE_NAq2Q8  Ugy2m1RAE4avb2f6fvZ4AaABAg   \n",
       "3  jFl3rxGyyrTQeE0UBYiBYzvoaAI  UgyR8q3dnNCGQf_2Y154AaABAg   \n",
       "4  0Ogl9ZNgcEvWNO-7k6AnSvRTDiI  UgxP-GWvLrWhRrZcxZx4AaABAg   \n",
       "\n",
       "  snippet_topLevelComment_snippet_videoId  \\\n",
       "0                             1PMECYArtuk   \n",
       "1                             1PMECYArtuk   \n",
       "2                             1PMECYArtuk   \n",
       "3                             1PMECYArtuk   \n",
       "4                             1PMECYArtuk   \n",
       "\n",
       "         snippet_topLevelComment_snippet_textDisplay  \\\n",
       "0  You can make a video about gait recognition bi...   \n",
       "1  Is there anyplace I can find the code for this...   \n",
       "2  I recognize a cool browser when I see it. What...   \n",
       "3  This is awesome! (Inspired awe, not just cool)...   \n",
       "4  it does parse docstrings as well, right? Perha...   \n",
       "\n",
       "        snippet_topLevelComment_snippet_textOriginal  ...  \\\n",
       "0  You can make a video about gait recognition bi...  ...   \n",
       "1  Is there anyplace I can find the code for this...  ...   \n",
       "2  I recognize a cool browser when I see it. What...  ...   \n",
       "3  This is awesome! (Inspired awe, not just cool)...  ...   \n",
       "4  it does parse docstrings as well, right? Perha...  ...   \n",
       "\n",
       "    snippet_topLevelComment_snippet_authorChannelUrl  \\\n",
       "0  http://www.youtube.com/channel/UCUbbHQCSgNv8IM...   \n",
       "1  http://www.youtube.com/channel/UCmws8U97fSGXsa...   \n",
       "2  http://www.youtube.com/channel/UC1BVNit-Il6Nxb...   \n",
       "3  http://www.youtube.com/channel/UCbjR7zCJLj4sH_...   \n",
       "4  http://www.youtube.com/channel/UCL2tx0Ke5Pvhaf...   \n",
       "\n",
       "  snippet_topLevelComment_snippet_authorChannelId_value  \\\n",
       "0                           UCUbbHQCSgNv8IM_C6bnIzaA      \n",
       "1                           UCmws8U97fSGXsaHgoEU4ZkA      \n",
       "2                           UC1BVNit-Il6NxbhT5qAxcYg      \n",
       "3                           UCbjR7zCJLj4sH_hoWM-Ps6A      \n",
       "4                           UCL2tx0Ke5PvhafL_hU32VUg      \n",
       "\n",
       "  snippet_topLevelComment_snippet_canRate  \\\n",
       "0                                    True   \n",
       "1                                    True   \n",
       "2                                    True   \n",
       "3                                    True   \n",
       "4                                    True   \n",
       "\n",
       "  snippet_topLevelComment_snippet_viewerRating  \\\n",
       "0                                         none   \n",
       "1                                         none   \n",
       "2                                         none   \n",
       "3                                         none   \n",
       "4                                         none   \n",
       "\n",
       "   snippet_topLevelComment_snippet_likeCount  \\\n",
       "0                                          1   \n",
       "1                                          0   \n",
       "2                                          0   \n",
       "3                                          0   \n",
       "4                                          0   \n",
       "\n",
       "  snippet_topLevelComment_snippet_publishedAt  \\\n",
       "0                        2022-03-01T11:05:56Z   \n",
       "1                        2022-01-10T17:45:53Z   \n",
       "2                        2021-12-22T04:24:14Z   \n",
       "3                        2021-11-25T19:37:38Z   \n",
       "4                        2021-09-06T13:50:23Z   \n",
       "\n",
       "   snippet_topLevelComment_snippet_updatedAt snippet_canReply  \\\n",
       "0                       2022-03-01T11:05:56Z             True   \n",
       "1                       2022-01-10T17:45:53Z             True   \n",
       "2                       2021-12-22T04:24:14Z             True   \n",
       "3                       2021-11-25T19:37:38Z             True   \n",
       "4                       2021-09-06T13:52:33Z             True   \n",
       "\n",
       "  snippet_totalReplyCount  snippet_isPublic  \n",
       "0                       0              True  \n",
       "1                       0              True  \n",
       "2                       1              True  \n",
       "3                       0              True  \n",
       "4                       0              True  \n",
       "\n",
       "[5 rows x 22 columns]"
      ]
     },
     "execution_count": 70,
     "metadata": {},
     "output_type": "execute_result"
    }
   ],
   "source": [
    "comments_df = pd.json_normalize(response['items'],sep='_')\n",
    "comments_df.head()"
   ]
  },
  {
   "cell_type": "code",
   "execution_count": 33,
   "metadata": {},
   "outputs": [
    {
     "data": {
      "text/plain": [
       "Index(['kind', 'etag', 'id', 'snippet_videoId', 'snippet_topLevelComment_kind',\n",
       "       'snippet_topLevelComment_etag', 'snippet_topLevelComment_id',\n",
       "       'snippet_topLevelComment_snippet_videoId',\n",
       "       'snippet_topLevelComment_snippet_textDisplay',\n",
       "       'snippet_topLevelComment_snippet_textOriginal',\n",
       "       'snippet_topLevelComment_snippet_authorDisplayName',\n",
       "       'snippet_topLevelComment_snippet_authorProfileImageUrl',\n",
       "       'snippet_topLevelComment_snippet_authorChannelUrl',\n",
       "       'snippet_topLevelComment_snippet_authorChannelId_value',\n",
       "       'snippet_topLevelComment_snippet_canRate',\n",
       "       'snippet_topLevelComment_snippet_viewerRating',\n",
       "       'snippet_topLevelComment_snippet_likeCount',\n",
       "       'snippet_topLevelComment_snippet_publishedAt',\n",
       "       'snippet_topLevelComment_snippet_updatedAt', 'snippet_canReply',\n",
       "       'snippet_totalReplyCount', 'snippet_isPublic'],\n",
       "      dtype='object')"
      ]
     },
     "execution_count": 33,
     "metadata": {},
     "output_type": "execute_result"
    }
   ],
   "source": [
    "comments_df.columns"
   ]
  },
  {
   "cell_type": "code",
   "execution_count": 64,
   "metadata": {},
   "outputs": [],
   "source": [
    "comments_df.drop(['kind','etag','id','snippet_videoId', 'snippet_topLevelComment_kind',\n",
    "       'snippet_topLevelComment_etag','snippet_topLevelComment_snippet_authorDisplayName',\n",
    "       'snippet_topLevelComment_snippet_authorProfileImageUrl',\n",
    "       'snippet_topLevelComment_snippet_authorChannelUrl',\n",
    "       'snippet_topLevelComment_snippet_authorChannelId_value',\n",
    "       'snippet_topLevelComment_snippet_canRate',],axis=1,inplace= True)"
   ]
  },
  {
   "cell_type": "code",
   "execution_count": 72,
   "metadata": {},
   "outputs": [
    {
     "data": {
      "text/html": [
       "<div>\n",
       "<style scoped>\n",
       "    .dataframe tbody tr th:only-of-type {\n",
       "        vertical-align: middle;\n",
       "    }\n",
       "\n",
       "    .dataframe tbody tr th {\n",
       "        vertical-align: top;\n",
       "    }\n",
       "\n",
       "    .dataframe thead th {\n",
       "        text-align: right;\n",
       "    }\n",
       "</style>\n",
       "<table border=\"1\" class=\"dataframe\">\n",
       "  <thead>\n",
       "    <tr style=\"text-align: right;\">\n",
       "      <th></th>\n",
       "      <th>snippet_topLevelComment_id</th>\n",
       "      <th>snippet_topLevelComment_snippet_videoId</th>\n",
       "      <th>snippet_topLevelComment_snippet_textDisplay</th>\n",
       "      <th>snippet_topLevelComment_snippet_textOriginal</th>\n",
       "      <th>snippet_topLevelComment_snippet_viewerRating</th>\n",
       "      <th>snippet_topLevelComment_snippet_likeCount</th>\n",
       "      <th>snippet_topLevelComment_snippet_publishedAt</th>\n",
       "      <th>snippet_topLevelComment_snippet_updatedAt</th>\n",
       "      <th>snippet_canReply</th>\n",
       "      <th>snippet_totalReplyCount</th>\n",
       "      <th>snippet_isPublic</th>\n",
       "    </tr>\n",
       "  </thead>\n",
       "  <tbody>\n",
       "    <tr>\n",
       "      <th>0</th>\n",
       "      <td>UgyERxc29gGurJJq0AB4AaABAg</td>\n",
       "      <td>1PMECYArtuk</td>\n",
       "      <td>You can make a video about gait recognition bi...</td>\n",
       "      <td>You can make a video about gait recognition bi...</td>\n",
       "      <td>none</td>\n",
       "      <td>1</td>\n",
       "      <td>2022-03-01T11:05:56Z</td>\n",
       "      <td>2022-03-01T11:05:56Z</td>\n",
       "      <td>True</td>\n",
       "      <td>0</td>\n",
       "      <td>True</td>\n",
       "    </tr>\n",
       "    <tr>\n",
       "      <th>1</th>\n",
       "      <td>UgxqmaUq6NcRrKNyGe14AaABAg</td>\n",
       "      <td>1PMECYArtuk</td>\n",
       "      <td>Is there anyplace I can find the code for this...</td>\n",
       "      <td>Is there anyplace I can find the code for this...</td>\n",
       "      <td>none</td>\n",
       "      <td>0</td>\n",
       "      <td>2022-01-10T17:45:53Z</td>\n",
       "      <td>2022-01-10T17:45:53Z</td>\n",
       "      <td>True</td>\n",
       "      <td>0</td>\n",
       "      <td>True</td>\n",
       "    </tr>\n",
       "    <tr>\n",
       "      <th>2</th>\n",
       "      <td>Ugy2m1RAE4avb2f6fvZ4AaABAg</td>\n",
       "      <td>1PMECYArtuk</td>\n",
       "      <td>I recognize a cool browser when I see it. What...</td>\n",
       "      <td>I recognize a cool browser when I see it. What...</td>\n",
       "      <td>none</td>\n",
       "      <td>0</td>\n",
       "      <td>2021-12-22T04:24:14Z</td>\n",
       "      <td>2021-12-22T04:24:14Z</td>\n",
       "      <td>True</td>\n",
       "      <td>1</td>\n",
       "      <td>True</td>\n",
       "    </tr>\n",
       "    <tr>\n",
       "      <th>3</th>\n",
       "      <td>UgyR8q3dnNCGQf_2Y154AaABAg</td>\n",
       "      <td>1PMECYArtuk</td>\n",
       "      <td>This is awesome! (Inspired awe, not just cool)...</td>\n",
       "      <td>This is awesome! (Inspired awe, not just cool)...</td>\n",
       "      <td>none</td>\n",
       "      <td>0</td>\n",
       "      <td>2021-11-25T19:37:38Z</td>\n",
       "      <td>2021-11-25T19:37:38Z</td>\n",
       "      <td>True</td>\n",
       "      <td>0</td>\n",
       "      <td>True</td>\n",
       "    </tr>\n",
       "    <tr>\n",
       "      <th>4</th>\n",
       "      <td>UgxP-GWvLrWhRrZcxZx4AaABAg</td>\n",
       "      <td>1PMECYArtuk</td>\n",
       "      <td>it does parse docstrings as well, right? Perha...</td>\n",
       "      <td>it does parse docstrings as well, right? Perha...</td>\n",
       "      <td>none</td>\n",
       "      <td>0</td>\n",
       "      <td>2021-09-06T13:50:23Z</td>\n",
       "      <td>2021-09-06T13:52:33Z</td>\n",
       "      <td>True</td>\n",
       "      <td>0</td>\n",
       "      <td>True</td>\n",
       "    </tr>\n",
       "  </tbody>\n",
       "</table>\n",
       "</div>"
      ],
      "text/plain": [
       "   snippet_topLevelComment_id snippet_topLevelComment_snippet_videoId  \\\n",
       "0  UgyERxc29gGurJJq0AB4AaABAg                             1PMECYArtuk   \n",
       "1  UgxqmaUq6NcRrKNyGe14AaABAg                             1PMECYArtuk   \n",
       "2  Ugy2m1RAE4avb2f6fvZ4AaABAg                             1PMECYArtuk   \n",
       "3  UgyR8q3dnNCGQf_2Y154AaABAg                             1PMECYArtuk   \n",
       "4  UgxP-GWvLrWhRrZcxZx4AaABAg                             1PMECYArtuk   \n",
       "\n",
       "         snippet_topLevelComment_snippet_textDisplay  \\\n",
       "0  You can make a video about gait recognition bi...   \n",
       "1  Is there anyplace I can find the code for this...   \n",
       "2  I recognize a cool browser when I see it. What...   \n",
       "3  This is awesome! (Inspired awe, not just cool)...   \n",
       "4  it does parse docstrings as well, right? Perha...   \n",
       "\n",
       "        snippet_topLevelComment_snippet_textOriginal  \\\n",
       "0  You can make a video about gait recognition bi...   \n",
       "1  Is there anyplace I can find the code for this...   \n",
       "2  I recognize a cool browser when I see it. What...   \n",
       "3  This is awesome! (Inspired awe, not just cool)...   \n",
       "4  it does parse docstrings as well, right? Perha...   \n",
       "\n",
       "  snippet_topLevelComment_snippet_viewerRating  \\\n",
       "0                                         none   \n",
       "1                                         none   \n",
       "2                                         none   \n",
       "3                                         none   \n",
       "4                                         none   \n",
       "\n",
       "   snippet_topLevelComment_snippet_likeCount  \\\n",
       "0                                          1   \n",
       "1                                          0   \n",
       "2                                          0   \n",
       "3                                          0   \n",
       "4                                          0   \n",
       "\n",
       "  snippet_topLevelComment_snippet_publishedAt  \\\n",
       "0                        2022-03-01T11:05:56Z   \n",
       "1                        2022-01-10T17:45:53Z   \n",
       "2                        2021-12-22T04:24:14Z   \n",
       "3                        2021-11-25T19:37:38Z   \n",
       "4                        2021-09-06T13:50:23Z   \n",
       "\n",
       "  snippet_topLevelComment_snippet_updatedAt  snippet_canReply  \\\n",
       "0                      2022-03-01T11:05:56Z              True   \n",
       "1                      2022-01-10T17:45:53Z              True   \n",
       "2                      2021-12-22T04:24:14Z              True   \n",
       "3                      2021-11-25T19:37:38Z              True   \n",
       "4                      2021-09-06T13:52:33Z              True   \n",
       "\n",
       "   snippet_totalReplyCount  snippet_isPublic  \n",
       "0                        0              True  \n",
       "1                        0              True  \n",
       "2                        1              True  \n",
       "3                        0              True  \n",
       "4                        0              True  "
      ]
     },
     "execution_count": 72,
     "metadata": {},
     "output_type": "execute_result"
    }
   ],
   "source": [
    "comments_df.head()"
   ]
  },
  {
   "cell_type": "code",
   "execution_count": 71,
   "metadata": {},
   "outputs": [],
   "source": [
    " comments_df=comments_df[['snippet_topLevelComment_id', 'snippet_topLevelComment_snippet_videoId',\n",
    "       'snippet_topLevelComment_snippet_textDisplay',\n",
    "       'snippet_topLevelComment_snippet_textOriginal',\n",
    "       'snippet_topLevelComment_snippet_viewerRating',\n",
    "       'snippet_topLevelComment_snippet_likeCount',\n",
    "       'snippet_topLevelComment_snippet_publishedAt',\n",
    "       'snippet_topLevelComment_snippet_updatedAt', 'snippet_canReply',\n",
    "       'snippet_totalReplyCount', 'snippet_isPublic']]"
   ]
  },
  {
   "cell_type": "code",
   "execution_count": 36,
   "metadata": {},
   "outputs": [
    {
     "data": {
      "text/html": [
       "<div>\n",
       "<style scoped>\n",
       "    .dataframe tbody tr th:only-of-type {\n",
       "        vertical-align: middle;\n",
       "    }\n",
       "\n",
       "    .dataframe tbody tr th {\n",
       "        vertical-align: top;\n",
       "    }\n",
       "\n",
       "    .dataframe thead th {\n",
       "        text-align: right;\n",
       "    }\n",
       "</style>\n",
       "<table border=\"1\" class=\"dataframe\">\n",
       "  <thead>\n",
       "    <tr style=\"text-align: right;\">\n",
       "      <th></th>\n",
       "      <th>Unnamed: 0</th>\n",
       "      <th>videoId</th>\n",
       "      <th>videoPublishedAt</th>\n",
       "      <th>playlist_id</th>\n",
       "    </tr>\n",
       "  </thead>\n",
       "  <tbody>\n",
       "    <tr>\n",
       "      <th>0</th>\n",
       "      <td>0</td>\n",
       "      <td>Lbfe3-v7yE0</td>\n",
       "      <td>2019-03-11T14:22:40Z</td>\n",
       "      <td>PLQVvvaa0QuDfK-Zv2FS29XfQ1CHJbcPpP</td>\n",
       "    </tr>\n",
       "    <tr>\n",
       "      <th>1</th>\n",
       "      <td>1</td>\n",
       "      <td>8A4dqoGL62E</td>\n",
       "      <td>2019-03-12T17:39:40Z</td>\n",
       "      <td>PLQVvvaa0QuDfK-Zv2FS29XfQ1CHJbcPpP</td>\n",
       "    </tr>\n",
       "    <tr>\n",
       "      <th>2</th>\n",
       "      <td>2</td>\n",
       "      <td>WM1z8soch0Q</td>\n",
       "      <td>2019-03-13T13:52:35Z</td>\n",
       "      <td>PLQVvvaa0QuDfK-Zv2FS29XfQ1CHJbcPpP</td>\n",
       "    </tr>\n",
       "    <tr>\n",
       "      <th>3</th>\n",
       "      <td>3</td>\n",
       "      <td>CV7_stUWvBQ</td>\n",
       "      <td>2019-04-02T14:00:19Z</td>\n",
       "      <td>PLQVvvaa0QuDfK-Zv2FS29XfQ1CHJbcPpP</td>\n",
       "    </tr>\n",
       "    <tr>\n",
       "      <th>4</th>\n",
       "      <td>4</td>\n",
       "      <td>ytu2yV3Gn1I</td>\n",
       "      <td>2019-04-03T14:27:28Z</td>\n",
       "      <td>PLQVvvaa0QuDfK-Zv2FS29XfQ1CHJbcPpP</td>\n",
       "    </tr>\n",
       "  </tbody>\n",
       "</table>\n",
       "</div>"
      ],
      "text/plain": [
       "   Unnamed: 0      videoId      videoPublishedAt  \\\n",
       "0           0  Lbfe3-v7yE0  2019-03-11T14:22:40Z   \n",
       "1           1  8A4dqoGL62E  2019-03-12T17:39:40Z   \n",
       "2           2  WM1z8soch0Q  2019-03-13T13:52:35Z   \n",
       "3           3  CV7_stUWvBQ  2019-04-02T14:00:19Z   \n",
       "4           4  ytu2yV3Gn1I  2019-04-03T14:27:28Z   \n",
       "\n",
       "                          playlist_id  \n",
       "0  PLQVvvaa0QuDfK-Zv2FS29XfQ1CHJbcPpP  \n",
       "1  PLQVvvaa0QuDfK-Zv2FS29XfQ1CHJbcPpP  \n",
       "2  PLQVvvaa0QuDfK-Zv2FS29XfQ1CHJbcPpP  \n",
       "3  PLQVvvaa0QuDfK-Zv2FS29XfQ1CHJbcPpP  \n",
       "4  PLQVvvaa0QuDfK-Zv2FS29XfQ1CHJbcPpP  "
      ]
     },
     "execution_count": 36,
     "metadata": {},
     "output_type": "execute_result"
    }
   ],
   "source": [
    "videos_df = pd.read_csv('Sendex_videos.csv')\n",
    "videos_df.head()"
   ]
  },
  {
   "cell_type": "code",
   "execution_count": 37,
   "metadata": {},
   "outputs": [
    {
     "data": {
      "text/plain": [
       "(461, 4)"
      ]
     },
     "execution_count": 37,
     "metadata": {},
     "output_type": "execute_result"
    }
   ],
   "source": [
    "videos_df.shape"
   ]
  },
  {
   "cell_type": "code",
   "execution_count": 39,
   "metadata": {},
   "outputs": [
    {
     "data": {
      "text/plain": [
       "array(['Lbfe3-v7yE0', '8A4dqoGL62E', 'WM1z8soch0Q', 'CV7_stUWvBQ',\n",
       "       'ytu2yV3Gn1I'], dtype=object)"
      ]
     },
     "execution_count": 39,
     "metadata": {},
     "output_type": "execute_result"
    }
   ],
   "source": [
    "videos_df['videoId'].values[:5]"
   ]
  },
  {
   "cell_type": "code",
   "execution_count": 47,
   "metadata": {},
   "outputs": [
    {
     "name": "stderr",
     "output_type": "stream",
     "text": [
      "100%|██████████| 461/461 [19:17<00:00,  2.51s/it]\n"
     ]
    }
   ],
   "source": [
    "extracted_comments_df = []\n",
    "for video_id in tqdm(videos_df['videoId'].values):\n",
    "    time.sleep(2)\n",
    "    extracted_comments_df.append(extract_comments_from_video(video_id))"
   ]
  },
  {
   "cell_type": "code",
   "execution_count": 51,
   "metadata": {},
   "outputs": [
    {
     "name": "stdout",
     "output_type": "stream",
     "text": [
      "length of df 461\n"
     ]
    }
   ],
   "source": [
    "print(\"length of df\", len(extracted_comments_df))\n",
    "result_comment_df = pd.concat(extracted_comments_df)\n",
    "result_comment_df.to_csv('Sendex_comments.csv')"
   ]
  },
  {
   "cell_type": "code",
   "execution_count": 74,
   "metadata": {},
   "outputs": [
    {
     "name": "stderr",
     "output_type": "stream",
     "text": [
      "\r",
      "  0%|          | 0/10 [00:00<?, ?it/s]"
     ]
    },
    {
     "name": "stdout",
     "output_type": "stream",
     "text": [
      "Freecodecamp UC8butISFwT-Wl7EV0hUK0BQ\n"
     ]
    },
    {
     "name": "stderr",
     "output_type": "stream",
     "text": [
      "\n",
      "  0%|          | 0/690 [00:00<?, ?it/s]\u001b[A\n",
      "  7%|▋         | 50/690 [00:17<03:39,  2.91it/s]\u001b[A\n",
      "  7%|▋         | 50/690 [00:29<03:39,  2.91it/s]\u001b[A\n",
      " 12%|█▏        | 85/690 [00:30<03:35,  2.81it/s]\u001b[A\n",
      " 12%|█▏        | 86/690 [00:30<03:35,  2.80it/s]\u001b[A\n",
      " 13%|█▎        | 87/690 [00:30<03:34,  2.81it/s]\u001b[A\n",
      " 13%|█▎        | 88/690 [00:31<03:36,  2.78it/s]\u001b[A\n",
      " 13%|█▎        | 89/690 [00:31<03:38,  2.75it/s]\u001b[A\n",
      " 13%|█▎        | 90/690 [00:32<03:42,  2.70it/s]\u001b[A\n",
      " 13%|█▎        | 91/690 [00:32<03:48,  2.62it/s]\u001b[A\n",
      " 13%|█▎        | 92/690 [00:33<03:53,  2.56it/s]\u001b[A\n",
      " 13%|█▎        | 93/690 [00:33<03:56,  2.52it/s]\u001b[A\n",
      " 14%|█▎        | 94/690 [00:33<04:00,  2.48it/s]\u001b[A\n",
      " 14%|█▍        | 95/690 [00:34<03:59,  2.48it/s]\u001b[A\n",
      " 14%|█▍        | 96/690 [00:34<04:03,  2.44it/s]\u001b[A\n",
      " 14%|█▍        | 97/690 [00:35<03:54,  2.53it/s]\u001b[A\n",
      " 14%|█▍        | 98/690 [00:35<03:52,  2.54it/s]\u001b[A\n",
      " 14%|█▍        | 99/690 [00:35<04:01,  2.45it/s]\u001b[A\n",
      " 14%|█▍        | 100/690 [01:36<2:45:48, 16.86s/it]\u001b[A\n",
      " 15%|█▍        | 101/690 [01:36<1:59:50, 12.21s/it]\u001b[A\n",
      " 15%|█▍        | 102/690 [01:37<1:26:43,  8.85s/it]\u001b[A\n",
      " 15%|█▍        | 103/690 [01:37<1:02:15,  6.36s/it]\u001b[A\n",
      " 15%|█▌        | 104/690 [01:37<44:37,  4.57s/it]  \u001b[A\n",
      " 15%|█▌        | 105/690 [01:38<32:14,  3.31s/it]\u001b[A\n",
      " 15%|█▌        | 106/690 [01:38<23:50,  2.45s/it]\u001b[A\n",
      " 16%|█▌        | 107/690 [01:38<18:03,  1.86s/it]\u001b[A\n",
      " 16%|█▌        | 108/690 [01:39<13:50,  1.43s/it]\u001b[A\n",
      " 16%|█▌        | 109/690 [01:39<10:34,  1.09s/it]\u001b[A\n",
      " 16%|█▌        | 110/690 [01:40<08:39,  1.12it/s]\u001b[A\n",
      " 16%|█▌        | 111/690 [01:40<07:18,  1.32it/s]\u001b[A\n",
      " 16%|█▌        | 112/690 [01:40<06:15,  1.54it/s]\u001b[A\n",
      " 16%|█▋        | 113/690 [01:41<05:25,  1.77it/s]\u001b[A\n",
      " 17%|█▋        | 114/690 [01:41<04:36,  2.08it/s]\u001b[A\n",
      " 17%|█▋        | 115/690 [01:41<04:00,  2.40it/s]\u001b[A\n",
      " 17%|█▋        | 116/690 [01:42<03:36,  2.65it/s]\u001b[A\n",
      " 17%|█▋        | 117/690 [01:42<03:17,  2.90it/s]\u001b[A\n",
      " 17%|█▋        | 118/690 [01:42<03:05,  3.09it/s]\u001b[A\n",
      " 17%|█▋        | 119/690 [01:43<03:06,  3.06it/s]\u001b[A\n",
      " 17%|█▋        | 120/690 [01:43<03:21,  2.83it/s]\u001b[A\n",
      " 18%|█▊        | 121/690 [01:43<03:06,  3.05it/s]\u001b[A\n",
      " 18%|█▊        | 122/690 [01:44<02:56,  3.22it/s]\u001b[A\n",
      " 18%|█▊        | 123/690 [01:44<02:51,  3.31it/s]\u001b[A\n",
      " 18%|█▊        | 124/690 [01:44<03:00,  3.13it/s]\u001b[A\n",
      " 18%|█▊        | 125/690 [01:45<03:21,  2.80it/s]\u001b[A\n",
      " 18%|█▊        | 126/690 [01:45<03:34,  2.63it/s]\u001b[A\n",
      " 18%|█▊        | 127/690 [01:45<03:40,  2.55it/s]\u001b[A\n",
      " 19%|█▊        | 128/690 [01:46<03:53,  2.41it/s]\u001b[A\n",
      " 19%|█▊        | 129/690 [01:46<04:07,  2.27it/s]\u001b[A\n",
      " 19%|█▉        | 130/690 [01:47<03:45,  2.48it/s]\u001b[A\n",
      " 19%|█▉        | 131/690 [01:47<03:56,  2.37it/s]\u001b[A\n",
      " 19%|█▉        | 132/690 [01:47<03:34,  2.60it/s]\u001b[A\n",
      " 19%|█▉        | 133/690 [01:48<03:37,  2.56it/s]\u001b[A\n",
      " 19%|█▉        | 134/690 [01:48<03:35,  2.57it/s]\u001b[A\n",
      " 20%|█▉        | 135/690 [01:49<03:52,  2.39it/s]\u001b[A\n",
      " 20%|█▉        | 136/690 [01:49<03:51,  2.39it/s]\u001b[A\n",
      " 20%|█▉        | 137/690 [01:50<03:47,  2.44it/s]\u001b[A\n",
      " 20%|██        | 138/690 [01:50<03:59,  2.30it/s]\u001b[A\n",
      " 20%|██        | 139/690 [01:50<03:38,  2.52it/s]\u001b[A\n",
      " 20%|██        | 140/690 [01:51<03:43,  2.46it/s]\u001b[A\n",
      " 20%|██        | 141/690 [01:51<03:37,  2.52it/s]\u001b[A\n",
      " 21%|██        | 142/690 [01:52<03:36,  2.53it/s]\u001b[A\n",
      " 21%|██        | 143/690 [02:22<1:24:51,  9.31s/it]\u001b[A"
     ]
    },
    {
     "name": "stdout",
     "output_type": "stream",
     "text": [
      "An exception occurred\n"
     ]
    },
    {
     "name": "stderr",
     "output_type": "stream",
     "text": [
      "\n",
      " 21%|██        | 144/690 [02:22<1:00:30,  6.65s/it]\u001b[A\n",
      " 21%|██        | 145/690 [02:23<43:23,  4.78s/it]  \u001b[A\n",
      " 21%|██        | 146/690 [02:23<31:24,  3.46s/it]\u001b[A\n",
      " 21%|██▏       | 147/690 [02:23<22:54,  2.53s/it]\u001b[A\n",
      " 21%|██▏       | 148/690 [02:24<17:03,  1.89s/it]\u001b[A\n",
      " 22%|██▏       | 149/690 [02:24<12:57,  1.44s/it]\u001b[A\n",
      " 22%|██▏       | 150/690 [02:25<10:24,  1.16s/it]\u001b[A\n",
      " 22%|██▏       | 151/690 [02:25<08:15,  1.09it/s]\u001b[A\n",
      " 22%|██▏       | 152/690 [02:25<06:29,  1.38it/s]\u001b[A\n",
      " 22%|██▏       | 153/690 [02:25<05:13,  1.71it/s]\u001b[A\n",
      " 22%|██▏       | 154/690 [02:26<04:16,  2.09it/s]\u001b[A\n",
      " 22%|██▏       | 155/690 [02:26<03:37,  2.46it/s]\u001b[A\n",
      " 23%|██▎       | 156/690 [02:26<03:09,  2.82it/s]\u001b[A\n",
      " 23%|██▎       | 157/690 [02:26<02:49,  3.15it/s]\u001b[A\n",
      " 23%|██▎       | 158/690 [02:27<02:36,  3.40it/s]\u001b[A\n",
      " 23%|██▎       | 159/690 [02:27<02:28,  3.57it/s]\u001b[A\n",
      " 23%|██▎       | 160/690 [02:27<02:33,  3.46it/s]\u001b[A\n",
      " 23%|██▎       | 161/690 [02:27<02:23,  3.68it/s]\u001b[A\n",
      " 23%|██▎       | 162/690 [02:28<02:17,  3.85it/s]\u001b[A\n",
      " 24%|██▎       | 163/690 [02:28<02:17,  3.82it/s]\u001b[A\n",
      " 24%|██▍       | 164/690 [02:28<02:13,  3.93it/s]\u001b[A\n",
      " 24%|██▍       | 165/690 [02:29<02:41,  3.24it/s]\u001b[A\n",
      " 24%|██▍       | 166/690 [02:29<03:09,  2.77it/s]\u001b[A\n",
      " 24%|██▍       | 167/690 [02:30<03:21,  2.59it/s]\u001b[A\n",
      " 24%|██▍       | 168/690 [02:30<03:32,  2.45it/s]\u001b[A\n",
      " 24%|██▍       | 169/690 [02:30<03:33,  2.43it/s]\u001b[A\n",
      " 25%|██▍       | 170/690 [02:31<03:32,  2.44it/s]\u001b[A\n",
      " 25%|██▍       | 171/690 [02:31<03:29,  2.48it/s]\u001b[A\n",
      " 25%|██▍       | 172/690 [02:32<03:26,  2.51it/s]\u001b[A\n",
      " 25%|██▌       | 173/690 [02:32<03:27,  2.49it/s]\u001b[A\n",
      " 25%|██▌       | 174/690 [02:32<03:31,  2.44it/s]\u001b[A\n",
      " 25%|██▌       | 175/690 [02:33<03:35,  2.39it/s]\u001b[A\n",
      " 26%|██▌       | 176/690 [02:33<03:38,  2.35it/s]\u001b[A\n",
      " 26%|██▌       | 177/690 [02:34<03:44,  2.29it/s]\u001b[A\n",
      " 26%|██▌       | 178/690 [02:34<03:38,  2.34it/s]\u001b[A\n",
      " 26%|██▌       | 179/690 [02:35<03:27,  2.47it/s]\u001b[A\n",
      " 26%|██▌       | 180/690 [02:35<03:24,  2.49it/s]\u001b[A\n",
      " 26%|██▌       | 181/690 [02:35<03:25,  2.48it/s]\u001b[A\n",
      " 26%|██▋       | 182/690 [02:36<03:37,  2.33it/s]\u001b[A\n",
      " 27%|██▋       | 183/690 [02:36<03:20,  2.52it/s]\u001b[A\n",
      " 27%|██▋       | 184/690 [02:36<03:08,  2.68it/s]\u001b[A\n",
      " 27%|██▋       | 185/690 [02:37<02:57,  2.84it/s]\u001b[A\n",
      " 27%|██▋       | 186/690 [02:37<02:49,  2.97it/s]\u001b[A\n",
      " 27%|██▋       | 187/690 [02:37<02:42,  3.09it/s]\u001b[A\n",
      " 27%|██▋       | 188/690 [02:38<02:33,  3.27it/s]\u001b[A\n",
      " 27%|██▋       | 189/690 [02:38<02:10,  3.85it/s]\u001b[A"
     ]
    },
    {
     "name": "stdout",
     "output_type": "stream",
     "text": [
      "An exception occurred\n"
     ]
    },
    {
     "name": "stderr",
     "output_type": "stream",
     "text": [
      "\n",
      " 28%|██▊       | 190/690 [02:38<02:35,  3.23it/s]\u001b[A\n",
      " 28%|██▊       | 191/690 [02:39<02:45,  3.02it/s]\u001b[A\n",
      " 28%|██▊       | 192/690 [02:39<02:58,  2.79it/s]\u001b[A\n",
      " 28%|██▊       | 193/690 [02:39<03:19,  2.49it/s]\u001b[A\n",
      " 28%|██▊       | 194/690 [02:40<03:20,  2.48it/s]\u001b[A\n",
      " 28%|██▊       | 195/690 [02:40<03:00,  2.75it/s]\u001b[A\n",
      " 28%|██▊       | 196/690 [02:41<03:15,  2.53it/s]\u001b[A\n",
      " 29%|██▊       | 197/690 [02:41<02:50,  2.89it/s]\u001b[A\n",
      " 29%|██▊       | 198/690 [02:41<02:36,  3.14it/s]\u001b[A\n",
      " 29%|██▉       | 199/690 [02:41<02:26,  3.35it/s]\u001b[A\n",
      " 29%|██▉       | 200/690 [02:42<02:52,  2.84it/s]\u001b[A\n",
      " 29%|██▉       | 201/690 [02:42<03:09,  2.57it/s]\u001b[A\n",
      " 29%|██▉       | 202/690 [03:43<2:29:48, 18.42s/it]\u001b[A\n",
      " 29%|██▉       | 203/690 [03:43<1:45:19, 12.98s/it]\u001b[A\n",
      " 30%|██▉       | 204/690 [03:43<1:14:20,  9.18s/it]\u001b[A\n",
      " 30%|██▉       | 205/690 [03:44<52:47,  6.53s/it]  \u001b[A\n",
      " 30%|██▉       | 206/690 [03:44<37:35,  4.66s/it]\u001b[A\n",
      " 30%|███       | 207/690 [03:44<26:59,  3.35s/it]\u001b[A\n",
      " 30%|███       | 208/690 [03:45<19:55,  2.48s/it]\u001b[A\n",
      " 30%|███       | 209/690 [03:45<15:05,  1.88s/it]\u001b[A\n",
      " 30%|███       | 210/690 [03:46<11:38,  1.45s/it]\u001b[A\n",
      " 31%|███       | 211/690 [03:46<09:03,  1.14s/it]\u001b[A\n",
      " 31%|███       | 212/690 [03:47<07:14,  1.10it/s]\u001b[A\n",
      " 31%|███       | 213/690 [03:47<05:43,  1.39it/s]\u001b[A\n",
      " 31%|███       | 214/690 [03:47<04:44,  1.68it/s]\u001b[A\n",
      " 31%|███       | 215/690 [03:47<04:10,  1.90it/s]\u001b[A\n",
      " 31%|███▏      | 216/690 [03:48<03:52,  2.04it/s]\u001b[A\n",
      " 31%|███▏      | 217/690 [03:48<03:59,  1.97it/s]\u001b[A\n",
      " 32%|███▏      | 218/690 [03:49<03:54,  2.01it/s]\u001b[A\n",
      " 32%|███▏      | 219/690 [03:49<03:44,  2.10it/s]\u001b[A\n",
      " 32%|███▏      | 220/690 [03:50<03:24,  2.30it/s]\u001b[A\n",
      " 32%|███▏      | 221/690 [03:50<03:31,  2.22it/s]\u001b[A\n",
      " 32%|███▏      | 222/690 [03:51<03:23,  2.30it/s]\u001b[A\n",
      " 32%|███▏      | 223/690 [03:51<03:32,  2.20it/s]\u001b[A\n",
      " 32%|███▏      | 224/690 [03:51<03:19,  2.34it/s]\u001b[A\n",
      " 33%|███▎      | 225/690 [03:53<06:22,  1.22it/s]\u001b[A\n",
      " 33%|███▎      | 226/690 [03:54<05:20,  1.45it/s]\u001b[A\n",
      " 33%|███▎      | 227/690 [03:54<04:40,  1.65it/s]\u001b[A\n",
      " 33%|███▎      | 228/690 [03:55<05:30,  1.40it/s]\u001b[A\n",
      " 33%|███▎      | 229/690 [03:55<04:35,  1.67it/s]\u001b[A\n",
      " 33%|███▎      | 230/690 [03:56<04:03,  1.89it/s]\u001b[A\n",
      " 33%|███▎      | 231/690 [03:56<04:45,  1.61it/s]\u001b[A\n",
      " 34%|███▎      | 232/690 [03:57<04:49,  1.58it/s]\u001b[A\n",
      " 34%|███▍      | 233/690 [03:58<04:19,  1.76it/s]\u001b[A\n",
      " 34%|███▍      | 234/690 [03:58<03:37,  2.09it/s]\u001b[A\n",
      " 34%|███▍      | 235/690 [03:59<06:04,  1.25it/s]\u001b[A\n",
      " 34%|███▍      | 236/690 [04:00<04:59,  1.52it/s]\u001b[A\n",
      " 34%|███▍      | 237/690 [04:00<04:08,  1.82it/s]\u001b[A\n",
      " 34%|███▍      | 238/690 [04:01<05:04,  1.48it/s]\u001b[A\n",
      " 35%|███▍      | 239/690 [04:01<04:12,  1.79it/s]\u001b[A\n",
      " 35%|███▍      | 240/690 [04:02<04:04,  1.84it/s]\u001b[A\n",
      " 35%|███▍      | 241/690 [04:02<03:50,  1.95it/s]\u001b[A\n",
      " 35%|███▌      | 242/690 [04:03<03:38,  2.05it/s]\u001b[A\n",
      " 35%|███▌      | 243/690 [04:03<03:41,  2.02it/s]\u001b[A\n",
      " 35%|███▌      | 244/690 [04:04<03:43,  2.00it/s]\u001b[A\n",
      " 36%|███▌      | 245/690 [04:04<03:12,  2.32it/s]\u001b[A\n",
      " 36%|███▌      | 246/690 [04:05<04:30,  1.64it/s]\u001b[A\n",
      " 36%|███▌      | 247/690 [04:05<04:17,  1.72it/s]\u001b[A\n",
      " 36%|███▌      | 248/690 [04:06<04:01,  1.83it/s]\u001b[A\n",
      " 36%|███▌      | 249/690 [04:06<04:04,  1.81it/s]\u001b[A\n",
      " 36%|███▌      | 250/690 [04:07<03:46,  1.94it/s]\u001b[A\n",
      " 36%|███▋      | 251/690 [04:07<03:33,  2.05it/s]\u001b[A\n",
      " 37%|███▋      | 252/690 [04:09<05:23,  1.35it/s]\u001b[A\n",
      " 37%|███▋      | 253/690 [04:09<04:50,  1.50it/s]\u001b[A\n",
      " 37%|███▋      | 254/690 [04:10<04:19,  1.68it/s]\u001b[A\n",
      " 37%|███▋      | 255/690 [04:10<03:57,  1.83it/s]\u001b[A\n",
      " 37%|███▋      | 256/690 [04:10<03:45,  1.92it/s]\u001b[A\n",
      " 37%|███▋      | 257/690 [04:11<03:17,  2.20it/s]\u001b[A\n",
      " 37%|███▋      | 258/690 [04:11<02:59,  2.40it/s]\u001b[A\n",
      " 38%|███▊      | 259/690 [04:11<02:43,  2.64it/s]\u001b[A\n",
      " 38%|███▊      | 260/690 [04:12<02:46,  2.58it/s]\u001b[A\n",
      " 38%|███▊      | 261/690 [04:12<02:50,  2.51it/s]\u001b[A\n",
      " 38%|███▊      | 262/690 [04:13<02:58,  2.40it/s]\u001b[A\n",
      " 38%|███▊      | 263/690 [04:13<02:46,  2.56it/s]\u001b[A\n",
      " 38%|███▊      | 264/690 [04:13<02:50,  2.50it/s]\u001b[A\n",
      " 38%|███▊      | 265/690 [04:14<02:58,  2.38it/s]\u001b[A\n",
      " 39%|███▊      | 266/690 [04:14<02:57,  2.39it/s]\u001b[A\n",
      " 39%|███▊      | 267/690 [04:15<02:37,  2.68it/s]\u001b[A\n",
      " 39%|███▉      | 268/690 [04:15<02:48,  2.50it/s]\u001b[A\n",
      " 39%|███▉      | 269/690 [04:16<02:57,  2.37it/s]\u001b[A\n",
      " 39%|███▉      | 270/690 [04:16<02:50,  2.47it/s]\u001b[A\n",
      " 39%|███▉      | 271/690 [04:16<02:47,  2.51it/s]\u001b[A\n",
      " 39%|███▉      | 272/690 [04:17<02:33,  2.73it/s]\u001b[A\n",
      " 40%|███▉      | 273/690 [04:17<02:20,  2.96it/s]\u001b[A\n",
      " 40%|███▉      | 274/690 [04:17<02:44,  2.53it/s]\u001b[A\n",
      " 40%|███▉      | 275/690 [04:18<02:48,  2.46it/s]\u001b[A\n",
      " 40%|████      | 276/690 [04:18<02:53,  2.39it/s]\u001b[A\n",
      " 40%|████      | 277/690 [04:19<03:02,  2.26it/s]\u001b[A\n",
      " 40%|████      | 278/690 [04:19<02:40,  2.56it/s]\u001b[A\n",
      " 40%|████      | 279/690 [04:19<02:42,  2.52it/s]\u001b[A\n",
      " 41%|████      | 280/690 [04:20<02:47,  2.45it/s]\u001b[A\n",
      " 41%|████      | 281/690 [04:20<02:34,  2.65it/s]\u001b[A\n",
      " 41%|████      | 282/690 [04:21<02:35,  2.63it/s]\u001b[A\n",
      " 41%|████      | 283/690 [04:21<02:37,  2.58it/s]\u001b[A\n",
      " 41%|████      | 284/690 [04:21<02:31,  2.68it/s]\u001b[A\n",
      " 41%|████▏     | 285/690 [04:22<02:50,  2.37it/s]\u001b[A\n",
      " 41%|████▏     | 286/690 [04:22<02:45,  2.45it/s]\u001b[A\n",
      " 42%|████▏     | 287/690 [04:22<02:26,  2.75it/s]\u001b[A\n",
      " 42%|████▏     | 288/690 [04:23<02:41,  2.48it/s]\u001b[A\n",
      " 42%|████▏     | 289/690 [04:23<02:49,  2.36it/s]\u001b[A\n",
      " 42%|████▏     | 290/690 [04:24<02:41,  2.48it/s]\u001b[A\n",
      " 42%|████▏     | 291/690 [04:24<02:34,  2.58it/s]\u001b[A\n",
      " 42%|████▏     | 292/690 [04:24<02:22,  2.78it/s]\u001b[A\n",
      " 42%|████▏     | 293/690 [04:25<02:17,  2.90it/s]\u001b[A\n",
      " 43%|████▎     | 294/690 [04:25<02:18,  2.86it/s]\u001b[A\n",
      " 43%|████▎     | 295/690 [04:26<02:24,  2.73it/s]\u001b[A\n",
      " 43%|████▎     | 296/690 [04:26<02:11,  3.00it/s]\u001b[A\n",
      " 43%|████▎     | 297/690 [04:26<02:28,  2.64it/s]\u001b[A\n",
      " 43%|████▎     | 298/690 [04:27<02:26,  2.67it/s]\u001b[A\n",
      " 43%|████▎     | 299/690 [04:27<02:23,  2.72it/s]\u001b[A\n",
      " 43%|████▎     | 300/690 [04:27<02:24,  2.71it/s]\u001b[A\n",
      " 44%|████▎     | 301/690 [04:28<02:34,  2.52it/s]\u001b[A\n",
      " 44%|████▍     | 302/690 [05:28<1:58:52, 18.38s/it]\u001b[A\n",
      " 44%|████▍     | 303/690 [05:28<1:23:33, 12.95s/it]\u001b[A\n",
      " 44%|████▍     | 304/690 [05:29<59:07,  9.19s/it]  \u001b[A\n",
      " 44%|████▍     | 305/690 [05:29<42:10,  6.57s/it]\u001b[A\n",
      " 44%|████▍     | 306/690 [05:30<30:11,  4.72s/it]\u001b[A\n",
      " 44%|████▍     | 307/690 [05:30<21:40,  3.40s/it]\u001b[A\n",
      " 45%|████▍     | 308/690 [05:30<15:42,  2.47s/it]\u001b[A\n",
      " 45%|████▍     | 309/690 [05:31<11:51,  1.87s/it]\u001b[A\n",
      " 45%|████▍     | 310/690 [05:31<09:04,  1.43s/it]\u001b[A\n",
      " 45%|████▌     | 311/690 [05:32<07:10,  1.14s/it]\u001b[A\n",
      " 45%|████▌     | 312/690 [05:32<05:39,  1.11it/s]\u001b[A\n",
      " 45%|████▌     | 313/690 [05:33<05:03,  1.24it/s]\u001b[A\n",
      " 46%|████▌     | 314/690 [05:33<04:22,  1.43it/s]\u001b[A\n",
      " 46%|████▌     | 315/690 [05:34<04:00,  1.56it/s]\u001b[A\n",
      " 46%|████▌     | 316/690 [05:34<03:38,  1.71it/s]\u001b[A\n",
      " 46%|████▌     | 317/690 [05:34<03:30,  1.77it/s]\u001b[A\n",
      " 46%|████▌     | 318/690 [05:35<03:01,  2.05it/s]\u001b[A\n",
      " 46%|████▌     | 319/690 [05:35<02:43,  2.27it/s]\u001b[A\n",
      " 46%|████▋     | 320/690 [05:35<02:26,  2.52it/s]\u001b[A\n",
      " 47%|████▋     | 321/690 [05:36<02:14,  2.75it/s]\u001b[A\n",
      " 47%|████▋     | 322/690 [05:36<02:08,  2.87it/s]\u001b[A\n",
      " 47%|████▋     | 323/690 [05:36<01:57,  3.12it/s]\u001b[A\n",
      " 47%|████▋     | 324/690 [05:37<01:53,  3.22it/s]\u001b[A\n",
      " 47%|████▋     | 325/690 [05:37<01:54,  3.20it/s]\u001b[A\n",
      " 47%|████▋     | 326/690 [05:37<01:49,  3.33it/s]\u001b[A\n",
      " 47%|████▋     | 327/690 [05:37<01:46,  3.41it/s]\u001b[A\n",
      " 48%|████▊     | 328/690 [05:38<01:42,  3.55it/s]\u001b[A\n",
      " 48%|████▊     | 329/690 [05:38<01:50,  3.26it/s]\u001b[A\n",
      " 48%|████▊     | 330/690 [05:38<01:47,  3.36it/s]\u001b[A\n",
      " 48%|████▊     | 331/690 [05:39<01:44,  3.44it/s]\u001b[A\n",
      " 48%|████▊     | 332/690 [05:39<01:41,  3.54it/s]\u001b[A\n",
      " 48%|████▊     | 333/690 [05:39<01:48,  3.30it/s]\u001b[A\n",
      " 48%|████▊     | 334/690 [05:40<01:47,  3.32it/s]\u001b[A\n",
      " 49%|████▊     | 335/690 [05:40<01:46,  3.33it/s]\u001b[A\n",
      " 49%|████▊     | 336/690 [05:40<01:43,  3.44it/s]\u001b[A\n",
      " 49%|████▉     | 337/690 [05:40<01:40,  3.51it/s]\u001b[A\n",
      " 49%|████▉     | 338/690 [05:41<01:40,  3.49it/s]\u001b[A\n",
      " 49%|████▉     | 339/690 [05:41<02:04,  2.82it/s]\u001b[A\n",
      " 49%|████▉     | 340/690 [05:41<01:57,  2.99it/s]\u001b[A\n",
      " 49%|████▉     | 341/690 [05:42<01:55,  3.02it/s]\u001b[A\n",
      " 50%|████▉     | 342/690 [05:42<01:53,  3.08it/s]\u001b[A\n",
      " 50%|████▉     | 343/690 [05:42<01:49,  3.18it/s]\u001b[A\n"
     ]
    },
    {
     "name": "stderr",
     "output_type": "stream",
     "text": [
      " 50%|████▉     | 344/690 [05:43<01:53,  3.04it/s]\u001b[A\n",
      " 50%|█████     | 345/690 [05:43<01:45,  3.26it/s]\u001b[A\n",
      " 50%|█████     | 346/690 [05:44<02:15,  2.53it/s]\u001b[A\n",
      " 50%|█████     | 347/690 [05:44<02:08,  2.66it/s]\u001b[A\n",
      " 50%|█████     | 348/690 [05:44<02:06,  2.71it/s]\u001b[A\n",
      " 51%|█████     | 349/690 [05:45<01:56,  2.92it/s]\u001b[A\n",
      " 51%|█████     | 350/690 [05:45<02:08,  2.65it/s]\u001b[A\n",
      " 51%|█████     | 351/690 [05:45<02:13,  2.54it/s]\u001b[A\n",
      " 51%|█████     | 352/690 [05:46<02:10,  2.59it/s]\u001b[A\n",
      " 51%|█████     | 353/690 [05:46<02:04,  2.70it/s]\u001b[A\n",
      " 51%|█████▏    | 354/690 [05:46<01:55,  2.91it/s]\u001b[A\n",
      " 51%|█████▏    | 355/690 [05:47<01:48,  3.08it/s]\u001b[A\n",
      " 52%|█████▏    | 356/690 [05:47<01:54,  2.92it/s]\u001b[A\n",
      " 52%|█████▏    | 357/690 [05:47<01:56,  2.85it/s]\u001b[A\n",
      " 52%|█████▏    | 358/690 [05:48<01:59,  2.79it/s]\u001b[A\n",
      " 52%|█████▏    | 359/690 [05:48<01:49,  3.03it/s]\u001b[A\n",
      " 52%|█████▏    | 360/690 [05:49<02:04,  2.65it/s]\u001b[A\n",
      " 52%|█████▏    | 361/690 [05:49<01:58,  2.78it/s]\u001b[A\n",
      " 52%|█████▏    | 362/690 [05:49<02:00,  2.72it/s]\u001b[A\n",
      " 53%|█████▎    | 363/690 [05:50<02:06,  2.58it/s]\u001b[A\n",
      " 53%|█████▎    | 364/690 [05:50<01:55,  2.83it/s]\u001b[A\n",
      " 53%|█████▎    | 365/690 [05:50<01:49,  2.97it/s]\u001b[A\n",
      " 53%|█████▎    | 366/690 [05:51<02:09,  2.50it/s]\u001b[A\n",
      " 53%|█████▎    | 367/690 [05:51<02:01,  2.65it/s]\u001b[A\n",
      " 53%|█████▎    | 368/690 [05:52<02:04,  2.58it/s]\u001b[A\n",
      " 53%|█████▎    | 369/690 [05:52<02:10,  2.46it/s]\u001b[A\n",
      " 54%|█████▎    | 370/690 [05:52<01:56,  2.74it/s]\u001b[A\n",
      " 54%|█████▍    | 371/690 [05:53<02:01,  2.62it/s]\u001b[A\n",
      " 54%|█████▍    | 372/690 [05:53<01:53,  2.80it/s]\u001b[A\n",
      " 54%|█████▍    | 373/690 [05:53<01:49,  2.91it/s]\u001b[A\n",
      " 54%|█████▍    | 374/690 [05:54<01:42,  3.07it/s]\u001b[A\n",
      " 54%|█████▍    | 375/690 [05:54<01:44,  3.00it/s]\u001b[A\n",
      " 54%|█████▍    | 376/690 [05:54<01:49,  2.87it/s]\u001b[A\n",
      " 55%|█████▍    | 377/690 [05:55<02:04,  2.51it/s]\u001b[A\n",
      " 55%|█████▍    | 378/690 [05:55<02:02,  2.55it/s]\u001b[A\n",
      " 55%|█████▍    | 379/690 [05:56<01:57,  2.65it/s]\u001b[A\n",
      " 55%|█████▌    | 380/690 [05:56<02:01,  2.55it/s]\u001b[A\n",
      " 55%|█████▌    | 381/690 [05:56<02:02,  2.53it/s]\u001b[A\n",
      " 55%|█████▌    | 382/690 [05:57<02:02,  2.52it/s]\u001b[A\n",
      " 56%|█████▌    | 383/690 [05:57<02:03,  2.50it/s]\u001b[A\n",
      " 56%|█████▌    | 384/690 [05:58<02:04,  2.46it/s]\u001b[A\n",
      " 56%|█████▌    | 385/690 [05:58<02:03,  2.46it/s]\u001b[A\n",
      " 56%|█████▌    | 386/690 [05:59<02:12,  2.29it/s]\u001b[A\n",
      " 56%|█████▌    | 387/690 [05:59<02:12,  2.29it/s]\u001b[A\n",
      " 56%|█████▌    | 388/690 [05:59<02:10,  2.31it/s]\u001b[A\n",
      " 56%|█████▋    | 389/690 [06:00<02:11,  2.28it/s]\u001b[A\n",
      " 57%|█████▋    | 390/690 [06:00<02:09,  2.31it/s]\u001b[A\n",
      " 57%|█████▋    | 391/690 [06:01<02:10,  2.30it/s]\u001b[A\n",
      " 57%|█████▋    | 392/690 [06:01<01:54,  2.59it/s]\u001b[A\n",
      " 57%|█████▋    | 393/690 [06:01<02:01,  2.45it/s]\u001b[A\n",
      " 57%|█████▋    | 394/690 [06:02<01:51,  2.65it/s]\u001b[A\n",
      " 57%|█████▋    | 395/690 [06:02<01:50,  2.66it/s]\u001b[A\n",
      " 57%|█████▋    | 396/690 [06:03<01:54,  2.57it/s]\u001b[A\n",
      " 58%|█████▊    | 397/690 [06:03<01:56,  2.53it/s]\u001b[A\n",
      " 58%|█████▊    | 398/690 [06:03<01:58,  2.47it/s]\u001b[A\n",
      " 58%|█████▊    | 399/690 [06:04<01:47,  2.70it/s]\u001b[A\n",
      " 58%|█████▊    | 400/690 [06:04<01:36,  3.00it/s]\u001b[A\n",
      " 58%|█████▊    | 401/690 [06:04<01:41,  2.86it/s]\u001b[A\n",
      " 58%|█████▊    | 402/690 [07:05<1:28:13, 18.38s/it]\u001b[A\n",
      " 58%|█████▊    | 403/690 [07:05<1:02:08, 12.99s/it]\u001b[A\n",
      " 59%|█████▊    | 404/690 [07:06<43:50,  9.20s/it]  \u001b[A\n",
      " 59%|█████▊    | 405/690 [07:06<31:05,  6.55s/it]\u001b[A\n",
      " 59%|█████▉    | 406/690 [07:06<22:21,  4.72s/it]\u001b[A\n",
      " 59%|█████▉    | 407/690 [07:07<15:52,  3.37s/it]\u001b[A\n",
      " 59%|█████▉    | 408/690 [07:07<11:33,  2.46s/it]\u001b[A\n",
      " 59%|█████▉    | 409/690 [07:07<08:38,  1.85s/it]\u001b[A\n",
      " 59%|█████▉    | 410/690 [07:08<06:34,  1.41s/it]\u001b[A\n",
      " 60%|█████▉    | 411/690 [07:08<05:01,  1.08s/it]\u001b[A\n",
      " 60%|█████▉    | 412/690 [07:08<04:07,  1.12it/s]\u001b[A\n",
      " 60%|█████▉    | 413/690 [07:09<03:24,  1.35it/s]\u001b[A\n",
      " 60%|██████    | 414/690 [07:09<02:54,  1.58it/s]\u001b[A\n",
      " 60%|██████    | 415/690 [07:10<02:39,  1.72it/s]\u001b[A\n",
      " 60%|██████    | 416/690 [07:10<02:14,  2.04it/s]\u001b[A\n",
      " 60%|██████    | 417/690 [07:10<02:07,  2.14it/s]\u001b[A\n",
      " 61%|██████    | 418/690 [07:11<02:07,  2.13it/s]\u001b[A\n",
      " 61%|██████    | 419/690 [07:11<01:56,  2.32it/s]\u001b[A\n",
      " 61%|██████    | 420/690 [07:12<01:50,  2.44it/s]\u001b[A\n",
      " 61%|██████    | 421/690 [07:12<01:48,  2.47it/s]\u001b[A\n",
      " 61%|██████    | 422/690 [07:12<01:46,  2.52it/s]\u001b[A\n",
      " 61%|██████▏   | 423/690 [07:13<01:28,  3.02it/s]\u001b[A\n",
      " 61%|██████▏   | 424/690 [07:13<01:32,  2.89it/s]\u001b[A\n",
      " 62%|██████▏   | 425/690 [07:13<01:40,  2.65it/s]\u001b[A\n",
      " 62%|██████▏   | 426/690 [07:14<01:42,  2.57it/s]\u001b[A\n",
      " 62%|██████▏   | 427/690 [07:14<01:45,  2.49it/s]\u001b[A\n",
      " 62%|██████▏   | 428/690 [07:14<01:34,  2.77it/s]\u001b[A\n",
      " 62%|██████▏   | 429/690 [07:15<01:26,  3.02it/s]\u001b[A\n",
      " 62%|██████▏   | 430/690 [07:15<01:20,  3.23it/s]\u001b[A\n",
      " 62%|██████▏   | 431/690 [07:15<01:20,  3.22it/s]\u001b[A\n",
      " 63%|██████▎   | 432/690 [07:16<01:18,  3.27it/s]\u001b[A\n",
      " 63%|██████▎   | 433/690 [07:16<01:14,  3.44it/s]\u001b[A\n",
      " 63%|██████▎   | 434/690 [07:16<01:11,  3.56it/s]\u001b[A\n",
      " 63%|██████▎   | 435/690 [07:16<01:03,  3.99it/s]\u001b[A\n",
      " 63%|██████▎   | 436/690 [07:17<01:02,  4.06it/s]\u001b[A\n",
      " 63%|██████▎   | 437/690 [07:17<00:52,  4.78it/s]\u001b[A"
     ]
    },
    {
     "name": "stdout",
     "output_type": "stream",
     "text": [
      "An exception occurred Key error\n"
     ]
    },
    {
     "name": "stderr",
     "output_type": "stream",
     "text": [
      "\n",
      " 63%|██████▎   | 438/690 [07:17<00:53,  4.71it/s]\u001b[A"
     ]
    },
    {
     "name": "stdout",
     "output_type": "stream",
     "text": [
      "An exception occurred Key error\n"
     ]
    },
    {
     "name": "stderr",
     "output_type": "stream",
     "text": [
      "\n",
      " 64%|██████▎   | 439/690 [07:17<01:10,  3.55it/s]\u001b[A\n",
      " 64%|██████▍   | 440/690 [07:18<01:16,  3.29it/s]\u001b[A\n",
      " 64%|██████▍   | 441/690 [07:18<01:28,  2.81it/s]\u001b[A\n",
      " 64%|██████▍   | 442/690 [07:19<01:32,  2.69it/s]\u001b[A\n",
      " 64%|██████▍   | 443/690 [07:19<01:39,  2.49it/s]\u001b[A\n",
      " 64%|██████▍   | 444/690 [07:19<01:42,  2.40it/s]\u001b[A\n",
      " 64%|██████▍   | 445/690 [07:20<01:52,  2.17it/s]\u001b[A\n",
      " 65%|██████▍   | 446/690 [07:20<01:43,  2.37it/s]\u001b[A\n",
      " 65%|██████▍   | 447/690 [07:21<01:34,  2.57it/s]\u001b[A\n",
      " 65%|██████▍   | 448/690 [07:21<01:27,  2.77it/s]\u001b[A\n",
      " 65%|██████▌   | 449/690 [07:21<01:27,  2.75it/s]\u001b[A\n",
      " 65%|██████▌   | 450/690 [07:22<01:37,  2.46it/s]\u001b[A\n",
      " 65%|██████▌   | 451/690 [07:22<01:43,  2.30it/s]\u001b[A\n",
      " 66%|██████▌   | 452/690 [07:23<01:48,  2.18it/s]\u001b[A\n",
      " 66%|██████▌   | 453/690 [07:23<01:53,  2.09it/s]\u001b[A\n",
      " 66%|██████▌   | 454/690 [07:24<02:18,  1.71it/s]\u001b[A\n",
      " 66%|██████▌   | 455/690 [07:25<02:11,  1.78it/s]\u001b[A\n",
      " 66%|██████▌   | 456/690 [07:25<02:06,  1.85it/s]\u001b[A\n",
      " 66%|██████▌   | 457/690 [07:26<01:51,  2.09it/s]\u001b[A\n",
      " 66%|██████▋   | 458/690 [07:26<01:42,  2.27it/s]\u001b[A\n",
      " 67%|██████▋   | 459/690 [07:26<01:30,  2.55it/s]\u001b[A\n",
      " 67%|██████▋   | 460/690 [07:27<01:25,  2.68it/s]\u001b[A\n",
      " 67%|██████▋   | 461/690 [07:27<01:25,  2.68it/s]\u001b[A\n",
      " 67%|██████▋   | 462/690 [07:27<01:18,  2.90it/s]\u001b[A\n",
      " 67%|██████▋   | 463/690 [07:27<01:13,  3.07it/s]\u001b[A\n",
      " 67%|██████▋   | 464/690 [07:28<01:12,  3.10it/s]\u001b[A\n",
      " 67%|██████▋   | 465/690 [07:28<01:13,  3.05it/s]\u001b[A\n",
      " 68%|██████▊   | 466/690 [07:28<01:10,  3.18it/s]\u001b[A\n",
      " 68%|██████▊   | 467/690 [07:29<01:13,  3.04it/s]\u001b[A\n",
      " 68%|██████▊   | 468/690 [07:29<01:17,  2.85it/s]\u001b[A\n",
      " 68%|██████▊   | 469/690 [07:30<02:06,  1.74it/s]\u001b[A\n",
      " 68%|██████▊   | 470/690 [07:31<01:49,  2.01it/s]\u001b[A\n",
      " 68%|██████▊   | 471/690 [07:31<01:40,  2.18it/s]\u001b[A\n",
      " 68%|██████▊   | 472/690 [07:31<01:24,  2.57it/s]\u001b[A"
     ]
    },
    {
     "name": "stdout",
     "output_type": "stream",
     "text": [
      "An exception occurred Key error\n"
     ]
    },
    {
     "name": "stderr",
     "output_type": "stream",
     "text": [
      "\n",
      " 69%|██████▊   | 473/690 [07:31<01:19,  2.74it/s]\u001b[A\n",
      " 69%|██████▊   | 474/690 [07:32<01:09,  3.12it/s]\u001b[A"
     ]
    },
    {
     "name": "stdout",
     "output_type": "stream",
     "text": [
      "An exception occurred Key error\n"
     ]
    },
    {
     "name": "stderr",
     "output_type": "stream",
     "text": [
      "\n",
      " 69%|██████▉   | 475/690 [07:32<01:03,  3.41it/s]\u001b[A"
     ]
    },
    {
     "name": "stdout",
     "output_type": "stream",
     "text": [
      "An exception occurred Key error\n"
     ]
    },
    {
     "name": "stderr",
     "output_type": "stream",
     "text": [
      "\n",
      " 69%|██████▉   | 476/690 [07:32<00:58,  3.68it/s]\u001b[A"
     ]
    },
    {
     "name": "stdout",
     "output_type": "stream",
     "text": [
      "An exception occurred Key error\n"
     ]
    },
    {
     "name": "stderr",
     "output_type": "stream",
     "text": [
      "\n",
      " 69%|██████▉   | 477/690 [07:33<01:08,  3.13it/s]\u001b[A\n",
      " 69%|██████▉   | 478/690 [07:33<01:11,  2.97it/s]\u001b[A\n",
      " 69%|██████▉   | 479/690 [07:33<01:15,  2.80it/s]\u001b[A\n",
      " 70%|██████▉   | 480/690 [07:34<01:13,  2.84it/s]\u001b[A\n",
      " 70%|██████▉   | 481/690 [07:34<01:10,  2.95it/s]\u001b[A\n",
      " 70%|██████▉   | 482/690 [07:34<01:08,  3.03it/s]\u001b[A\n",
      " 70%|███████   | 483/690 [07:35<01:07,  3.06it/s]\u001b[A\n",
      " 70%|███████   | 484/690 [07:35<01:04,  3.17it/s]\u001b[A\n",
      " 70%|███████   | 485/690 [07:35<00:59,  3.46it/s]\u001b[A"
     ]
    },
    {
     "name": "stdout",
     "output_type": "stream",
     "text": [
      "An exception occurred Key error\n"
     ]
    },
    {
     "name": "stderr",
     "output_type": "stream",
     "text": [
      "\n",
      " 70%|███████   | 486/690 [07:35<01:00,  3.40it/s]\u001b[A\n",
      " 71%|███████   | 487/690 [07:36<00:59,  3.40it/s]\u001b[A\n",
      " 71%|███████   | 488/690 [07:36<00:56,  3.60it/s]\u001b[A"
     ]
    },
    {
     "name": "stdout",
     "output_type": "stream",
     "text": [
      "An exception occurred Key error\n"
     ]
    },
    {
     "name": "stderr",
     "output_type": "stream",
     "text": [
      "\n",
      " 71%|███████   | 489/690 [07:36<00:52,  3.82it/s]\u001b[A"
     ]
    },
    {
     "name": "stdout",
     "output_type": "stream",
     "text": [
      "An exception occurred Key error\n"
     ]
    },
    {
     "name": "stderr",
     "output_type": "stream",
     "text": [
      "\n",
      " 71%|███████   | 490/690 [07:36<00:51,  3.90it/s]\u001b[A"
     ]
    },
    {
     "name": "stdout",
     "output_type": "stream",
     "text": [
      "An exception occurred Key error\n"
     ]
    },
    {
     "name": "stderr",
     "output_type": "stream",
     "text": [
      "\n",
      " 71%|███████   | 491/690 [07:37<00:54,  3.65it/s]\u001b[A"
     ]
    },
    {
     "name": "stdout",
     "output_type": "stream",
     "text": [
      "An exception occurred Key error\n"
     ]
    },
    {
     "name": "stderr",
     "output_type": "stream",
     "text": [
      "\n",
      " 71%|███████▏  | 492/690 [07:37<00:56,  3.53it/s]\u001b[A\n",
      " 71%|███████▏  | 493/690 [07:37<00:55,  3.57it/s]\u001b[A\n",
      " 72%|███████▏  | 494/690 [07:38<00:56,  3.49it/s]\u001b[A\n",
      " 72%|███████▏  | 495/690 [07:38<00:55,  3.49it/s]\u001b[A"
     ]
    },
    {
     "name": "stdout",
     "output_type": "stream",
     "text": [
      "An exception occurred Key error\n"
     ]
    },
    {
     "name": "stderr",
     "output_type": "stream",
     "text": [
      "\n",
      " 72%|███████▏  | 496/690 [07:38<00:55,  3.48it/s]\u001b[A\n",
      " 72%|███████▏  | 497/690 [07:39<00:59,  3.27it/s]\u001b[A\n",
      " 72%|███████▏  | 498/690 [07:39<00:58,  3.27it/s]\u001b[A"
     ]
    },
    {
     "name": "stdout",
     "output_type": "stream",
     "text": [
      "An exception occurred Key error\n"
     ]
    },
    {
     "name": "stderr",
     "output_type": "stream",
     "text": [
      "\n",
      " 72%|███████▏  | 499/690 [07:39<00:56,  3.36it/s]\u001b[A\n",
      " 72%|███████▏  | 500/690 [07:39<00:56,  3.34it/s]\u001b[A"
     ]
    },
    {
     "name": "stdout",
     "output_type": "stream",
     "text": [
      "An exception occurred Key error\n"
     ]
    },
    {
     "name": "stderr",
     "output_type": "stream",
     "text": [
      "\n",
      " 73%|███████▎  | 501/690 [07:40<00:58,  3.21it/s]\u001b[A\n",
      " 73%|███████▎  | 502/690 [07:40<00:57,  3.27it/s]\u001b[A\n",
      " 73%|███████▎  | 503/690 [07:41<01:04,  2.88it/s]\u001b[A\n",
      " 73%|███████▎  | 504/690 [07:41<00:57,  3.24it/s]\u001b[A"
     ]
    },
    {
     "name": "stdout",
     "output_type": "stream",
     "text": [
      "An exception occurred Key error\n"
     ]
    },
    {
     "name": "stderr",
     "output_type": "stream",
     "text": [
      "\n",
      " 73%|███████▎  | 505/690 [07:41<00:52,  3.50it/s]\u001b[A"
     ]
    },
    {
     "name": "stdout",
     "output_type": "stream",
     "text": [
      "An exception occurred Key error\n"
     ]
    },
    {
     "name": "stderr",
     "output_type": "stream",
     "text": [
      "\n",
      " 73%|███████▎  | 506/690 [07:41<00:51,  3.58it/s]\u001b[A\n",
      " 73%|███████▎  | 507/690 [07:42<00:56,  3.25it/s]\u001b[A\n",
      " 74%|███████▎  | 508/690 [07:42<00:59,  3.06it/s]\u001b[A\n",
      " 74%|███████▍  | 509/690 [07:42<00:58,  3.07it/s]\u001b[A\n",
      " 74%|███████▍  | 510/690 [07:43<01:01,  2.91it/s]\u001b[A\n",
      " 74%|███████▍  | 511/690 [07:43<01:06,  2.68it/s]\u001b[A\n",
      " 74%|███████▍  | 512/690 [07:43<00:55,  3.18it/s]\u001b[A"
     ]
    },
    {
     "name": "stdout",
     "output_type": "stream",
     "text": [
      "An exception occurred\n"
     ]
    },
    {
     "name": "stderr",
     "output_type": "stream",
     "text": [
      "\n",
      " 74%|███████▍  | 513/690 [07:44<01:04,  2.76it/s]\u001b[A\n",
      " 74%|███████▍  | 514/690 [07:44<01:04,  2.75it/s]\u001b[A\n",
      " 75%|███████▍  | 515/690 [07:44<00:59,  2.92it/s]\u001b[A\n",
      " 75%|███████▍  | 516/690 [07:45<00:57,  3.00it/s]\u001b[A\n",
      " 75%|███████▍  | 517/690 [07:45<00:59,  2.89it/s]\u001b[A\n",
      " 75%|███████▌  | 518/690 [07:45<00:56,  3.03it/s]\u001b[A\n",
      " 75%|███████▌  | 519/690 [08:46<52:16, 18.34s/it]\u001b[A\n",
      " 75%|███████▌  | 520/690 [08:46<36:44, 12.97s/it]\u001b[A\n",
      " 76%|███████▌  | 521/690 [08:47<25:50,  9.18s/it]\u001b[A\n",
      " 76%|███████▌  | 522/690 [08:47<18:17,  6.53s/it]\u001b[A\n",
      " 76%|███████▌  | 523/690 [08:47<13:04,  4.70s/it]\u001b[A\n",
      " 76%|███████▌  | 524/690 [08:48<09:21,  3.38s/it]\u001b[A\n",
      " 76%|███████▌  | 525/690 [08:48<06:47,  2.47s/it]\u001b[A\n",
      " 76%|███████▌  | 526/690 [08:48<04:56,  1.81s/it]\u001b[A\n",
      " 76%|███████▋  | 527/690 [08:49<03:41,  1.36s/it]\u001b[A\n",
      " 77%|███████▋  | 528/690 [08:49<02:59,  1.11s/it]\u001b[A\n",
      " 77%|███████▋  | 529/690 [08:50<02:27,  1.09it/s]\u001b[A\n",
      " 77%|███████▋  | 530/690 [08:50<01:59,  1.34it/s]\u001b[A\n",
      " 77%|███████▋  | 531/690 [08:50<01:36,  1.65it/s]\u001b[A\n",
      " 77%|███████▋  | 532/690 [08:51<01:22,  1.91it/s]\u001b[A\n",
      " 77%|███████▋  | 533/690 [08:51<01:24,  1.86it/s]\u001b[A\n",
      " 77%|███████▋  | 534/690 [08:51<01:13,  2.11it/s]\u001b[A\n",
      " 78%|███████▊  | 535/690 [08:52<00:58,  2.63it/s]\u001b[A"
     ]
    },
    {
     "name": "stdout",
     "output_type": "stream",
     "text": [
      "An exception occurred\n"
     ]
    },
    {
     "name": "stderr",
     "output_type": "stream",
     "text": [
      "\n",
      " 78%|███████▊  | 536/690 [08:52<00:58,  2.64it/s]\u001b[A\n",
      " 78%|███████▊  | 537/690 [08:52<00:51,  2.95it/s]\u001b[A\n",
      " 78%|███████▊  | 538/690 [08:53<00:50,  2.99it/s]\u001b[A\n",
      " 78%|███████▊  | 539/690 [08:53<00:53,  2.80it/s]\u001b[A\n",
      " 78%|███████▊  | 540/690 [08:53<00:54,  2.76it/s]\u001b[A\n",
      " 78%|███████▊  | 541/690 [08:54<00:51,  2.91it/s]\u001b[A\n",
      " 79%|███████▊  | 542/690 [08:54<00:50,  2.93it/s]\u001b[A\n",
      " 79%|███████▊  | 543/690 [08:54<00:51,  2.83it/s]\u001b[A\n",
      " 79%|███████▉  | 544/690 [08:55<00:51,  2.86it/s]\u001b[A\n",
      " 79%|███████▉  | 545/690 [08:55<00:48,  2.99it/s]\u001b[A\n",
      " 79%|███████▉  | 546/690 [08:55<00:51,  2.80it/s]\u001b[A\n",
      " 79%|███████▉  | 547/690 [08:56<00:48,  2.95it/s]\u001b[A\n",
      " 79%|███████▉  | 548/690 [08:56<00:47,  3.01it/s]\u001b[A\n",
      " 80%|███████▉  | 549/690 [08:56<00:44,  3.20it/s]\u001b[A\n",
      " 80%|███████▉  | 550/690 [08:57<00:42,  3.28it/s]\u001b[A\n",
      " 80%|███████▉  | 551/690 [08:57<00:44,  3.09it/s]\u001b[A\n",
      " 80%|████████  | 552/690 [08:57<00:45,  3.06it/s]\u001b[A\n",
      " 80%|████████  | 553/690 [08:57<00:37,  3.63it/s]\u001b[A"
     ]
    },
    {
     "name": "stdout",
     "output_type": "stream",
     "text": [
      "An exception occurred\n"
     ]
    },
    {
     "name": "stderr",
     "output_type": "stream",
     "text": [
      "\n",
      " 80%|████████  | 554/690 [08:58<00:38,  3.52it/s]\u001b[A\n",
      " 80%|████████  | 555/690 [08:58<00:49,  2.72it/s]\u001b[A\n",
      " 81%|████████  | 556/690 [08:59<00:56,  2.36it/s]\u001b[A\n",
      " 81%|████████  | 557/690 [08:59<00:51,  2.60it/s]\u001b[A\n",
      " 81%|████████  | 558/690 [08:59<00:45,  2.93it/s]\u001b[A\n",
      " 81%|████████  | 559/690 [09:00<00:42,  3.05it/s]\u001b[A\n",
      " 81%|████████  | 560/690 [09:00<00:40,  3.21it/s]\u001b[A\n",
      " 81%|████████▏ | 561/690 [09:00<00:40,  3.17it/s]\u001b[A\n",
      " 81%|████████▏ | 562/690 [09:00<00:36,  3.50it/s]\u001b[A"
     ]
    },
    {
     "name": "stdout",
     "output_type": "stream",
     "text": [
      "An exception occurred Key error\n"
     ]
    },
    {
     "name": "stderr",
     "output_type": "stream",
     "text": [
      "\n",
      " 82%|████████▏ | 563/690 [09:01<00:35,  3.54it/s]\u001b[A\n",
      " 82%|████████▏ | 564/690 [09:01<00:36,  3.49it/s]\u001b[A\n",
      " 82%|████████▏ | 565/690 [09:01<00:33,  3.72it/s]\u001b[A"
     ]
    },
    {
     "name": "stdout",
     "output_type": "stream",
     "text": [
      "An exception occurred Key error\n"
     ]
    },
    {
     "name": "stderr",
     "output_type": "stream",
     "text": [
      "\n",
      " 82%|████████▏ | 566/690 [09:02<00:34,  3.59it/s]\u001b[A\n",
      " 82%|████████▏ | 567/690 [09:02<00:37,  3.30it/s]\u001b[A\n",
      " 82%|████████▏ | 568/690 [09:02<00:40,  3.05it/s]\u001b[A\n",
      " 82%|████████▏ | 569/690 [09:03<00:38,  3.15it/s]\u001b[A\n",
      " 83%|████████▎ | 570/690 [09:03<00:38,  3.14it/s]\u001b[A\n",
      " 83%|████████▎ | 571/690 [09:03<00:36,  3.27it/s]\u001b[A\n",
      " 83%|████████▎ | 572/690 [09:04<00:38,  3.10it/s]\u001b[A\n",
      " 83%|████████▎ | 573/690 [09:04<00:41,  2.85it/s]\u001b[A\n",
      " 83%|████████▎ | 574/690 [09:04<00:41,  2.77it/s]\u001b[A\n",
      " 83%|████████▎ | 575/690 [09:05<00:38,  3.02it/s]\u001b[A\n",
      " 83%|████████▎ | 576/690 [09:05<00:43,  2.60it/s]\u001b[A\n",
      " 84%|████████▎ | 577/690 [09:05<00:39,  2.83it/s]\u001b[A\n",
      " 84%|████████▍ | 578/690 [09:06<00:40,  2.74it/s]\u001b[A\n",
      " 84%|████████▍ | 579/690 [09:06<00:42,  2.63it/s]\u001b[A\n",
      " 84%|████████▍ | 580/690 [09:07<00:42,  2.56it/s]\u001b[A\n",
      " 84%|████████▍ | 581/690 [09:07<00:42,  2.56it/s]\u001b[A\n",
      " 84%|████████▍ | 582/690 [09:07<00:39,  2.76it/s]\u001b[A\n",
      " 84%|████████▍ | 583/690 [09:08<00:39,  2.68it/s]\u001b[A\n",
      " 85%|████████▍ | 584/690 [09:08<00:38,  2.76it/s]\u001b[A\n",
      " 85%|████████▍ | 585/690 [09:08<00:38,  2.71it/s]\u001b[A\n",
      " 85%|████████▍ | 586/690 [09:09<00:39,  2.66it/s]\u001b[A\n",
      " 85%|████████▌ | 587/690 [09:09<00:38,  2.67it/s]\u001b[A\n",
      " 85%|████████▌ | 588/690 [09:10<00:43,  2.34it/s]\u001b[A\n",
      " 85%|████████▌ | 589/690 [09:10<00:42,  2.40it/s]\u001b[A\n",
      " 86%|████████▌ | 590/690 [09:11<00:40,  2.49it/s]\u001b[A\n",
      " 86%|████████▌ | 591/690 [09:11<00:40,  2.44it/s]\u001b[A\n",
      " 86%|████████▌ | 592/690 [09:11<00:41,  2.37it/s]\u001b[A\n",
      " 86%|████████▌ | 593/690 [09:12<00:39,  2.46it/s]\u001b[A\n",
      " 86%|████████▌ | 594/690 [09:12<00:35,  2.68it/s]\u001b[A\n",
      " 86%|████████▌ | 595/690 [09:13<00:37,  2.53it/s]\u001b[A\n",
      " 86%|████████▋ | 596/690 [09:13<00:33,  2.78it/s]\u001b[A\n",
      " 87%|████████▋ | 597/690 [09:13<00:35,  2.60it/s]\u001b[A\n",
      " 87%|████████▋ | 598/690 [09:14<00:37,  2.48it/s]\u001b[A\n",
      " 87%|████████▋ | 599/690 [09:14<00:37,  2.43it/s]\u001b[A\n",
      " 87%|████████▋ | 600/690 [09:15<00:38,  2.34it/s]\u001b[A\n",
      " 87%|████████▋ | 601/690 [09:15<00:37,  2.35it/s]\u001b[A\n",
      " 87%|████████▋ | 602/690 [09:15<00:36,  2.43it/s]\u001b[A\n",
      " 87%|████████▋ | 603/690 [09:16<00:34,  2.51it/s]\u001b[A\n",
      " 88%|████████▊ | 604/690 [09:16<00:32,  2.67it/s]\u001b[A\n",
      " 88%|████████▊ | 605/690 [09:16<00:31,  2.73it/s]\u001b[A\n",
      " 88%|████████▊ | 606/690 [09:17<00:33,  2.50it/s]\u001b[A\n",
      " 88%|████████▊ | 607/690 [09:17<00:31,  2.61it/s]\u001b[A\n",
      " 88%|████████▊ | 608/690 [09:18<00:33,  2.48it/s]\u001b[A\n",
      " 88%|████████▊ | 609/690 [09:18<00:31,  2.59it/s]\u001b[A\n",
      " 88%|████████▊ | 610/690 [09:18<00:30,  2.59it/s]\u001b[A\n",
      " 89%|████████▊ | 611/690 [09:26<03:14,  2.46s/it]\u001b[A\n",
      " 89%|████████▊ | 612/690 [09:26<02:23,  1.84s/it]\u001b[A\n",
      " 89%|████████▉ | 613/690 [09:26<01:45,  1.37s/it]\u001b[A\n",
      " 89%|████████▉ | 614/690 [09:27<01:22,  1.08s/it]\u001b[A\n",
      " 89%|████████▉ | 615/690 [09:27<01:06,  1.13it/s]\u001b[A\n",
      " 89%|████████▉ | 616/690 [09:28<00:53,  1.39it/s]\u001b[A\n",
      " 89%|████████▉ | 617/690 [09:28<00:45,  1.61it/s]\u001b[A\n",
      " 90%|████████▉ | 618/690 [09:28<00:40,  1.78it/s]\u001b[A\n",
      " 90%|████████▉ | 619/690 [09:29<00:36,  1.96it/s]\u001b[A\n",
      " 90%|████████▉ | 620/690 [09:29<00:33,  2.10it/s]\u001b[A\n",
      " 90%|█████████ | 621/690 [09:29<00:29,  2.35it/s]\u001b[A\n",
      " 90%|█████████ | 622/690 [09:30<00:32,  2.11it/s]\u001b[A\n",
      " 90%|█████████ | 623/690 [10:31<20:42, 18.55s/it]\u001b[A\n",
      " 90%|█████████ | 624/690 [10:31<14:31, 13.20s/it]\u001b[A\n",
      " 91%|█████████ | 625/690 [10:32<10:11,  9.41s/it]\u001b[A\n",
      " 91%|█████████ | 626/690 [10:32<07:09,  6.72s/it]\u001b[A\n",
      " 91%|█████████ | 627/690 [10:33<05:03,  4.82s/it]\u001b[A\n",
      " 91%|█████████ | 628/690 [10:33<03:37,  3.50s/it]\u001b[A\n",
      " 91%|█████████ | 629/690 [10:34<02:40,  2.64s/it]\u001b[A\n",
      " 91%|█████████▏| 630/690 [10:34<01:58,  1.97s/it]\u001b[A\n",
      " 91%|█████████▏| 631/690 [10:35<01:28,  1.50s/it]\u001b[A\n",
      " 92%|█████████▏| 632/690 [10:35<01:06,  1.14s/it]\u001b[A\n",
      " 92%|█████████▏| 633/690 [10:35<00:51,  1.12it/s]\u001b[A\n",
      " 92%|█████████▏| 634/690 [10:36<00:39,  1.40it/s]\u001b[A\n",
      " 92%|█████████▏| 635/690 [10:36<00:32,  1.71it/s]\u001b[A\n",
      " 92%|█████████▏| 636/690 [10:36<00:26,  2.03it/s]\u001b[A\n",
      " 92%|█████████▏| 637/690 [10:37<00:23,  2.29it/s]\u001b[A\n",
      " 92%|█████████▏| 638/690 [10:37<00:20,  2.51it/s]\u001b[A\n",
      " 93%|█████████▎| 639/690 [10:37<00:18,  2.77it/s]\u001b[A\n",
      " 93%|█████████▎| 640/690 [10:37<00:16,  2.96it/s]\u001b[A\n",
      " 93%|█████████▎| 641/690 [10:38<00:16,  3.03it/s]\u001b[A\n",
      " 93%|█████████▎| 642/690 [10:38<00:16,  2.83it/s]\u001b[A\n",
      " 93%|█████████▎| 643/690 [10:38<00:15,  2.96it/s]\u001b[A\n",
      " 93%|█████████▎| 644/690 [10:39<00:14,  3.12it/s]\u001b[A\n",
      " 93%|█████████▎| 645/690 [10:39<00:13,  3.34it/s]\u001b[A\n",
      " 94%|█████████▎| 646/690 [10:39<00:10,  4.06it/s]\u001b[A"
     ]
    },
    {
     "name": "stdout",
     "output_type": "stream",
     "text": [
      "An exception occurred Key error\n"
     ]
    },
    {
     "name": "stderr",
     "output_type": "stream",
     "text": [
      "\n",
      " 94%|█████████▍| 647/690 [10:39<00:10,  4.01it/s]\u001b[A\n",
      " 94%|█████████▍| 648/690 [10:40<00:10,  3.87it/s]\u001b[A\n",
      " 94%|█████████▍| 649/690 [10:40<00:10,  3.88it/s]\u001b[A"
     ]
    },
    {
     "name": "stdout",
     "output_type": "stream",
     "text": [
      "An exception occurred Key error\n"
     ]
    },
    {
     "name": "stderr",
     "output_type": "stream",
     "text": [
      "\n",
      " 94%|█████████▍| 650/690 [10:40<00:10,  3.86it/s]\u001b[A\n",
      " 94%|█████████▍| 651/690 [10:40<00:10,  3.75it/s]\u001b[A\n",
      " 94%|█████████▍| 652/690 [10:41<00:10,  3.59it/s]\u001b[A\n",
      " 95%|█████████▍| 653/690 [10:41<00:09,  3.85it/s]\u001b[A"
     ]
    },
    {
     "name": "stdout",
     "output_type": "stream",
     "text": [
      "An exception occurred Key error\n"
     ]
    },
    {
     "name": "stderr",
     "output_type": "stream",
     "text": [
      "\n",
      " 95%|█████████▍| 654/690 [10:41<00:08,  4.02it/s]\u001b[A"
     ]
    },
    {
     "name": "stdout",
     "output_type": "stream",
     "text": [
      "An exception occurred Key error\n"
     ]
    },
    {
     "name": "stderr",
     "output_type": "stream",
     "text": [
      "\n",
      " 95%|█████████▍| 655/690 [10:41<00:09,  3.71it/s]\u001b[A\n",
      " 95%|█████████▌| 656/690 [10:42<00:08,  3.88it/s]\u001b[A"
     ]
    },
    {
     "name": "stdout",
     "output_type": "stream",
     "text": [
      "An exception occurred Key error\n"
     ]
    },
    {
     "name": "stderr",
     "output_type": "stream",
     "text": [
      "\n",
      " 95%|█████████▌| 657/690 [10:42<00:09,  3.64it/s]\u001b[A\n",
      " 95%|█████████▌| 658/690 [10:42<00:09,  3.49it/s]\u001b[A\n",
      " 96%|█████████▌| 659/690 [10:43<00:08,  3.51it/s]\u001b[A\n",
      " 96%|█████████▌| 660/690 [10:43<00:08,  3.42it/s]\u001b[A\n",
      " 96%|█████████▌| 661/690 [10:43<00:07,  3.63it/s]\u001b[A"
     ]
    },
    {
     "name": "stdout",
     "output_type": "stream",
     "text": [
      "An exception occurred Key error\n"
     ]
    },
    {
     "name": "stderr",
     "output_type": "stream",
     "text": [
      "\n",
      " 96%|█████████▌| 662/690 [10:43<00:07,  3.55it/s]\u001b[A\n",
      " 96%|█████████▌| 663/690 [10:44<00:08,  3.37it/s]\u001b[A\n",
      " 96%|█████████▌| 664/690 [10:44<00:08,  3.12it/s]\u001b[A\n",
      " 96%|█████████▋| 665/690 [10:44<00:07,  3.21it/s]\u001b[A\n",
      " 97%|█████████▋| 666/690 [10:45<00:07,  3.31it/s]\u001b[A\n",
      " 97%|█████████▋| 667/690 [10:45<00:07,  3.27it/s]\u001b[A\n",
      " 97%|█████████▋| 668/690 [10:45<00:06,  3.65it/s]\u001b[A\n",
      " 97%|█████████▋| 669/690 [10:46<00:06,  3.49it/s]\u001b[A\n",
      " 97%|█████████▋| 670/690 [10:46<00:05,  3.34it/s]\u001b[A\n",
      " 97%|█████████▋| 671/690 [10:46<00:06,  3.08it/s]\u001b[A\n",
      " 97%|█████████▋| 672/690 [10:47<00:05,  3.03it/s]\u001b[A\n",
      " 98%|█████████▊| 673/690 [10:47<00:06,  2.78it/s]\u001b[A\n",
      " 98%|█████████▊| 674/690 [10:47<00:05,  2.76it/s]\u001b[A\n",
      " 98%|█████████▊| 675/690 [10:48<00:05,  2.70it/s]\u001b[A\n",
      " 98%|█████████▊| 676/690 [10:48<00:04,  2.81it/s]\u001b[A\n",
      " 98%|█████████▊| 677/690 [10:48<00:04,  2.87it/s]\u001b[A\n",
      " 98%|█████████▊| 678/690 [10:49<00:04,  2.68it/s]\u001b[A\n",
      " 98%|█████████▊| 679/690 [10:49<00:03,  2.77it/s]\u001b[A\n",
      " 99%|█████████▊| 680/690 [10:50<00:03,  2.84it/s]\u001b[A\n",
      " 99%|█████████▊| 681/690 [10:50<00:03,  2.88it/s]\u001b[A\n",
      " 99%|█████████▉| 682/690 [10:50<00:03,  2.48it/s]\u001b[A\n",
      " 99%|█████████▉| 683/690 [10:51<00:03,  2.12it/s]\u001b[A\n",
      " 99%|█████████▉| 684/690 [10:52<00:02,  2.14it/s]\u001b[A\n",
      " 99%|█████████▉| 685/690 [10:52<00:02,  1.98it/s]\u001b[A\n",
      " 99%|█████████▉| 686/690 [10:52<00:01,  2.12it/s]\u001b[A\n",
      "100%|█████████▉| 687/690 [10:53<00:01,  2.20it/s]\u001b[A\n",
      "100%|█████████▉| 688/690 [10:53<00:00,  2.34it/s]\u001b[A\n",
      "100%|█████████▉| 689/690 [10:54<00:00,  2.35it/s]\u001b[A\n",
      "100%|██████████| 690/690 [10:54<00:00,  1.05it/s]\u001b[A\n"
     ]
    },
    {
     "name": "stdout",
     "output_type": "stream",
     "text": [
      "length of df 661\n",
      "Freecodecamp_comments.csv Witten\n"
     ]
    },
    {
     "name": "stderr",
     "output_type": "stream",
     "text": [
      "\r",
      " 10%|█         | 1/10 [11:57<1:47:37, 717.46s/it]"
     ]
    },
    {
     "name": "stdout",
     "output_type": "stream",
     "text": [
      "krishnaik06 UCNU_lfiiWBdtULKOw6X0Dig\n"
     ]
    },
    {
     "name": "stderr",
     "output_type": "stream",
     "text": [
      "\n",
      "  0%|          | 0/447 [00:00<?, ?it/s]\u001b[A\n",
      "  0%|          | 0/447 [00:12<?, ?it/s]\u001b[A\n",
      "  8%|▊         | 35/447 [00:12<02:30,  2.74it/s]\u001b[A\n",
      "  8%|▊         | 36/447 [00:13<02:30,  2.72it/s]\u001b[A\n",
      "  8%|▊         | 37/447 [00:13<02:31,  2.71it/s]\u001b[A\n",
      "  9%|▊         | 38/447 [00:13<02:30,  2.71it/s]\u001b[A\n",
      "  9%|▊         | 39/447 [00:14<02:33,  2.66it/s]\u001b[A\n",
      "  9%|▉         | 40/447 [00:14<02:35,  2.62it/s]\u001b[A\n",
      "  9%|▉         | 41/447 [00:15<02:34,  2.63it/s]\u001b[A\n",
      "  9%|▉         | 42/447 [00:15<02:39,  2.54it/s]\u001b[A\n",
      " 10%|▉         | 43/447 [00:16<02:46,  2.42it/s]\u001b[A\n",
      " 10%|▉         | 44/447 [00:16<02:59,  2.25it/s]\u001b[A\n",
      " 10%|█         | 45/447 [00:17<03:02,  2.20it/s]\u001b[A\n",
      " 10%|█         | 46/447 [00:17<03:01,  2.21it/s]\u001b[A\n",
      " 11%|█         | 47/447 [00:18<02:58,  2.24it/s]\u001b[A\n",
      " 11%|█         | 48/447 [00:18<03:34,  1.86it/s]\u001b[A\n",
      " 11%|█         | 49/447 [00:19<03:37,  1.83it/s]\u001b[A\n",
      " 11%|█         | 50/447 [00:19<03:28,  1.91it/s]\u001b[A\n",
      " 11%|█▏        | 51/447 [00:20<03:19,  1.98it/s]\u001b[A\n",
      " 12%|█▏        | 52/447 [00:20<03:30,  1.87it/s]\u001b[A\n",
      " 12%|█▏        | 53/447 [00:21<03:15,  2.01it/s]\u001b[A\n",
      " 12%|█▏        | 54/447 [00:21<03:00,  2.17it/s]\u001b[A\n",
      " 12%|█▏        | 55/447 [00:22<02:55,  2.24it/s]\u001b[A\n",
      " 13%|█▎        | 56/447 [00:22<03:08,  2.08it/s]\u001b[A\n",
      " 13%|█▎        | 57/447 [00:23<03:11,  2.04it/s]\u001b[A\n",
      " 13%|█▎        | 58/447 [00:23<03:12,  2.02it/s]\u001b[A\n",
      " 13%|█▎        | 59/447 [00:24<03:10,  2.04it/s]\u001b[A\n",
      " 13%|█▎        | 60/447 [00:24<03:00,  2.15it/s]\u001b[A\n",
      " 14%|█▎        | 61/447 [00:25<03:03,  2.11it/s]\u001b[A\n",
      " 14%|█▍        | 62/447 [00:25<03:16,  1.95it/s]\u001b[A\n",
      " 14%|█▍        | 63/447 [00:26<03:04,  2.08it/s]\u001b[A\n",
      " 14%|█▍        | 64/447 [00:26<02:46,  2.30it/s]\u001b[A\n",
      " 15%|█▍        | 65/447 [00:26<02:33,  2.49it/s]\u001b[A\n",
      " 15%|█▍        | 66/447 [00:27<02:33,  2.48it/s]\u001b[A\n",
      " 15%|█▍        | 67/447 [00:27<02:46,  2.29it/s]\u001b[A\n",
      " 15%|█▌        | 68/447 [00:28<02:37,  2.41it/s]\u001b[A\n",
      " 15%|█▌        | 69/447 [00:28<02:25,  2.60it/s]\u001b[A\n",
      " 16%|█▌        | 70/447 [00:28<02:17,  2.74it/s]\u001b[A\n",
      " 16%|█▌        | 71/447 [00:29<02:20,  2.67it/s]\u001b[A\n",
      " 16%|█▌        | 72/447 [00:29<02:16,  2.74it/s]\u001b[A\n",
      " 16%|█▋        | 73/447 [00:29<02:14,  2.78it/s]\u001b[A\n",
      " 17%|█▋        | 74/447 [00:30<02:14,  2.78it/s]\u001b[A\n",
      " 17%|█▋        | 75/447 [00:30<02:14,  2.76it/s]\u001b[A\n",
      " 17%|█▋        | 76/447 [00:30<02:18,  2.68it/s]\u001b[A\n",
      " 17%|█▋        | 77/447 [00:31<02:28,  2.50it/s]\u001b[A\n",
      " 17%|█▋        | 78/447 [00:31<02:22,  2.59it/s]\u001b[A\n",
      " 18%|█▊        | 79/447 [00:32<02:23,  2.56it/s]\u001b[A\n",
      " 18%|█▊        | 80/447 [00:32<02:22,  2.58it/s]\u001b[A\n",
      " 18%|█▊        | 81/447 [00:32<02:25,  2.52it/s]\u001b[A\n",
      " 18%|█▊        | 82/447 [00:33<02:19,  2.62it/s]\u001b[A\n",
      " 19%|█▊        | 83/447 [00:33<02:24,  2.52it/s]\u001b[A\n",
      " 19%|█▉        | 84/447 [00:34<02:34,  2.35it/s]\u001b[A\n",
      " 19%|█▉        | 85/447 [00:34<02:24,  2.50it/s]\u001b[A\n",
      " 19%|█▉        | 86/447 [00:34<02:19,  2.59it/s]\u001b[A\n",
      " 19%|█▉        | 87/447 [00:35<02:09,  2.77it/s]\u001b[A\n",
      " 20%|█▉        | 88/447 [00:35<02:05,  2.87it/s]\u001b[A\n",
      " 20%|█▉        | 89/447 [00:35<01:58,  3.02it/s]\u001b[A\n",
      " 20%|██        | 90/447 [00:36<01:58,  3.01it/s]\u001b[A\n",
      " 20%|██        | 91/447 [00:36<02:19,  2.55it/s]\u001b[A\n",
      " 21%|██        | 92/447 [00:37<02:16,  2.60it/s]\u001b[A\n",
      " 21%|██        | 93/447 [00:37<02:11,  2.70it/s]\u001b[A\n",
      " 21%|██        | 94/447 [00:37<02:21,  2.49it/s]\u001b[A\n",
      " 21%|██▏       | 95/447 [00:38<02:15,  2.60it/s]\u001b[A\n",
      " 21%|██▏       | 96/447 [00:38<02:16,  2.57it/s]\u001b[A\n",
      " 22%|██▏       | 97/447 [00:38<02:11,  2.65it/s]\u001b[A\n",
      " 22%|██▏       | 98/447 [00:39<02:11,  2.65it/s]\u001b[A\n",
      " 22%|██▏       | 99/447 [00:39<02:05,  2.77it/s]\u001b[A\n",
      " 22%|██▏       | 100/447 [01:40<1:46:25, 18.40s/it]\u001b[A\n",
      " 23%|██▎       | 101/447 [01:40<1:15:26, 13.08s/it]\u001b[A\n",
      " 23%|██▎       | 102/447 [01:41<53:14,  9.26s/it]  \u001b[A\n",
      " 23%|██▎       | 103/447 [01:41<37:28,  6.54s/it]\u001b[A"
     ]
    },
    {
     "name": "stdout",
     "output_type": "stream",
     "text": [
      "An exception occurred\n"
     ]
    },
    {
     "name": "stderr",
     "output_type": "stream",
     "text": [
      "\n",
      " 23%|██▎       | 104/447 [01:41<26:59,  4.72s/it]\u001b[A\n",
      " 23%|██▎       | 105/447 [01:42<19:38,  3.45s/it]\u001b[A\n",
      " 24%|██▎       | 106/447 [01:42<14:33,  2.56s/it]\u001b[A\n",
      " 24%|██▍       | 107/447 [01:43<10:57,  1.93s/it]\u001b[A\n",
      " 24%|██▍       | 108/447 [01:43<08:32,  1.51s/it]\u001b[A\n",
      " 24%|██▍       | 109/447 [01:44<06:51,  1.22s/it]\u001b[A\n",
      " 25%|██▍       | 110/447 [01:44<05:22,  1.04it/s]\u001b[A\n",
      " 25%|██▍       | 111/447 [01:45<04:24,  1.27it/s]\u001b[A\n",
      " 25%|██▌       | 112/447 [01:45<03:45,  1.48it/s]\u001b[A\n",
      " 25%|██▌       | 113/447 [01:45<03:12,  1.74it/s]\u001b[A\n",
      " 26%|██▌       | 114/447 [01:46<02:47,  1.99it/s]\u001b[A\n",
      " 26%|██▌       | 115/447 [01:46<02:29,  2.22it/s]\u001b[A\n",
      " 26%|██▌       | 116/447 [01:46<02:25,  2.28it/s]\u001b[A\n",
      " 26%|██▌       | 117/447 [01:47<02:18,  2.39it/s]\u001b[A\n",
      " 26%|██▋       | 118/447 [01:47<02:14,  2.45it/s]\u001b[A\n",
      " 27%|██▋       | 119/447 [01:48<02:11,  2.50it/s]\u001b[A\n",
      " 27%|██▋       | 120/447 [01:48<02:04,  2.63it/s]\u001b[A\n",
      " 27%|██▋       | 121/447 [01:48<02:03,  2.64it/s]\u001b[A\n",
      " 27%|██▋       | 122/447 [01:49<01:59,  2.73it/s]\u001b[A\n",
      " 28%|██▊       | 123/447 [01:49<02:03,  2.62it/s]\u001b[A\n",
      " 28%|██▊       | 124/447 [01:49<01:58,  2.73it/s]\u001b[A\n",
      " 28%|██▊       | 125/447 [01:50<02:06,  2.55it/s]\u001b[A\n",
      " 28%|██▊       | 126/447 [01:50<02:05,  2.55it/s]\u001b[A\n",
      " 28%|██▊       | 127/447 [01:50<01:52,  2.85it/s]\u001b[A\n",
      " 29%|██▊       | 128/447 [01:51<02:05,  2.55it/s]\u001b[A\n",
      " 29%|██▉       | 129/447 [01:51<02:08,  2.47it/s]\u001b[A\n",
      " 29%|██▉       | 130/447 [01:52<02:01,  2.61it/s]\u001b[A\n",
      " 29%|██▉       | 131/447 [01:52<02:16,  2.32it/s]\u001b[A\n",
      " 30%|██▉       | 132/447 [01:53<02:18,  2.28it/s]\u001b[A\n",
      " 30%|██▉       | 133/447 [01:53<02:12,  2.38it/s]\u001b[A\n",
      " 30%|██▉       | 134/447 [01:54<02:33,  2.04it/s]\u001b[A\n",
      " 30%|███       | 135/447 [01:54<02:25,  2.15it/s]\u001b[A\n",
      " 30%|███       | 136/447 [01:55<02:27,  2.11it/s]\u001b[A\n",
      " 31%|███       | 137/447 [01:55<02:15,  2.29it/s]\u001b[A\n",
      " 31%|███       | 138/447 [01:55<02:13,  2.31it/s]\u001b[A\n",
      " 31%|███       | 139/447 [01:56<02:09,  2.38it/s]\u001b[A\n",
      " 31%|███▏      | 140/447 [01:56<02:18,  2.21it/s]\u001b[A\n",
      " 32%|███▏      | 141/447 [01:57<02:23,  2.14it/s]\u001b[A\n",
      " 32%|███▏      | 142/447 [01:57<02:26,  2.08it/s]\u001b[A\n",
      " 32%|███▏      | 143/447 [01:58<02:26,  2.07it/s]\u001b[A\n",
      " 32%|███▏      | 144/447 [01:58<02:23,  2.12it/s]\u001b[A\n",
      " 32%|███▏      | 145/447 [01:59<02:13,  2.26it/s]\u001b[A\n",
      " 33%|███▎      | 146/447 [01:59<02:21,  2.12it/s]\u001b[A\n",
      " 33%|███▎      | 147/447 [02:00<02:21,  2.12it/s]\u001b[A\n",
      " 33%|███▎      | 148/447 [02:00<02:19,  2.14it/s]\u001b[A\n",
      " 33%|███▎      | 149/447 [02:00<02:12,  2.24it/s]\u001b[A\n",
      " 34%|███▎      | 150/447 [02:01<02:07,  2.33it/s]\u001b[A\n",
      " 34%|███▍      | 151/447 [02:01<01:42,  2.90it/s]\u001b[A"
     ]
    },
    {
     "name": "stdout",
     "output_type": "stream",
     "text": [
      "An exception occurred\n"
     ]
    },
    {
     "name": "stderr",
     "output_type": "stream",
     "text": [
      "\n",
      " 34%|███▍      | 152/447 [02:01<01:41,  2.90it/s]\u001b[A\n",
      " 34%|███▍      | 153/447 [02:02<01:53,  2.60it/s]\u001b[A\n",
      " 34%|███▍      | 154/447 [02:02<01:55,  2.53it/s]\u001b[A\n",
      " 35%|███▍      | 155/447 [02:03<02:06,  2.31it/s]\u001b[A\n",
      " 35%|███▍      | 156/447 [02:03<01:59,  2.43it/s]\u001b[A\n",
      " 35%|███▌      | 157/447 [02:04<02:05,  2.31it/s]\u001b[A\n",
      " 35%|███▌      | 158/447 [02:04<01:59,  2.42it/s]\u001b[A\n",
      " 36%|███▌      | 159/447 [02:04<01:55,  2.49it/s]\u001b[A\n",
      " 36%|███▌      | 160/447 [02:05<01:49,  2.63it/s]\u001b[A\n",
      " 36%|███▌      | 161/447 [02:05<01:57,  2.43it/s]\u001b[A\n",
      " 36%|███▌      | 162/447 [02:06<01:50,  2.57it/s]\u001b[A\n",
      " 36%|███▋      | 163/447 [02:06<01:50,  2.57it/s]\u001b[A\n",
      " 37%|███▋      | 164/447 [02:06<01:45,  2.69it/s]\u001b[A\n",
      " 37%|███▋      | 165/447 [02:07<01:43,  2.72it/s]\u001b[A\n",
      " 37%|███▋      | 166/447 [02:07<01:52,  2.51it/s]\u001b[A\n",
      " 37%|███▋      | 167/447 [02:07<01:54,  2.45it/s]\u001b[A\n",
      " 38%|███▊      | 168/447 [02:08<01:57,  2.38it/s]\u001b[A\n",
      " 38%|███▊      | 169/447 [02:08<01:52,  2.48it/s]\u001b[A\n",
      " 38%|███▊      | 170/447 [02:09<01:45,  2.62it/s]\u001b[A\n",
      " 38%|███▊      | 171/447 [02:09<01:39,  2.79it/s]\u001b[A\n",
      " 38%|███▊      | 172/447 [02:10<01:59,  2.30it/s]\u001b[A\n",
      " 39%|███▊      | 173/447 [02:10<01:59,  2.30it/s]\u001b[A\n",
      " 39%|███▉      | 174/447 [02:10<01:59,  2.29it/s]\u001b[A\n",
      " 39%|███▉      | 175/447 [02:11<01:55,  2.36it/s]\u001b[A\n",
      " 39%|███▉      | 176/447 [02:11<01:48,  2.49it/s]\u001b[A\n",
      " 40%|███▉      | 177/447 [02:12<01:45,  2.57it/s]\u001b[A\n",
      " 40%|███▉      | 178/447 [02:12<02:00,  2.23it/s]\u001b[A\n",
      " 40%|████      | 179/447 [02:13<01:54,  2.35it/s]\u001b[A\n",
      " 40%|████      | 180/447 [02:13<01:50,  2.42it/s]\u001b[A\n",
      " 40%|████      | 181/447 [02:14<02:09,  2.05it/s]\u001b[A\n",
      " 41%|████      | 182/447 [02:14<02:09,  2.05it/s]\u001b[A\n",
      " 41%|████      | 183/447 [02:14<02:02,  2.16it/s]\u001b[A\n",
      " 41%|████      | 184/447 [02:15<02:12,  1.98it/s]\u001b[A\n",
      " 41%|████▏     | 185/447 [02:16<02:12,  1.98it/s]\u001b[A\n",
      " 42%|████▏     | 186/447 [02:16<02:09,  2.01it/s]\u001b[A\n",
      " 42%|████▏     | 187/447 [02:16<02:07,  2.04it/s]\u001b[A\n",
      " 42%|████▏     | 188/447 [02:17<02:01,  2.14it/s]\u001b[A\n",
      " 42%|████▏     | 189/447 [02:17<01:56,  2.21it/s]\u001b[A\n",
      " 43%|████▎     | 190/447 [02:18<01:52,  2.29it/s]\u001b[A\n",
      " 43%|████▎     | 191/447 [02:18<01:56,  2.20it/s]\u001b[A\n",
      " 43%|████▎     | 192/447 [02:19<01:51,  2.29it/s]\u001b[A\n",
      " 43%|████▎     | 193/447 [02:19<01:52,  2.27it/s]\u001b[A\n",
      " 43%|████▎     | 194/447 [02:19<01:48,  2.34it/s]\u001b[A\n",
      " 44%|████▎     | 195/447 [02:20<01:49,  2.30it/s]\u001b[A\n",
      " 44%|████▍     | 196/447 [02:20<01:51,  2.26it/s]\u001b[A\n",
      " 44%|████▍     | 197/447 [02:21<01:56,  2.14it/s]\u001b[A\n",
      " 44%|████▍     | 198/447 [02:21<01:58,  2.11it/s]\u001b[A\n",
      " 45%|████▍     | 199/447 [02:22<01:54,  2.16it/s]\u001b[A\n",
      " 45%|████▍     | 200/447 [02:22<01:54,  2.16it/s]\u001b[A\n",
      " 45%|████▍     | 201/447 [02:23<01:51,  2.21it/s]\u001b[A\n",
      " 45%|████▌     | 202/447 [03:23<1:15:23, 18.46s/it]\u001b[A\n",
      " 45%|████▌     | 203/447 [03:24<53:11, 13.08s/it]  \u001b[A\n",
      " 46%|████▌     | 204/447 [03:24<37:43,  9.31s/it]\u001b[A\n",
      " 46%|████▌     | 205/447 [03:25<26:47,  6.64s/it]\u001b[A\n",
      " 46%|████▌     | 206/447 [03:25<19:17,  4.80s/it]\u001b[A\n",
      " 46%|████▋     | 207/447 [03:26<14:01,  3.51s/it]\u001b[A\n",
      " 47%|████▋     | 208/447 [03:26<10:17,  2.58s/it]\u001b[A\n",
      " 47%|████▋     | 209/447 [03:26<07:37,  1.92s/it]\u001b[A\n",
      " 47%|████▋     | 210/447 [03:27<05:44,  1.45s/it]\u001b[A\n",
      " 47%|████▋     | 211/447 [03:27<04:35,  1.17s/it]\u001b[A\n",
      " 47%|████▋     | 212/447 [03:28<03:37,  1.08it/s]\u001b[A\n",
      " 48%|████▊     | 213/447 [03:28<03:02,  1.28it/s]\u001b[A\n",
      " 48%|████▊     | 214/447 [03:29<02:36,  1.49it/s]\u001b[A\n",
      " 48%|████▊     | 215/447 [03:29<02:13,  1.73it/s]\u001b[A\n",
      " 48%|████▊     | 216/447 [03:29<01:51,  2.07it/s]\u001b[A\n",
      " 49%|████▊     | 217/447 [03:30<01:43,  2.22it/s]\u001b[A\n",
      " 49%|████▉     | 218/447 [03:30<01:32,  2.48it/s]\u001b[A\n",
      " 49%|████▉     | 219/447 [03:30<01:27,  2.60it/s]\u001b[A\n",
      " 49%|████▉     | 220/447 [03:31<01:33,  2.44it/s]\u001b[A\n",
      " 49%|████▉     | 221/447 [03:31<01:26,  2.61it/s]\u001b[A\n",
      " 50%|████▉     | 222/447 [03:32<01:37,  2.30it/s]\u001b[A\n",
      " 50%|████▉     | 223/447 [03:32<01:32,  2.42it/s]\u001b[A\n",
      " 50%|█████     | 224/447 [03:32<01:29,  2.50it/s]\u001b[A\n",
      " 50%|█████     | 225/447 [03:33<01:29,  2.49it/s]\u001b[A\n",
      " 51%|█████     | 226/447 [03:33<01:29,  2.46it/s]\u001b[A\n",
      " 51%|█████     | 227/447 [03:34<01:31,  2.41it/s]\u001b[A\n",
      " 51%|█████     | 228/447 [03:34<01:27,  2.52it/s]\u001b[A\n",
      " 51%|█████     | 229/447 [03:34<01:22,  2.64it/s]\u001b[A\n",
      " 51%|█████▏    | 230/447 [03:34<01:14,  2.90it/s]\u001b[A\n",
      " 52%|█████▏    | 231/447 [03:35<01:13,  2.95it/s]\u001b[A\n",
      " 52%|█████▏    | 232/447 [03:35<01:16,  2.79it/s]\u001b[A\n",
      " 52%|█████▏    | 233/447 [03:36<01:18,  2.72it/s]\u001b[A\n",
      " 52%|█████▏    | 234/447 [03:36<01:42,  2.07it/s]\u001b[A\n",
      " 53%|█████▎    | 235/447 [03:37<01:34,  2.25it/s]\u001b[A\n",
      " 53%|█████▎    | 236/447 [03:37<01:26,  2.44it/s]\u001b[A\n",
      " 53%|█████▎    | 237/447 [03:38<01:35,  2.19it/s]\u001b[A\n",
      " 53%|█████▎    | 238/447 [03:38<01:31,  2.29it/s]\u001b[A\n",
      " 53%|█████▎    | 239/447 [03:38<01:33,  2.22it/s]\u001b[A\n",
      " 54%|█████▎    | 240/447 [03:39<01:38,  2.10it/s]\u001b[A\n",
      " 54%|█████▍    | 241/447 [03:40<01:45,  1.95it/s]\u001b[A\n",
      " 54%|█████▍    | 242/447 [03:40<01:42,  2.00it/s]\u001b[A\n",
      " 54%|█████▍    | 243/447 [03:41<01:44,  1.95it/s]\u001b[A\n",
      " 55%|█████▍    | 244/447 [03:41<01:39,  2.03it/s]\u001b[A\n",
      " 55%|█████▍    | 245/447 [03:42<01:42,  1.96it/s]\u001b[A\n",
      " 55%|█████▌    | 246/447 [03:42<01:43,  1.94it/s]\u001b[A\n",
      " 55%|█████▌    | 247/447 [03:43<01:40,  2.00it/s]\u001b[A\n",
      " 55%|█████▌    | 248/447 [03:43<01:38,  2.01it/s]\u001b[A\n",
      " 56%|█████▌    | 249/447 [03:43<01:33,  2.12it/s]\u001b[A\n",
      " 56%|█████▌    | 250/447 [03:44<01:33,  2.10it/s]\u001b[A\n",
      " 56%|█████▌    | 251/447 [03:44<01:27,  2.24it/s]\u001b[A\n",
      " 56%|█████▋    | 252/447 [03:45<01:32,  2.10it/s]\u001b[A\n",
      " 57%|█████▋    | 253/447 [03:45<01:32,  2.09it/s]\u001b[A\n",
      " 57%|█████▋    | 254/447 [03:46<01:28,  2.17it/s]\u001b[A\n",
      " 57%|█████▋    | 255/447 [03:46<01:23,  2.30it/s]\u001b[A\n",
      " 57%|█████▋    | 256/447 [03:47<01:20,  2.37it/s]\u001b[A\n",
      " 57%|█████▋    | 257/447 [03:47<01:17,  2.44it/s]\u001b[A\n",
      " 58%|█████▊    | 258/447 [03:47<01:15,  2.50it/s]\u001b[A\n",
      " 58%|█████▊    | 259/447 [03:48<01:13,  2.57it/s]\u001b[A\n",
      " 58%|█████▊    | 260/447 [03:48<01:17,  2.42it/s]\u001b[A\n",
      " 58%|█████▊    | 261/447 [03:49<01:18,  2.38it/s]\u001b[A\n",
      " 59%|█████▊    | 262/447 [03:49<01:15,  2.44it/s]\u001b[A\n",
      " 59%|█████▉    | 263/447 [03:49<01:18,  2.36it/s]\u001b[A\n",
      " 59%|█████▉    | 264/447 [03:50<01:14,  2.47it/s]\u001b[A\n",
      " 59%|█████▉    | 265/447 [03:50<01:15,  2.42it/s]\u001b[A\n",
      " 60%|█████▉    | 266/447 [03:51<01:10,  2.56it/s]\u001b[A\n",
      " 60%|█████▉    | 267/447 [03:51<01:09,  2.59it/s]\u001b[A\n",
      " 60%|█████▉    | 268/447 [03:51<01:09,  2.58it/s]\u001b[A\n",
      " 60%|██████    | 269/447 [03:52<01:11,  2.50it/s]\u001b[A\n",
      " 60%|██████    | 270/447 [03:52<01:11,  2.48it/s]\u001b[A\n",
      " 61%|██████    | 271/447 [03:53<01:09,  2.52it/s]\u001b[A\n",
      " 61%|██████    | 272/447 [03:53<01:10,  2.47it/s]\u001b[A\n",
      " 61%|██████    | 273/447 [03:53<01:09,  2.51it/s]\u001b[A\n",
      " 61%|██████▏   | 274/447 [03:54<01:11,  2.43it/s]\u001b[A\n",
      " 62%|██████▏   | 275/447 [03:54<01:05,  2.63it/s]\u001b[A\n",
      " 62%|██████▏   | 276/447 [03:55<01:05,  2.61it/s]\u001b[A\n",
      " 62%|██████▏   | 277/447 [03:55<01:03,  2.66it/s]\u001b[A\n",
      " 62%|██████▏   | 278/447 [03:55<01:07,  2.49it/s]\u001b[A\n",
      " 62%|██████▏   | 279/447 [03:56<01:09,  2.41it/s]\u001b[A\n",
      " 63%|██████▎   | 280/447 [03:56<01:05,  2.53it/s]\u001b[A\n",
      " 63%|██████▎   | 281/447 [03:57<01:09,  2.39it/s]\u001b[A\n",
      " 63%|██████▎   | 282/447 [03:57<01:07,  2.43it/s]\u001b[A\n",
      " 63%|██████▎   | 283/447 [03:57<01:03,  2.57it/s]\u001b[A\n",
      " 64%|██████▎   | 284/447 [03:58<01:02,  2.61it/s]\u001b[A\n",
      " 64%|██████▍   | 285/447 [03:58<01:00,  2.66it/s]\u001b[A\n",
      " 64%|██████▍   | 286/447 [03:58<00:59,  2.70it/s]\u001b[A\n",
      " 64%|██████▍   | 287/447 [03:59<00:58,  2.75it/s]\u001b[A\n",
      " 64%|██████▍   | 288/447 [03:59<00:58,  2.74it/s]\u001b[A\n",
      " 65%|██████▍   | 289/447 [04:00<00:59,  2.64it/s]\u001b[A\n",
      " 65%|██████▍   | 290/447 [04:00<00:49,  3.18it/s]\u001b[A"
     ]
    },
    {
     "name": "stdout",
     "output_type": "stream",
     "text": [
      "An exception occurred\n"
     ]
    },
    {
     "name": "stderr",
     "output_type": "stream",
     "text": [
      "\n",
      " 65%|██████▌   | 291/447 [04:00<00:53,  2.92it/s]\u001b[A\n",
      " 65%|██████▌   | 292/447 [04:01<01:16,  2.03it/s]\u001b[A\n",
      " 66%|██████▌   | 293/447 [04:01<01:14,  2.07it/s]\u001b[A\n",
      " 66%|██████▌   | 294/447 [04:02<01:08,  2.24it/s]\u001b[A\n",
      " 66%|██████▌   | 295/447 [04:02<01:14,  2.04it/s]\u001b[A\n",
      " 66%|██████▌   | 296/447 [04:03<01:07,  2.25it/s]\u001b[A\n",
      " 66%|██████▋   | 297/447 [04:03<01:10,  2.14it/s]\u001b[A\n",
      " 67%|██████▋   | 298/447 [04:04<01:10,  2.11it/s]\u001b[A\n",
      " 67%|██████▋   | 299/447 [04:04<01:03,  2.33it/s]\u001b[A\n",
      " 67%|██████▋   | 300/447 [04:04<00:59,  2.48it/s]\u001b[A\n",
      " 67%|██████▋   | 301/447 [04:05<00:59,  2.44it/s]\u001b[A\n",
      " 68%|██████▊   | 302/447 [04:05<00:57,  2.51it/s]\u001b[A\n",
      " 68%|██████▊   | 303/447 [05:06<44:11, 18.42s/it]\u001b[A\n",
      " 68%|██████▊   | 304/447 [05:06<31:04, 13.04s/it]\u001b[A\n",
      " 68%|██████▊   | 305/447 [05:06<21:50,  9.23s/it]\u001b[A\n",
      " 68%|██████▊   | 306/447 [05:07<15:27,  6.58s/it]\u001b[A\n",
      " 69%|██████▊   | 307/447 [05:07<11:00,  4.72s/it]\u001b[A\n",
      " 69%|██████▉   | 308/447 [05:08<07:54,  3.41s/it]\u001b[A\n",
      " 69%|██████▉   | 309/447 [05:08<05:43,  2.49s/it]\u001b[A\n",
      " 69%|██████▉   | 310/447 [05:08<04:20,  1.90s/it]\u001b[A\n",
      " 70%|██████▉   | 311/447 [05:09<03:20,  1.47s/it]\u001b[A\n",
      " 70%|██████▉   | 312/447 [05:09<02:34,  1.14s/it]\u001b[A\n",
      " 70%|███████   | 313/447 [05:10<02:00,  1.11it/s]\u001b[A\n",
      " 70%|███████   | 314/447 [05:10<01:37,  1.36it/s]\u001b[A\n",
      " 70%|███████   | 315/447 [05:10<01:23,  1.59it/s]\u001b[A\n",
      " 71%|███████   | 316/447 [05:11<01:14,  1.76it/s]\u001b[A\n",
      " 71%|███████   | 317/447 [05:11<01:07,  1.92it/s]\u001b[A\n",
      " 71%|███████   | 318/447 [05:12<01:05,  1.97it/s]\u001b[A\n",
      " 71%|███████▏  | 319/447 [05:12<01:00,  2.12it/s]\u001b[A\n",
      " 72%|███████▏  | 320/447 [05:13<00:59,  2.12it/s]\u001b[A\n",
      " 72%|███████▏  | 321/447 [05:13<01:01,  2.07it/s]\u001b[A\n",
      " 72%|███████▏  | 322/447 [05:14<00:58,  2.13it/s]\u001b[A\n",
      " 72%|███████▏  | 323/447 [05:14<00:58,  2.11it/s]\u001b[A\n",
      " 72%|███████▏  | 324/447 [05:14<00:52,  2.36it/s]\u001b[A\n",
      " 73%|███████▎  | 325/447 [05:15<00:50,  2.40it/s]\u001b[A\n",
      " 73%|███████▎  | 326/447 [05:15<00:55,  2.19it/s]\u001b[A\n",
      " 73%|███████▎  | 327/447 [05:16<00:52,  2.29it/s]\u001b[A\n",
      " 73%|███████▎  | 328/447 [05:16<00:52,  2.25it/s]\u001b[A\n",
      " 74%|███████▎  | 329/447 [05:16<00:50,  2.36it/s]\u001b[A\n",
      " 74%|███████▍  | 330/447 [05:17<00:58,  2.02it/s]\u001b[A\n",
      " 74%|███████▍  | 331/447 [05:18<00:54,  2.14it/s]\u001b[A\n",
      " 74%|███████▍  | 332/447 [05:18<00:53,  2.16it/s]\u001b[A\n",
      " 74%|███████▍  | 333/447 [05:18<00:53,  2.12it/s]\u001b[A\n",
      " 75%|███████▍  | 334/447 [05:19<00:52,  2.14it/s]\u001b[A\n",
      " 75%|███████▍  | 335/447 [05:19<00:47,  2.38it/s]\u001b[A\n",
      " 75%|███████▌  | 336/447 [05:20<00:42,  2.62it/s]\u001b[A\n",
      " 75%|███████▌  | 337/447 [05:20<00:41,  2.63it/s]\u001b[A\n",
      " 76%|███████▌  | 338/447 [05:21<00:47,  2.28it/s]\u001b[A\n",
      " 76%|███████▌  | 339/447 [05:21<00:48,  2.22it/s]\u001b[A\n",
      " 76%|███████▌  | 340/447 [05:21<00:50,  2.13it/s]\u001b[A\n",
      " 76%|███████▋  | 341/447 [05:22<00:58,  1.81it/s]\u001b[A\n",
      " 77%|███████▋  | 342/447 [05:23<00:53,  1.96it/s]\u001b[A\n",
      " 77%|███████▋  | 343/447 [05:23<00:47,  2.20it/s]\u001b[A\n",
      " 77%|███████▋  | 344/447 [05:23<00:46,  2.20it/s]\u001b[A\n",
      " 77%|███████▋  | 345/447 [05:24<00:47,  2.14it/s]\u001b[A\n",
      " 77%|███████▋  | 346/447 [05:24<00:43,  2.34it/s]\u001b[A\n",
      " 78%|███████▊  | 347/447 [05:25<00:40,  2.46it/s]\u001b[A\n",
      " 78%|███████▊  | 348/447 [05:25<00:40,  2.45it/s]\u001b[A\n",
      " 78%|███████▊  | 349/447 [05:25<00:36,  2.71it/s]\u001b[A\n",
      " 78%|███████▊  | 350/447 [05:26<00:37,  2.58it/s]\u001b[A\n",
      " 79%|███████▊  | 351/447 [05:26<00:37,  2.56it/s]\u001b[A\n",
      " 79%|███████▊  | 352/447 [05:27<00:39,  2.38it/s]\u001b[A\n",
      " 79%|███████▉  | 353/447 [05:27<00:40,  2.31it/s]\u001b[A\n",
      " 79%|███████▉  | 354/447 [05:28<00:40,  2.27it/s]\u001b[A\n",
      " 79%|███████▉  | 355/447 [05:28<00:40,  2.28it/s]\u001b[A\n",
      " 80%|███████▉  | 356/447 [05:28<00:40,  2.26it/s]\u001b[A\n",
      " 80%|███████▉  | 357/447 [05:29<00:41,  2.18it/s]\u001b[A\n",
      " 80%|████████  | 358/447 [05:29<00:42,  2.12it/s]\u001b[A\n",
      " 80%|████████  | 359/447 [05:30<00:44,  1.99it/s]\u001b[A\n",
      " 81%|████████  | 360/447 [05:31<00:44,  1.97it/s]\u001b[A\n",
      " 81%|████████  | 361/447 [05:31<00:43,  1.99it/s]\u001b[A\n",
      " 81%|████████  | 362/447 [05:31<00:40,  2.08it/s]\u001b[A\n",
      " 81%|████████  | 363/447 [05:32<00:40,  2.09it/s]\u001b[A\n",
      " 81%|████████▏ | 364/447 [05:32<00:38,  2.13it/s]\u001b[A\n",
      " 82%|████████▏ | 365/447 [05:33<00:36,  2.22it/s]\u001b[A\n",
      " 82%|████████▏ | 366/447 [05:33<00:34,  2.35it/s]\u001b[A\n",
      " 82%|████████▏ | 367/447 [05:33<00:31,  2.53it/s]\u001b[A\n",
      " 82%|████████▏ | 368/447 [05:34<00:29,  2.63it/s]\u001b[A\n",
      " 83%|████████▎ | 369/447 [05:34<00:26,  2.92it/s]\u001b[A\n",
      " 83%|████████▎ | 370/447 [05:34<00:28,  2.72it/s]\u001b[A\n",
      " 83%|████████▎ | 371/447 [05:35<00:28,  2.66it/s]\u001b[A\n",
      " 83%|████████▎ | 372/447 [05:35<00:28,  2.66it/s]\u001b[A\n",
      " 83%|████████▎ | 373/447 [05:36<00:28,  2.62it/s]\u001b[A\n",
      " 84%|████████▎ | 374/447 [05:36<00:27,  2.66it/s]\u001b[A\n",
      " 84%|████████▍ | 375/447 [05:36<00:26,  2.76it/s]\u001b[A\n",
      " 84%|████████▍ | 376/447 [05:37<00:28,  2.52it/s]\u001b[A\n",
      " 84%|████████▍ | 377/447 [05:37<00:31,  2.24it/s]\u001b[A\n",
      " 85%|████████▍ | 378/447 [05:38<00:30,  2.28it/s]\u001b[A\n",
      " 85%|████████▍ | 379/447 [05:38<00:28,  2.36it/s]\u001b[A\n",
      " 85%|████████▌ | 380/447 [05:39<00:27,  2.40it/s]\u001b[A\n",
      " 85%|████████▌ | 381/447 [05:39<00:27,  2.42it/s]\u001b[A\n",
      " 85%|████████▌ | 382/447 [05:39<00:26,  2.41it/s]\u001b[A\n",
      " 86%|████████▌ | 383/447 [05:40<00:27,  2.31it/s]\u001b[A\n",
      " 86%|████████▌ | 384/447 [05:40<00:27,  2.26it/s]\u001b[A\n",
      " 86%|████████▌ | 385/447 [05:41<00:25,  2.39it/s]\u001b[A\n",
      " 86%|████████▋ | 386/447 [05:41<00:24,  2.53it/s]\u001b[A\n",
      " 87%|████████▋ | 387/447 [05:42<00:26,  2.24it/s]\u001b[A\n",
      " 87%|████████▋ | 388/447 [05:42<00:26,  2.21it/s]\u001b[A\n",
      " 87%|████████▋ | 389/447 [05:43<00:27,  2.15it/s]\u001b[A\n",
      " 87%|████████▋ | 390/447 [05:43<00:29,  1.95it/s]\u001b[A\n",
      " 87%|████████▋ | 391/447 [05:44<00:26,  2.11it/s]\u001b[A\n",
      " 88%|████████▊ | 392/447 [05:44<00:26,  2.06it/s]\u001b[A\n",
      " 88%|████████▊ | 393/447 [05:45<00:26,  2.01it/s]\u001b[A\n",
      " 88%|████████▊ | 394/447 [05:45<00:26,  1.99it/s]\u001b[A\n",
      " 88%|████████▊ | 395/447 [05:45<00:23,  2.23it/s]\u001b[A\n",
      " 89%|████████▊ | 396/447 [05:46<00:22,  2.23it/s]\u001b[A\n",
      " 89%|████████▉ | 397/447 [05:46<00:20,  2.40it/s]\u001b[A\n",
      " 89%|████████▉ | 398/447 [05:47<00:18,  2.61it/s]\u001b[A\n",
      " 89%|████████▉ | 399/447 [05:47<00:20,  2.37it/s]\u001b[A\n",
      " 89%|████████▉ | 400/447 [05:48<00:19,  2.37it/s]\u001b[A\n",
      " 90%|████████▉ | 401/447 [05:48<00:18,  2.52it/s]\u001b[A\n",
      " 90%|████████▉ | 402/447 [05:48<00:18,  2.44it/s]\u001b[A\n",
      " 90%|█████████ | 403/447 [06:49<13:29, 18.40s/it]\u001b[A\n",
      " 90%|█████████ | 404/447 [06:49<09:20, 13.03s/it]\u001b[A\n",
      " 91%|█████████ | 405/447 [06:50<06:29,  9.27s/it]\u001b[A\n",
      " 91%|█████████ | 406/447 [06:50<04:29,  6.58s/it]\u001b[A\n",
      " 91%|█████████ | 407/447 [06:51<03:12,  4.80s/it]\u001b[A\n",
      " 91%|█████████▏| 408/447 [06:51<02:14,  3.46s/it]\u001b[A\n",
      " 91%|█████████▏| 409/447 [06:52<01:38,  2.58s/it]\u001b[A\n",
      " 92%|█████████▏| 410/447 [06:52<01:12,  1.97s/it]\u001b[A\n",
      " 92%|█████████▏| 411/447 [06:53<00:55,  1.55s/it]\u001b[A\n",
      " 92%|█████████▏| 412/447 [06:53<00:41,  1.19s/it]\u001b[A\n",
      " 92%|█████████▏| 413/447 [06:53<00:31,  1.07it/s]\u001b[A\n",
      " 93%|█████████▎| 414/447 [06:54<00:24,  1.35it/s]\u001b[A\n",
      " 93%|█████████▎| 415/447 [06:54<00:21,  1.50it/s]\u001b[A\n",
      " 93%|█████████▎| 416/447 [06:54<00:17,  1.74it/s]\u001b[A\n",
      " 93%|█████████▎| 417/447 [06:55<00:15,  1.89it/s]\u001b[A\n",
      " 94%|█████████▎| 418/447 [06:55<00:14,  2.01it/s]\u001b[A\n",
      " 94%|█████████▎| 419/447 [06:56<00:12,  2.21it/s]\u001b[A\n",
      " 94%|█████████▍| 420/447 [06:56<00:15,  1.75it/s]\u001b[A\n",
      " 94%|█████████▍| 421/447 [06:57<00:13,  1.96it/s]\u001b[A\n",
      " 94%|█████████▍| 422/447 [06:57<00:11,  2.09it/s]\u001b[A\n",
      " 95%|█████████▍| 423/447 [06:58<00:11,  2.16it/s]\u001b[A\n",
      " 95%|█████████▍| 424/447 [06:58<00:09,  2.36it/s]\u001b[A\n",
      " 95%|█████████▌| 425/447 [06:58<00:09,  2.29it/s]\u001b[A\n",
      " 95%|█████████▌| 426/447 [06:59<00:08,  2.39it/s]\u001b[A\n",
      " 96%|█████████▌| 427/447 [06:59<00:07,  2.54it/s]\u001b[A\n",
      " 96%|█████████▌| 428/447 [07:00<00:07,  2.53it/s]\u001b[A\n",
      " 96%|█████████▌| 429/447 [07:00<00:07,  2.45it/s]\u001b[A\n",
      " 96%|█████████▌| 430/447 [07:00<00:07,  2.42it/s]\u001b[A\n",
      " 96%|█████████▋| 431/447 [07:01<00:06,  2.40it/s]\u001b[A\n",
      " 97%|█████████▋| 432/447 [07:01<00:05,  2.54it/s]\u001b[A\n",
      " 97%|█████████▋| 433/447 [07:02<00:05,  2.46it/s]\u001b[A\n",
      " 97%|█████████▋| 434/447 [07:02<00:04,  2.63it/s]\u001b[A\n",
      " 97%|█████████▋| 435/447 [07:02<00:04,  2.69it/s]\u001b[A\n",
      " 98%|█████████▊| 436/447 [07:03<00:04,  2.71it/s]\u001b[A\n",
      " 98%|█████████▊| 437/447 [07:03<00:03,  2.80it/s]\u001b[A\n",
      " 98%|█████████▊| 438/447 [07:03<00:03,  2.86it/s]\u001b[A\n",
      " 98%|█████████▊| 439/447 [07:04<00:02,  2.71it/s]\u001b[A\n",
      " 98%|█████████▊| 440/447 [07:04<00:02,  2.89it/s]\u001b[A\n",
      " 99%|█████████▊| 441/447 [07:04<00:02,  2.88it/s]\u001b[A\n",
      " 99%|█████████▉| 442/447 [07:05<00:02,  2.45it/s]\u001b[A\n",
      " 99%|█████████▉| 443/447 [07:05<00:01,  2.43it/s]\u001b[A\n",
      " 99%|█████████▉| 444/447 [07:06<00:01,  2.42it/s]\u001b[A\n"
     ]
    },
    {
     "name": "stderr",
     "output_type": "stream",
     "text": [
      "100%|█████████▉| 445/447 [07:06<00:00,  2.20it/s]\u001b[A\n",
      "100%|█████████▉| 446/447 [07:07<00:00,  2.33it/s]\u001b[A\n",
      "100%|██████████| 447/447 [07:07<00:00,  1.05it/s]\u001b[A\n"
     ]
    },
    {
     "name": "stdout",
     "output_type": "stream",
     "text": [
      "length of df 444\n",
      "krishnaik06_comments.csv Witten\n"
     ]
    },
    {
     "name": "stderr",
     "output_type": "stream",
     "text": [
      "\r",
      " 20%|██        | 2/10 [20:06<1:17:45, 583.24s/it]"
     ]
    },
    {
     "name": "stdout",
     "output_type": "stream",
     "text": [
      "iNeuron_Intelligence UCb1GdqUqArXMQ3RS86lqqOw\n"
     ]
    },
    {
     "name": "stderr",
     "output_type": "stream",
     "text": [
      "\n",
      "  0%|          | 0/339 [00:00<?, ?it/s]\u001b[A"
     ]
    },
    {
     "name": "stdout",
     "output_type": "stream",
     "text": [
      "An exception occurred Key error\n",
      "An exception occurred Key error\n",
      "An exception occurred Key error\n",
      "An exception occurred Key error\n",
      "An exception occurred Key error\n",
      "An exception occurred Key error\n",
      "An exception occurred Key error\n",
      "An exception occurred Key error\n",
      "An exception occurred Key error\n",
      "An exception occurred Key error\n",
      "An exception occurred Key error\n",
      "An exception occurred Key error\n",
      "An exception occurred Key error\n",
      "An exception occurred Key error\n",
      "An exception occurred Key error\n",
      "An exception occurred Key error\n",
      "An exception occurred Key error\n"
     ]
    },
    {
     "name": "stderr",
     "output_type": "stream",
     "text": [
      "\n",
      "  0%|          | 0/339 [00:13<?, ?it/s]\u001b[A"
     ]
    },
    {
     "name": "stdout",
     "output_type": "stream",
     "text": [
      "An exception occurred Key error\n"
     ]
    },
    {
     "name": "stderr",
     "output_type": "stream",
     "text": [
      "\n",
      " 14%|█▍        | 47/339 [00:13<01:22,  3.55it/s]\u001b[A"
     ]
    },
    {
     "name": "stdout",
     "output_type": "stream",
     "text": [
      "An exception occurred Key error\n"
     ]
    },
    {
     "name": "stderr",
     "output_type": "stream",
     "text": [
      "\n",
      " 14%|█▍        | 48/339 [00:13<01:21,  3.56it/s]\u001b[A"
     ]
    },
    {
     "name": "stdout",
     "output_type": "stream",
     "text": [
      "An exception occurred Key error\n"
     ]
    },
    {
     "name": "stderr",
     "output_type": "stream",
     "text": [
      "\n",
      " 14%|█▍        | 49/339 [00:13<01:21,  3.54it/s]\u001b[A\n",
      " 15%|█▍        | 50/339 [00:14<01:21,  3.53it/s]\u001b[A\n",
      " 15%|█▌        | 51/339 [00:14<01:22,  3.48it/s]\u001b[A\n",
      " 15%|█▌        | 52/339 [00:14<01:22,  3.48it/s]\u001b[A\n",
      " 16%|█▌        | 53/339 [00:15<01:24,  3.40it/s]\u001b[A\n",
      " 16%|█▌        | 54/339 [00:15<01:23,  3.40it/s]\u001b[A\n",
      " 16%|█▌        | 55/339 [00:15<01:27,  3.26it/s]\u001b[A\n",
      " 17%|█▋        | 56/339 [00:16<01:30,  3.14it/s]\u001b[A\n",
      " 17%|█▋        | 57/339 [00:16<01:32,  3.05it/s]\u001b[A\n",
      " 17%|█▋        | 58/339 [00:16<01:31,  3.07it/s]\u001b[A\n",
      " 17%|█▋        | 59/339 [00:17<01:24,  3.33it/s]\u001b[A"
     ]
    },
    {
     "name": "stdout",
     "output_type": "stream",
     "text": [
      "An exception occurred Key error\n"
     ]
    },
    {
     "name": "stderr",
     "output_type": "stream",
     "text": [
      "\n",
      " 18%|█▊        | 60/339 [00:17<01:18,  3.56it/s]\u001b[A"
     ]
    },
    {
     "name": "stdout",
     "output_type": "stream",
     "text": [
      "An exception occurred Key error\n"
     ]
    },
    {
     "name": "stderr",
     "output_type": "stream",
     "text": [
      "\n",
      " 18%|█▊        | 61/339 [00:17<01:15,  3.67it/s]\u001b[A"
     ]
    },
    {
     "name": "stdout",
     "output_type": "stream",
     "text": [
      "An exception occurred Key error\n"
     ]
    },
    {
     "name": "stderr",
     "output_type": "stream",
     "text": [
      "\n",
      " 18%|█▊        | 62/339 [00:17<01:10,  3.92it/s]\u001b[A"
     ]
    },
    {
     "name": "stdout",
     "output_type": "stream",
     "text": [
      "An exception occurred Key error\n"
     ]
    },
    {
     "name": "stderr",
     "output_type": "stream",
     "text": [
      "\n",
      " 19%|█▊        | 63/339 [00:17<01:07,  4.09it/s]\u001b[A"
     ]
    },
    {
     "name": "stdout",
     "output_type": "stream",
     "text": [
      "An exception occurred Key error\n"
     ]
    },
    {
     "name": "stderr",
     "output_type": "stream",
     "text": [
      "\n",
      " 19%|█▉        | 64/339 [00:18<01:09,  3.95it/s]\u001b[A\n",
      " 19%|█▉        | 65/339 [00:18<01:16,  3.58it/s]\u001b[A\n",
      " 19%|█▉        | 66/339 [00:18<01:20,  3.37it/s]\u001b[A\n",
      " 20%|█▉        | 67/339 [00:19<01:20,  3.38it/s]\u001b[A\n",
      " 20%|██        | 68/339 [00:19<01:18,  3.45it/s]\u001b[A\n",
      " 20%|██        | 69/339 [00:19<01:21,  3.32it/s]\u001b[A\n",
      " 21%|██        | 70/339 [00:20<01:24,  3.20it/s]\u001b[A\n",
      " 21%|██        | 71/339 [00:20<01:24,  3.17it/s]\u001b[A\n",
      " 21%|██        | 72/339 [00:20<01:21,  3.26it/s]\u001b[A\n",
      " 22%|██▏       | 73/339 [00:21<01:19,  3.35it/s]\u001b[A\n",
      " 22%|██▏       | 74/339 [00:21<01:17,  3.40it/s]\u001b[A\n",
      " 22%|██▏       | 75/339 [00:21<01:11,  3.69it/s]\u001b[A"
     ]
    },
    {
     "name": "stdout",
     "output_type": "stream",
     "text": [
      "An exception occurred Key error\n"
     ]
    },
    {
     "name": "stderr",
     "output_type": "stream",
     "text": [
      "\n",
      " 22%|██▏       | 76/339 [00:21<01:06,  3.93it/s]\u001b[A"
     ]
    },
    {
     "name": "stdout",
     "output_type": "stream",
     "text": [
      "An exception occurred Key error\n"
     ]
    },
    {
     "name": "stderr",
     "output_type": "stream",
     "text": [
      "\n",
      " 23%|██▎       | 77/339 [00:22<01:09,  3.79it/s]\u001b[A\n",
      " 23%|██▎       | 78/339 [00:22<01:12,  3.58it/s]\u001b[A\n",
      " 23%|██▎       | 79/339 [00:22<01:10,  3.69it/s]\u001b[A"
     ]
    },
    {
     "name": "stdout",
     "output_type": "stream",
     "text": [
      "An exception occurred Key error\n"
     ]
    },
    {
     "name": "stderr",
     "output_type": "stream",
     "text": [
      "\n",
      " 24%|██▎       | 80/339 [00:22<01:06,  3.89it/s]\u001b[A"
     ]
    },
    {
     "name": "stdout",
     "output_type": "stream",
     "text": [
      "An exception occurred Key error\n"
     ]
    },
    {
     "name": "stderr",
     "output_type": "stream",
     "text": [
      "\n",
      " 24%|██▍       | 81/339 [00:23<01:03,  4.04it/s]\u001b[A"
     ]
    },
    {
     "name": "stdout",
     "output_type": "stream",
     "text": [
      "An exception occurred Key error\n"
     ]
    },
    {
     "name": "stderr",
     "output_type": "stream",
     "text": [
      "\n",
      " 24%|██▍       | 82/339 [00:23<01:03,  4.08it/s]\u001b[A"
     ]
    },
    {
     "name": "stdout",
     "output_type": "stream",
     "text": [
      "An exception occurred Key error\n"
     ]
    },
    {
     "name": "stderr",
     "output_type": "stream",
     "text": [
      "\n",
      " 24%|██▍       | 83/339 [00:23<01:08,  3.74it/s]\u001b[A\n",
      " 25%|██▍       | 84/339 [00:23<01:08,  3.71it/s]\u001b[A\n",
      " 25%|██▌       | 85/339 [00:24<01:11,  3.56it/s]\u001b[A\n",
      " 25%|██▌       | 86/339 [00:24<01:11,  3.51it/s]\u001b[A\n",
      " 26%|██▌       | 87/339 [00:24<01:11,  3.55it/s]\u001b[A\n",
      " 26%|██▌       | 88/339 [00:24<01:05,  3.83it/s]\u001b[A"
     ]
    },
    {
     "name": "stdout",
     "output_type": "stream",
     "text": [
      "An exception occurred Key error\n"
     ]
    },
    {
     "name": "stderr",
     "output_type": "stream",
     "text": [
      "\n",
      " 26%|██▋       | 89/339 [00:25<01:02,  3.98it/s]\u001b[A"
     ]
    },
    {
     "name": "stdout",
     "output_type": "stream",
     "text": [
      "An exception occurred Key error\n"
     ]
    },
    {
     "name": "stderr",
     "output_type": "stream",
     "text": [
      "\n",
      " 27%|██▋       | 90/339 [00:25<00:59,  4.17it/s]\u001b[A"
     ]
    },
    {
     "name": "stdout",
     "output_type": "stream",
     "text": [
      "An exception occurred Key error\n"
     ]
    },
    {
     "name": "stderr",
     "output_type": "stream",
     "text": [
      "\n",
      " 27%|██▋       | 91/339 [00:25<00:59,  4.19it/s]\u001b[A"
     ]
    },
    {
     "name": "stdout",
     "output_type": "stream",
     "text": [
      "An exception occurred Key error\n"
     ]
    },
    {
     "name": "stderr",
     "output_type": "stream",
     "text": [
      "\n",
      " 27%|██▋       | 92/339 [00:25<00:58,  4.20it/s]\u001b[A"
     ]
    },
    {
     "name": "stdout",
     "output_type": "stream",
     "text": [
      "An exception occurred Key error\n"
     ]
    },
    {
     "name": "stderr",
     "output_type": "stream",
     "text": [
      "\n",
      " 27%|██▋       | 93/339 [00:26<00:57,  4.25it/s]\u001b[A"
     ]
    },
    {
     "name": "stdout",
     "output_type": "stream",
     "text": [
      "An exception occurred Key error\n"
     ]
    },
    {
     "name": "stderr",
     "output_type": "stream",
     "text": [
      "\n",
      " 28%|██▊       | 94/339 [00:26<00:57,  4.28it/s]\u001b[A"
     ]
    },
    {
     "name": "stdout",
     "output_type": "stream",
     "text": [
      "An exception occurred Key error\n"
     ]
    },
    {
     "name": "stderr",
     "output_type": "stream",
     "text": [
      "\n",
      " 28%|██▊       | 95/339 [00:26<01:00,  4.04it/s]\u001b[A\n",
      " 28%|██▊       | 96/339 [00:26<01:07,  3.61it/s]\u001b[A\n",
      " 29%|██▊       | 97/339 [00:27<01:15,  3.21it/s]\u001b[A\n",
      " 29%|██▉       | 98/339 [00:27<01:16,  3.17it/s]\u001b[A\n",
      " 29%|██▉       | 99/339 [00:28<01:20,  2.96it/s]\u001b[A\n",
      " 29%|██▉       | 100/339 [00:28<01:16,  3.13it/s]\u001b[A\n",
      " 30%|██▉       | 101/339 [00:28<01:10,  3.37it/s]\u001b[A"
     ]
    },
    {
     "name": "stdout",
     "output_type": "stream",
     "text": [
      "An exception occurred Key error\n"
     ]
    },
    {
     "name": "stderr",
     "output_type": "stream",
     "text": [
      "\n",
      " 30%|███       | 102/339 [00:28<01:05,  3.60it/s]\u001b[A"
     ]
    },
    {
     "name": "stdout",
     "output_type": "stream",
     "text": [
      "An exception occurred Key error\n"
     ]
    },
    {
     "name": "stderr",
     "output_type": "stream",
     "text": [
      "\n",
      " 30%|███       | 103/339 [00:29<01:02,  3.77it/s]\u001b[A"
     ]
    },
    {
     "name": "stdout",
     "output_type": "stream",
     "text": [
      "An exception occurred Key error\n"
     ]
    },
    {
     "name": "stderr",
     "output_type": "stream",
     "text": [
      "\n",
      " 31%|███       | 104/339 [00:29<01:04,  3.65it/s]\u001b[A\n",
      " 31%|███       | 105/339 [00:29<01:02,  3.73it/s]\u001b[A"
     ]
    },
    {
     "name": "stdout",
     "output_type": "stream",
     "text": [
      "An exception occurred Key error\n"
     ]
    },
    {
     "name": "stderr",
     "output_type": "stream",
     "text": [
      "\n",
      " 31%|███▏      | 106/339 [00:29<01:00,  3.87it/s]\u001b[A"
     ]
    },
    {
     "name": "stdout",
     "output_type": "stream",
     "text": [
      "An exception occurred Key error\n"
     ]
    },
    {
     "name": "stderr",
     "output_type": "stream",
     "text": [
      "\n",
      " 32%|███▏      | 107/339 [00:30<00:58,  3.99it/s]\u001b[A"
     ]
    },
    {
     "name": "stdout",
     "output_type": "stream",
     "text": [
      "An exception occurred Key error\n"
     ]
    },
    {
     "name": "stderr",
     "output_type": "stream",
     "text": [
      "\n",
      " 32%|███▏      | 108/339 [00:30<00:56,  4.10it/s]\u001b[A"
     ]
    },
    {
     "name": "stdout",
     "output_type": "stream",
     "text": [
      "An exception occurred Key error\n"
     ]
    },
    {
     "name": "stderr",
     "output_type": "stream",
     "text": [
      "\n",
      " 32%|███▏      | 109/339 [00:30<00:58,  3.96it/s]\u001b[A\n",
      " 32%|███▏      | 110/339 [00:30<00:56,  4.08it/s]\u001b[A"
     ]
    },
    {
     "name": "stdout",
     "output_type": "stream",
     "text": [
      "An exception occurred Key error\n"
     ]
    },
    {
     "name": "stderr",
     "output_type": "stream",
     "text": [
      "\n",
      " 33%|███▎      | 111/339 [00:31<00:57,  3.96it/s]\u001b[A\n",
      " 33%|███▎      | 112/339 [00:31<01:21,  2.80it/s]\u001b[A\n",
      " 33%|███▎      | 113/339 [00:32<01:23,  2.71it/s]\u001b[A\n",
      " 34%|███▎      | 114/339 [00:32<01:20,  2.81it/s]\u001b[A\n",
      " 34%|███▍      | 115/339 [00:32<01:16,  2.94it/s]\u001b[A\n",
      " 34%|███▍      | 116/339 [00:32<01:13,  3.04it/s]\u001b[A\n",
      " 35%|███▍      | 117/339 [00:33<01:10,  3.15it/s]\u001b[A\n",
      " 35%|███▍      | 118/339 [00:33<01:10,  3.15it/s]\u001b[A\n",
      " 35%|███▌      | 119/339 [00:33<01:09,  3.17it/s]\u001b[A\n",
      " 35%|███▌      | 120/339 [00:34<01:08,  3.21it/s]\u001b[A\n",
      " 36%|███▌      | 121/339 [00:34<01:08,  3.20it/s]\u001b[A\n",
      " 36%|███▌      | 122/339 [00:34<01:06,  3.25it/s]\u001b[A\n",
      " 36%|███▋      | 123/339 [00:35<01:13,  2.95it/s]\u001b[A\n",
      " 37%|███▋      | 124/339 [00:35<01:12,  2.95it/s]\u001b[A\n",
      " 37%|███▋      | 125/339 [00:35<01:15,  2.83it/s]\u001b[A\n",
      " 37%|███▋      | 126/339 [00:36<01:13,  2.91it/s]\u001b[A\n",
      " 37%|███▋      | 127/339 [00:36<01:08,  3.07it/s]\u001b[A\n",
      " 38%|███▊      | 128/339 [00:36<01:05,  3.22it/s]\u001b[A\n",
      " 38%|███▊      | 129/339 [00:37<01:04,  3.24it/s]\u001b[A\n",
      " 38%|███▊      | 130/339 [00:37<01:03,  3.29it/s]\u001b[A\n",
      " 39%|███▊      | 131/339 [00:37<01:08,  3.03it/s]\u001b[A\n",
      " 39%|███▉      | 132/339 [00:38<01:08,  3.03it/s]\u001b[A\n",
      " 39%|███▉      | 133/339 [00:38<01:08,  3.02it/s]\u001b[A\n",
      " 40%|███▉      | 134/339 [00:38<01:07,  3.05it/s]\u001b[A\n",
      " 40%|███▉      | 135/339 [00:39<01:00,  3.39it/s]\u001b[A"
     ]
    },
    {
     "name": "stdout",
     "output_type": "stream",
     "text": [
      "An exception occurred Key error\n"
     ]
    },
    {
     "name": "stderr",
     "output_type": "stream",
     "text": [
      "\n",
      " 40%|████      | 136/339 [00:39<01:03,  3.19it/s]\u001b[A\n",
      " 40%|████      | 137/339 [00:39<01:00,  3.32it/s]\u001b[A\n",
      " 41%|████      | 138/339 [00:39<01:02,  3.21it/s]\u001b[A\n",
      " 41%|████      | 139/339 [00:40<01:02,  3.20it/s]\u001b[A\n",
      " 41%|████▏     | 140/339 [00:40<00:56,  3.51it/s]\u001b[A"
     ]
    },
    {
     "name": "stdout",
     "output_type": "stream",
     "text": [
      "An exception occurred Key error\n"
     ]
    },
    {
     "name": "stderr",
     "output_type": "stream",
     "text": [
      "\n",
      " 42%|████▏     | 141/339 [00:40<00:56,  3.49it/s]\u001b[A\n",
      " 42%|████▏     | 142/339 [00:41<00:57,  3.42it/s]\u001b[A\n",
      " 42%|████▏     | 143/339 [00:41<00:59,  3.27it/s]\u001b[A\n",
      " 42%|████▏     | 144/339 [00:41<01:04,  3.04it/s]\u001b[A\n",
      " 43%|████▎     | 145/339 [00:42<01:03,  3.07it/s]\u001b[A\n",
      " 43%|████▎     | 146/339 [00:42<01:03,  3.02it/s]\u001b[A\n",
      " 43%|████▎     | 147/339 [00:42<01:02,  3.09it/s]\u001b[A\n",
      " 44%|████▎     | 148/339 [01:43<58:23, 18.34s/it]\u001b[A\n",
      " 44%|████▍     | 149/339 [01:43<40:56, 12.93s/it]\u001b[A\n",
      " 44%|████▍     | 150/339 [01:43<28:48,  9.15s/it]\u001b[A\n",
      " 45%|████▍     | 151/339 [01:44<20:22,  6.50s/it]\u001b[A\n",
      " 45%|████▍     | 152/339 [01:44<14:30,  4.66s/it]\u001b[A\n",
      " 45%|████▌     | 153/339 [01:44<10:20,  3.33s/it]\u001b[A"
     ]
    },
    {
     "name": "stdout",
     "output_type": "stream",
     "text": [
      "An exception occurred Key error\n"
     ]
    },
    {
     "name": "stderr",
     "output_type": "stream",
     "text": [
      "\n",
      " 45%|████▌     | 154/339 [01:45<07:28,  2.42s/it]\u001b[A\n",
      " 46%|████▌     | 155/339 [01:45<05:29,  1.79s/it]\u001b[A\n",
      " 46%|████▌     | 156/339 [01:45<04:03,  1.33s/it]\u001b[A\n",
      " 46%|████▋     | 157/339 [01:45<03:05,  1.02s/it]\u001b[A\n",
      " 47%|████▋     | 158/339 [01:46<02:25,  1.24it/s]\u001b[A\n",
      " 47%|████▋     | 159/339 [01:46<01:56,  1.55it/s]\u001b[A\n",
      " 47%|████▋     | 160/339 [01:46<01:36,  1.85it/s]\u001b[A\n",
      " 47%|████▋     | 161/339 [01:47<01:21,  2.18it/s]\u001b[A"
     ]
    },
    {
     "name": "stdout",
     "output_type": "stream",
     "text": [
      "An exception occurred Key error\n"
     ]
    },
    {
     "name": "stderr",
     "output_type": "stream",
     "text": [
      "\n",
      " 48%|████▊     | 162/339 [01:47<01:10,  2.53it/s]\u001b[A"
     ]
    },
    {
     "name": "stdout",
     "output_type": "stream",
     "text": [
      "An exception occurred Key error\n"
     ]
    },
    {
     "name": "stderr",
     "output_type": "stream",
     "text": [
      "\n",
      " 48%|████▊     | 163/339 [01:47<01:00,  2.90it/s]\u001b[A"
     ]
    },
    {
     "name": "stdout",
     "output_type": "stream",
     "text": [
      "An exception occurred Key error\n"
     ]
    },
    {
     "name": "stderr",
     "output_type": "stream",
     "text": [
      "\n",
      " 48%|████▊     | 164/339 [01:47<00:54,  3.23it/s]\u001b[A"
     ]
    },
    {
     "name": "stdout",
     "output_type": "stream",
     "text": [
      "An exception occurred Key error\n"
     ]
    },
    {
     "name": "stderr",
     "output_type": "stream",
     "text": [
      "\n",
      " 49%|████▊     | 165/339 [01:47<00:49,  3.50it/s]\u001b[A"
     ]
    },
    {
     "name": "stdout",
     "output_type": "stream",
     "text": [
      "An exception occurred Key error\n"
     ]
    },
    {
     "name": "stderr",
     "output_type": "stream",
     "text": [
      "\n",
      " 49%|████▉     | 166/339 [01:48<00:45,  3.78it/s]\u001b[A"
     ]
    },
    {
     "name": "stdout",
     "output_type": "stream",
     "text": [
      "An exception occurred Key error\n"
     ]
    },
    {
     "name": "stderr",
     "output_type": "stream",
     "text": [
      "\n",
      " 49%|████▉     | 167/339 [01:48<00:48,  3.56it/s]\u001b[A\n",
      " 50%|████▉     | 168/339 [01:48<00:49,  3.45it/s]\u001b[A\n",
      " 50%|████▉     | 169/339 [01:49<00:48,  3.54it/s]\u001b[A\n",
      " 50%|█████     | 170/339 [01:49<00:49,  3.40it/s]\u001b[A\n",
      " 50%|█████     | 171/339 [01:49<00:49,  3.37it/s]\u001b[A\n",
      " 51%|█████     | 172/339 [01:50<00:50,  3.31it/s]\u001b[A\n",
      " 51%|█████     | 173/339 [01:50<00:49,  3.34it/s]\u001b[A\n",
      " 51%|█████▏    | 174/339 [01:50<00:45,  3.60it/s]\u001b[A"
     ]
    },
    {
     "name": "stdout",
     "output_type": "stream",
     "text": [
      "An exception occurred Key error\n"
     ]
    },
    {
     "name": "stderr",
     "output_type": "stream",
     "text": [
      "\n",
      " 52%|█████▏    | 175/339 [01:50<00:49,  3.29it/s]\u001b[A\n",
      " 52%|█████▏    | 176/339 [01:51<00:51,  3.19it/s]\u001b[A\n",
      " 52%|█████▏    | 177/339 [01:51<00:50,  3.24it/s]\u001b[A\n",
      " 53%|█████▎    | 178/339 [01:51<00:49,  3.26it/s]\u001b[A\n",
      " 53%|█████▎    | 179/339 [01:52<00:47,  3.37it/s]\u001b[A\n",
      " 53%|█████▎    | 180/339 [01:52<00:47,  3.36it/s]\u001b[A\n",
      " 53%|█████▎    | 181/339 [01:52<00:47,  3.32it/s]\u001b[A\n",
      " 54%|█████▎    | 182/339 [01:53<00:48,  3.24it/s]\u001b[A\n",
      " 54%|█████▍    | 183/339 [01:53<00:46,  3.33it/s]\u001b[A\n",
      " 54%|█████▍    | 184/339 [01:53<00:47,  3.24it/s]\u001b[A\n",
      " 55%|█████▍    | 185/339 [01:53<00:45,  3.35it/s]\u001b[A\n",
      " 55%|█████▍    | 186/339 [01:54<00:46,  3.29it/s]\u001b[A\n",
      " 55%|█████▌    | 187/339 [01:54<00:48,  3.16it/s]\u001b[A\n",
      " 55%|█████▌    | 188/339 [01:54<00:47,  3.17it/s]\u001b[A\n",
      " 56%|█████▌    | 189/339 [01:55<00:44,  3.36it/s]\u001b[A"
     ]
    },
    {
     "name": "stdout",
     "output_type": "stream",
     "text": [
      "An exception occurred Key error\n"
     ]
    },
    {
     "name": "stderr",
     "output_type": "stream",
     "text": [
      "\n",
      " 56%|█████▌    | 190/339 [01:55<00:46,  3.22it/s]\u001b[A\n",
      " 56%|█████▋    | 191/339 [01:55<00:42,  3.51it/s]\u001b[A"
     ]
    },
    {
     "name": "stdout",
     "output_type": "stream",
     "text": [
      "An exception occurred Key error\n"
     ]
    },
    {
     "name": "stderr",
     "output_type": "stream",
     "text": [
      "\n",
      " 57%|█████▋    | 192/339 [01:56<00:41,  3.58it/s]\u001b[A\n",
      " 57%|█████▋    | 193/339 [01:56<00:38,  3.79it/s]\u001b[A"
     ]
    },
    {
     "name": "stdout",
     "output_type": "stream",
     "text": [
      "An exception occurred Key error\n"
     ]
    },
    {
     "name": "stderr",
     "output_type": "stream",
     "text": [
      "\n",
      " 57%|█████▋    | 194/339 [01:56<00:37,  3.90it/s]\u001b[A"
     ]
    },
    {
     "name": "stdout",
     "output_type": "stream",
     "text": [
      "An exception occurred Key error\n"
     ]
    },
    {
     "name": "stderr",
     "output_type": "stream",
     "text": [
      "\n",
      " 58%|█████▊    | 195/339 [01:56<00:35,  4.03it/s]\u001b[A"
     ]
    },
    {
     "name": "stdout",
     "output_type": "stream",
     "text": [
      "An exception occurred Key error\n"
     ]
    },
    {
     "name": "stderr",
     "output_type": "stream",
     "text": [
      "\n",
      " 58%|█████▊    | 196/339 [01:56<00:36,  3.88it/s]\u001b[A\n",
      " 58%|█████▊    | 197/339 [01:57<00:35,  3.95it/s]\u001b[A"
     ]
    },
    {
     "name": "stdout",
     "output_type": "stream",
     "text": [
      "An exception occurred Key error\n"
     ]
    },
    {
     "name": "stderr",
     "output_type": "stream",
     "text": [
      "\n",
      " 58%|█████▊    | 198/339 [01:57<00:38,  3.65it/s]\u001b[A\n",
      " 59%|█████▊    | 199/339 [01:57<00:38,  3.62it/s]\u001b[A\n",
      " 59%|█████▉    | 200/339 [01:58<00:36,  3.83it/s]\u001b[A"
     ]
    },
    {
     "name": "stdout",
     "output_type": "stream",
     "text": [
      "An exception occurred Key error\n"
     ]
    },
    {
     "name": "stderr",
     "output_type": "stream",
     "text": [
      "\n",
      " 59%|█████▉    | 201/339 [01:58<00:38,  3.58it/s]\u001b[A\n",
      " 60%|█████▉    | 202/339 [01:58<00:40,  3.41it/s]\u001b[A\n",
      " 60%|█████▉    | 203/339 [01:59<00:40,  3.39it/s]\u001b[A\n",
      " 60%|██████    | 204/339 [01:59<00:38,  3.51it/s]\u001b[A\n",
      " 60%|██████    | 205/339 [01:59<00:38,  3.45it/s]\u001b[A\n",
      " 61%|██████    | 206/339 [01:59<00:36,  3.68it/s]\u001b[A"
     ]
    },
    {
     "name": "stdout",
     "output_type": "stream",
     "text": [
      "An exception occurred Key error\n"
     ]
    },
    {
     "name": "stderr",
     "output_type": "stream",
     "text": [
      "\n",
      " 61%|██████    | 207/339 [02:00<00:36,  3.63it/s]\u001b[A\n",
      " 61%|██████▏   | 208/339 [02:00<00:34,  3.84it/s]\u001b[A"
     ]
    },
    {
     "name": "stdout",
     "output_type": "stream",
     "text": [
      "An exception occurred Key error\n"
     ]
    },
    {
     "name": "stderr",
     "output_type": "stream",
     "text": [
      "\n",
      " 62%|██████▏   | 209/339 [02:00<00:36,  3.58it/s]\u001b[A\n",
      " 62%|██████▏   | 210/339 [02:00<00:34,  3.71it/s]\u001b[A\n",
      " 62%|██████▏   | 211/339 [02:01<00:34,  3.73it/s]\u001b[A\n",
      " 63%|██████▎   | 212/339 [02:01<00:34,  3.65it/s]\u001b[A\n",
      " 63%|██████▎   | 213/339 [02:01<00:34,  3.64it/s]\u001b[A\n",
      " 63%|██████▎   | 214/339 [02:01<00:32,  3.80it/s]\u001b[A"
     ]
    },
    {
     "name": "stdout",
     "output_type": "stream",
     "text": [
      "An exception occurred Key error\n"
     ]
    },
    {
     "name": "stderr",
     "output_type": "stream",
     "text": [
      "\n",
      " 63%|██████▎   | 215/339 [02:02<00:32,  3.80it/s]\u001b[A\n",
      " 64%|██████▎   | 216/339 [02:02<00:33,  3.72it/s]\u001b[A\n",
      " 64%|██████▍   | 217/339 [02:02<00:31,  3.91it/s]\u001b[A"
     ]
    },
    {
     "name": "stdout",
     "output_type": "stream",
     "text": [
      "An exception occurred Key error\n"
     ]
    },
    {
     "name": "stderr",
     "output_type": "stream",
     "text": [
      "\n",
      " 64%|██████▍   | 218/339 [02:03<00:33,  3.67it/s]\u001b[A\n",
      " 65%|██████▍   | 219/339 [02:03<00:48,  2.46it/s]\u001b[A\n",
      " 65%|██████▍   | 220/339 [02:04<00:46,  2.56it/s]\u001b[A\n",
      " 65%|██████▌   | 221/339 [02:04<00:46,  2.55it/s]\u001b[A\n",
      " 65%|██████▌   | 222/339 [02:04<00:45,  2.57it/s]\u001b[A\n",
      " 66%|██████▌   | 223/339 [02:05<00:45,  2.54it/s]\u001b[A\n",
      " 66%|██████▌   | 224/339 [02:05<00:43,  2.67it/s]\u001b[A\n",
      " 66%|██████▋   | 225/339 [02:05<00:41,  2.75it/s]\u001b[A\n",
      " 67%|██████▋   | 226/339 [02:06<00:40,  2.81it/s]\u001b[A\n",
      " 67%|██████▋   | 227/339 [02:06<00:42,  2.61it/s]\u001b[A\n",
      " 67%|██████▋   | 228/339 [02:07<00:40,  2.72it/s]\u001b[A\n",
      " 68%|██████▊   | 229/339 [02:07<00:40,  2.71it/s]\u001b[A\n",
      " 68%|██████▊   | 230/339 [02:07<00:37,  2.87it/s]\u001b[A\n",
      " 68%|██████▊   | 231/339 [02:08<00:36,  2.95it/s]\u001b[A\n",
      " 68%|██████▊   | 232/339 [02:08<00:35,  3.00it/s]\u001b[A\n",
      " 69%|██████▊   | 233/339 [02:08<00:34,  3.12it/s]\u001b[A\n",
      " 69%|██████▉   | 234/339 [02:08<00:32,  3.19it/s]\u001b[A\n",
      " 69%|██████▉   | 235/339 [02:09<00:31,  3.27it/s]\u001b[A\n",
      " 70%|██████▉   | 236/339 [02:09<00:33,  3.09it/s]\u001b[A\n",
      " 70%|██████▉   | 237/339 [02:09<00:33,  3.04it/s]\u001b[A\n",
      " 70%|███████   | 238/339 [02:10<00:35,  2.88it/s]\u001b[A\n",
      " 71%|███████   | 239/339 [02:10<00:33,  2.99it/s]\u001b[A\n",
      " 71%|███████   | 240/339 [02:10<00:32,  3.02it/s]\u001b[A\n",
      " 71%|███████   | 241/339 [02:11<00:30,  3.21it/s]\u001b[A\n",
      " 71%|███████▏  | 242/339 [02:11<00:30,  3.19it/s]\u001b[A\n",
      " 72%|███████▏  | 243/339 [02:11<00:31,  3.06it/s]\u001b[A\n",
      " 72%|███████▏  | 244/339 [02:12<00:27,  3.40it/s]\u001b[A"
     ]
    },
    {
     "name": "stdout",
     "output_type": "stream",
     "text": [
      "An exception occurred Key error\n"
     ]
    },
    {
     "name": "stderr",
     "output_type": "stream",
     "text": [
      "\n",
      " 72%|███████▏  | 245/339 [02:12<00:26,  3.52it/s]\u001b[A\n",
      " 73%|███████▎  | 246/339 [02:12<00:26,  3.58it/s]\u001b[A\n",
      " 73%|███████▎  | 247/339 [02:12<00:26,  3.54it/s]\u001b[A\n",
      " 73%|███████▎  | 248/339 [02:13<00:24,  3.76it/s]\u001b[A"
     ]
    },
    {
     "name": "stdout",
     "output_type": "stream",
     "text": [
      "An exception occurred Key error\n"
     ]
    },
    {
     "name": "stderr",
     "output_type": "stream",
     "text": [
      "\n",
      " 73%|███████▎  | 249/339 [02:13<00:24,  3.66it/s]\u001b[A\n",
      " 74%|███████▎  | 250/339 [02:13<00:24,  3.63it/s]\u001b[A\n",
      " 74%|███████▍  | 251/339 [02:14<00:24,  3.54it/s]\u001b[A\n",
      " 74%|███████▍  | 252/339 [02:14<00:26,  3.30it/s]\u001b[A\n",
      " 75%|███████▍  | 253/339 [02:14<00:25,  3.37it/s]\u001b[A\n",
      " 75%|███████▍  | 254/339 [02:14<00:23,  3.58it/s]\u001b[A"
     ]
    },
    {
     "name": "stdout",
     "output_type": "stream",
     "text": [
      "An exception occurred Key error\n"
     ]
    },
    {
     "name": "stderr",
     "output_type": "stream",
     "text": [
      "\n",
      " 75%|███████▌  | 255/339 [02:15<00:25,  3.30it/s]\u001b[A\n",
      " 76%|███████▌  | 256/339 [02:15<00:24,  3.35it/s]\u001b[A\n",
      " 76%|███████▌  | 257/339 [02:15<00:24,  3.30it/s]\u001b[A\n",
      " 76%|███████▌  | 258/339 [02:16<00:24,  3.26it/s]\u001b[A\n",
      " 76%|███████▋  | 259/339 [02:16<00:23,  3.43it/s]\u001b[A"
     ]
    },
    {
     "name": "stdout",
     "output_type": "stream",
     "text": [
      "An exception occurred Key error\n"
     ]
    },
    {
     "name": "stderr",
     "output_type": "stream",
     "text": [
      "\n",
      " 77%|███████▋  | 260/339 [02:16<00:22,  3.48it/s]\u001b[A\n",
      " 77%|███████▋  | 261/339 [02:16<00:20,  3.73it/s]\u001b[A"
     ]
    },
    {
     "name": "stdout",
     "output_type": "stream",
     "text": [
      "An exception occurred Key error\n"
     ]
    },
    {
     "name": "stderr",
     "output_type": "stream",
     "text": [
      "\n",
      " 77%|███████▋  | 262/339 [02:17<00:21,  3.57it/s]\u001b[A\n",
      " 78%|███████▊  | 263/339 [02:17<00:22,  3.40it/s]\u001b[A\n",
      " 78%|███████▊  | 264/339 [02:17<00:22,  3.40it/s]\u001b[A\n",
      " 78%|███████▊  | 265/339 [02:18<00:18,  3.98it/s]\u001b[A"
     ]
    },
    {
     "name": "stdout",
     "output_type": "stream",
     "text": [
      "An exception occurred\n"
     ]
    },
    {
     "name": "stderr",
     "output_type": "stream",
     "text": [
      "\n",
      " 78%|███████▊  | 266/339 [02:18<00:19,  3.66it/s]\u001b[A\n",
      " 79%|███████▉  | 267/339 [02:18<00:20,  3.52it/s]\u001b[A\n",
      " 79%|███████▉  | 268/339 [02:18<00:20,  3.45it/s]\u001b[A\n",
      " 79%|███████▉  | 269/339 [02:19<00:21,  3.29it/s]\u001b[A\n",
      " 80%|███████▉  | 270/339 [02:19<00:21,  3.26it/s]\u001b[A\n",
      " 80%|███████▉  | 271/339 [02:19<00:21,  3.21it/s]\u001b[A\n",
      " 80%|████████  | 272/339 [02:20<00:19,  3.49it/s]\u001b[A"
     ]
    },
    {
     "name": "stdout",
     "output_type": "stream",
     "text": [
      "An exception occurred Key error\n"
     ]
    },
    {
     "name": "stderr",
     "output_type": "stream",
     "text": [
      "\n",
      " 81%|████████  | 273/339 [02:20<00:21,  3.05it/s]\u001b[A"
     ]
    },
    {
     "name": "stdout",
     "output_type": "stream",
     "text": [
      "An exception occurred Key error\n"
     ]
    },
    {
     "name": "stderr",
     "output_type": "stream",
     "text": [
      "\n",
      " 81%|████████  | 274/339 [02:20<00:19,  3.34it/s]\u001b[A"
     ]
    },
    {
     "name": "stdout",
     "output_type": "stream",
     "text": [
      "An exception occurred Key error\n"
     ]
    },
    {
     "name": "stderr",
     "output_type": "stream",
     "text": [
      "\n",
      " 81%|████████  | 275/339 [02:21<00:17,  3.61it/s]\u001b[A"
     ]
    },
    {
     "name": "stdout",
     "output_type": "stream",
     "text": [
      "An exception occurred Key error\n"
     ]
    },
    {
     "name": "stderr",
     "output_type": "stream",
     "text": [
      "\n",
      " 81%|████████▏ | 276/339 [02:21<00:16,  3.80it/s]\u001b[A"
     ]
    },
    {
     "name": "stdout",
     "output_type": "stream",
     "text": [
      "An exception occurred Key error\n"
     ]
    },
    {
     "name": "stderr",
     "output_type": "stream",
     "text": [
      "\n",
      " 82%|████████▏ | 277/339 [02:21<00:15,  3.90it/s]\u001b[A"
     ]
    },
    {
     "name": "stdout",
     "output_type": "stream",
     "text": [
      "An exception occurred Key error\n"
     ]
    },
    {
     "name": "stderr",
     "output_type": "stream",
     "text": [
      "\n",
      " 82%|████████▏ | 278/339 [02:21<00:16,  3.70it/s]\u001b[A\n",
      " 82%|████████▏ | 279/339 [03:22<18:18, 18.30s/it]\u001b[A\n",
      " 83%|████████▎ | 280/339 [03:22<12:41, 12.91s/it]\u001b[A\n",
      " 83%|████████▎ | 281/339 [03:22<08:47,  9.10s/it]\u001b[A"
     ]
    },
    {
     "name": "stdout",
     "output_type": "stream",
     "text": [
      "An exception occurred Key error\n"
     ]
    },
    {
     "name": "stderr",
     "output_type": "stream",
     "text": [
      "\n",
      " 83%|████████▎ | 282/339 [03:22<06:07,  6.44s/it]\u001b[A"
     ]
    },
    {
     "name": "stdout",
     "output_type": "stream",
     "text": [
      "An exception occurred Key error\n"
     ]
    },
    {
     "name": "stderr",
     "output_type": "stream",
     "text": [
      "\n",
      " 83%|████████▎ | 283/339 [03:23<04:20,  4.65s/it]\u001b[A"
     ]
    },
    {
     "name": "stdout",
     "output_type": "stream",
     "text": [
      "An exception occurred Key error\n"
     ]
    },
    {
     "name": "stderr",
     "output_type": "stream",
     "text": [
      "\n",
      " 84%|████████▍ | 284/339 [03:23<03:03,  3.34s/it]\u001b[A\n",
      " 84%|████████▍ | 285/339 [03:24<02:12,  2.44s/it]\u001b[A\n",
      " 84%|████████▍ | 286/339 [03:24<01:35,  1.80s/it]\u001b[A\n",
      " 85%|████████▍ | 287/339 [03:24<01:11,  1.38s/it]\u001b[A\n",
      " 85%|████████▍ | 288/339 [03:25<00:54,  1.07s/it]\u001b[A\n",
      " 85%|████████▌ | 289/339 [03:25<00:42,  1.17it/s]\u001b[A\n",
      " 86%|████████▌ | 290/339 [03:25<00:33,  1.45it/s]\u001b[A\n",
      " 86%|████████▌ | 291/339 [03:26<00:27,  1.74it/s]\u001b[A\n",
      " 86%|████████▌ | 292/339 [03:26<00:23,  1.97it/s]\u001b[A\n",
      " 86%|████████▋ | 293/339 [03:27<00:24,  1.91it/s]\u001b[A\n",
      " 87%|████████▋ | 294/339 [03:27<00:21,  2.07it/s]\u001b[A\n",
      " 87%|████████▋ | 295/339 [03:27<00:19,  2.26it/s]\u001b[A\n",
      " 87%|████████▋ | 296/339 [03:28<00:20,  2.10it/s]\u001b[A\n",
      " 88%|████████▊ | 297/339 [03:28<00:17,  2.34it/s]\u001b[A\n",
      " 88%|████████▊ | 298/339 [03:28<00:16,  2.44it/s]\u001b[A\n",
      " 88%|████████▊ | 299/339 [03:29<00:15,  2.62it/s]\u001b[A\n",
      " 88%|████████▊ | 300/339 [03:29<00:14,  2.69it/s]\u001b[A\n",
      " 89%|████████▉ | 301/339 [03:30<00:13,  2.73it/s]\u001b[A\n",
      " 89%|████████▉ | 302/339 [03:30<00:13,  2.84it/s]\u001b[A\n",
      " 89%|████████▉ | 303/339 [03:30<00:14,  2.56it/s]\u001b[A\n",
      " 90%|████████▉ | 304/339 [03:31<00:13,  2.54it/s]\u001b[A\n",
      " 90%|████████▉ | 305/339 [03:31<00:12,  2.72it/s]\u001b[A\n",
      " 90%|█████████ | 306/339 [03:31<00:12,  2.75it/s]\u001b[A\n",
      " 91%|█████████ | 307/339 [03:32<00:11,  2.87it/s]\u001b[A\n",
      " 91%|█████████ | 308/339 [03:32<00:10,  2.84it/s]\u001b[A\n",
      " 91%|█████████ | 309/339 [03:32<00:10,  2.87it/s]\u001b[A\n",
      " 91%|█████████▏| 310/339 [03:33<00:09,  2.94it/s]\u001b[A\n",
      " 92%|█████████▏| 311/339 [03:33<00:09,  3.09it/s]\u001b[A\n",
      " 92%|█████████▏| 312/339 [03:33<00:09,  2.87it/s]\u001b[A\n",
      " 92%|█████████▏| 313/339 [03:34<00:08,  3.00it/s]\u001b[A"
     ]
    },
    {
     "name": "stdout",
     "output_type": "stream",
     "text": [
      "An exception occurred Key error\n"
     ]
    },
    {
     "name": "stderr",
     "output_type": "stream",
     "text": [
      "\n",
      " 93%|█████████▎| 314/339 [03:34<00:08,  3.09it/s]\u001b[A"
     ]
    },
    {
     "name": "stdout",
     "output_type": "stream",
     "text": [
      "An exception occurred Key error\n"
     ]
    },
    {
     "name": "stderr",
     "output_type": "stream",
     "text": [
      "\n",
      " 93%|█████████▎| 315/339 [03:34<00:07,  3.03it/s]\u001b[A\n",
      " 93%|█████████▎| 316/339 [03:35<00:07,  3.15it/s]\u001b[A\n",
      " 94%|█████████▎| 317/339 [03:35<00:07,  3.02it/s]\u001b[A\n",
      " 94%|█████████▍| 318/339 [03:35<00:06,  3.02it/s]\u001b[A\n",
      " 94%|█████████▍| 319/339 [03:36<00:06,  3.02it/s]\u001b[A\n",
      " 94%|█████████▍| 320/339 [03:36<00:06,  2.88it/s]\u001b[A\n",
      " 95%|█████████▍| 321/339 [03:36<00:06,  2.63it/s]\u001b[A\n",
      " 95%|█████████▍| 322/339 [03:37<00:06,  2.68it/s]\u001b[A\n",
      " 95%|█████████▌| 323/339 [03:37<00:06,  2.54it/s]\u001b[A\n",
      " 96%|█████████▌| 324/339 [03:38<00:05,  2.73it/s]\u001b[A\n",
      " 96%|█████████▌| 325/339 [03:38<00:04,  2.95it/s]\u001b[A\n",
      " 96%|█████████▌| 326/339 [03:38<00:04,  3.09it/s]\u001b[A\n",
      " 96%|█████████▋| 327/339 [03:38<00:03,  3.65it/s]\u001b[A"
     ]
    },
    {
     "name": "stdout",
     "output_type": "stream",
     "text": [
      "An exception occurred\n"
     ]
    },
    {
     "name": "stderr",
     "output_type": "stream",
     "text": [
      "\n",
      " 97%|█████████▋| 328/339 [03:39<00:03,  3.59it/s]\u001b[A\n",
      " 97%|█████████▋| 329/339 [03:39<00:02,  3.78it/s]\u001b[A"
     ]
    },
    {
     "name": "stdout",
     "output_type": "stream",
     "text": [
      "An exception occurred Key error\n"
     ]
    },
    {
     "name": "stderr",
     "output_type": "stream",
     "text": [
      "\n",
      " 97%|█████████▋| 330/339 [03:39<00:02,  3.40it/s]\u001b[A\n",
      " 98%|█████████▊| 331/339 [03:40<00:02,  3.35it/s]\u001b[A\n",
      " 98%|█████████▊| 332/339 [03:40<00:02,  3.13it/s]\u001b[A\n",
      " 98%|█████████▊| 333/339 [03:40<00:01,  3.03it/s]\u001b[A\n",
      " 99%|█████████▊| 334/339 [03:41<00:01,  3.12it/s]\u001b[A\n",
      " 99%|█████████▉| 335/339 [03:41<00:01,  3.10it/s]\u001b[A\n",
      " 99%|█████████▉| 336/339 [03:41<00:00,  3.33it/s]\u001b[A\n",
      " 99%|█████████▉| 337/339 [03:41<00:00,  3.54it/s]\u001b[A"
     ]
    },
    {
     "name": "stdout",
     "output_type": "stream",
     "text": [
      "An exception occurred Key error\n"
     ]
    },
    {
     "name": "stderr",
     "output_type": "stream",
     "text": [
      "\n",
      "100%|█████████▉| 338/339 [03:42<00:00,  3.72it/s]\u001b[A"
     ]
    },
    {
     "name": "stdout",
     "output_type": "stream",
     "text": [
      "An exception occurred Key error\n"
     ]
    },
    {
     "name": "stderr",
     "output_type": "stream",
     "text": [
      "\n",
      "100%|██████████| 339/339 [03:42<00:00,  1.52it/s]\u001b[A\n"
     ]
    },
    {
     "name": "stdout",
     "output_type": "stream",
     "text": [
      "length of df 251\n",
      "iNeuron_Intelligence_comments.csv Witten\n"
     ]
    },
    {
     "name": "stderr",
     "output_type": "stream",
     "text": [
      "\r",
      " 30%|███       | 3/10 [24:49<52:03, 446.16s/it]  "
     ]
    },
    {
     "name": "stdout",
     "output_type": "stream",
     "text": [
      "Coreyms UCCezIgC97PvUuR4_gbFUs5g\n"
     ]
    },
    {
     "name": "stderr",
     "output_type": "stream",
     "text": [
      "\n",
      "  0%|          | 0/223 [00:00<?, ?it/s]\u001b[A\n",
      "  0%|          | 0/223 [00:10<?, ?it/s]\u001b[A\n",
      "  9%|▊         | 19/223 [00:10<01:50,  1.85it/s]\u001b[A\n",
      "  9%|▉         | 20/223 [00:10<01:50,  1.84it/s]\u001b[A\n",
      "  9%|▉         | 21/223 [00:11<01:51,  1.82it/s]\u001b[A\n",
      " 10%|▉         | 22/223 [00:11<01:49,  1.84it/s]\u001b[A\n",
      " 10%|█         | 23/223 [00:12<01:48,  1.84it/s]\u001b[A\n",
      " 11%|█         | 24/223 [00:13<01:48,  1.84it/s]\u001b[A\n",
      " 11%|█         | 25/223 [00:13<01:46,  1.86it/s]\u001b[A\n",
      " 12%|█▏        | 26/223 [00:14<01:47,  1.83it/s]\u001b[A\n",
      " 12%|█▏        | 27/223 [00:14<01:44,  1.88it/s]\u001b[A\n",
      " 13%|█▎        | 28/223 [00:15<01:43,  1.88it/s]\u001b[A\n",
      " 13%|█▎        | 29/223 [00:15<01:48,  1.79it/s]\u001b[A\n",
      " 13%|█▎        | 30/223 [00:16<01:50,  1.75it/s]\u001b[A\n",
      " 14%|█▍        | 31/223 [00:17<01:54,  1.67it/s]\u001b[A\n",
      " 14%|█▍        | 32/223 [00:17<01:54,  1.67it/s]\u001b[A\n",
      " 15%|█▍        | 33/223 [00:18<01:58,  1.60it/s]\u001b[A\n",
      " 15%|█▌        | 34/223 [00:18<01:54,  1.65it/s]\u001b[A\n",
      " 16%|█▌        | 35/223 [00:19<01:49,  1.72it/s]\u001b[A\n",
      " 16%|█▌        | 36/223 [00:20<01:50,  1.69it/s]\u001b[A\n",
      " 17%|█▋        | 37/223 [00:20<01:48,  1.71it/s]\u001b[A\n",
      " 17%|█▋        | 38/223 [00:21<01:44,  1.77it/s]\u001b[A\n",
      " 17%|█▋        | 39/223 [00:21<01:40,  1.83it/s]\u001b[A\n",
      " 18%|█▊        | 40/223 [00:22<01:34,  1.93it/s]\u001b[A\n",
      " 18%|█▊        | 41/223 [00:22<01:37,  1.87it/s]\u001b[A\n",
      " 19%|█▉        | 42/223 [00:23<01:37,  1.85it/s]\u001b[A\n",
      " 19%|█▉        | 43/223 [00:23<01:36,  1.87it/s]\u001b[A\n",
      " 20%|█▉        | 44/223 [00:24<01:35,  1.87it/s]\u001b[A\n",
      " 20%|██        | 45/223 [00:24<01:36,  1.84it/s]\u001b[A\n",
      " 21%|██        | 46/223 [00:25<01:38,  1.80it/s]\u001b[A\n",
      " 21%|██        | 47/223 [00:25<01:36,  1.82it/s]\u001b[A\n",
      " 22%|██▏       | 48/223 [00:26<01:38,  1.78it/s]\u001b[A\n",
      " 22%|██▏       | 49/223 [00:27<01:41,  1.72it/s]\u001b[A\n",
      " 22%|██▏       | 50/223 [00:27<01:40,  1.73it/s]\u001b[A\n",
      " 23%|██▎       | 51/223 [00:28<01:42,  1.68it/s]\u001b[A\n",
      " 23%|██▎       | 52/223 [00:28<01:34,  1.80it/s]\u001b[A\n",
      " 24%|██▍       | 53/223 [00:29<01:37,  1.75it/s]\u001b[A\n",
      " 24%|██▍       | 54/223 [00:30<01:35,  1.76it/s]\u001b[A\n",
      " 25%|██▍       | 55/223 [00:30<01:35,  1.76it/s]\u001b[A\n",
      " 25%|██▌       | 56/223 [00:31<01:28,  1.88it/s]\u001b[A\n",
      " 26%|██▌       | 57/223 [00:31<01:18,  2.11it/s]\u001b[A\n",
      " 26%|██▌       | 58/223 [00:31<01:24,  1.96it/s]\u001b[A\n",
      " 26%|██▋       | 59/223 [00:32<01:34,  1.74it/s]\u001b[A\n",
      " 27%|██▋       | 60/223 [00:33<01:30,  1.80it/s]\u001b[A\n",
      " 27%|██▋       | 61/223 [00:33<01:33,  1.73it/s]\u001b[A\n",
      " 28%|██▊       | 62/223 [00:34<01:28,  1.82it/s]\u001b[A\n",
      " 28%|██▊       | 63/223 [00:34<01:27,  1.83it/s]\u001b[A\n",
      " 29%|██▊       | 64/223 [00:35<01:28,  1.80it/s]\u001b[A\n",
      " 29%|██▉       | 65/223 [00:35<01:25,  1.84it/s]\u001b[A\n",
      " 30%|██▉       | 66/223 [00:36<01:23,  1.87it/s]\u001b[A\n",
      " 30%|███       | 67/223 [00:36<01:23,  1.87it/s]\u001b[A\n",
      " 30%|███       | 68/223 [00:37<01:24,  1.84it/s]\u001b[A\n",
      " 31%|███       | 69/223 [00:38<01:20,  1.91it/s]\u001b[A\n",
      " 31%|███▏      | 70/223 [00:38<01:20,  1.91it/s]\u001b[A\n",
      " 32%|███▏      | 71/223 [00:39<01:21,  1.86it/s]\u001b[A\n",
      " 32%|███▏      | 72/223 [00:39<01:24,  1.79it/s]\u001b[A\n",
      " 33%|███▎      | 73/223 [00:40<01:23,  1.79it/s]\u001b[A\n",
      " 33%|███▎      | 74/223 [00:40<01:23,  1.78it/s]\u001b[A\n",
      " 34%|███▎      | 75/223 [00:41<01:25,  1.73it/s]\u001b[A\n",
      " 34%|███▍      | 76/223 [00:41<01:20,  1.82it/s]\u001b[A\n",
      " 35%|███▍      | 77/223 [00:42<01:28,  1.65it/s]\u001b[A\n",
      " 35%|███▍      | 78/223 [00:43<01:30,  1.59it/s]\u001b[A\n",
      " 35%|███▌      | 79/223 [00:44<01:30,  1.59it/s]\u001b[A\n",
      " 36%|███▌      | 80/223 [00:44<01:24,  1.69it/s]\u001b[A\n",
      " 36%|███▋      | 81/223 [00:45<01:26,  1.65it/s]\u001b[A\n",
      " 37%|███▋      | 82/223 [00:45<01:24,  1.66it/s]\u001b[A\n",
      " 37%|███▋      | 83/223 [00:46<01:30,  1.55it/s]\u001b[A\n",
      " 38%|███▊      | 84/223 [00:47<01:24,  1.64it/s]\u001b[A\n",
      " 38%|███▊      | 85/223 [00:47<01:25,  1.61it/s]\u001b[A\n",
      " 39%|███▊      | 86/223 [00:48<01:27,  1.57it/s]\u001b[A\n",
      " 39%|███▉      | 87/223 [00:48<01:27,  1.56it/s]\u001b[A\n",
      " 39%|███▉      | 88/223 [00:49<01:24,  1.60it/s]\u001b[A\n",
      " 40%|███▉      | 89/223 [00:50<01:20,  1.67it/s]\u001b[A\n",
      " 40%|████      | 90/223 [00:50<01:18,  1.70it/s]\u001b[A\n",
      " 41%|████      | 91/223 [00:51<01:17,  1.70it/s]\u001b[A\n",
      " 41%|████▏     | 92/223 [00:51<01:18,  1.66it/s]\u001b[A\n",
      " 42%|████▏     | 93/223 [00:52<01:19,  1.64it/s]\u001b[A\n",
      " 42%|████▏     | 94/223 [00:53<01:15,  1.70it/s]\u001b[A\n",
      " 43%|████▎     | 95/223 [00:53<01:11,  1.78it/s]\u001b[A\n",
      " 43%|████▎     | 96/223 [00:54<01:11,  1.77it/s]\u001b[A\n",
      " 43%|████▎     | 97/223 [00:54<01:10,  1.79it/s]\u001b[A\n",
      " 44%|████▍     | 98/223 [00:55<01:11,  1.76it/s]\u001b[A\n",
      " 44%|████▍     | 99/223 [00:55<01:08,  1.81it/s]\u001b[A\n",
      " 45%|████▍     | 100/223 [01:56<38:04, 18.57s/it]\u001b[A\n",
      " 45%|████▌     | 101/223 [02:56<1:03:04, 31.02s/it]\u001b[A"
     ]
    },
    {
     "name": "stdout",
     "output_type": "stream",
     "text": [
      "An exception occurred\n"
     ]
    },
    {
     "name": "stderr",
     "output_type": "stream",
     "text": [
      "\n",
      " 46%|████▌     | 102/223 [02:57<44:07, 21.88s/it]  \u001b[A\n",
      " 46%|████▌     | 103/223 [02:57<30:49, 15.41s/it]\u001b[A\n",
      " 47%|████▋     | 104/223 [02:57<21:35, 10.89s/it]\u001b[A\n",
      " 47%|████▋     | 105/223 [02:57<15:09,  7.71s/it]\u001b[A\n",
      " 48%|████▊     | 106/223 [02:58<10:40,  5.47s/it]\u001b[A\n",
      " 48%|████▊     | 107/223 [02:58<07:37,  3.94s/it]\u001b[A\n",
      " 48%|████▊     | 108/223 [02:58<05:30,  2.87s/it]\u001b[A\n",
      " 49%|████▉     | 109/223 [02:59<03:58,  2.10s/it]\u001b[A\n",
      " 49%|████▉     | 110/223 [02:59<02:57,  1.57s/it]\u001b[A\n",
      " 50%|████▉     | 111/223 [02:59<02:14,  1.20s/it]\u001b[A\n",
      " 50%|█████     | 112/223 [03:00<01:45,  1.05it/s]\u001b[A\n",
      " 51%|█████     | 113/223 [03:00<01:25,  1.29it/s]\u001b[A\n",
      " 51%|█████     | 114/223 [03:01<01:12,  1.50it/s]\u001b[A\n",
      " 52%|█████▏    | 115/223 [03:01<01:05,  1.66it/s]\u001b[A\n",
      " 52%|█████▏    | 116/223 [03:01<00:56,  1.89it/s]\u001b[A\n",
      " 52%|█████▏    | 117/223 [03:02<00:52,  2.01it/s]\u001b[A\n",
      " 53%|█████▎    | 118/223 [03:02<00:49,  2.13it/s]\u001b[A\n",
      " 53%|█████▎    | 119/223 [03:03<00:49,  2.12it/s]\u001b[A\n",
      " 54%|█████▍    | 120/223 [03:03<00:46,  2.22it/s]\u001b[A\n",
      " 54%|█████▍    | 121/223 [03:03<00:43,  2.34it/s]\u001b[A\n",
      " 55%|█████▍    | 122/223 [03:04<00:37,  2.69it/s]\u001b[A\n",
      " 55%|█████▌    | 123/223 [03:04<00:37,  2.66it/s]\u001b[A\n",
      " 56%|█████▌    | 124/223 [03:04<00:33,  2.93it/s]\u001b[A\n",
      " 56%|█████▌    | 125/223 [03:05<00:32,  2.98it/s]\u001b[A\n",
      " 57%|█████▋    | 126/223 [03:05<00:38,  2.54it/s]\u001b[A\n",
      " 57%|█████▋    | 127/223 [03:06<00:36,  2.60it/s]\u001b[A\n",
      " 57%|█████▋    | 128/223 [03:06<00:36,  2.61it/s]\u001b[A\n",
      " 58%|█████▊    | 129/223 [03:06<00:37,  2.54it/s]\u001b[A\n",
      " 58%|█████▊    | 130/223 [03:07<00:35,  2.61it/s]\u001b[A\n",
      " 59%|█████▊    | 131/223 [03:07<00:37,  2.48it/s]\u001b[A\n",
      " 59%|█████▉    | 132/223 [03:08<00:37,  2.44it/s]\u001b[A\n",
      " 60%|█████▉    | 133/223 [03:08<00:37,  2.37it/s]\u001b[A\n",
      " 60%|██████    | 134/223 [03:08<00:34,  2.60it/s]\u001b[A\n",
      " 61%|██████    | 135/223 [03:09<00:30,  2.88it/s]\u001b[A\n",
      " 61%|██████    | 136/223 [03:09<00:28,  3.01it/s]\u001b[A\n",
      " 61%|██████▏   | 137/223 [03:09<00:27,  3.13it/s]\u001b[A\n",
      " 62%|██████▏   | 138/223 [03:10<00:29,  2.86it/s]\u001b[A\n",
      " 62%|██████▏   | 139/223 [03:10<00:32,  2.62it/s]\u001b[A\n",
      " 63%|██████▎   | 140/223 [03:11<00:33,  2.46it/s]\u001b[A\n",
      " 63%|██████▎   | 141/223 [03:11<00:31,  2.62it/s]\u001b[A\n",
      " 64%|██████▎   | 142/223 [03:11<00:27,  2.96it/s]\u001b[A\n",
      " 64%|██████▍   | 143/223 [03:11<00:26,  2.99it/s]\u001b[A\n",
      " 65%|██████▍   | 144/223 [03:12<00:26,  2.95it/s]\u001b[A\n",
      " 65%|██████▌   | 145/223 [03:12<00:25,  3.01it/s]\u001b[A\n",
      " 65%|██████▌   | 146/223 [03:12<00:25,  3.06it/s]\u001b[A\n",
      " 66%|██████▌   | 147/223 [03:13<00:23,  3.28it/s]\u001b[A\n",
      " 66%|██████▋   | 148/223 [03:13<00:22,  3.40it/s]\u001b[A\n",
      " 67%|██████▋   | 149/223 [03:13<00:23,  3.16it/s]\u001b[A\n",
      " 67%|██████▋   | 150/223 [03:14<00:21,  3.32it/s]\u001b[A\n",
      " 68%|██████▊   | 151/223 [03:14<00:21,  3.29it/s]\u001b[A\n",
      " 68%|██████▊   | 152/223 [03:14<00:21,  3.24it/s]\u001b[A\n",
      " 69%|██████▊   | 153/223 [03:15<00:21,  3.23it/s]\u001b[A\n",
      " 69%|██████▉   | 154/223 [03:15<00:21,  3.17it/s]\u001b[A\n",
      " 70%|██████▉   | 155/223 [03:15<00:20,  3.35it/s]\u001b[A\n",
      " 70%|██████▉   | 156/223 [03:15<00:19,  3.40it/s]\u001b[A\n",
      " 70%|███████   | 157/223 [03:16<00:20,  3.25it/s]\u001b[A\n",
      " 71%|███████   | 158/223 [03:16<00:19,  3.38it/s]\u001b[A\n",
      " 71%|███████▏  | 159/223 [03:16<00:19,  3.22it/s]\u001b[A\n",
      " 72%|███████▏  | 160/223 [03:17<00:21,  2.93it/s]\u001b[A\n",
      " 72%|███████▏  | 161/223 [03:17<00:21,  2.92it/s]\u001b[A\n",
      " 73%|███████▎  | 162/223 [03:18<00:22,  2.68it/s]\u001b[A\n",
      " 73%|███████▎  | 163/223 [03:18<00:24,  2.50it/s]\u001b[A\n",
      " 74%|███████▎  | 164/223 [03:18<00:22,  2.63it/s]\u001b[A\n",
      " 74%|███████▍  | 165/223 [03:19<00:22,  2.56it/s]\u001b[A\n",
      " 74%|███████▍  | 166/223 [03:19<00:21,  2.65it/s]\u001b[A\n",
      " 75%|███████▍  | 167/223 [03:19<00:20,  2.77it/s]\u001b[A\n",
      " 75%|███████▌  | 168/223 [03:20<00:19,  2.78it/s]\u001b[A\n",
      " 76%|███████▌  | 169/223 [03:20<00:17,  3.04it/s]\u001b[A\n",
      " 76%|███████▌  | 170/223 [03:20<00:19,  2.74it/s]\u001b[A\n",
      " 77%|███████▋  | 171/223 [03:21<00:17,  2.91it/s]\u001b[A\n",
      " 77%|███████▋  | 172/223 [03:21<00:16,  3.07it/s]\u001b[A\n",
      " 78%|███████▊  | 173/223 [03:22<00:18,  2.72it/s]\u001b[A\n",
      " 78%|███████▊  | 174/223 [03:22<00:16,  2.88it/s]\u001b[A\n",
      " 78%|███████▊  | 175/223 [03:22<00:18,  2.63it/s]\u001b[A\n",
      " 79%|███████▉  | 176/223 [03:23<00:17,  2.75it/s]\u001b[A\n",
      " 79%|███████▉  | 177/223 [03:23<00:16,  2.73it/s]\u001b[A\n",
      " 80%|███████▉  | 178/223 [03:23<00:17,  2.56it/s]\u001b[A\n",
      " 80%|████████  | 179/223 [03:24<00:17,  2.54it/s]\u001b[A\n",
      " 81%|████████  | 180/223 [03:24<00:17,  2.52it/s]\u001b[A\n",
      " 81%|████████  | 181/223 [03:25<00:16,  2.53it/s]\u001b[A\n",
      " 82%|████████▏ | 182/223 [03:25<00:15,  2.66it/s]\u001b[A\n",
      " 82%|████████▏ | 183/223 [03:25<00:14,  2.80it/s]\u001b[A\n",
      " 83%|████████▎ | 184/223 [03:26<00:13,  2.87it/s]\u001b[A\n",
      " 83%|████████▎ | 185/223 [03:26<00:13,  2.90it/s]\u001b[A\n",
      " 83%|████████▎ | 186/223 [03:26<00:11,  3.25it/s]\u001b[A\n",
      " 84%|████████▍ | 187/223 [03:26<00:10,  3.29it/s]\u001b[A\n",
      " 84%|████████▍ | 188/223 [03:27<00:10,  3.29it/s]\u001b[A\n",
      " 85%|████████▍ | 189/223 [03:27<00:11,  2.95it/s]\u001b[A\n",
      " 85%|████████▌ | 190/223 [03:28<00:12,  2.70it/s]\u001b[A\n",
      " 86%|████████▌ | 191/223 [03:28<00:11,  2.86it/s]\u001b[A\n",
      " 86%|████████▌ | 192/223 [03:28<00:11,  2.77it/s]\u001b[A\n",
      " 87%|████████▋ | 193/223 [03:29<00:10,  2.85it/s]\u001b[A\n",
      " 87%|████████▋ | 194/223 [03:29<00:10,  2.80it/s]\u001b[A\n",
      " 87%|████████▋ | 195/223 [03:29<00:09,  3.00it/s]\u001b[A\n",
      " 88%|████████▊ | 196/223 [03:29<00:08,  3.34it/s]\u001b[A\n",
      " 88%|████████▊ | 197/223 [03:30<00:06,  3.75it/s]\u001b[A\n",
      " 89%|████████▉ | 198/223 [03:30<00:06,  4.01it/s]\u001b[A\n",
      " 89%|████████▉ | 199/223 [03:30<00:05,  4.18it/s]\u001b[A\n",
      " 90%|████████▉ | 200/223 [03:30<00:05,  4.18it/s]\u001b[A\n",
      " 90%|█████████ | 201/223 [04:31<06:41, 18.26s/it]\u001b[A\n",
      " 91%|█████████ | 202/223 [04:31<04:30, 12.90s/it]\u001b[A\n",
      " 91%|█████████ | 203/223 [04:31<03:02,  9.11s/it]\u001b[A\n",
      " 91%|█████████▏| 204/223 [04:32<02:02,  6.47s/it]\u001b[A\n",
      " 92%|█████████▏| 205/223 [04:32<01:22,  4.60s/it]\u001b[A\n",
      " 92%|█████████▏| 206/223 [04:32<00:56,  3.30s/it]\u001b[A\n",
      " 93%|█████████▎| 207/223 [04:32<00:38,  2.39s/it]\u001b[A\n",
      " 93%|█████████▎| 208/223 [04:33<00:26,  1.75s/it]\u001b[A\n",
      " 94%|█████████▎| 209/223 [04:33<00:18,  1.29s/it]\u001b[A\n",
      " 94%|█████████▍| 210/223 [04:33<00:12,  1.04it/s]\u001b[A\n",
      " 95%|█████████▍| 211/223 [04:33<00:08,  1.36it/s]\u001b[A\n",
      " 95%|█████████▌| 212/223 [04:34<00:06,  1.66it/s]\u001b[A\n",
      " 96%|█████████▌| 213/223 [04:34<00:04,  2.06it/s]\u001b[A\n",
      " 96%|█████████▌| 214/223 [04:34<00:03,  2.43it/s]\u001b[A\n",
      " 96%|█████████▋| 215/223 [04:34<00:02,  2.90it/s]\u001b[A\n",
      " 97%|█████████▋| 216/223 [04:34<00:02,  3.10it/s]\u001b[A\n",
      " 97%|█████████▋| 217/223 [04:35<00:01,  3.25it/s]\u001b[A\n",
      " 98%|█████████▊| 218/223 [04:35<00:01,  3.28it/s]\u001b[A\n",
      " 98%|█████████▊| 219/223 [04:35<00:01,  3.24it/s]\u001b[A\n",
      " 99%|█████████▊| 220/223 [04:36<00:00,  3.41it/s]\u001b[A\n",
      " 99%|█████████▉| 221/223 [04:36<00:00,  3.66it/s]\u001b[A\n",
      "100%|█████████▉| 222/223 [04:36<00:00,  3.92it/s]\u001b[A\n",
      "100%|██████████| 223/223 [04:36<00:00,  1.24s/it]\u001b[A\n"
     ]
    },
    {
     "name": "stdout",
     "output_type": "stream",
     "text": [
      "length of df 222\n",
      "Coreyms_comments.csv Witten\n"
     ]
    },
    {
     "name": "stderr",
     "output_type": "stream",
     "text": [
      "\r",
      " 40%|████      | 4/10 [30:27<40:21, 403.51s/it]"
     ]
    },
    {
     "name": "stdout",
     "output_type": "stream",
     "text": [
      "realpython UCI0vQvr9aFn27yR6Ej6n5UA\n"
     ]
    },
    {
     "name": "stderr",
     "output_type": "stream",
     "text": [
      "\n",
      "  0%|          | 0/315 [00:00<?, ?it/s]\u001b[A"
     ]
    },
    {
     "name": "stdout",
     "output_type": "stream",
     "text": [
      "An exception occurred Key error\n",
      "An exception occurred Key error\n",
      "An exception occurred Key error\n",
      "An exception occurred Key error\n",
      "An exception occurred Key error\n",
      "An exception occurred Key error\n",
      "An exception occurred Key error\n",
      "An exception occurred Key error\n",
      "An exception occurred Key error\n",
      "An exception occurred Key error\n",
      "An exception occurred Key error\n",
      "An exception occurred Key error\n",
      "An exception occurred Key error\n",
      "An exception occurred Key error\n",
      "An exception occurred Key error\n",
      "An exception occurred Key error\n",
      "An exception occurred Key error\n",
      "An exception occurred Key error\n"
     ]
    },
    {
     "name": "stderr",
     "output_type": "stream",
     "text": [
      "\n",
      " 16%|█▌        | 50/315 [00:11<00:58,  4.51it/s]\u001b[A"
     ]
    },
    {
     "name": "stdout",
     "output_type": "stream",
     "text": [
      "An exception occurred Key error\n",
      "An exception occurred Key error\n",
      "An exception occurred Key error\n"
     ]
    },
    {
     "name": "stderr",
     "output_type": "stream",
     "text": [
      "\n",
      " 16%|█▌        | 50/315 [00:22<00:58,  4.51it/s]\u001b[A\n",
      " 31%|███       | 98/315 [00:22<00:49,  4.38it/s]\u001b[A\n",
      " 31%|███▏      | 99/315 [00:22<00:49,  4.38it/s]\u001b[A\n",
      " 32%|███▏      | 100/315 [00:22<00:48,  4.40it/s]\u001b[A\n",
      " 32%|███▏      | 101/315 [00:23<00:49,  4.35it/s]\u001b[A\n",
      " 32%|███▏      | 102/315 [00:23<00:49,  4.34it/s]\u001b[A\n",
      " 33%|███▎      | 103/315 [00:23<00:51,  4.10it/s]\u001b[A\n",
      " 33%|███▎      | 104/315 [00:23<00:52,  4.02it/s]\u001b[A\n",
      " 33%|███▎      | 105/315 [00:24<00:50,  4.18it/s]\u001b[A\n",
      " 34%|███▎      | 106/315 [00:24<00:47,  4.42it/s]\u001b[A\n",
      " 34%|███▍      | 107/315 [00:24<00:44,  4.68it/s]\u001b[A\n",
      " 34%|███▍      | 108/315 [00:24<00:48,  4.29it/s]\u001b[A\n",
      " 35%|███▍      | 109/315 [00:25<00:48,  4.24it/s]\u001b[A\n",
      " 35%|███▍      | 110/315 [00:25<00:52,  3.91it/s]\u001b[A\n",
      " 35%|███▌      | 111/315 [00:25<00:47,  4.25it/s]\u001b[A\n",
      " 36%|███▌      | 112/315 [00:25<00:50,  4.02it/s]\u001b[A\n",
      " 36%|███▌      | 113/315 [00:26<00:52,  3.86it/s]\u001b[A\n",
      " 36%|███▌      | 114/315 [00:26<00:53,  3.78it/s]\u001b[A\n",
      " 37%|███▋      | 115/315 [00:26<00:48,  4.09it/s]\u001b[A\n",
      " 37%|███▋      | 116/315 [00:26<00:48,  4.09it/s]\u001b[A\n",
      " 37%|███▋      | 117/315 [00:27<00:57,  3.42it/s]\u001b[A\n",
      " 37%|███▋      | 118/315 [00:27<01:01,  3.21it/s]\u001b[A\n",
      " 38%|███▊      | 119/315 [00:27<01:00,  3.25it/s]\u001b[A\n",
      " 38%|███▊      | 120/315 [00:28<00:51,  3.77it/s]\u001b[A\n",
      " 38%|███▊      | 121/315 [01:28<58:41, 18.15s/it]\u001b[A\n",
      " 39%|███▊      | 122/315 [01:28<41:15, 12.83s/it]\u001b[A\n",
      " 39%|███▉      | 123/315 [01:28<28:56,  9.04s/it]\u001b[A\n",
      " 39%|███▉      | 124/315 [01:29<20:24,  6.41s/it]\u001b[A\n",
      " 40%|███▉      | 125/315 [01:29<14:25,  4.55s/it]\u001b[A\n",
      " 40%|████      | 126/315 [01:29<10:22,  3.29s/it]\u001b[A\n",
      " 40%|████      | 127/315 [01:29<07:24,  2.36s/it]\u001b[A\n",
      " 41%|████      | 128/315 [01:29<05:18,  1.70s/it]\u001b[A\n",
      " 41%|████      | 129/315 [01:30<03:53,  1.26s/it]\u001b[A\n",
      " 41%|████▏     | 130/315 [01:30<02:53,  1.06it/s]\u001b[A\n",
      " 42%|████▏     | 131/315 [01:30<02:21,  1.30it/s]\u001b[A\n",
      " 42%|████▏     | 132/315 [01:30<01:47,  1.71it/s]\u001b[A\n",
      " 42%|████▏     | 133/315 [01:31<01:26,  2.10it/s]\u001b[A\n",
      " 43%|████▎     | 134/315 [01:31<01:08,  2.62it/s]\u001b[A\n",
      " 43%|████▎     | 135/315 [01:31<01:00,  2.96it/s]\u001b[A\n",
      " 43%|████▎     | 136/315 [01:31<00:57,  3.10it/s]\u001b[A\n",
      " 43%|████▎     | 137/315 [01:32<00:59,  2.99it/s]\u001b[A\n",
      " 44%|████▍     | 138/315 [01:32<00:53,  3.33it/s]\u001b[A\n",
      " 44%|████▍     | 139/315 [01:32<00:43,  4.02it/s]\u001b[A\n",
      " 44%|████▍     | 140/315 [01:32<00:37,  4.61it/s]\u001b[A"
     ]
    },
    {
     "name": "stdout",
     "output_type": "stream",
     "text": [
      "An exception occurred Key error\n"
     ]
    },
    {
     "name": "stderr",
     "output_type": "stream",
     "text": [
      "\n",
      " 45%|████▍     | 141/315 [01:32<00:33,  5.20it/s]\u001b[A\n",
      " 45%|████▌     | 142/315 [01:32<00:33,  5.17it/s]\u001b[A\n",
      " 45%|████▌     | 143/315 [01:33<00:35,  4.84it/s]\u001b[A\n",
      " 46%|████▌     | 144/315 [01:33<00:39,  4.32it/s]\u001b[A\n",
      " 46%|████▌     | 145/315 [01:33<00:34,  4.89it/s]\u001b[A\n",
      " 46%|████▋     | 146/315 [01:33<00:33,  5.11it/s]\u001b[A\n",
      " 47%|████▋     | 147/315 [01:34<00:33,  5.08it/s]\u001b[A\n",
      " 47%|████▋     | 148/315 [01:34<00:33,  4.93it/s]\u001b[A\n",
      " 47%|████▋     | 149/315 [01:34<00:32,  5.12it/s]\u001b[A\n",
      " 48%|████▊     | 150/315 [01:34<00:32,  5.03it/s]\u001b[A\n",
      " 48%|████▊     | 151/315 [01:34<00:36,  4.53it/s]\u001b[A\n",
      " 48%|████▊     | 152/315 [01:35<00:33,  4.85it/s]\u001b[A\n",
      " 49%|████▊     | 153/315 [01:35<00:30,  5.28it/s]\u001b[A\n",
      " 49%|████▉     | 154/315 [01:35<00:27,  5.82it/s]\u001b[A\n",
      " 49%|████▉     | 155/315 [01:35<00:33,  4.82it/s]\u001b[A\n",
      " 50%|████▉     | 156/315 [01:35<00:29,  5.35it/s]\u001b[A\n",
      " 50%|████▉     | 157/315 [01:35<00:28,  5.51it/s]\u001b[A\n",
      " 50%|█████     | 158/315 [01:36<00:30,  5.18it/s]\u001b[A\n",
      " 50%|█████     | 159/315 [01:36<00:28,  5.45it/s]\u001b[A\n",
      " 51%|█████     | 160/315 [01:36<00:27,  5.64it/s]\u001b[A\n",
      " 51%|█████     | 161/315 [01:36<00:29,  5.20it/s]\u001b[A\n",
      " 51%|█████▏    | 162/315 [01:36<00:28,  5.36it/s]\u001b[A\n",
      " 52%|█████▏    | 163/315 [01:37<00:29,  5.17it/s]\u001b[A\n",
      " 52%|█████▏    | 164/315 [01:37<00:27,  5.54it/s]\u001b[A\n",
      " 52%|█████▏    | 165/315 [01:37<00:32,  4.58it/s]\u001b[A\n",
      " 53%|█████▎    | 166/315 [01:37<00:30,  4.83it/s]\u001b[A\n",
      " 53%|█████▎    | 167/315 [01:37<00:31,  4.69it/s]\u001b[A\n",
      " 53%|█████▎    | 168/315 [01:38<00:31,  4.65it/s]\u001b[A\n",
      " 54%|█████▎    | 169/315 [01:38<00:32,  4.55it/s]\u001b[A\n",
      " 54%|█████▍    | 170/315 [01:38<00:34,  4.15it/s]\u001b[A\n",
      " 54%|█████▍    | 171/315 [01:38<00:35,  4.07it/s]\u001b[A\n",
      " 55%|█████▍    | 172/315 [01:39<00:34,  4.11it/s]\u001b[A\n",
      " 55%|█████▍    | 173/315 [01:39<00:34,  4.17it/s]\u001b[A\n",
      " 55%|█████▌    | 174/315 [01:39<00:36,  3.85it/s]\u001b[A\n",
      " 56%|█████▌    | 175/315 [01:39<00:33,  4.12it/s]\u001b[A\n",
      " 56%|█████▌    | 176/315 [01:40<00:34,  4.04it/s]\u001b[A\n",
      " 56%|█████▌    | 177/315 [01:40<00:35,  3.88it/s]\u001b[A\n",
      " 57%|█████▋    | 178/315 [01:40<00:37,  3.66it/s]\u001b[A\n",
      " 57%|█████▋    | 179/315 [01:41<00:40,  3.37it/s]\u001b[A\n",
      " 57%|█████▋    | 180/315 [01:41<00:42,  3.17it/s]\u001b[A\n",
      " 57%|█████▋    | 181/315 [01:41<00:40,  3.28it/s]\u001b[A\n",
      " 58%|█████▊    | 182/315 [01:42<00:45,  2.89it/s]\u001b[A\n",
      " 58%|█████▊    | 183/315 [01:42<00:47,  2.81it/s]\u001b[A\n",
      " 58%|█████▊    | 184/315 [01:42<00:47,  2.74it/s]\u001b[A\n",
      " 59%|█████▊    | 185/315 [01:43<00:49,  2.61it/s]\u001b[A\n",
      " 59%|█████▉    | 186/315 [01:43<00:46,  2.79it/s]\u001b[A\n",
      " 59%|█████▉    | 187/315 [01:43<00:42,  2.98it/s]\u001b[A\n",
      " 60%|█████▉    | 188/315 [01:44<00:43,  2.89it/s]\u001b[A\n",
      " 60%|██████    | 189/315 [01:44<00:44,  2.85it/s]\u001b[A\n",
      " 60%|██████    | 190/315 [01:45<00:44,  2.78it/s]\u001b[A\n",
      " 61%|██████    | 191/315 [01:45<00:58,  2.13it/s]\u001b[A\n",
      " 61%|██████    | 192/315 [01:46<00:51,  2.38it/s]\u001b[A\n",
      " 61%|██████▏   | 193/315 [01:46<00:46,  2.65it/s]\u001b[A\n",
      " 62%|██████▏   | 194/315 [01:46<00:46,  2.62it/s]\u001b[A\n",
      " 62%|██████▏   | 195/315 [01:47<00:42,  2.81it/s]\u001b[A\n",
      " 62%|██████▏   | 196/315 [01:47<00:40,  2.94it/s]\u001b[A\n",
      " 63%|██████▎   | 197/315 [01:47<00:34,  3.37it/s]\u001b[A\n",
      " 63%|██████▎   | 198/315 [01:47<00:30,  3.82it/s]\u001b[A\n",
      " 63%|██████▎   | 199/315 [01:48<00:35,  3.26it/s]\u001b[A\n",
      " 63%|██████▎   | 200/315 [01:48<00:34,  3.34it/s]\u001b[A\n",
      " 64%|██████▍   | 201/315 [01:48<00:29,  3.83it/s]\u001b[A\n",
      " 64%|██████▍   | 202/315 [01:48<00:28,  3.99it/s]\u001b[A\n",
      " 64%|██████▍   | 203/315 [01:49<00:27,  4.06it/s]\u001b[A\n",
      " 65%|██████▍   | 204/315 [01:49<00:27,  4.02it/s]\u001b[A\n",
      " 65%|██████▌   | 205/315 [01:49<00:24,  4.43it/s]\u001b[A\n",
      " 65%|██████▌   | 206/315 [01:49<00:26,  4.14it/s]\u001b[A\n",
      " 66%|██████▌   | 207/315 [01:50<00:28,  3.78it/s]\u001b[A\n",
      " 66%|██████▌   | 208/315 [01:50<00:24,  4.42it/s]\u001b[A\n",
      " 66%|██████▋   | 209/315 [01:50<00:22,  4.66it/s]\u001b[A\n",
      " 67%|██████▋   | 210/315 [01:50<00:20,  5.16it/s]\u001b[A\n",
      " 67%|██████▋   | 211/315 [01:50<00:21,  4.77it/s]\u001b[A\n",
      " 67%|██████▋   | 212/315 [01:51<00:22,  4.51it/s]\u001b[A\n",
      " 68%|██████▊   | 213/315 [01:51<00:25,  3.99it/s]\u001b[A\n",
      " 68%|██████▊   | 214/315 [01:51<00:24,  4.04it/s]\u001b[A\n",
      " 68%|██████▊   | 215/315 [01:51<00:22,  4.43it/s]\u001b[A\n",
      " 69%|██████▊   | 216/315 [01:52<00:25,  3.89it/s]\u001b[A\n",
      " 69%|██████▉   | 217/315 [01:52<00:24,  3.94it/s]\u001b[A\n",
      " 69%|██████▉   | 218/315 [01:52<00:24,  3.97it/s]\u001b[A\n",
      " 70%|██████▉   | 219/315 [01:52<00:24,  3.90it/s]\u001b[A\n",
      " 70%|██████▉   | 220/315 [01:53<00:22,  4.21it/s]\u001b[A\n",
      " 70%|███████   | 221/315 [01:53<00:20,  4.61it/s]\u001b[A\n",
      " 70%|███████   | 222/315 [02:53<28:17, 18.25s/it]\u001b[A\n",
      " 71%|███████   | 223/315 [02:53<19:41, 12.84s/it]\u001b[A\n",
      " 71%|███████   | 224/315 [02:54<13:42,  9.04s/it]\u001b[A\n",
      " 71%|███████▏  | 225/315 [02:54<09:34,  6.38s/it]\u001b[A\n",
      " 72%|███████▏  | 226/315 [02:54<06:42,  4.52s/it]\u001b[A\n",
      " 72%|███████▏  | 227/315 [02:54<04:46,  3.26s/it]\u001b[A\n",
      " 72%|███████▏  | 228/315 [02:54<03:24,  2.36s/it]\u001b[A\n",
      " 73%|███████▎  | 229/315 [02:55<02:29,  1.74s/it]\u001b[A\n",
      " 73%|███████▎  | 230/315 [02:55<01:49,  1.29s/it]\u001b[A\n",
      " 73%|███████▎  | 231/315 [02:55<01:20,  1.05it/s]\u001b[A\n",
      " 74%|███████▎  | 232/315 [02:55<01:03,  1.32it/s]\u001b[A\n",
      " 74%|███████▍  | 233/315 [02:56<00:51,  1.58it/s]\u001b[A\n",
      " 74%|███████▍  | 234/315 [02:56<00:43,  1.87it/s]\u001b[A\n",
      " 75%|███████▍  | 235/315 [02:56<00:33,  2.40it/s]\u001b[A\n",
      " 75%|███████▍  | 236/315 [02:56<00:27,  2.89it/s]\u001b[A\n",
      " 75%|███████▌  | 237/315 [02:57<00:23,  3.37it/s]\u001b[A\n",
      " 76%|███████▌  | 238/315 [02:57<00:22,  3.36it/s]\u001b[A\n",
      " 76%|███████▌  | 239/315 [02:57<00:21,  3.46it/s]\u001b[A\n",
      " 76%|███████▌  | 240/315 [02:57<00:20,  3.72it/s]\u001b[A\n",
      " 77%|███████▋  | 241/315 [02:58<00:17,  4.25it/s]\u001b[A\n",
      " 77%|███████▋  | 242/315 [02:58<00:15,  4.72it/s]\u001b[A\n",
      " 77%|███████▋  | 243/315 [02:58<00:14,  5.13it/s]\u001b[A\n",
      " 77%|███████▋  | 244/315 [02:58<00:14,  4.84it/s]\u001b[A\n",
      " 78%|███████▊  | 245/315 [02:58<00:12,  5.56it/s]\u001b[A\n",
      " 78%|███████▊  | 246/315 [02:58<00:11,  6.20it/s]\u001b[A\n",
      " 78%|███████▊  | 247/315 [02:58<00:10,  6.60it/s]\u001b[A"
     ]
    },
    {
     "name": "stdout",
     "output_type": "stream",
     "text": [
      "An exception occurred Key error\n"
     ]
    },
    {
     "name": "stderr",
     "output_type": "stream",
     "text": [
      "\n",
      " 79%|███████▊  | 248/315 [02:59<00:10,  6.70it/s]\u001b[A\n",
      " 79%|███████▉  | 249/315 [02:59<00:09,  6.70it/s]\u001b[A\n",
      " 79%|███████▉  | 250/315 [02:59<00:09,  6.91it/s]\u001b[A\n",
      " 80%|███████▉  | 251/315 [02:59<00:09,  6.72it/s]\u001b[A\n",
      " 80%|████████  | 252/315 [02:59<00:11,  5.60it/s]\u001b[A\n",
      " 80%|████████  | 253/315 [02:59<00:10,  5.85it/s]\u001b[A\n",
      " 81%|████████  | 254/315 [03:00<00:12,  5.01it/s]\u001b[A\n",
      " 81%|████████  | 255/315 [03:00<00:13,  4.45it/s]\u001b[A\n",
      " 81%|████████▏ | 256/315 [03:00<00:12,  4.78it/s]\u001b[A\n",
      " 82%|████████▏ | 257/315 [03:00<00:11,  4.99it/s]\u001b[A\n",
      " 82%|████████▏ | 258/315 [03:01<00:10,  5.32it/s]\u001b[A\n",
      " 82%|████████▏ | 259/315 [03:01<00:11,  4.99it/s]\u001b[A\n",
      " 83%|████████▎ | 260/315 [03:01<00:10,  5.17it/s]\u001b[A\n",
      " 83%|████████▎ | 261/315 [03:01<00:10,  5.27it/s]\u001b[A\n",
      " 83%|████████▎ | 262/315 [03:01<00:09,  5.46it/s]\u001b[A\n",
      " 83%|████████▎ | 263/315 [03:02<00:11,  4.59it/s]\u001b[A\n",
      " 84%|████████▍ | 264/315 [03:02<00:11,  4.50it/s]\u001b[A\n",
      " 84%|████████▍ | 265/315 [03:02<00:09,  5.14it/s]\u001b[A\n",
      " 84%|████████▍ | 266/315 [03:02<00:09,  4.98it/s]\u001b[A\n",
      " 85%|████████▍ | 267/315 [03:02<00:08,  5.53it/s]\u001b[A\n",
      " 85%|████████▌ | 268/315 [03:02<00:08,  5.35it/s]\u001b[A\n",
      " 85%|████████▌ | 269/315 [03:03<00:07,  5.82it/s]\u001b[A\n",
      " 86%|████████▌ | 270/315 [03:03<00:07,  6.27it/s]\u001b[A\n",
      " 86%|████████▌ | 271/315 [03:03<00:06,  6.33it/s]\u001b[A\n",
      " 86%|████████▋ | 272/315 [03:03<00:08,  4.94it/s]\u001b[A\n",
      " 87%|████████▋ | 273/315 [03:03<00:08,  5.22it/s]\u001b[A\n",
      " 87%|████████▋ | 274/315 [03:04<00:08,  4.85it/s]\u001b[A\n",
      " 87%|████████▋ | 275/315 [03:04<00:07,  5.67it/s]\u001b[A\n",
      " 88%|████████▊ | 276/315 [03:04<00:07,  5.52it/s]\u001b[A"
     ]
    },
    {
     "name": "stdout",
     "output_type": "stream",
     "text": [
      "An exception occurred\n"
     ]
    },
    {
     "name": "stderr",
     "output_type": "stream",
     "text": [
      "\n",
      " 88%|████████▊ | 277/315 [03:04<00:06,  5.76it/s]\u001b[A\n",
      " 88%|████████▊ | 278/315 [03:04<00:06,  5.39it/s]\u001b[A\n",
      " 89%|████████▊ | 279/315 [03:05<00:07,  4.97it/s]\u001b[A\n",
      " 89%|████████▉ | 280/315 [03:05<00:07,  4.83it/s]\u001b[A\n",
      " 89%|████████▉ | 281/315 [03:05<00:07,  4.33it/s]\u001b[A\n",
      " 90%|████████▉ | 282/315 [03:05<00:07,  4.26it/s]\u001b[A\n",
      " 90%|████████▉ | 283/315 [03:05<00:06,  4.59it/s]\u001b[A\n",
      " 90%|█████████ | 284/315 [03:06<00:06,  4.77it/s]\u001b[A\n",
      " 90%|█████████ | 285/315 [03:06<00:05,  5.20it/s]\u001b[A\n",
      " 91%|█████████ | 286/315 [03:06<00:06,  4.54it/s]\u001b[A\n",
      " 91%|█████████ | 287/315 [03:06<00:06,  4.36it/s]\u001b[A\n",
      " 91%|█████████▏| 288/315 [03:06<00:05,  4.76it/s]\u001b[A\n",
      " 92%|█████████▏| 289/315 [03:07<00:05,  4.49it/s]\u001b[A\n",
      " 92%|█████████▏| 290/315 [03:07<00:04,  5.11it/s]\u001b[A\n",
      " 92%|█████████▏| 291/315 [03:07<00:04,  5.58it/s]\u001b[A"
     ]
    },
    {
     "name": "stdout",
     "output_type": "stream",
     "text": [
      "An exception occurred Key error\n"
     ]
    },
    {
     "name": "stderr",
     "output_type": "stream",
     "text": [
      "\n",
      " 93%|█████████▎| 292/315 [03:07<00:03,  6.13it/s]\u001b[A\n",
      " 93%|█████████▎| 293/315 [03:07<00:04,  5.21it/s]\u001b[A\n",
      " 93%|█████████▎| 294/315 [03:08<00:03,  5.65it/s]\u001b[A\n",
      " 94%|█████████▎| 295/315 [03:08<00:03,  6.04it/s]\u001b[A\n",
      " 94%|█████████▍| 296/315 [03:08<00:02,  6.40it/s]\u001b[A\n",
      " 94%|█████████▍| 297/315 [03:08<00:02,  6.37it/s]\u001b[A\n",
      " 95%|█████████▍| 298/315 [03:08<00:02,  6.50it/s]\u001b[A\n",
      " 95%|█████████▍| 299/315 [03:08<00:02,  6.27it/s]\u001b[A\n",
      " 95%|█████████▌| 300/315 [03:08<00:02,  6.31it/s]\u001b[A\n",
      " 96%|█████████▌| 301/315 [03:09<00:02,  5.83it/s]\u001b[A\n",
      " 96%|█████████▌| 302/315 [03:09<00:02,  6.14it/s]\u001b[A\n",
      " 96%|█████████▌| 303/315 [03:09<00:01,  6.06it/s]\u001b[A\n",
      " 97%|█████████▋| 304/315 [03:09<00:01,  6.10it/s]\u001b[A\n",
      " 97%|█████████▋| 305/315 [03:09<00:01,  5.73it/s]\u001b[A\n",
      " 97%|█████████▋| 306/315 [03:10<00:01,  5.19it/s]\u001b[A\n",
      " 97%|█████████▋| 307/315 [03:10<00:01,  5.76it/s]\u001b[A\n",
      " 98%|█████████▊| 308/315 [03:10<00:01,  5.76it/s]\u001b[A\n",
      " 98%|█████████▊| 309/315 [03:10<00:01,  5.77it/s]\u001b[A\n",
      " 98%|█████████▊| 310/315 [03:10<00:00,  5.29it/s]\u001b[A\n",
      " 99%|█████████▊| 311/315 [03:10<00:00,  5.38it/s]\u001b[A\n",
      " 99%|█████████▉| 312/315 [03:11<00:00,  5.02it/s]\u001b[A\n",
      " 99%|█████████▉| 313/315 [03:11<00:00,  5.60it/s]\u001b[A"
     ]
    },
    {
     "name": "stdout",
     "output_type": "stream",
     "text": [
      "An exception occurred Key error\n"
     ]
    },
    {
     "name": "stderr",
     "output_type": "stream",
     "text": [
      "\n",
      "100%|█████████▉| 314/315 [03:11<00:00,  4.95it/s]\u001b[A\n",
      "100%|██████████| 315/315 [03:11<00:00,  1.64it/s]\u001b[A\n"
     ]
    },
    {
     "name": "stdout",
     "output_type": "stream",
     "text": [
      "length of df 289\n",
      "realpython_comments.csv Witten\n"
     ]
    },
    {
     "name": "stderr",
     "output_type": "stream",
     "text": [
      "\r",
      " 50%|█████     | 5/10 [34:40<29:05, 349.08s/it]"
     ]
    },
    {
     "name": "stdout",
     "output_type": "stream",
     "text": [
      "NeetCode UC_mYaQAE6-71rjSN6CeCA-g\n"
     ]
    },
    {
     "name": "stderr",
     "output_type": "stream",
     "text": [
      "\n",
      "  0%|          | 0/437 [00:00<?, ?it/s]\u001b[A\n",
      "  0%|          | 0/437 [00:19<?, ?it/s]\u001b[A\n",
      " 11%|█         | 49/437 [00:21<02:54,  2.23it/s]\u001b[A\n",
      " 11%|█▏        | 50/437 [00:22<02:53,  2.23it/s]\u001b[A\n",
      " 12%|█▏        | 51/437 [00:22<02:51,  2.25it/s]\u001b[A\n",
      " 12%|█▏        | 52/437 [00:23<02:49,  2.28it/s]\u001b[A\n",
      " 12%|█▏        | 53/437 [00:23<02:50,  2.25it/s]\u001b[A\n",
      " 12%|█▏        | 54/437 [00:24<02:50,  2.25it/s]\u001b[A\n",
      " 13%|█▎        | 55/437 [00:24<02:48,  2.27it/s]\u001b[A\n",
      " 13%|█▎        | 56/437 [00:24<02:48,  2.26it/s]\u001b[A\n",
      " 13%|█▎        | 57/437 [00:25<02:44,  2.30it/s]\u001b[A\n",
      " 13%|█▎        | 58/437 [00:30<08:15,  1.31s/it]\u001b[A\n",
      " 14%|█▎        | 59/437 [00:30<07:00,  1.11s/it]\u001b[A\n",
      " 14%|█▎        | 60/437 [00:31<06:02,  1.04it/s]\u001b[A\n",
      " 14%|█▍        | 61/437 [00:31<05:14,  1.20it/s]\u001b[A\n",
      " 14%|█▍        | 62/437 [00:31<04:25,  1.41it/s]\u001b[A\n",
      " 14%|█▍        | 63/437 [00:32<03:53,  1.60it/s]\u001b[A\n",
      " 15%|█▍        | 64/437 [00:32<03:22,  1.84it/s]\u001b[A\n",
      " 15%|█▍        | 65/437 [00:33<03:21,  1.85it/s]\u001b[A\n",
      " 15%|█▌        | 66/437 [00:33<03:02,  2.03it/s]\u001b[A\n",
      " 15%|█▌        | 67/437 [00:33<02:45,  2.24it/s]\u001b[A\n",
      " 16%|█▌        | 68/437 [00:34<02:31,  2.44it/s]\u001b[A\n",
      " 16%|█▌        | 69/437 [00:34<02:33,  2.40it/s]\u001b[A\n",
      " 16%|█▌        | 70/437 [00:35<02:22,  2.58it/s]\u001b[A\n",
      " 16%|█▌        | 71/437 [00:35<02:15,  2.70it/s]\u001b[A\n",
      " 16%|█▋        | 72/437 [00:35<02:26,  2.49it/s]\u001b[A\n",
      " 17%|█▋        | 73/437 [00:36<02:31,  2.40it/s]\u001b[A\n",
      " 17%|█▋        | 74/437 [00:36<02:20,  2.58it/s]\u001b[A\n",
      " 17%|█▋        | 75/437 [00:37<02:23,  2.52it/s]\u001b[A\n",
      " 17%|█▋        | 76/437 [00:37<02:08,  2.81it/s]\u001b[A\n",
      " 18%|█▊        | 77/437 [00:37<02:04,  2.90it/s]\u001b[A\n",
      " 18%|█▊        | 78/437 [00:37<01:58,  3.02it/s]\u001b[A\n",
      " 18%|█▊        | 79/437 [00:38<02:00,  2.98it/s]\u001b[A\n",
      " 18%|█▊        | 80/437 [00:38<02:05,  2.85it/s]\u001b[A\n",
      " 19%|█▊        | 81/437 [00:39<02:15,  2.62it/s]\u001b[A\n",
      " 19%|█▉        | 82/437 [00:39<02:22,  2.49it/s]\u001b[A\n",
      " 19%|█▉        | 83/437 [00:39<02:09,  2.73it/s]\u001b[A\n",
      " 19%|█▉        | 84/437 [00:40<02:03,  2.86it/s]\u001b[A\n",
      " 19%|█▉        | 85/437 [00:40<02:08,  2.74it/s]\u001b[A\n",
      " 20%|█▉        | 86/437 [00:40<02:05,  2.79it/s]\u001b[A\n",
      " 20%|█▉        | 87/437 [00:41<02:03,  2.82it/s]\u001b[A\n",
      " 20%|██        | 88/437 [00:41<01:57,  2.97it/s]\u001b[A\n",
      " 20%|██        | 89/437 [00:41<01:56,  2.99it/s]\u001b[A\n",
      " 21%|██        | 90/437 [00:42<01:57,  2.95it/s]\u001b[A\n",
      " 21%|██        | 91/437 [00:42<01:57,  2.95it/s]\u001b[A\n",
      " 21%|██        | 92/437 [00:42<01:51,  3.09it/s]\u001b[A\n",
      " 21%|██▏       | 93/437 [00:43<01:49,  3.15it/s]\u001b[A\n",
      " 22%|██▏       | 94/437 [00:43<01:48,  3.16it/s]\u001b[A\n",
      " 22%|██▏       | 95/437 [00:43<01:55,  2.97it/s]\u001b[A\n",
      " 22%|██▏       | 96/437 [00:44<01:53,  3.00it/s]\u001b[A\n",
      " 22%|██▏       | 97/437 [00:44<01:55,  2.96it/s]\u001b[A\n",
      " 22%|██▏       | 98/437 [00:44<02:04,  2.73it/s]\u001b[A\n",
      " 23%|██▎       | 99/437 [00:45<02:03,  2.74it/s]\u001b[A\n",
      " 23%|██▎       | 100/437 [01:45<1:43:25, 18.41s/it]\u001b[A\n",
      " 23%|██▎       | 101/437 [01:46<1:12:44, 12.99s/it]\u001b[A\n",
      " 23%|██▎       | 102/437 [01:46<51:24,  9.21s/it]  \u001b[A\n",
      " 24%|██▎       | 103/437 [01:47<36:45,  6.60s/it]\u001b[A\n",
      " 24%|██▍       | 104/437 [01:47<26:16,  4.73s/it]\u001b[A\n",
      " 24%|██▍       | 105/437 [01:47<18:49,  3.40s/it]\u001b[A\n",
      " 24%|██▍       | 106/437 [01:48<13:44,  2.49s/it]\u001b[A\n",
      " 24%|██▍       | 107/437 [01:48<10:39,  1.94s/it]\u001b[A\n",
      " 25%|██▍       | 108/437 [01:49<07:55,  1.44s/it]\u001b[A\n",
      " 25%|██▍       | 109/437 [01:49<06:33,  1.20s/it]\u001b[A\n",
      " 25%|██▌       | 110/437 [01:50<05:08,  1.06it/s]\u001b[A\n",
      " 25%|██▌       | 111/437 [01:50<04:04,  1.33it/s]\u001b[A\n",
      " 26%|██▌       | 112/437 [01:50<03:18,  1.64it/s]\u001b[A\n",
      " 26%|██▌       | 113/437 [01:50<02:41,  2.01it/s]\u001b[A\n",
      " 26%|██▌       | 114/437 [01:50<02:07,  2.54it/s]\u001b[A\n",
      " 26%|██▋       | 115/437 [01:51<02:02,  2.64it/s]\u001b[A\n",
      " 27%|██▋       | 116/437 [01:51<01:59,  2.68it/s]\u001b[A\n",
      " 27%|██▋       | 117/437 [01:52<01:56,  2.74it/s]\u001b[A\n",
      " 27%|██▋       | 118/437 [01:52<01:49,  2.91it/s]\u001b[A\n",
      " 27%|██▋       | 119/437 [01:52<01:41,  3.15it/s]\u001b[A\n",
      " 27%|██▋       | 120/437 [01:52<01:36,  3.28it/s]\u001b[A\n",
      " 28%|██▊       | 121/437 [01:53<01:34,  3.36it/s]\u001b[A\n",
      " 28%|██▊       | 122/437 [01:53<01:31,  3.43it/s]\u001b[A\n",
      " 28%|██▊       | 123/437 [01:53<01:26,  3.64it/s]\u001b[A\n",
      " 28%|██▊       | 124/437 [01:53<01:24,  3.70it/s]\u001b[A\n",
      " 29%|██▊       | 125/437 [01:54<01:23,  3.75it/s]\u001b[A\n",
      " 29%|██▉       | 126/437 [01:54<01:21,  3.82it/s]\u001b[A\n",
      " 29%|██▉       | 127/437 [01:54<01:28,  3.52it/s]\u001b[A\n",
      " 29%|██▉       | 128/437 [01:55<01:38,  3.15it/s]\u001b[A\n",
      " 30%|██▉       | 129/437 [01:55<01:51,  2.75it/s]\u001b[A\n",
      " 30%|██▉       | 130/437 [01:55<01:42,  3.00it/s]\u001b[A\n",
      " 30%|██▉       | 131/437 [01:56<01:37,  3.13it/s]\u001b[A\n",
      " 30%|███       | 132/437 [01:56<01:49,  2.78it/s]\u001b[A\n",
      " 30%|███       | 133/437 [01:56<01:36,  3.13it/s]\u001b[A\n",
      " 31%|███       | 134/437 [01:57<01:27,  3.46it/s]\u001b[A\n",
      " 31%|███       | 135/437 [01:57<01:27,  3.47it/s]\u001b[A\n",
      " 31%|███       | 136/437 [01:57<01:27,  3.45it/s]\u001b[A\n",
      " 31%|███▏      | 137/437 [01:58<01:47,  2.78it/s]\u001b[A\n",
      " 32%|███▏      | 138/437 [01:58<01:36,  3.10it/s]\u001b[A\n",
      " 32%|███▏      | 139/437 [01:58<01:26,  3.45it/s]\u001b[A\n",
      " 32%|███▏      | 140/437 [01:58<01:22,  3.62it/s]\u001b[A\n",
      " 32%|███▏      | 141/437 [01:59<01:21,  3.62it/s]\u001b[A\n",
      " 32%|███▏      | 142/437 [01:59<01:25,  3.47it/s]\u001b[A\n",
      " 33%|███▎      | 143/437 [01:59<01:25,  3.43it/s]\u001b[A\n",
      " 33%|███▎      | 144/437 [02:00<01:32,  3.18it/s]\u001b[A\n",
      " 33%|███▎      | 145/437 [02:00<01:30,  3.24it/s]\u001b[A\n",
      " 33%|███▎      | 146/437 [02:00<01:26,  3.37it/s]\u001b[A\n",
      " 34%|███▎      | 147/437 [02:01<01:26,  3.36it/s]\u001b[A\n",
      " 34%|███▍      | 148/437 [02:01<01:24,  3.40it/s]\u001b[A\n",
      " 34%|███▍      | 149/437 [02:01<01:20,  3.58it/s]\u001b[A\n",
      " 34%|███▍      | 150/437 [02:01<01:28,  3.26it/s]\u001b[A\n",
      " 35%|███▍      | 151/437 [02:02<01:23,  3.41it/s]\u001b[A\n",
      " 35%|███▍      | 152/437 [02:02<01:25,  3.32it/s]\u001b[A\n",
      " 35%|███▌      | 153/437 [02:02<01:15,  3.74it/s]\u001b[A\n",
      " 35%|███▌      | 154/437 [02:02<01:17,  3.66it/s]\u001b[A\n",
      " 35%|███▌      | 155/437 [02:03<01:12,  3.90it/s]\u001b[A\n",
      " 36%|███▌      | 156/437 [02:03<01:13,  3.84it/s]\u001b[A\n",
      " 36%|███▌      | 157/437 [02:03<01:28,  3.18it/s]\u001b[A\n",
      " 36%|███▌      | 158/437 [02:04<01:15,  3.67it/s]\u001b[A\n",
      " 36%|███▋      | 159/437 [02:04<01:15,  3.68it/s]\u001b[A\n",
      " 37%|███▋      | 160/437 [02:05<01:50,  2.50it/s]\u001b[A\n",
      " 37%|███▋      | 161/437 [02:05<01:41,  2.73it/s]\u001b[A\n",
      " 37%|███▋      | 162/437 [02:05<01:32,  2.96it/s]\u001b[A\n",
      " 37%|███▋      | 163/437 [02:05<01:27,  3.12it/s]\u001b[A\n",
      " 38%|███▊      | 164/437 [02:06<01:22,  3.31it/s]\u001b[A\n",
      " 38%|███▊      | 165/437 [02:06<01:17,  3.50it/s]\u001b[A\n",
      " 38%|███▊      | 166/437 [02:06<01:16,  3.56it/s]\u001b[A\n",
      " 38%|███▊      | 167/437 [02:06<01:17,  3.48it/s]\u001b[A\n",
      " 38%|███▊      | 168/437 [02:07<01:19,  3.40it/s]\u001b[A\n",
      " 39%|███▊      | 169/437 [02:07<01:13,  3.62it/s]\u001b[A\n",
      " 39%|███▉      | 170/437 [02:07<01:16,  3.48it/s]\u001b[A\n",
      " 39%|███▉      | 171/437 [02:08<01:17,  3.45it/s]\u001b[A\n",
      " 39%|███▉      | 172/437 [02:08<01:18,  3.36it/s]\u001b[A\n",
      " 40%|███▉      | 173/437 [02:08<01:22,  3.19it/s]\u001b[A\n",
      " 40%|███▉      | 174/437 [02:09<01:25,  3.09it/s]\u001b[A\n",
      " 40%|████      | 175/437 [02:09<01:21,  3.20it/s]\u001b[A\n",
      " 40%|████      | 176/437 [02:09<01:22,  3.15it/s]\u001b[A\n",
      " 41%|████      | 177/437 [02:10<01:22,  3.15it/s]\u001b[A\n",
      " 41%|████      | 178/437 [02:10<01:12,  3.57it/s]\u001b[A\n",
      " 41%|████      | 179/437 [02:10<01:16,  3.39it/s]\u001b[A\n",
      " 41%|████      | 180/437 [02:10<01:17,  3.31it/s]\u001b[A\n",
      " 41%|████▏     | 181/437 [02:11<01:17,  3.32it/s]\u001b[A\n",
      " 42%|████▏     | 182/437 [02:11<01:18,  3.25it/s]\u001b[A\n",
      " 42%|████▏     | 183/437 [02:11<01:17,  3.27it/s]\u001b[A\n",
      " 42%|████▏     | 184/437 [02:12<01:16,  3.33it/s]\u001b[A\n",
      " 42%|████▏     | 185/437 [02:12<01:15,  3.35it/s]\u001b[A\n",
      " 43%|████▎     | 186/437 [02:12<01:24,  2.96it/s]\u001b[A\n",
      " 43%|████▎     | 187/437 [02:13<01:19,  3.16it/s]\u001b[A\n",
      " 43%|████▎     | 188/437 [02:13<01:16,  3.23it/s]\u001b[A\n",
      " 43%|████▎     | 189/437 [02:13<01:06,  3.73it/s]\u001b[A\n",
      " 43%|████▎     | 190/437 [02:13<01:04,  3.82it/s]\u001b[A\n",
      " 44%|████▎     | 191/437 [02:14<01:01,  3.97it/s]\u001b[A\n",
      " 44%|████▍     | 192/437 [02:14<01:09,  3.50it/s]\u001b[A\n",
      " 44%|████▍     | 193/437 [02:14<01:04,  3.80it/s]\u001b[A\n",
      " 44%|████▍     | 194/437 [02:14<01:07,  3.60it/s]\u001b[A\n",
      " 45%|████▍     | 195/437 [02:15<01:05,  3.68it/s]\u001b[A\n",
      " 45%|████▍     | 196/437 [02:15<01:04,  3.71it/s]\u001b[A\n",
      " 45%|████▌     | 197/437 [02:15<01:12,  3.29it/s]\u001b[A\n",
      " 45%|████▌     | 198/437 [02:16<01:08,  3.47it/s]\u001b[A\n",
      " 46%|████▌     | 199/437 [02:16<01:06,  3.59it/s]\u001b[A\n",
      " 46%|████▌     | 200/437 [03:16<1:12:13, 18.28s/it]\u001b[A\n",
      " 46%|████▌     | 201/437 [03:16<50:44, 12.90s/it]  \u001b[A\n"
     ]
    },
    {
     "name": "stderr",
     "output_type": "stream",
     "text": [
      " 46%|████▌     | 202/437 [03:17<35:37,  9.09s/it]\u001b[A\n",
      " 46%|████▋     | 203/437 [03:17<25:09,  6.45s/it]\u001b[A\n",
      " 47%|████▋     | 204/437 [03:17<17:48,  4.58s/it]\u001b[A\n",
      " 47%|████▋     | 205/437 [03:17<12:41,  3.28s/it]\u001b[A\n",
      " 47%|████▋     | 206/437 [03:18<09:03,  2.35s/it]\u001b[A\n",
      " 47%|████▋     | 207/437 [03:18<06:53,  1.80s/it]\u001b[A\n",
      " 48%|████▊     | 208/437 [03:18<05:08,  1.35s/it]\u001b[A\n",
      " 48%|████▊     | 209/437 [03:19<03:57,  1.04s/it]\u001b[A\n",
      " 48%|████▊     | 210/437 [03:19<03:02,  1.24it/s]\u001b[A\n",
      " 48%|████▊     | 211/437 [03:19<02:25,  1.56it/s]\u001b[A\n",
      " 49%|████▊     | 212/437 [03:20<01:57,  1.92it/s]\u001b[A\n",
      " 49%|████▊     | 213/437 [03:20<01:37,  2.30it/s]\u001b[A\n",
      " 49%|████▉     | 214/437 [03:20<01:30,  2.48it/s]\u001b[A\n",
      " 49%|████▉     | 215/437 [03:20<01:19,  2.81it/s]\u001b[A\n",
      " 49%|████▉     | 216/437 [03:21<01:14,  2.96it/s]\u001b[A\n",
      " 50%|████▉     | 217/437 [03:21<01:09,  3.16it/s]\u001b[A\n",
      " 50%|████▉     | 218/437 [03:21<00:59,  3.65it/s]\u001b[A\n",
      " 50%|█████     | 219/437 [03:21<00:58,  3.71it/s]\u001b[A\n",
      " 50%|█████     | 220/437 [03:21<00:52,  4.12it/s]\u001b[A\n",
      " 51%|█████     | 221/437 [03:22<00:54,  3.97it/s]\u001b[A\n",
      " 51%|█████     | 222/437 [03:22<00:49,  4.38it/s]\u001b[A\n",
      " 51%|█████     | 223/437 [03:22<00:51,  4.12it/s]\u001b[A\n",
      " 51%|█████▏    | 224/437 [03:22<00:52,  4.05it/s]\u001b[A\n",
      " 51%|█████▏    | 225/437 [03:23<01:00,  3.51it/s]\u001b[A\n",
      " 52%|█████▏    | 226/437 [03:23<01:01,  3.44it/s]\u001b[A\n",
      " 52%|█████▏    | 227/437 [03:23<00:59,  3.53it/s]\u001b[A\n",
      " 52%|█████▏    | 228/437 [03:24<00:55,  3.74it/s]\u001b[A\n",
      " 52%|█████▏    | 229/437 [03:24<00:57,  3.63it/s]\u001b[A\n",
      " 53%|█████▎    | 230/437 [03:24<00:52,  3.92it/s]\u001b[A\n",
      " 53%|█████▎    | 231/437 [03:25<01:03,  3.25it/s]\u001b[A\n",
      " 53%|█████▎    | 232/437 [03:25<00:59,  3.46it/s]\u001b[A\n",
      " 53%|█████▎    | 233/437 [03:25<00:57,  3.52it/s]\u001b[A\n",
      " 54%|█████▎    | 234/437 [03:25<00:56,  3.57it/s]\u001b[A\n",
      " 54%|█████▍    | 235/437 [03:26<00:57,  3.48it/s]\u001b[A\n",
      " 54%|█████▍    | 236/437 [03:26<00:58,  3.42it/s]\u001b[A\n",
      " 54%|█████▍    | 237/437 [03:26<00:59,  3.34it/s]\u001b[A\n",
      " 54%|█████▍    | 238/437 [03:27<00:59,  3.33it/s]\u001b[A\n",
      " 55%|█████▍    | 239/437 [03:27<01:02,  3.19it/s]\u001b[A\n",
      " 55%|█████▍    | 240/437 [03:27<00:55,  3.54it/s]\u001b[A\n",
      " 55%|█████▌    | 241/437 [03:27<00:48,  4.02it/s]\u001b[A\n",
      " 55%|█████▌    | 242/437 [03:28<00:50,  3.82it/s]\u001b[A\n",
      " 56%|█████▌    | 243/437 [03:28<00:46,  4.13it/s]\u001b[A\n",
      " 56%|█████▌    | 244/437 [03:28<00:47,  4.09it/s]\u001b[A\n",
      " 56%|█████▌    | 245/437 [03:28<00:52,  3.68it/s]\u001b[A\n",
      " 56%|█████▋    | 246/437 [03:29<00:53,  3.55it/s]\u001b[A\n",
      " 57%|█████▋    | 247/437 [03:29<00:50,  3.76it/s]\u001b[A\n",
      " 57%|█████▋    | 248/437 [03:30<01:13,  2.57it/s]\u001b[A\n",
      " 57%|█████▋    | 249/437 [03:30<01:05,  2.89it/s]\u001b[A\n",
      " 57%|█████▋    | 250/437 [03:30<00:56,  3.34it/s]\u001b[A\n",
      " 57%|█████▋    | 251/437 [03:30<00:52,  3.52it/s]\u001b[A\n",
      " 58%|█████▊    | 252/437 [03:30<00:48,  3.79it/s]\u001b[A\n",
      " 58%|█████▊    | 253/437 [03:31<00:45,  4.08it/s]\u001b[A\n",
      " 58%|█████▊    | 254/437 [03:31<00:46,  3.91it/s]\u001b[A\n",
      " 58%|█████▊    | 255/437 [03:31<00:49,  3.71it/s]\u001b[A\n",
      " 59%|█████▊    | 256/437 [03:32<00:47,  3.78it/s]\u001b[A\n",
      " 59%|█████▉    | 257/437 [03:32<01:00,  2.99it/s]\u001b[A\n",
      " 59%|█████▉    | 258/437 [03:32<00:57,  3.10it/s]\u001b[A\n",
      " 59%|█████▉    | 259/437 [03:33<01:02,  2.83it/s]\u001b[A\n",
      " 59%|█████▉    | 260/437 [03:33<01:02,  2.85it/s]\u001b[A\n",
      " 60%|█████▉    | 261/437 [03:33<00:58,  3.02it/s]\u001b[A\n",
      " 60%|█████▉    | 262/437 [03:34<00:55,  3.14it/s]\u001b[A\n",
      " 60%|██████    | 263/437 [03:34<00:57,  3.04it/s]\u001b[A\n",
      " 60%|██████    | 264/437 [03:34<00:56,  3.04it/s]\u001b[A\n",
      " 61%|██████    | 265/437 [03:35<00:51,  3.37it/s]\u001b[A\n",
      " 61%|██████    | 266/437 [03:35<00:54,  3.14it/s]\u001b[A\n",
      " 61%|██████    | 267/437 [03:35<00:48,  3.49it/s]\u001b[A\n",
      " 61%|██████▏   | 268/437 [03:35<00:50,  3.32it/s]\u001b[A\n",
      " 62%|██████▏   | 269/437 [03:36<00:48,  3.45it/s]\u001b[A\n",
      " 62%|██████▏   | 270/437 [03:36<00:44,  3.75it/s]\u001b[A\n",
      " 62%|██████▏   | 271/437 [03:36<00:39,  4.16it/s]\u001b[A\n",
      " 62%|██████▏   | 272/437 [03:36<00:44,  3.73it/s]\u001b[A\n",
      " 62%|██████▏   | 273/437 [03:37<00:43,  3.74it/s]\u001b[A\n",
      " 63%|██████▎   | 274/437 [03:37<00:46,  3.47it/s]\u001b[A\n",
      " 63%|██████▎   | 275/437 [03:37<00:45,  3.55it/s]\u001b[A\n",
      " 63%|██████▎   | 276/437 [03:38<00:41,  3.91it/s]\u001b[A\n",
      " 63%|██████▎   | 277/437 [03:38<00:41,  3.88it/s]\u001b[A\n",
      " 64%|██████▎   | 278/437 [03:38<00:39,  4.05it/s]\u001b[A\n",
      " 64%|██████▍   | 279/437 [03:38<00:39,  4.01it/s]\u001b[A\n",
      " 64%|██████▍   | 280/437 [03:39<00:44,  3.56it/s]\u001b[A\n",
      " 64%|██████▍   | 281/437 [03:39<00:46,  3.35it/s]\u001b[A\n",
      " 65%|██████▍   | 282/437 [03:39<00:46,  3.33it/s]\u001b[A\n",
      " 65%|██████▍   | 283/437 [03:39<00:41,  3.68it/s]\u001b[A\n",
      " 65%|██████▍   | 284/437 [03:40<00:42,  3.64it/s]\u001b[A\n",
      " 65%|██████▌   | 285/437 [03:40<00:37,  4.05it/s]\u001b[A\n",
      " 65%|██████▌   | 286/437 [03:40<00:34,  4.42it/s]\u001b[A\n",
      " 66%|██████▌   | 287/437 [03:40<00:39,  3.84it/s]\u001b[A\n",
      " 66%|██████▌   | 288/437 [03:41<00:38,  3.87it/s]\u001b[A\n",
      " 66%|██████▌   | 289/437 [03:41<00:42,  3.50it/s]\u001b[A\n",
      " 66%|██████▋   | 290/437 [03:41<00:36,  4.04it/s]\u001b[A\n",
      " 67%|██████▋   | 291/437 [03:41<00:36,  4.04it/s]\u001b[A\n",
      " 67%|██████▋   | 292/437 [03:42<00:38,  3.76it/s]\u001b[A\n",
      " 67%|██████▋   | 293/437 [03:42<00:36,  3.96it/s]\u001b[A\n",
      " 67%|██████▋   | 294/437 [03:42<00:35,  4.07it/s]\u001b[A\n",
      " 68%|██████▊   | 295/437 [03:42<00:33,  4.23it/s]\u001b[A\n",
      " 68%|██████▊   | 296/437 [03:43<00:34,  4.03it/s]\u001b[A\n",
      " 68%|██████▊   | 297/437 [03:43<00:31,  4.39it/s]\u001b[A\n",
      " 68%|██████▊   | 298/437 [03:43<00:31,  4.48it/s]\u001b[A\n",
      " 68%|██████▊   | 299/437 [03:43<00:36,  3.76it/s]\u001b[A\n",
      " 69%|██████▊   | 300/437 [04:44<41:41, 18.26s/it]\u001b[A\n",
      " 69%|██████▉   | 301/437 [04:44<29:06, 12.84s/it]\u001b[A\n",
      " 69%|██████▉   | 302/437 [04:44<20:25,  9.07s/it]\u001b[A\n",
      " 69%|██████▉   | 303/437 [04:45<14:22,  6.43s/it]\u001b[A\n",
      " 70%|██████▉   | 304/437 [04:45<10:09,  4.58s/it]\u001b[A\n",
      " 70%|██████▉   | 305/437 [04:45<07:15,  3.30s/it]\u001b[A\n",
      " 70%|███████   | 306/437 [04:45<05:14,  2.40s/it]\u001b[A\n",
      " 70%|███████   | 307/437 [04:46<03:50,  1.77s/it]\u001b[A\n",
      " 70%|███████   | 308/437 [04:46<02:46,  1.29s/it]\u001b[A\n",
      " 71%|███████   | 309/437 [04:46<02:11,  1.03s/it]\u001b[A\n",
      " 71%|███████   | 310/437 [04:46<01:40,  1.26it/s]\u001b[A\n",
      " 71%|███████   | 311/437 [04:47<01:18,  1.60it/s]\u001b[A\n",
      " 71%|███████▏  | 312/437 [04:47<01:09,  1.79it/s]\u001b[A\n",
      " 72%|███████▏  | 313/437 [04:47<00:58,  2.13it/s]\u001b[A\n",
      " 72%|███████▏  | 314/437 [04:48<00:56,  2.18it/s]\u001b[A\n",
      " 72%|███████▏  | 315/437 [04:48<00:49,  2.44it/s]\u001b[A\n",
      " 72%|███████▏  | 316/437 [04:48<00:44,  2.72it/s]\u001b[A\n",
      " 73%|███████▎  | 317/437 [04:49<00:37,  3.20it/s]\u001b[A\n",
      " 73%|███████▎  | 318/437 [04:49<00:35,  3.35it/s]\u001b[A\n",
      " 73%|███████▎  | 319/437 [04:49<00:31,  3.73it/s]\u001b[A\n",
      " 73%|███████▎  | 320/437 [04:49<00:29,  3.96it/s]\u001b[A\n",
      " 73%|███████▎  | 321/437 [04:49<00:26,  4.34it/s]\u001b[A\n",
      " 74%|███████▎  | 322/437 [04:50<00:25,  4.45it/s]\u001b[A\n",
      " 74%|███████▍  | 323/437 [04:50<00:27,  4.10it/s]\u001b[A\n",
      " 74%|███████▍  | 324/437 [04:50<00:27,  4.10it/s]\u001b[A\n",
      " 74%|███████▍  | 325/437 [04:50<00:28,  3.93it/s]\u001b[A\n",
      " 75%|███████▍  | 326/437 [04:51<00:27,  4.02it/s]\u001b[A\n",
      " 75%|███████▍  | 327/437 [04:51<00:29,  3.67it/s]\u001b[A\n",
      " 75%|███████▌  | 328/437 [04:51<00:30,  3.53it/s]\u001b[A\n",
      " 75%|███████▌  | 329/437 [04:52<00:29,  3.67it/s]\u001b[A\n",
      " 76%|███████▌  | 330/437 [04:53<00:50,  2.11it/s]\u001b[A\n",
      " 76%|███████▌  | 331/437 [04:53<00:42,  2.47it/s]\u001b[A\n",
      " 76%|███████▌  | 332/437 [04:53<00:38,  2.76it/s]\u001b[A\n",
      " 76%|███████▌  | 333/437 [04:53<00:34,  3.00it/s]\u001b[A\n",
      " 76%|███████▋  | 334/437 [04:54<00:33,  3.08it/s]\u001b[A\n",
      " 77%|███████▋  | 335/437 [04:54<00:30,  3.32it/s]\u001b[A\n",
      " 77%|███████▋  | 336/437 [04:54<00:25,  3.91it/s]\u001b[A\n",
      " 77%|███████▋  | 337/437 [04:54<00:23,  4.18it/s]\u001b[A\n",
      " 77%|███████▋  | 338/437 [04:55<00:26,  3.76it/s]\u001b[A\n",
      " 78%|███████▊  | 339/437 [04:55<00:25,  3.82it/s]\u001b[A\n",
      " 78%|███████▊  | 340/437 [04:55<00:25,  3.77it/s]\u001b[A\n",
      " 78%|███████▊  | 341/437 [04:55<00:26,  3.60it/s]\u001b[A\n",
      " 78%|███████▊  | 342/437 [04:56<00:25,  3.70it/s]\u001b[A\n",
      " 78%|███████▊  | 343/437 [04:56<00:26,  3.49it/s]\u001b[A\n",
      " 79%|███████▊  | 344/437 [04:56<00:24,  3.74it/s]\u001b[A\n",
      " 79%|███████▉  | 345/437 [04:56<00:25,  3.60it/s]\u001b[A\n",
      " 79%|███████▉  | 346/437 [04:57<00:26,  3.49it/s]\u001b[A\n",
      " 79%|███████▉  | 347/437 [04:57<00:24,  3.63it/s]\u001b[A\n",
      " 80%|███████▉  | 348/437 [04:57<00:24,  3.62it/s]\u001b[A\n",
      " 80%|███████▉  | 349/437 [04:58<00:24,  3.66it/s]\u001b[A\n",
      " 80%|████████  | 350/437 [04:58<00:21,  4.02it/s]\u001b[A\n",
      " 80%|████████  | 351/437 [04:58<00:22,  3.81it/s]\u001b[A\n",
      " 81%|████████  | 352/437 [04:58<00:23,  3.63it/s]\u001b[A\n",
      " 81%|████████  | 353/437 [04:59<00:23,  3.54it/s]\u001b[A\n",
      " 81%|████████  | 354/437 [04:59<00:23,  3.50it/s]\u001b[A\n",
      " 81%|████████  | 355/437 [04:59<00:24,  3.33it/s]\u001b[A\n"
     ]
    },
    {
     "name": "stderr",
     "output_type": "stream",
     "text": [
      " 81%|████████▏ | 356/437 [04:59<00:21,  3.68it/s]\u001b[A\n",
      " 82%|████████▏ | 357/437 [05:00<00:19,  4.10it/s]\u001b[A\n",
      " 82%|████████▏ | 358/437 [05:00<00:18,  4.34it/s]\u001b[A\n",
      " 82%|████████▏ | 359/437 [05:00<00:19,  4.00it/s]\u001b[A\n",
      " 82%|████████▏ | 360/437 [05:00<00:20,  3.76it/s]\u001b[A\n",
      " 83%|████████▎ | 361/437 [05:01<00:19,  3.95it/s]\u001b[A\n",
      " 83%|████████▎ | 362/437 [05:01<00:18,  4.11it/s]\u001b[A\n",
      " 83%|████████▎ | 363/437 [05:01<00:18,  4.02it/s]\u001b[A\n",
      " 83%|████████▎ | 364/437 [05:02<00:21,  3.38it/s]\u001b[A\n",
      " 84%|████████▎ | 365/437 [05:02<00:20,  3.43it/s]\u001b[A\n",
      " 84%|████████▍ | 366/437 [05:02<00:20,  3.51it/s]\u001b[A\n",
      " 84%|████████▍ | 367/437 [05:02<00:19,  3.65it/s]\u001b[A\n",
      " 84%|████████▍ | 368/437 [05:03<00:17,  3.96it/s]\u001b[A\n",
      " 84%|████████▍ | 369/437 [05:03<00:16,  4.04it/s]\u001b[A\n",
      " 85%|████████▍ | 370/437 [05:03<00:22,  3.03it/s]\u001b[A\n",
      " 85%|████████▍ | 371/437 [05:04<00:19,  3.40it/s]\u001b[A\n",
      " 85%|████████▌ | 372/437 [05:04<00:17,  3.66it/s]\u001b[A\n",
      " 85%|████████▌ | 373/437 [05:04<00:16,  3.77it/s]\u001b[A\n",
      " 86%|████████▌ | 374/437 [05:04<00:16,  3.84it/s]\u001b[A\n",
      " 86%|████████▌ | 375/437 [05:05<00:16,  3.75it/s]\u001b[A\n",
      " 86%|████████▌ | 376/437 [05:05<00:14,  4.25it/s]\u001b[A\n",
      " 86%|████████▋ | 377/437 [05:05<00:13,  4.49it/s]\u001b[A\n",
      " 86%|████████▋ | 378/437 [05:05<00:14,  4.12it/s]\u001b[A\n",
      " 87%|████████▋ | 379/437 [05:05<00:14,  3.90it/s]\u001b[A\n",
      " 87%|████████▋ | 380/437 [05:06<00:14,  3.85it/s]\u001b[A\n",
      " 87%|████████▋ | 381/437 [05:06<00:14,  3.80it/s]\u001b[A\n",
      " 87%|████████▋ | 382/437 [05:06<00:15,  3.67it/s]\u001b[A\n",
      " 88%|████████▊ | 383/437 [05:06<00:13,  4.01it/s]\u001b[A\n",
      " 88%|████████▊ | 384/437 [05:07<00:12,  4.29it/s]\u001b[A\n",
      " 88%|████████▊ | 385/437 [05:07<00:12,  4.02it/s]\u001b[A\n",
      " 88%|████████▊ | 386/437 [05:07<00:13,  3.70it/s]\u001b[A\n",
      " 89%|████████▊ | 387/437 [05:08<00:13,  3.80it/s]\u001b[A\n",
      " 89%|████████▉ | 388/437 [05:08<00:13,  3.65it/s]\u001b[A\n",
      " 89%|████████▉ | 389/437 [05:08<00:12,  3.73it/s]\u001b[A\n",
      " 89%|████████▉ | 390/437 [05:08<00:11,  3.98it/s]\u001b[A\n",
      " 89%|████████▉ | 391/437 [05:09<00:11,  4.18it/s]\u001b[A\n",
      " 90%|████████▉ | 392/437 [05:09<00:11,  3.90it/s]\u001b[A\n",
      " 90%|████████▉ | 393/437 [05:09<00:10,  4.03it/s]\u001b[A\n",
      " 90%|█████████ | 394/437 [05:09<00:09,  4.44it/s]\u001b[A\n",
      " 90%|█████████ | 395/437 [05:10<00:12,  3.28it/s]\u001b[A\n",
      " 91%|█████████ | 396/437 [05:10<00:13,  2.97it/s]\u001b[A\n",
      " 91%|█████████ | 397/437 [05:11<00:14,  2.81it/s]\u001b[A\n",
      " 91%|█████████ | 398/437 [05:11<00:13,  2.96it/s]\u001b[A\n",
      " 91%|█████████▏| 399/437 [05:11<00:11,  3.20it/s]\u001b[A\n",
      " 92%|█████████▏| 400/437 [06:11<11:17, 18.32s/it]\u001b[A\n",
      " 92%|█████████▏| 401/437 [06:12<07:44, 12.89s/it]\u001b[A\n",
      " 92%|█████████▏| 402/437 [06:12<05:18,  9.11s/it]\u001b[A\n",
      " 92%|█████████▏| 403/437 [06:12<03:40,  6.47s/it]\u001b[A\n",
      " 92%|█████████▏| 404/437 [06:12<02:31,  4.58s/it]\u001b[A\n",
      " 93%|█████████▎| 405/437 [06:13<01:45,  3.30s/it]\u001b[A\n",
      " 93%|█████████▎| 406/437 [06:13<01:14,  2.39s/it]\u001b[A\n",
      " 93%|█████████▎| 407/437 [06:13<00:52,  1.74s/it]\u001b[A\n",
      " 93%|█████████▎| 408/437 [06:13<00:36,  1.27s/it]\u001b[A\n",
      " 94%|█████████▎| 409/437 [06:14<00:26,  1.05it/s]\u001b[A\n",
      " 94%|█████████▍| 410/437 [06:14<00:19,  1.38it/s]\u001b[A\n",
      " 94%|█████████▍| 411/437 [06:14<00:15,  1.68it/s]\u001b[A\n",
      " 94%|█████████▍| 412/437 [06:14<00:12,  1.97it/s]\u001b[A\n",
      " 95%|█████████▍| 413/437 [06:15<00:10,  2.28it/s]\u001b[A\n",
      " 95%|█████████▍| 414/437 [06:15<00:09,  2.47it/s]\u001b[A\n",
      " 95%|█████████▍| 415/437 [06:15<00:07,  2.93it/s]\u001b[A\n",
      " 95%|█████████▌| 416/437 [06:15<00:06,  3.08it/s]\u001b[A\n",
      " 95%|█████████▌| 417/437 [06:16<00:06,  3.07it/s]\u001b[A\n",
      " 96%|█████████▌| 418/437 [06:16<00:05,  3.56it/s]\u001b[A\n",
      " 96%|█████████▌| 419/437 [06:16<00:04,  4.01it/s]\u001b[A\n",
      " 96%|█████████▌| 420/437 [06:16<00:04,  3.60it/s]\u001b[A\n",
      " 96%|█████████▋| 421/437 [06:17<00:04,  3.95it/s]\u001b[A\n",
      " 97%|█████████▋| 422/437 [06:17<00:03,  4.39it/s]\u001b[A\n",
      " 97%|█████████▋| 423/437 [06:17<00:03,  4.05it/s]\u001b[A\n",
      " 97%|█████████▋| 424/437 [06:17<00:03,  4.30it/s]\u001b[A\n",
      " 97%|█████████▋| 425/437 [06:18<00:02,  4.22it/s]\u001b[A\n",
      " 97%|█████████▋| 426/437 [06:18<00:02,  4.52it/s]\u001b[A\n",
      " 98%|█████████▊| 427/437 [06:18<00:02,  4.33it/s]\u001b[A\n",
      " 98%|█████████▊| 428/437 [06:18<00:02,  4.06it/s]\u001b[A\n",
      " 98%|█████████▊| 429/437 [06:19<00:01,  4.28it/s]\u001b[A\n",
      " 98%|█████████▊| 430/437 [06:19<00:01,  4.73it/s]\u001b[A\n",
      " 99%|█████████▊| 431/437 [06:19<00:01,  4.72it/s]\u001b[A\n",
      " 99%|█████████▉| 432/437 [06:19<00:01,  4.09it/s]\u001b[A\n",
      " 99%|█████████▉| 433/437 [06:20<00:01,  3.76it/s]\u001b[A\n",
      " 99%|█████████▉| 434/437 [06:20<00:00,  3.35it/s]\u001b[A\n",
      "100%|█████████▉| 435/437 [06:20<00:00,  3.43it/s]\u001b[A\n",
      "100%|█████████▉| 436/437 [06:20<00:00,  3.68it/s]\u001b[A\n",
      "100%|██████████| 437/437 [06:21<00:00,  1.15it/s]\u001b[A\n"
     ]
    },
    {
     "name": "stdout",
     "output_type": "stream",
     "text": [
      "length of df 437\n",
      "NeetCode_comments.csv Witten\n"
     ]
    },
    {
     "name": "stderr",
     "output_type": "stream",
     "text": [
      "\r",
      " 60%|██████    | 6/10 [42:03<25:24, 381.04s/it]"
     ]
    },
    {
     "name": "stdout",
     "output_type": "stream",
     "text": [
      "dataschool UCnVzApLJE2ljPZSeQylSEyg\n"
     ]
    },
    {
     "name": "stderr",
     "output_type": "stream",
     "text": [
      "\n",
      "  0%|          | 0/218 [00:00<?, ?it/s]\u001b[A\n",
      " 23%|██▎       | 50/218 [00:11<00:37,  4.48it/s]\u001b[A\n",
      " 23%|██▎       | 50/218 [00:26<00:37,  4.48it/s]\u001b[A\n",
      " 42%|████▏     | 91/218 [00:26<00:39,  3.25it/s]\u001b[A\n",
      " 42%|████▏     | 92/218 [00:27<00:38,  3.24it/s]\u001b[A\n",
      " 43%|████▎     | 93/218 [00:27<00:39,  3.15it/s]\u001b[A\n",
      " 43%|████▎     | 94/218 [00:28<00:39,  3.13it/s]\u001b[A\n",
      " 44%|████▎     | 95/218 [00:28<00:39,  3.12it/s]\u001b[A\n",
      " 44%|████▍     | 96/218 [00:28<00:39,  3.10it/s]\u001b[A\n",
      " 44%|████▍     | 97/218 [00:29<00:39,  3.04it/s]\u001b[A\n",
      " 45%|████▍     | 98/218 [00:29<00:41,  2.91it/s]\u001b[A\n",
      " 45%|████▌     | 99/218 [00:30<00:43,  2.74it/s]\u001b[A\n",
      " 46%|████▌     | 100/218 [01:30<19:33,  9.94s/it]\u001b[A\n",
      " 46%|████▋     | 101/218 [01:30<15:54,  8.16s/it]\u001b[A\n",
      " 47%|████▋     | 102/218 [01:31<12:39,  6.55s/it]\u001b[A\n",
      " 47%|████▋     | 103/218 [01:31<09:47,  5.11s/it]\u001b[A\n",
      " 48%|████▊     | 104/218 [01:31<07:26,  3.91s/it]\u001b[A\n",
      " 48%|████▊     | 105/218 [01:32<05:35,  2.97s/it]\u001b[A\n",
      " 49%|████▊     | 106/218 [01:32<04:14,  2.28s/it]\u001b[A\n",
      " 49%|████▉     | 107/218 [01:33<03:15,  1.76s/it]\u001b[A\n",
      " 50%|████▉     | 108/218 [01:33<02:27,  1.34s/it]\u001b[A\n",
      " 50%|█████     | 109/218 [01:33<01:59,  1.10s/it]\u001b[A\n",
      " 50%|█████     | 110/218 [01:34<01:37,  1.11it/s]\u001b[A\n",
      " 51%|█████     | 111/218 [01:34<01:21,  1.32it/s]\u001b[A\n",
      " 51%|█████▏    | 112/218 [01:35<01:08,  1.55it/s]\u001b[A\n",
      " 52%|█████▏    | 113/218 [01:35<01:01,  1.71it/s]\u001b[A\n",
      " 52%|█████▏    | 114/218 [01:35<00:54,  1.89it/s]\u001b[A\n",
      " 53%|█████▎    | 115/218 [01:36<00:51,  2.00it/s]\u001b[A\n",
      " 53%|█████▎    | 116/218 [01:36<00:47,  2.13it/s]\u001b[A\n",
      " 54%|█████▎    | 117/218 [01:37<00:45,  2.22it/s]\u001b[A\n",
      " 54%|█████▍    | 118/218 [01:37<00:43,  2.29it/s]\u001b[A\n",
      " 55%|█████▍    | 119/218 [01:38<00:44,  2.22it/s]\u001b[A\n",
      " 55%|█████▌    | 120/218 [01:38<00:39,  2.46it/s]\u001b[A\n",
      " 56%|█████▌    | 121/218 [01:38<00:40,  2.40it/s]\u001b[A\n",
      " 56%|█████▌    | 122/218 [01:39<00:40,  2.38it/s]\u001b[A\n",
      " 56%|█████▋    | 123/218 [01:39<00:37,  2.54it/s]\u001b[A\n",
      " 57%|█████▋    | 124/218 [01:40<00:37,  2.52it/s]\u001b[A\n",
      " 57%|█████▋    | 125/218 [01:40<00:35,  2.59it/s]\u001b[A\n",
      " 58%|█████▊    | 126/218 [01:40<00:30,  3.00it/s]\u001b[A\n",
      " 58%|█████▊    | 127/218 [01:40<00:28,  3.24it/s]\u001b[A\n",
      " 59%|█████▊    | 128/218 [01:41<00:28,  3.19it/s]\u001b[A\n",
      " 59%|█████▉    | 129/218 [01:41<00:30,  2.89it/s]\u001b[A\n",
      " 60%|█████▉    | 130/218 [01:42<00:34,  2.57it/s]\u001b[A\n",
      " 60%|██████    | 131/218 [01:42<00:35,  2.46it/s]\u001b[A\n",
      " 61%|██████    | 132/218 [01:42<00:34,  2.47it/s]\u001b[A\n",
      " 61%|██████    | 133/218 [01:43<00:32,  2.64it/s]\u001b[A\n",
      " 61%|██████▏   | 134/218 [01:43<00:30,  2.78it/s]\u001b[A\n",
      " 62%|██████▏   | 135/218 [01:44<00:32,  2.56it/s]\u001b[A\n",
      " 63%|██████▎   | 137/218 [01:44<00:20,  4.00it/s]\u001b[A"
     ]
    },
    {
     "name": "stdout",
     "output_type": "stream",
     "text": [
      "An exception occurred\n",
      "An exception occurred\n",
      "An exception occurred\n"
     ]
    },
    {
     "name": "stderr",
     "output_type": "stream",
     "text": [
      "\n",
      " 64%|██████▍   | 139/218 [01:44<00:14,  5.36it/s]\u001b[A\n",
      " 64%|██████▍   | 140/218 [01:44<00:14,  5.46it/s]\u001b[A"
     ]
    },
    {
     "name": "stdout",
     "output_type": "stream",
     "text": [
      "An exception occurred\n"
     ]
    },
    {
     "name": "stderr",
     "output_type": "stream",
     "text": [
      "\n",
      " 65%|██████▍   | 141/218 [01:44<00:13,  5.87it/s]\u001b[A\n",
      " 65%|██████▌   | 142/218 [01:44<00:13,  5.84it/s]\u001b[A"
     ]
    },
    {
     "name": "stdout",
     "output_type": "stream",
     "text": [
      "An exception occurred Key error\n"
     ]
    },
    {
     "name": "stderr",
     "output_type": "stream",
     "text": [
      "\n",
      " 66%|██████▌   | 143/218 [01:45<00:14,  5.18it/s]\u001b[A\n",
      " 66%|██████▌   | 144/218 [01:45<00:15,  4.76it/s]\u001b[A\n",
      " 67%|██████▋   | 145/218 [01:45<00:13,  5.43it/s]\u001b[A\n",
      " 67%|██████▋   | 146/218 [01:45<00:12,  5.98it/s]\u001b[A"
     ]
    },
    {
     "name": "stdout",
     "output_type": "stream",
     "text": [
      "An exception occurred Key error\n",
      "An exception occurred Key error\n"
     ]
    },
    {
     "name": "stderr",
     "output_type": "stream",
     "text": [
      "\n",
      " 67%|██████▋   | 147/218 [01:45<00:10,  6.52it/s]\u001b[A\n",
      " 68%|██████▊   | 148/218 [01:45<00:10,  6.51it/s]\u001b[A"
     ]
    },
    {
     "name": "stdout",
     "output_type": "stream",
     "text": [
      "An exception occurred Key error\n"
     ]
    },
    {
     "name": "stderr",
     "output_type": "stream",
     "text": [
      "\n",
      " 68%|██████▊   | 149/218 [01:45<00:09,  6.95it/s]\u001b[A\n"
     ]
    },
    {
     "name": "stdout",
     "output_type": "stream",
     "text": [
      "An exception occurred Key error\n"
     ]
    },
    {
     "name": "stderr",
     "output_type": "stream",
     "text": [
      " 69%|██████▉   | 150/218 [01:46<00:10,  6.28it/s]\u001b[A\n",
      " 69%|██████▉   | 151/218 [01:46<00:10,  6.70it/s]\u001b[A\n",
      " 70%|██████▉   | 152/218 [01:46<00:09,  7.12it/s]\u001b[A"
     ]
    },
    {
     "name": "stdout",
     "output_type": "stream",
     "text": [
      "An exception occurred Key error\n",
      "An exception occurred Key error\n"
     ]
    },
    {
     "name": "stderr",
     "output_type": "stream",
     "text": [
      "\n",
      " 70%|███████   | 153/218 [01:46<00:08,  7.48it/s]\u001b[A\n",
      " 71%|███████   | 154/218 [01:46<00:09,  6.92it/s]\u001b[A"
     ]
    },
    {
     "name": "stdout",
     "output_type": "stream",
     "text": [
      "An exception occurred Key error\n"
     ]
    },
    {
     "name": "stderr",
     "output_type": "stream",
     "text": [
      "\n",
      " 71%|███████   | 155/218 [01:46<00:09,  6.57it/s]\u001b[A\n",
      " 72%|███████▏  | 156/218 [01:46<00:08,  7.10it/s]\u001b[A\n",
      " 72%|███████▏  | 157/218 [01:47<00:09,  6.71it/s]\u001b[A"
     ]
    },
    {
     "name": "stdout",
     "output_type": "stream",
     "text": [
      "An exception occurred Key error\n"
     ]
    },
    {
     "name": "stderr",
     "output_type": "stream",
     "text": [
      "\n",
      " 72%|███████▏  | 158/218 [01:47<00:10,  5.65it/s]\u001b[A\n",
      " 73%|███████▎  | 159/218 [01:47<00:10,  5.39it/s]\u001b[A\n",
      " 73%|███████▎  | 160/218 [01:47<00:11,  5.02it/s]\u001b[A\n",
      " 74%|███████▍  | 161/218 [01:48<00:11,  5.01it/s]\u001b[A\n",
      " 74%|███████▍  | 162/218 [01:48<00:10,  5.17it/s]\u001b[A\n",
      " 75%|███████▍  | 163/218 [01:48<00:10,  5.04it/s]\u001b[A\n",
      " 75%|███████▌  | 164/218 [01:48<00:09,  5.76it/s]\u001b[A"
     ]
    },
    {
     "name": "stdout",
     "output_type": "stream",
     "text": [
      "An exception occurred Key error\n"
     ]
    },
    {
     "name": "stderr",
     "output_type": "stream",
     "text": [
      "\n",
      " 76%|███████▌  | 165/218 [01:48<00:09,  5.38it/s]\u001b[A\n",
      " 76%|███████▌  | 166/218 [01:48<00:10,  5.13it/s]\u001b[A\n",
      " 77%|███████▋  | 167/218 [01:49<00:09,  5.38it/s]\u001b[A\n",
      " 77%|███████▋  | 168/218 [01:49<00:09,  5.15it/s]\u001b[A\n",
      " 78%|███████▊  | 169/218 [01:49<00:09,  5.14it/s]\u001b[A\n",
      " 78%|███████▊  | 170/218 [01:49<00:09,  5.04it/s]\u001b[A\n",
      " 78%|███████▊  | 171/218 [01:49<00:08,  5.26it/s]\u001b[A\n",
      " 79%|███████▉  | 172/218 [01:50<00:08,  5.26it/s]\u001b[A\n",
      " 79%|███████▉  | 173/218 [01:50<00:08,  5.06it/s]\u001b[A\n",
      " 80%|███████▉  | 174/218 [01:50<00:07,  5.80it/s]\u001b[A\n",
      " 80%|████████  | 175/218 [01:50<00:07,  5.72it/s]\u001b[A"
     ]
    },
    {
     "name": "stdout",
     "output_type": "stream",
     "text": [
      "An exception occurred Key error\n"
     ]
    },
    {
     "name": "stderr",
     "output_type": "stream",
     "text": [
      "\n",
      " 81%|████████  | 176/218 [01:50<00:07,  5.36it/s]\u001b[A\n",
      " 81%|████████  | 177/218 [01:51<00:07,  5.29it/s]\u001b[A\n",
      " 82%|████████▏ | 178/218 [01:51<00:06,  5.93it/s]\u001b[A\n",
      " 82%|████████▏ | 179/218 [01:51<00:05,  6.52it/s]\u001b[A"
     ]
    },
    {
     "name": "stdout",
     "output_type": "stream",
     "text": [
      "An exception occurred Key error\n",
      "An exception occurred Key error\n"
     ]
    },
    {
     "name": "stderr",
     "output_type": "stream",
     "text": [
      "\n",
      " 83%|████████▎ | 180/218 [01:51<00:06,  6.10it/s]\u001b[A\n",
      " 83%|████████▎ | 181/218 [01:51<00:07,  5.27it/s]\u001b[A\n",
      " 83%|████████▎ | 182/218 [01:51<00:07,  4.91it/s]\u001b[A\n",
      " 84%|████████▍ | 183/218 [01:52<00:06,  5.00it/s]\u001b[A\n",
      " 84%|████████▍ | 184/218 [01:52<00:06,  5.21it/s]\u001b[A\n",
      " 85%|████████▍ | 185/218 [01:52<00:06,  4.89it/s]\u001b[A\n",
      " 85%|████████▌ | 186/218 [01:52<00:05,  5.33it/s]\u001b[A\n",
      " 86%|████████▌ | 187/218 [01:52<00:05,  6.01it/s]\u001b[A"
     ]
    },
    {
     "name": "stdout",
     "output_type": "stream",
     "text": [
      "An exception occurred Key error\n",
      "An exception occurred Key error\n"
     ]
    },
    {
     "name": "stderr",
     "output_type": "stream",
     "text": [
      "\n",
      " 86%|████████▌ | 188/218 [01:53<00:05,  5.49it/s]\u001b[A\n",
      " 87%|████████▋ | 189/218 [01:53<00:05,  4.83it/s]\u001b[A\n",
      " 87%|████████▋ | 190/218 [01:53<00:05,  4.83it/s]\u001b[A\n",
      " 88%|████████▊ | 191/218 [01:53<00:05,  4.72it/s]\u001b[A\n",
      " 88%|████████▊ | 192/218 [01:53<00:05,  4.97it/s]\u001b[A\n",
      " 89%|████████▊ | 193/218 [01:54<00:04,  5.56it/s]\u001b[A\n",
      " 89%|████████▉ | 194/218 [01:54<00:03,  6.06it/s]\u001b[A"
     ]
    },
    {
     "name": "stdout",
     "output_type": "stream",
     "text": [
      "An exception occurred Key error\n",
      "An exception occurred Key error\n"
     ]
    },
    {
     "name": "stderr",
     "output_type": "stream",
     "text": [
      "\n",
      " 89%|████████▉ | 195/218 [01:54<00:04,  5.69it/s]\u001b[A\n",
      " 90%|████████▉ | 196/218 [01:54<00:04,  5.43it/s]\u001b[A\n",
      " 90%|█████████ | 197/218 [01:54<00:03,  5.43it/s]\u001b[A\n",
      " 91%|█████████ | 198/218 [01:54<00:03,  5.18it/s]\u001b[A\n",
      " 91%|█████████▏| 199/218 [01:55<00:03,  5.09it/s]\u001b[A\n",
      " 92%|█████████▏| 200/218 [01:55<00:03,  4.67it/s]\u001b[A\n",
      " 92%|█████████▏| 201/218 [01:55<00:03,  4.69it/s]\u001b[A\n",
      " 93%|█████████▎| 202/218 [01:55<00:03,  4.85it/s]\u001b[A\n",
      " 93%|█████████▎| 203/218 [01:56<00:03,  4.89it/s]\u001b[A\n",
      " 94%|█████████▎| 204/218 [01:56<00:02,  5.07it/s]\u001b[A\n",
      " 94%|█████████▍| 205/218 [01:56<00:02,  5.28it/s]\u001b[A\n",
      " 94%|█████████▍| 206/218 [01:57<00:04,  2.93it/s]\u001b[A\n",
      " 95%|█████████▍| 207/218 [01:57<00:03,  3.37it/s]\u001b[A\n",
      " 95%|█████████▌| 208/218 [01:57<00:02,  3.43it/s]\u001b[A\n",
      " 96%|█████████▌| 209/218 [01:57<00:02,  3.77it/s]\u001b[A\n",
      " 96%|█████████▋| 210/218 [01:57<00:01,  4.01it/s]\u001b[A\n",
      " 97%|█████████▋| 211/218 [01:58<00:01,  4.55it/s]\u001b[A\n",
      " 97%|█████████▋| 212/218 [01:58<00:01,  4.42it/s]\u001b[A\n",
      " 98%|█████████▊| 213/218 [01:58<00:01,  4.32it/s]\u001b[A\n",
      " 98%|█████████▊| 214/218 [01:59<00:01,  3.51it/s]\u001b[A\n",
      " 99%|█████████▊| 215/218 [01:59<00:00,  3.14it/s]\u001b[A\n",
      " 99%|█████████▉| 216/218 [01:59<00:00,  2.82it/s]\u001b[A\n",
      "100%|█████████▉| 217/218 [02:00<00:00,  3.10it/s]\u001b[A\n",
      "100%|██████████| 218/218 [02:00<00:00,  1.81it/s]\u001b[A\n"
     ]
    },
    {
     "name": "stdout",
     "output_type": "stream",
     "text": [
      "length of df 197\n",
      "dataschool_comments.csv Witten\n"
     ]
    },
    {
     "name": "stderr",
     "output_type": "stream",
     "text": [
      "\r",
      " 70%|███████   | 7/10 [45:04<15:47, 315.73s/it]"
     ]
    },
    {
     "name": "stdout",
     "output_type": "stream",
     "text": [
      "howardjeremyp UCX7Y2qWriXpqocG97SFW2OQ\n"
     ]
    },
    {
     "name": "stderr",
     "output_type": "stream",
     "text": [
      "\n",
      "  0%|          | 0/104 [00:00<?, ?it/s]\u001b[A"
     ]
    },
    {
     "name": "stdout",
     "output_type": "stream",
     "text": [
      "An exception occurred Key error\n",
      "An exception occurred Key error\n",
      "An exception occurred Key error\n",
      "An exception occurred Key error\n",
      "An exception occurred Key error\n",
      "An exception occurred Key error\n",
      "An exception occurred Key error\n",
      "An exception occurred Key error\n",
      "An exception occurred Key error\n",
      "An exception occurred Key error\n",
      "An exception occurred Key error\n",
      "An exception occurred Key error\n",
      "An exception occurred Key error\n",
      "An exception occurred Key error\n",
      "An exception occurred Key error\n",
      "An exception occurred Key error\n",
      "An exception occurred Key error\n",
      "An exception occurred Key error\n"
     ]
    },
    {
     "name": "stderr",
     "output_type": "stream",
     "text": [
      "\n",
      " 48%|████▊     | 50/104 [00:09<00:10,  5.33it/s]\u001b[A\n",
      "100%|██████████| 104/104 [00:23<00:00,  4.48it/s]\u001b[A\n"
     ]
    },
    {
     "name": "stdout",
     "output_type": "stream",
     "text": [
      "length of df 86\n",
      "howardjeremyp_comments.csv Witten\n"
     ]
    },
    {
     "name": "stderr",
     "output_type": "stream",
     "text": [
      "\r",
      " 80%|████████  | 8/10 [46:28<08:03, 241.78s/it]"
     ]
    },
    {
     "name": "stdout",
     "output_type": "stream",
     "text": [
      "DataInterviewPro UCAWsBMQY4KSuOuGODki-l7A\n"
     ]
    },
    {
     "name": "stderr",
     "output_type": "stream",
     "text": [
      "\n",
      "  0%|          | 0/113 [00:00<?, ?it/s]\u001b[A"
     ]
    },
    {
     "name": "stdout",
     "output_type": "stream",
     "text": [
      "An exception occurred Key error\n",
      "An exception occurred Key error\n",
      "An exception occurred Key error\n",
      "An exception occurred Key error\n",
      "An exception occurred Key error\n",
      "An exception occurred Key error\n",
      "An exception occurred\n",
      "An exception occurred\n"
     ]
    },
    {
     "name": "stderr",
     "output_type": "stream",
     "text": [
      "\n",
      "  0%|          | 0/113 [00:11<?, ?it/s]\u001b[A\n",
      " 27%|██▋       | 31/113 [00:11<00:31,  2.61it/s]\u001b[A\n",
      " 28%|██▊       | 32/113 [00:11<00:30,  2.70it/s]\u001b[A"
     ]
    },
    {
     "name": "stdout",
     "output_type": "stream",
     "text": [
      "An exception occurred\n",
      "An exception occurred\n"
     ]
    },
    {
     "name": "stderr",
     "output_type": "stream",
     "text": [
      "\n",
      " 29%|██▉       | 33/113 [00:12<00:28,  2.82it/s]\u001b[A"
     ]
    },
    {
     "name": "stdout",
     "output_type": "stream",
     "text": [
      "An exception occurred\n"
     ]
    },
    {
     "name": "stderr",
     "output_type": "stream",
     "text": [
      "\n",
      " 30%|███       | 34/113 [00:12<00:27,  2.90it/s]\u001b[A\n",
      " 31%|███       | 35/113 [00:12<00:25,  3.01it/s]\u001b[A\n",
      " 32%|███▏      | 36/113 [00:12<00:24,  3.16it/s]\u001b[A\n",
      " 33%|███▎      | 37/113 [00:12<00:22,  3.33it/s]\u001b[A\n",
      " 34%|███▎      | 38/113 [00:13<00:21,  3.49it/s]\u001b[A\n",
      " 35%|███▍      | 39/113 [00:13<00:20,  3.67it/s]\u001b[A\n",
      " 35%|███▌      | 40/113 [00:13<00:19,  3.66it/s]\u001b[A\n",
      " 36%|███▋      | 41/113 [00:14<00:20,  3.43it/s]\u001b[A\n",
      " 37%|███▋      | 42/113 [00:14<00:20,  3.44it/s]\u001b[A\n",
      " 38%|███▊      | 43/113 [00:14<00:21,  3.22it/s]\u001b[A\n",
      " 39%|███▉      | 44/113 [00:15<00:24,  2.81it/s]\u001b[A\n",
      " 40%|███▉      | 45/113 [00:15<00:21,  3.15it/s]\u001b[A\n",
      " 41%|████      | 46/113 [00:15<00:20,  3.25it/s]\u001b[A\n",
      " 42%|████▏     | 47/113 [00:16<00:21,  3.01it/s]\u001b[A\n",
      " 42%|████▏     | 48/113 [00:16<00:25,  2.50it/s]\u001b[A\n",
      " 43%|████▎     | 49/113 [00:16<00:22,  2.80it/s]\u001b[A\n",
      " 44%|████▍     | 50/113 [00:17<00:23,  2.70it/s]\u001b[A\n",
      " 45%|████▌     | 51/113 [00:17<00:20,  3.02it/s]\u001b[A\n",
      " 46%|████▌     | 52/113 [00:17<00:19,  3.09it/s]\u001b[A\n",
      " 47%|████▋     | 53/113 [00:18<00:20,  3.00it/s]\u001b[A\n",
      " 48%|████▊     | 54/113 [00:18<00:19,  3.01it/s]\u001b[A\n",
      " 49%|████▊     | 55/113 [00:18<00:17,  3.25it/s]\u001b[A\n",
      " 50%|████▉     | 56/113 [00:19<00:21,  2.64it/s]\u001b[A\n",
      " 50%|█████     | 57/113 [00:19<00:23,  2.39it/s]\u001b[A\n",
      " 51%|█████▏    | 58/113 [00:21<00:36,  1.51it/s]\u001b[A\n",
      " 52%|█████▏    | 59/113 [00:21<00:29,  1.85it/s]\u001b[A\n",
      " 53%|█████▎    | 60/113 [00:21<00:25,  2.08it/s]\u001b[A\n",
      " 54%|█████▍    | 61/113 [00:21<00:21,  2.42it/s]\u001b[A\n",
      " 55%|█████▍    | 62/113 [00:22<00:23,  2.22it/s]\u001b[A\n",
      " 56%|█████▌    | 63/113 [00:22<00:19,  2.52it/s]\u001b[A\n",
      " 57%|█████▋    | 64/113 [00:23<00:19,  2.46it/s]\u001b[A\n",
      " 58%|█████▊    | 65/113 [00:23<00:18,  2.63it/s]\u001b[A\n",
      " 58%|█████▊    | 66/113 [00:23<00:17,  2.71it/s]\u001b[A\n",
      " 59%|█████▉    | 67/113 [00:24<00:16,  2.77it/s]\u001b[A\n",
      " 60%|██████    | 68/113 [00:24<00:15,  2.90it/s]\u001b[A\n",
      " 61%|██████    | 69/113 [00:24<00:16,  2.69it/s]\u001b[A\n",
      " 62%|██████▏   | 70/113 [00:25<00:13,  3.15it/s]\u001b[A\n",
      " 63%|██████▎   | 71/113 [00:25<00:13,  3.15it/s]\u001b[A\n",
      " 64%|██████▎   | 72/113 [00:25<00:12,  3.21it/s]\u001b[A\n",
      " 65%|██████▍   | 73/113 [00:25<00:11,  3.38it/s]\u001b[A\n",
      " 65%|██████▌   | 74/113 [00:26<00:11,  3.39it/s]\u001b[A\n",
      " 66%|██████▋   | 75/113 [00:26<00:11,  3.39it/s]\u001b[A\n",
      " 67%|██████▋   | 76/113 [00:26<00:11,  3.23it/s]\u001b[A\n",
      " 68%|██████▊   | 77/113 [00:27<00:10,  3.37it/s]\u001b[A\n",
      " 69%|██████▉   | 78/113 [00:27<00:10,  3.37it/s]\u001b[A\n",
      " 70%|██████▉   | 79/113 [00:27<00:10,  3.35it/s]\u001b[A\n",
      " 71%|███████   | 80/113 [00:28<00:11,  2.78it/s]\u001b[A\n",
      " 72%|███████▏  | 81/113 [00:28<00:11,  2.89it/s]\u001b[A\n",
      " 73%|███████▎  | 82/113 [00:28<00:10,  2.92it/s]\u001b[A\n",
      " 73%|███████▎  | 83/113 [00:29<00:11,  2.67it/s]\u001b[A\n",
      " 74%|███████▍  | 84/113 [00:29<00:10,  2.79it/s]\u001b[A\n",
      " 75%|███████▌  | 85/113 [00:29<00:08,  3.37it/s]\u001b[A\n",
      " 76%|███████▌  | 86/113 [00:30<00:07,  3.63it/s]\u001b[A\n",
      " 77%|███████▋  | 87/113 [00:30<00:06,  4.16it/s]\u001b[A\n",
      " 78%|███████▊  | 88/113 [00:30<00:05,  4.57it/s]\u001b[A\n",
      " 79%|███████▉  | 89/113 [00:30<00:04,  4.93it/s]\u001b[A\n",
      " 80%|███████▉  | 90/113 [00:30<00:05,  4.52it/s]\u001b[A\n",
      " 81%|████████  | 91/113 [00:30<00:04,  4.82it/s]\u001b[A\n",
      " 81%|████████▏ | 92/113 [00:31<00:04,  4.65it/s]\u001b[A\n",
      " 82%|████████▏ | 93/113 [00:31<00:03,  5.11it/s]\u001b[A\n",
      " 83%|████████▎ | 94/113 [00:31<00:04,  4.10it/s]\u001b[A\n",
      " 84%|████████▍ | 95/113 [00:31<00:04,  4.35it/s]\u001b[A\n",
      " 85%|████████▍ | 96/113 [00:32<00:04,  4.09it/s]\u001b[A\n",
      " 86%|████████▌ | 97/113 [00:32<00:04,  3.70it/s]\u001b[A\n",
      " 87%|████████▋ | 98/113 [00:32<00:03,  4.16it/s]\u001b[A\n",
      " 88%|████████▊ | 99/113 [00:32<00:03,  4.09it/s]\u001b[A\n",
      " 88%|████████▊ | 100/113 [00:33<00:03,  4.00it/s]\u001b[A\n",
      " 89%|████████▉ | 101/113 [00:33<00:02,  4.22it/s]\u001b[A\n",
      " 90%|█████████ | 102/113 [00:33<00:02,  4.27it/s]\u001b[A\n",
      " 91%|█████████ | 103/113 [00:33<00:02,  4.56it/s]\u001b[A\n",
      " 92%|█████████▏| 104/113 [00:34<00:02,  4.20it/s]\u001b[A\n",
      " 93%|█████████▎| 105/113 [00:34<00:01,  4.09it/s]\u001b[A\n",
      " 94%|█████████▍| 106/113 [00:34<00:01,  4.09it/s]\u001b[A\n",
      " 95%|█████████▍| 107/113 [00:34<00:01,  3.66it/s]\u001b[A\n",
      " 96%|█████████▌| 108/113 [00:35<00:01,  3.70it/s]\u001b[A\n",
      " 96%|█████████▋| 109/113 [00:35<00:01,  3.67it/s]\u001b[A\n",
      " 97%|█████████▋| 110/113 [00:35<00:00,  3.73it/s]\u001b[A\n",
      " 98%|█████████▊| 111/113 [01:36<00:36, 18.29s/it]\u001b[A\n",
      " 99%|█████████▉| 112/113 [01:36<00:12, 12.89s/it]\u001b[A\n",
      "100%|██████████| 113/113 [01:36<00:00,  1.17it/s]\u001b[A\n"
     ]
    },
    {
     "name": "stdout",
     "output_type": "stream",
     "text": [
      "length of df 102\n",
      "DataInterviewPro_comments.csv Witten\n"
     ]
    },
    {
     "name": "stderr",
     "output_type": "stream",
     "text": [
      "\r",
      " 90%|█████████ | 9/10 [49:05<03:35, 215.32s/it]"
     ]
    },
    {
     "name": "stdout",
     "output_type": "stream",
     "text": [
      "CampusX-official UCCWi3hpnq_Pe03nGxuS7isg\n"
     ]
    },
    {
     "name": "stderr",
     "output_type": "stream",
     "text": [
      "\n",
      "  0%|          | 0/452 [00:00<?, ?it/s]\u001b[A"
     ]
    },
    {
     "name": "stdout",
     "output_type": "stream",
     "text": [
      "An exception occurred Key error\n",
      "An exception occurred Key error\n"
     ]
    },
    {
     "name": "stderr",
     "output_type": "stream",
     "text": [
      "\n",
      " 11%|█         | 50/452 [00:12<01:37,  4.12it/s]\u001b[A\n",
      " 22%|██▏       | 100/452 [00:24<01:25,  4.13it/s]\u001b[A\n",
      " 22%|██▏       | 100/452 [00:34<01:25,  4.13it/s]\u001b[A\n",
      " 23%|██▎       | 102/452 [01:24<07:06,  1.22s/it]\u001b[A\n",
      " 23%|██▎       | 103/452 [01:25<06:57,  1.20s/it]\u001b[A\n",
      " 23%|██▎       | 104/452 [01:25<06:45,  1.16s/it]\u001b[A\n",
      " 23%|██▎       | 105/452 [01:25<06:29,  1.12s/it]\u001b[A\n",
      " 23%|██▎       | 106/452 [01:25<06:09,  1.07s/it]\u001b[A\n",
      " 24%|██▎       | 107/452 [01:25<05:45,  1.00s/it]\u001b[A\n",
      " 24%|██▍       | 108/452 [01:26<05:19,  1.08it/s]\u001b[A\n",
      " 24%|██▍       | 109/452 [01:26<04:49,  1.19it/s]\u001b[A\n",
      " 24%|██▍       | 110/452 [01:26<04:21,  1.31it/s]\u001b[A\n",
      " 25%|██▍       | 111/452 [01:26<03:48,  1.49it/s]\u001b[A\n",
      " 25%|██▍       | 112/452 [01:27<03:19,  1.71it/s]\u001b[A\n",
      " 25%|██▌       | 113/452 [01:27<03:05,  1.83it/s]\u001b[A\n",
      " 25%|██▌       | 114/452 [01:27<02:53,  1.94it/s]\u001b[A\n",
      " 25%|██▌       | 115/452 [01:28<02:49,  1.99it/s]\u001b[A\n",
      " 26%|██▌       | 116/452 [01:28<02:44,  2.04it/s]\u001b[A\n",
      " 26%|██▌       | 117/452 [01:29<02:39,  2.10it/s]\u001b[A\n",
      " 26%|██▌       | 118/452 [01:29<02:33,  2.17it/s]\u001b[A\n",
      " 26%|██▋       | 119/452 [01:30<02:28,  2.24it/s]\u001b[A\n",
      " 27%|██▋       | 120/452 [01:30<02:06,  2.62it/s]\u001b[A\n",
      " 27%|██▋       | 121/452 [01:30<01:57,  2.82it/s]\u001b[A\n",
      " 27%|██▋       | 122/452 [01:30<01:39,  3.30it/s]\u001b[A\n",
      " 27%|██▋       | 123/452 [01:31<01:35,  3.44it/s]\u001b[A\n",
      " 27%|██▋       | 124/452 [01:31<01:28,  3.69it/s]\u001b[A\n",
      " 28%|██▊       | 125/452 [01:31<01:27,  3.72it/s]\u001b[A\n",
      " 28%|██▊       | 126/452 [01:31<01:21,  3.99it/s]\u001b[A\n",
      " 28%|██▊       | 127/452 [01:32<01:30,  3.61it/s]\u001b[A\n",
      " 28%|██▊       | 128/452 [01:32<01:25,  3.79it/s]\u001b[A\n",
      " 29%|██▊       | 129/452 [01:32<01:27,  3.69it/s]\u001b[A\n",
      " 29%|██▉       | 130/452 [01:32<01:18,  4.11it/s]\u001b[A\n",
      " 29%|██▉       | 131/452 [01:32<01:11,  4.47it/s]\u001b[A\n",
      " 29%|██▉       | 132/452 [01:33<01:11,  4.47it/s]\u001b[A\n",
      " 29%|██▉       | 133/452 [01:33<01:12,  4.38it/s]\u001b[A\n",
      " 30%|██▉       | 134/452 [01:33<01:16,  4.15it/s]\u001b[A\n",
      " 30%|██▉       | 135/452 [01:33<01:15,  4.22it/s]\u001b[A\n",
      " 30%|███       | 136/452 [01:34<01:14,  4.23it/s]\u001b[A\n",
      " 30%|███       | 137/452 [01:34<01:15,  4.18it/s]\u001b[A\n",
      " 31%|███       | 138/452 [01:34<01:21,  3.86it/s]\u001b[A\n",
      " 31%|███       | 139/452 [01:34<01:17,  4.02it/s]\u001b[A\n",
      " 31%|███       | 140/452 [01:35<01:10,  4.41it/s]\u001b[A\n",
      " 31%|███       | 141/452 [01:35<01:16,  4.08it/s]\u001b[A\n",
      " 31%|███▏      | 142/452 [01:35<01:16,  4.07it/s]\u001b[A\n",
      " 32%|███▏      | 143/452 [01:35<01:16,  4.05it/s]\u001b[A\n",
      " 32%|███▏      | 144/452 [01:36<01:15,  4.09it/s]\u001b[A\n",
      " 32%|███▏      | 145/452 [01:36<01:14,  4.12it/s]\u001b[A\n",
      " 32%|███▏      | 146/452 [01:36<01:15,  4.06it/s]\u001b[A\n",
      " 33%|███▎      | 147/452 [01:36<01:16,  3.97it/s]\u001b[A\n",
      " 33%|███▎      | 148/452 [01:37<01:07,  4.47it/s]\u001b[A\n",
      " 33%|███▎      | 149/452 [01:37<01:07,  4.52it/s]\u001b[A\n",
      " 33%|███▎      | 150/452 [01:37<01:11,  4.20it/s]\u001b[A\n",
      " 33%|███▎      | 151/452 [01:37<01:07,  4.43it/s]\u001b[A\n",
      " 34%|███▎      | 152/452 [01:38<01:12,  4.15it/s]\u001b[A\n",
      " 34%|███▍      | 153/452 [01:38<01:10,  4.26it/s]\u001b[A\n",
      " 34%|███▍      | 154/452 [01:38<01:20,  3.69it/s]\u001b[A\n",
      " 34%|███▍      | 155/452 [01:38<01:18,  3.78it/s]\u001b[A\n",
      " 35%|███▍      | 156/452 [01:39<01:15,  3.94it/s]\u001b[A\n",
      " 35%|███▍      | 157/452 [01:39<01:15,  3.93it/s]\u001b[A\n",
      " 35%|███▍      | 158/452 [01:39<01:33,  3.16it/s]\u001b[A\n",
      " 35%|███▌      | 159/452 [01:40<01:28,  3.30it/s]\u001b[A\n",
      " 35%|███▌      | 160/452 [01:40<01:27,  3.33it/s]\u001b[A\n",
      " 36%|███▌      | 161/452 [01:40<01:21,  3.59it/s]\u001b[A\n",
      " 36%|███▌      | 162/452 [01:40<01:19,  3.65it/s]\u001b[A\n",
      " 36%|███▌      | 163/452 [01:41<01:27,  3.29it/s]\u001b[A\n",
      " 36%|███▋      | 164/452 [01:41<01:21,  3.53it/s]\u001b[A\n",
      " 37%|███▋      | 165/452 [01:41<01:16,  3.73it/s]\u001b[A\n",
      " 37%|███▋      | 166/452 [01:42<01:26,  3.30it/s]\u001b[A\n",
      " 37%|███▋      | 167/452 [01:42<01:27,  3.27it/s]\u001b[A\n",
      " 37%|███▋      | 168/452 [01:42<01:21,  3.47it/s]\u001b[A\n",
      " 37%|███▋      | 169/452 [01:42<01:18,  3.62it/s]\u001b[A\n",
      " 38%|███▊      | 170/452 [01:43<01:11,  3.96it/s]\u001b[A\n",
      " 38%|███▊      | 171/452 [01:43<01:11,  3.91it/s]\u001b[A\n",
      " 38%|███▊      | 172/452 [01:43<01:13,  3.80it/s]\u001b[A\n",
      " 38%|███▊      | 173/452 [01:43<01:09,  4.01it/s]\u001b[A\n",
      " 38%|███▊      | 174/452 [01:43<01:02,  4.46it/s]\u001b[A\n",
      " 39%|███▊      | 175/452 [01:44<00:57,  4.82it/s]\u001b[A\n",
      " 39%|███▉      | 176/452 [01:44<00:55,  4.94it/s]\u001b[A\n",
      " 39%|███▉      | 177/452 [01:44<00:52,  5.23it/s]\u001b[A\n",
      " 39%|███▉      | 178/452 [01:44<00:57,  4.75it/s]\u001b[A\n",
      " 40%|███▉      | 179/452 [01:45<01:14,  3.68it/s]\u001b[A\n",
      " 40%|███▉      | 180/452 [01:45<01:23,  3.25it/s]\u001b[A\n",
      " 40%|████      | 181/452 [01:45<01:25,  3.16it/s]\u001b[A\n",
      " 40%|████      | 182/452 [01:46<01:28,  3.06it/s]\u001b[A\n",
      " 40%|████      | 183/452 [01:46<01:27,  3.07it/s]\u001b[A\n",
      " 41%|████      | 184/452 [01:46<01:22,  3.23it/s]\u001b[A\n",
      " 41%|████      | 185/452 [01:47<01:19,  3.35it/s]\u001b[A\n",
      " 41%|████      | 186/452 [01:47<01:19,  3.37it/s]\u001b[A\n",
      " 41%|████▏     | 187/452 [01:47<01:16,  3.49it/s]\u001b[A\n",
      " 42%|████▏     | 188/452 [01:47<01:11,  3.70it/s]\u001b[A\n",
      " 42%|████▏     | 189/452 [01:48<01:10,  3.72it/s]\u001b[A\n",
      " 42%|████▏     | 190/452 [01:48<01:25,  3.06it/s]\u001b[A\n",
      " 42%|████▏     | 191/452 [01:48<01:26,  3.03it/s]\u001b[A\n",
      " 42%|████▏     | 192/452 [01:49<01:22,  3.14it/s]\u001b[A\n",
      " 43%|████▎     | 193/452 [01:49<01:19,  3.26it/s]\u001b[A\n",
      " 43%|████▎     | 194/452 [01:49<01:14,  3.44it/s]\u001b[A\n",
      " 43%|████▎     | 195/452 [01:50<01:18,  3.29it/s]\u001b[A\n",
      " 43%|████▎     | 196/452 [01:50<01:15,  3.40it/s]\u001b[A\n",
      " 44%|████▎     | 197/452 [01:50<01:19,  3.19it/s]\u001b[A\n",
      " 44%|████▍     | 198/452 [01:51<01:15,  3.38it/s]\u001b[A\n",
      " 44%|████▍     | 199/452 [01:51<01:16,  3.31it/s]\u001b[A\n",
      " 44%|████▍     | 200/452 [01:51<01:11,  3.50it/s]\u001b[A\n",
      " 44%|████▍     | 201/452 [01:51<01:10,  3.57it/s]\u001b[A\n",
      " 45%|████▍     | 202/452 [02:52<1:16:20, 18.32s/it]\u001b[A\n",
      " 45%|████▍     | 203/452 [02:52<53:36, 12.92s/it]  \u001b[A\n",
      " 45%|████▌     | 204/452 [02:53<38:07,  9.23s/it]\u001b[A\n",
      " 45%|████▌     | 205/452 [02:53<26:54,  6.54s/it]\u001b[A\n",
      " 46%|████▌     | 206/452 [02:53<19:25,  4.74s/it]\u001b[A\n",
      " 46%|████▌     | 207/452 [02:54<13:54,  3.41s/it]\u001b[A\n",
      " 46%|████▌     | 208/452 [02:55<10:41,  2.63s/it]\u001b[A\n",
      " 46%|████▌     | 209/452 [02:55<08:06,  2.00s/it]\u001b[A\n",
      " 46%|████▋     | 210/452 [02:57<08:03,  2.00s/it]\u001b[A\n",
      " 47%|████▋     | 211/452 [02:58<06:26,  1.60s/it]\u001b[A\n",
      " 47%|████▋     | 212/452 [02:58<05:08,  1.28s/it]\u001b[A\n",
      " 47%|████▋     | 213/452 [02:59<03:52,  1.03it/s]\u001b[A\n",
      " 47%|████▋     | 214/452 [02:59<02:59,  1.32it/s]\u001b[A\n",
      " 48%|████▊     | 215/452 [02:59<02:17,  1.72it/s]\u001b[A\n",
      " 48%|████▊     | 216/452 [02:59<01:50,  2.13it/s]\u001b[A\n",
      " 48%|████▊     | 217/452 [02:59<01:25,  2.76it/s]\u001b[A\n",
      " 48%|████▊     | 218/452 [03:00<01:10,  3.30it/s]\u001b[A"
     ]
    },
    {
     "name": "stdout",
     "output_type": "stream",
     "text": [
      "An exception occurred Key error\n"
     ]
    },
    {
     "name": "stderr",
     "output_type": "stream",
     "text": [
      "\n",
      " 48%|████▊     | 219/452 [03:00<01:18,  2.95it/s]\u001b[A\n",
      " 49%|████▊     | 220/452 [03:00<01:05,  3.54it/s]\u001b[A"
     ]
    },
    {
     "name": "stdout",
     "output_type": "stream",
     "text": [
      "An exception occurred Key error\n"
     ]
    },
    {
     "name": "stderr",
     "output_type": "stream",
     "text": [
      "\n",
      " 49%|████▉     | 221/452 [03:01<01:18,  2.96it/s]\u001b[A\n",
      " 49%|████▉     | 222/452 [03:01<01:09,  3.31it/s]\u001b[A\n",
      " 49%|████▉     | 223/452 [03:01<01:18,  2.90it/s]\u001b[A\n",
      " 50%|████▉     | 224/452 [03:01<01:07,  3.37it/s]\u001b[A\n",
      " 50%|████▉     | 225/452 [03:02<00:56,  4.04it/s]\u001b[A\n",
      " 50%|█████     | 226/452 [03:02<00:47,  4.77it/s]\u001b[A"
     ]
    },
    {
     "name": "stdout",
     "output_type": "stream",
     "text": [
      "An exception occurred Key error\n",
      "An exception occurred Key error\n"
     ]
    },
    {
     "name": "stderr",
     "output_type": "stream",
     "text": [
      "\n",
      " 50%|█████     | 227/452 [03:02<00:46,  4.83it/s]\u001b[A\n",
      " 50%|█████     | 228/452 [03:02<00:41,  5.34it/s]\u001b[A"
     ]
    },
    {
     "name": "stdout",
     "output_type": "stream",
     "text": [
      "An exception occurred Key error\n"
     ]
    },
    {
     "name": "stderr",
     "output_type": "stream",
     "text": [
      "\n",
      " 51%|█████     | 229/452 [03:02<00:44,  4.96it/s]\u001b[A\n",
      " 51%|█████     | 230/452 [03:02<00:43,  5.10it/s]\u001b[A\n",
      " 51%|█████     | 231/452 [03:03<00:38,  5.68it/s]\u001b[A"
     ]
    },
    {
     "name": "stdout",
     "output_type": "stream",
     "text": [
      "An exception occurred Key error\n"
     ]
    },
    {
     "name": "stderr",
     "output_type": "stream",
     "text": [
      "\n",
      " 51%|█████▏    | 232/452 [03:03<00:42,  5.19it/s]\u001b[A\n",
      " 52%|█████▏    | 233/452 [03:03<00:44,  4.95it/s]\u001b[A\n",
      " 52%|█████▏    | 234/452 [03:03<00:46,  4.71it/s]\u001b[A\n",
      " 52%|█████▏    | 235/452 [03:03<00:49,  4.42it/s]\u001b[A\n",
      " 52%|█████▏    | 236/452 [03:04<00:51,  4.20it/s]\u001b[A\n",
      " 52%|█████▏    | 237/452 [03:04<00:52,  4.06it/s]\u001b[A\n",
      " 53%|█████▎    | 238/452 [03:04<00:54,  3.92it/s]\u001b[A\n",
      " 53%|█████▎    | 239/452 [03:05<00:59,  3.59it/s]\u001b[A\n",
      " 53%|█████▎    | 240/452 [03:05<00:59,  3.55it/s]\u001b[A\n",
      " 53%|█████▎    | 241/452 [03:05<01:03,  3.35it/s]\u001b[A\n",
      " 54%|█████▎    | 242/452 [03:06<01:10,  3.00it/s]\u001b[A\n",
      " 54%|█████▍    | 243/452 [03:06<01:05,  3.21it/s]\u001b[A\n",
      " 54%|█████▍    | 244/452 [03:06<01:02,  3.31it/s]\u001b[A\n",
      " 54%|█████▍    | 245/452 [03:07<01:01,  3.37it/s]\u001b[A\n",
      " 54%|█████▍    | 246/452 [03:07<00:57,  3.57it/s]\u001b[A\n",
      " 55%|█████▍    | 247/452 [03:07<00:53,  3.80it/s]\u001b[A\n",
      " 55%|█████▍    | 248/452 [03:07<00:50,  4.05it/s]\u001b[A\n",
      " 55%|█████▌    | 249/452 [03:07<00:50,  4.02it/s]\u001b[A\n",
      " 55%|█████▌    | 250/452 [03:08<00:51,  3.93it/s]\u001b[A\n",
      " 56%|█████▌    | 251/452 [03:08<00:51,  3.92it/s]\u001b[A\n",
      " 56%|█████▌    | 252/452 [03:08<00:51,  3.89it/s]\u001b[A\n",
      " 56%|█████▌    | 253/452 [03:09<00:54,  3.68it/s]\u001b[A\n",
      " 56%|█████▌    | 254/452 [03:09<00:49,  3.97it/s]\u001b[A\n",
      " 56%|█████▋    | 255/452 [03:09<00:52,  3.72it/s]\u001b[A\n",
      " 57%|█████▋    | 256/452 [03:09<00:50,  3.87it/s]\u001b[A\n",
      " 57%|█████▋    | 257/452 [03:09<00:47,  4.09it/s]\u001b[A\n",
      " 57%|█████▋    | 258/452 [03:10<00:45,  4.29it/s]\u001b[A\n",
      " 57%|█████▋    | 259/452 [03:10<00:47,  4.06it/s]\u001b[A\n",
      " 58%|█████▊    | 260/452 [03:10<00:45,  4.19it/s]\u001b[A\n",
      " 58%|█████▊    | 261/452 [03:10<00:45,  4.23it/s]\u001b[A\n",
      " 58%|█████▊    | 262/452 [03:11<00:44,  4.27it/s]\u001b[A\n",
      " 58%|█████▊    | 263/452 [03:11<00:42,  4.45it/s]\u001b[A\n",
      " 58%|█████▊    | 264/452 [03:11<00:40,  4.59it/s]\u001b[A\n",
      " 59%|█████▊    | 265/452 [03:11<00:41,  4.49it/s]\u001b[A\n",
      " 59%|█████▉    | 266/452 [03:11<00:40,  4.63it/s]\u001b[A\n",
      " 59%|█████▉    | 267/452 [03:12<00:40,  4.56it/s]\u001b[A\n",
      " 59%|█████▉    | 268/452 [03:12<00:39,  4.60it/s]\u001b[A\n",
      " 60%|█████▉    | 269/452 [03:12<00:44,  4.09it/s]\u001b[A\n",
      " 60%|█████▉    | 270/452 [03:12<00:43,  4.21it/s]\u001b[A\n",
      " 60%|█████▉    | 271/452 [03:13<00:42,  4.22it/s]\u001b[A\n",
      " 60%|██████    | 272/452 [03:13<00:42,  4.24it/s]\u001b[A\n",
      " 60%|██████    | 273/452 [03:13<00:43,  4.14it/s]\u001b[A\n",
      " 61%|██████    | 274/452 [03:13<00:41,  4.29it/s]\u001b[A\n",
      " 61%|██████    | 275/452 [03:14<00:40,  4.37it/s]\u001b[A\n",
      " 61%|██████    | 276/452 [03:14<00:38,  4.58it/s]\u001b[A\n",
      " 61%|██████▏   | 277/452 [03:14<00:39,  4.39it/s]\u001b[A\n",
      " 62%|██████▏   | 278/452 [03:14<00:40,  4.25it/s]\u001b[A\n",
      " 62%|██████▏   | 279/452 [03:15<00:40,  4.30it/s]\u001b[A\n",
      " 62%|██████▏   | 280/452 [03:15<00:39,  4.34it/s]\u001b[A\n",
      " 62%|██████▏   | 281/452 [03:15<00:40,  4.23it/s]\u001b[A\n",
      " 62%|██████▏   | 282/452 [03:15<00:40,  4.16it/s]\u001b[A\n",
      " 63%|██████▎   | 283/452 [03:16<00:45,  3.75it/s]\u001b[A\n",
      " 63%|██████▎   | 284/452 [03:16<00:43,  3.82it/s]\u001b[A\n",
      " 63%|██████▎   | 285/452 [03:16<00:42,  3.90it/s]\u001b[A\n",
      " 63%|██████▎   | 286/452 [03:16<00:40,  4.09it/s]\u001b[A\n",
      " 63%|██████▎   | 287/452 [03:17<00:39,  4.14it/s]\u001b[A\n",
      " 64%|██████▎   | 288/452 [03:17<00:38,  4.30it/s]\u001b[A\n",
      " 64%|██████▍   | 289/452 [03:17<00:39,  4.12it/s]\u001b[A\n",
      " 64%|██████▍   | 290/452 [03:17<00:42,  3.83it/s]\u001b[A\n",
      " 64%|██████▍   | 291/452 [03:18<00:51,  3.11it/s]\u001b[A\n",
      " 65%|██████▍   | 292/452 [03:18<00:41,  3.82it/s]\u001b[A\n",
      " 65%|██████▍   | 293/452 [03:18<00:36,  4.32it/s]\u001b[A"
     ]
    },
    {
     "name": "stdout",
     "output_type": "stream",
     "text": [
      "An exception occurred Key error\n"
     ]
    },
    {
     "name": "stderr",
     "output_type": "stream",
     "text": [
      "\n",
      " 65%|██████▌   | 294/452 [03:18<00:31,  5.05it/s]\u001b[A"
     ]
    },
    {
     "name": "stdout",
     "output_type": "stream",
     "text": [
      "An exception occurred Key error\n"
     ]
    },
    {
     "name": "stderr",
     "output_type": "stream",
     "text": [
      "\n",
      " 65%|██████▌   | 295/452 [03:18<00:32,  4.88it/s]\u001b[A\n",
      " 65%|██████▌   | 296/452 [03:19<00:34,  4.46it/s]\u001b[A\n",
      " 66%|██████▌   | 297/452 [03:19<00:36,  4.23it/s]\u001b[A\n",
      " 66%|██████▌   | 298/452 [03:19<00:36,  4.18it/s]\u001b[A\n",
      " 66%|██████▌   | 299/452 [03:19<00:36,  4.19it/s]\u001b[A\n",
      " 66%|██████▋   | 300/452 [03:20<00:35,  4.24it/s]\u001b[A\n",
      " 67%|██████▋   | 301/452 [03:20<00:39,  3.80it/s]\u001b[A\n",
      " 67%|██████▋   | 302/452 [03:20<00:33,  4.43it/s]\u001b[A\n",
      " 67%|██████▋   | 303/452 [03:20<00:28,  5.15it/s]\u001b[A"
     ]
    },
    {
     "name": "stdout",
     "output_type": "stream",
     "text": [
      "An exception occurred Key error\n",
      "An exception occurred Key error\n"
     ]
    },
    {
     "name": "stderr",
     "output_type": "stream",
     "text": [
      "\n",
      " 67%|██████▋   | 304/452 [03:20<00:25,  5.71it/s]\u001b[A\n",
      " 67%|██████▋   | 305/452 [03:21<00:24,  5.94it/s]\u001b[A"
     ]
    },
    {
     "name": "stdout",
     "output_type": "stream",
     "text": [
      "An exception occurred Key error\n",
      "An exception occurred Key error\n"
     ]
    },
    {
     "name": "stderr",
     "output_type": "stream",
     "text": [
      "\n",
      " 68%|██████▊   | 306/452 [03:21<00:22,  6.50it/s]\u001b[A\n",
      " 68%|██████▊   | 307/452 [03:21<00:22,  6.41it/s]\u001b[A"
     ]
    },
    {
     "name": "stdout",
     "output_type": "stream",
     "text": [
      "An exception occurred Key error\n",
      "An exception occurred Key error\n"
     ]
    },
    {
     "name": "stderr",
     "output_type": "stream",
     "text": [
      "\n",
      " 68%|██████▊   | 308/452 [03:21<00:21,  6.58it/s]\u001b[A\n",
      " 68%|██████▊   | 309/452 [03:21<00:21,  6.74it/s]\u001b[A"
     ]
    },
    {
     "name": "stdout",
     "output_type": "stream",
     "text": [
      "An exception occurred Key error\n",
      "An exception occurred Key error\n"
     ]
    },
    {
     "name": "stderr",
     "output_type": "stream",
     "text": [
      "\n",
      " 69%|██████▊   | 310/452 [03:21<00:20,  6.87it/s]\u001b[A\n",
      " 69%|██████▉   | 311/452 [03:21<00:19,  7.14it/s]\u001b[A"
     ]
    },
    {
     "name": "stdout",
     "output_type": "stream",
     "text": [
      "An exception occurred Key error\n",
      "An exception occurred Key error\n"
     ]
    },
    {
     "name": "stderr",
     "output_type": "stream",
     "text": [
      "\n",
      " 69%|██████▉   | 312/452 [03:21<00:19,  7.34it/s]\u001b[A\n",
      " 69%|██████▉   | 313/452 [03:22<00:18,  7.48it/s]\u001b[A"
     ]
    },
    {
     "name": "stdout",
     "output_type": "stream",
     "text": [
      "An exception occurred Key error\n",
      "An exception occurred Key error\n"
     ]
    },
    {
     "name": "stderr",
     "output_type": "stream",
     "text": [
      "\n",
      " 69%|██████▉   | 314/452 [03:22<00:22,  6.13it/s]\u001b[A\n",
      " 70%|██████▉   | 315/452 [03:22<00:21,  6.49it/s]\u001b[A"
     ]
    },
    {
     "name": "stdout",
     "output_type": "stream",
     "text": [
      "An exception occurred Key error\n",
      "An exception occurred Key error\n"
     ]
    },
    {
     "name": "stderr",
     "output_type": "stream",
     "text": [
      "\n",
      " 70%|██████▉   | 316/452 [03:22<00:20,  6.49it/s]\u001b[A\n",
      " 70%|███████   | 317/452 [03:22<00:20,  6.69it/s]\u001b[A"
     ]
    },
    {
     "name": "stdout",
     "output_type": "stream",
     "text": [
      "An exception occurred Key error\n",
      "An exception occurred Key error\n"
     ]
    },
    {
     "name": "stderr",
     "output_type": "stream",
     "text": [
      "\n",
      " 70%|███████   | 318/452 [03:22<00:19,  6.82it/s]\u001b[A\n",
      " 71%|███████   | 319/452 [03:23<00:21,  6.23it/s]\u001b[A"
     ]
    },
    {
     "name": "stdout",
     "output_type": "stream",
     "text": [
      "An exception occurred Key error\n",
      "An exception occurred Key error\n"
     ]
    },
    {
     "name": "stderr",
     "output_type": "stream",
     "text": [
      "\n",
      " 71%|███████   | 320/452 [03:23<00:22,  5.80it/s]\u001b[A\n",
      " 71%|███████   | 321/452 [03:23<00:20,  6.39it/s]\u001b[A\n",
      " 71%|███████   | 322/452 [03:23<00:19,  6.81it/s]\u001b[A"
     ]
    },
    {
     "name": "stdout",
     "output_type": "stream",
     "text": [
      "An exception occurred Key error\n",
      "An exception occurred Key error\n"
     ]
    },
    {
     "name": "stderr",
     "output_type": "stream",
     "text": [
      "\n",
      " 71%|███████▏  | 323/452 [03:23<00:18,  6.86it/s]\u001b[A\n",
      " 72%|███████▏  | 324/452 [03:23<00:19,  6.72it/s]\u001b[A"
     ]
    },
    {
     "name": "stdout",
     "output_type": "stream",
     "text": [
      "An exception occurred Key error\n",
      "An exception occurred Key error\n"
     ]
    },
    {
     "name": "stderr",
     "output_type": "stream",
     "text": [
      "\n",
      " 72%|███████▏  | 325/452 [03:24<00:20,  6.16it/s]\u001b[A\n",
      " 72%|███████▏  | 326/452 [03:24<00:18,  6.78it/s]\u001b[A"
     ]
    },
    {
     "name": "stdout",
     "output_type": "stream",
     "text": [
      "An exception occurred Key error\n",
      "An exception occurred Key error\n"
     ]
    },
    {
     "name": "stderr",
     "output_type": "stream",
     "text": [
      "\n",
      " 72%|███████▏  | 327/452 [03:24<00:17,  7.09it/s]\u001b[A\n",
      " 73%|███████▎  | 328/452 [03:24<00:16,  7.46it/s]\u001b[A"
     ]
    },
    {
     "name": "stdout",
     "output_type": "stream",
     "text": [
      "An exception occurred Key error\n",
      "An exception occurred Key error\n"
     ]
    },
    {
     "name": "stderr",
     "output_type": "stream",
     "text": [
      "\n",
      " 73%|███████▎  | 329/452 [03:24<00:15,  7.73it/s]\u001b[A\n",
      " 73%|███████▎  | 330/452 [03:24<00:15,  7.81it/s]\u001b[A"
     ]
    },
    {
     "name": "stdout",
     "output_type": "stream",
     "text": [
      "An exception occurred Key error\n",
      "An exception occurred Key error\n"
     ]
    },
    {
     "name": "stderr",
     "output_type": "stream",
     "text": [
      "\n",
      " 73%|███████▎  | 331/452 [03:24<00:15,  7.65it/s]\u001b[A\n",
      " 73%|███████▎  | 332/452 [03:24<00:15,  7.54it/s]\u001b[A"
     ]
    },
    {
     "name": "stdout",
     "output_type": "stream",
     "text": [
      "An exception occurred Key error\n",
      "An exception occurred Key error\n"
     ]
    },
    {
     "name": "stderr",
     "output_type": "stream",
     "text": [
      "\n",
      " 74%|███████▎  | 333/452 [03:25<00:15,  7.86it/s]\u001b[A\n",
      " 74%|███████▍  | 334/452 [03:25<00:14,  8.00it/s]\u001b[A"
     ]
    },
    {
     "name": "stdout",
     "output_type": "stream",
     "text": [
      "An exception occurred Key error\n",
      "An exception occurred Key error\n"
     ]
    },
    {
     "name": "stderr",
     "output_type": "stream",
     "text": [
      "\n",
      " 74%|███████▍  | 335/452 [03:25<00:14,  7.81it/s]\u001b[A\n",
      " 74%|███████▍  | 336/452 [03:25<00:14,  7.89it/s]\u001b[A"
     ]
    },
    {
     "name": "stdout",
     "output_type": "stream",
     "text": [
      "An exception occurred Key error\n",
      "An exception occurred Key error\n"
     ]
    },
    {
     "name": "stderr",
     "output_type": "stream",
     "text": [
      "\n",
      " 75%|███████▍  | 337/452 [03:25<00:16,  6.95it/s]\u001b[A\n",
      " 75%|███████▍  | 338/452 [03:25<00:16,  6.79it/s]\u001b[A\n",
      " 75%|███████▌  | 339/452 [03:25<00:16,  6.87it/s]\u001b[A"
     ]
    },
    {
     "name": "stdout",
     "output_type": "stream",
     "text": [
      "An exception occurred Key error\n",
      "An exception occurred Key error\n"
     ]
    },
    {
     "name": "stderr",
     "output_type": "stream",
     "text": [
      "\n",
      " 75%|███████▌  | 340/452 [03:26<00:15,  7.09it/s]\u001b[A\n",
      " 75%|███████▌  | 341/452 [03:26<00:15,  7.34it/s]\u001b[A"
     ]
    },
    {
     "name": "stdout",
     "output_type": "stream",
     "text": [
      "An exception occurred Key error\n",
      "An exception occurred Key error\n"
     ]
    },
    {
     "name": "stderr",
     "output_type": "stream",
     "text": [
      "\n",
      " 76%|███████▌  | 342/452 [03:26<00:15,  7.33it/s]\u001b[A\n",
      " 76%|███████▌  | 343/452 [03:26<00:14,  7.47it/s]\u001b[A"
     ]
    },
    {
     "name": "stdout",
     "output_type": "stream",
     "text": [
      "An exception occurred Key error\n",
      "An exception occurred Key error\n"
     ]
    },
    {
     "name": "stderr",
     "output_type": "stream",
     "text": [
      "\n",
      " 76%|███████▌  | 344/452 [03:26<00:14,  7.45it/s]\u001b[A\n",
      " 76%|███████▋  | 345/452 [03:26<00:15,  6.72it/s]\u001b[A"
     ]
    },
    {
     "name": "stdout",
     "output_type": "stream",
     "text": [
      "An exception occurred Key error\n"
     ]
    },
    {
     "name": "stderr",
     "output_type": "stream",
     "text": [
      "\n",
      " 77%|███████▋  | 346/452 [03:26<00:14,  7.11it/s]\u001b[A\n",
      " 77%|███████▋  | 347/452 [03:27<00:16,  6.50it/s]\u001b[A"
     ]
    },
    {
     "name": "stdout",
     "output_type": "stream",
     "text": [
      "An exception occurred Key error\n"
     ]
    },
    {
     "name": "stderr",
     "output_type": "stream",
     "text": [
      "\n",
      " 77%|███████▋  | 348/452 [03:27<00:17,  5.79it/s]\u001b[A\n",
      " 77%|███████▋  | 349/452 [03:27<00:20,  5.14it/s]\u001b[A\n",
      " 77%|███████▋  | 350/452 [03:27<00:21,  4.83it/s]\u001b[A\n",
      " 78%|███████▊  | 351/452 [03:27<00:21,  4.61it/s]\u001b[A\n",
      " 78%|███████▊  | 352/452 [04:28<30:21, 18.21s/it]\u001b[A\n",
      " 78%|███████▊  | 353/452 [04:28<21:14, 12.88s/it]\u001b[A\n",
      " 78%|███████▊  | 354/452 [04:28<14:46,  9.05s/it]\u001b[A\n",
      " 79%|███████▊  | 355/452 [04:28<10:17,  6.37s/it]\u001b[A"
     ]
    },
    {
     "name": "stdout",
     "output_type": "stream",
     "text": [
      "An exception occurred Key error\n",
      "An exception occurred Key error\n"
     ]
    },
    {
     "name": "stderr",
     "output_type": "stream",
     "text": [
      "\n",
      " 79%|███████▉  | 356/452 [04:28<07:11,  4.49s/it]\u001b[A\n",
      " 79%|███████▉  | 357/452 [04:29<05:03,  3.20s/it]\u001b[A"
     ]
    },
    {
     "name": "stdout",
     "output_type": "stream",
     "text": [
      "An exception occurred Key error\n"
     ]
    },
    {
     "name": "stderr",
     "output_type": "stream",
     "text": [
      "\n",
      " 79%|███████▉  | 358/452 [04:29<03:37,  2.32s/it]\u001b[A\n",
      " 79%|███████▉  | 359/452 [04:29<02:37,  1.69s/it]\u001b[A\n",
      " 80%|███████▉  | 360/452 [04:29<01:54,  1.24s/it]\u001b[A\n",
      " 80%|███████▉  | 361/452 [04:30<01:35,  1.05s/it]\u001b[A\n",
      " 80%|████████  | 362/452 [04:30<01:09,  1.30it/s]\u001b[A"
     ]
    },
    {
     "name": "stdout",
     "output_type": "stream",
     "text": [
      "An exception occurred Key error\n",
      "An exception occurred Key error\n"
     ]
    },
    {
     "name": "stderr",
     "output_type": "stream",
     "text": [
      "\n",
      " 80%|████████  | 363/452 [04:30<00:51,  1.73it/s]\u001b[A"
     ]
    },
    {
     "name": "stdout",
     "output_type": "stream",
     "text": [
      "An exception occurred Key error\n"
     ]
    },
    {
     "name": "stderr",
     "output_type": "stream",
     "text": [
      "\n",
      " 81%|████████  | 364/452 [04:30<00:41,  2.10it/s]\u001b[A\n",
      " 81%|████████  | 365/452 [04:31<00:47,  1.84it/s]\u001b[A\n",
      " 81%|████████  | 366/452 [04:31<00:39,  2.17it/s]\u001b[A\n",
      " 81%|████████  | 367/452 [04:32<00:35,  2.38it/s]\u001b[A\n",
      " 81%|████████▏ | 368/452 [04:32<00:30,  2.74it/s]\u001b[A\n",
      " 82%|████████▏ | 369/452 [04:32<00:29,  2.85it/s]\u001b[A\n",
      " 82%|████████▏ | 370/452 [04:33<00:27,  2.96it/s]\u001b[A\n",
      " 82%|████████▏ | 371/452 [04:33<00:32,  2.52it/s]\u001b[A\n",
      " 82%|████████▏ | 372/452 [04:33<00:31,  2.51it/s]\u001b[A\n",
      " 83%|████████▎ | 373/452 [04:34<00:28,  2.82it/s]\u001b[A\n",
      " 83%|████████▎ | 374/452 [04:34<00:26,  3.00it/s]\u001b[A\n",
      " 83%|████████▎ | 375/452 [04:34<00:22,  3.36it/s]\u001b[A\n",
      " 83%|████████▎ | 376/452 [04:35<00:22,  3.40it/s]\u001b[A\n",
      " 83%|████████▎ | 377/452 [04:35<00:27,  2.68it/s]\u001b[A\n",
      " 84%|████████▎ | 378/452 [04:36<00:31,  2.36it/s]\u001b[A\n",
      " 84%|████████▍ | 379/452 [04:36<00:28,  2.60it/s]\u001b[A\n",
      " 84%|████████▍ | 380/452 [04:36<00:24,  2.99it/s]\u001b[A\n",
      " 84%|████████▍ | 381/452 [04:36<00:23,  3.04it/s]\u001b[A\n",
      " 85%|████████▍ | 382/452 [04:37<00:22,  3.06it/s]\u001b[A\n",
      " 85%|████████▍ | 383/452 [04:37<00:21,  3.25it/s]\u001b[A\n",
      " 85%|████████▍ | 384/452 [04:37<00:19,  3.51it/s]\u001b[A\n",
      " 85%|████████▌ | 385/452 [04:38<00:21,  3.15it/s]\u001b[A\n",
      " 85%|████████▌ | 386/452 [04:38<00:25,  2.59it/s]\u001b[A\n",
      " 86%|████████▌ | 387/452 [04:39<00:27,  2.37it/s]\u001b[A\n",
      " 86%|████████▌ | 388/452 [04:40<00:47,  1.33it/s]\u001b[A\n",
      " 86%|████████▌ | 389/452 [04:40<00:35,  1.75it/s]\u001b[A\n",
      " 86%|████████▋ | 390/452 [04:41<00:27,  2.22it/s]\u001b[A\n",
      " 87%|████████▋ | 391/452 [04:41<00:22,  2.71it/s]\u001b[A\n",
      " 87%|████████▋ | 392/452 [04:41<00:19,  3.07it/s]\u001b[A\n",
      " 87%|████████▋ | 393/452 [04:41<00:18,  3.27it/s]\u001b[A\n",
      " 87%|████████▋ | 394/452 [04:41<00:15,  3.86it/s]\u001b[A\n",
      " 87%|████████▋ | 395/452 [04:42<00:13,  4.38it/s]\u001b[A\n",
      " 88%|████████▊ | 396/452 [04:42<00:11,  4.95it/s]\u001b[A\n",
      " 88%|████████▊ | 397/452 [04:42<00:10,  5.48it/s]\u001b[A\n",
      " 88%|████████▊ | 398/452 [04:42<00:09,  5.68it/s]\u001b[A\n",
      " 88%|████████▊ | 399/452 [04:42<00:08,  5.99it/s]\u001b[A\n",
      " 88%|████████▊ | 400/452 [04:42<00:08,  5.85it/s]\u001b[A\n",
      " 89%|████████▊ | 401/452 [04:43<00:09,  5.19it/s]\u001b[A\n",
      " 89%|████████▉ | 402/452 [04:43<00:08,  5.58it/s]\u001b[A\n",
      " 89%|████████▉ | 403/452 [04:43<00:08,  5.89it/s]\u001b[A\n",
      " 89%|████████▉ | 404/452 [04:43<00:08,  5.65it/s]\u001b[A\n",
      " 90%|████████▉ | 405/452 [04:43<00:07,  5.90it/s]\u001b[A\n",
      " 90%|████████▉ | 406/452 [04:43<00:07,  6.14it/s]\u001b[A\n",
      " 90%|█████████ | 407/452 [04:43<00:07,  6.20it/s]\u001b[A\n",
      " 90%|█████████ | 408/452 [04:44<00:06,  6.42it/s]\u001b[A\n",
      " 90%|█████████ | 409/452 [04:44<00:06,  6.52it/s]\u001b[A\n",
      " 91%|█████████ | 410/452 [04:44<00:06,  6.56it/s]\u001b[A\n",
      " 91%|█████████ | 411/452 [04:44<00:06,  6.03it/s]\u001b[A\n",
      " 91%|█████████ | 412/452 [04:44<00:06,  5.83it/s]\u001b[A\n",
      " 91%|█████████▏| 413/452 [04:44<00:06,  5.80it/s]\u001b[A\n",
      " 92%|█████████▏| 414/452 [04:45<00:06,  5.76it/s]\u001b[A\n",
      " 92%|█████████▏| 415/452 [04:45<00:07,  5.23it/s]\u001b[A\n",
      " 92%|█████████▏| 416/452 [04:45<00:07,  4.95it/s]\u001b[A\n",
      " 92%|█████████▏| 417/452 [04:45<00:07,  4.94it/s]\u001b[A\n",
      " 92%|█████████▏| 418/452 [04:46<00:07,  4.67it/s]\u001b[A\n",
      " 93%|█████████▎| 419/452 [04:46<00:06,  5.32it/s]\u001b[A\n",
      " 93%|█████████▎| 420/452 [04:46<00:05,  5.98it/s]\u001b[A"
     ]
    },
    {
     "name": "stdout",
     "output_type": "stream",
     "text": [
      "An exception occurred Key error\n",
      "An exception occurred Key error\n"
     ]
    },
    {
     "name": "stderr",
     "output_type": "stream",
     "text": [
      "\n",
      " 93%|█████████▎| 421/452 [04:46<00:04,  6.47it/s]\u001b[A\n",
      " 93%|█████████▎| 422/452 [04:46<00:04,  7.03it/s]\u001b[A"
     ]
    },
    {
     "name": "stdout",
     "output_type": "stream",
     "text": [
      "An exception occurred Key error\n",
      "An exception occurred Key error\n"
     ]
    },
    {
     "name": "stderr",
     "output_type": "stream",
     "text": [
      "\n",
      " 94%|█████████▎| 423/452 [04:46<00:03,  7.28it/s]\u001b[A\n",
      " 94%|█████████▍| 424/452 [04:46<00:03,  7.66it/s]\u001b[A"
     ]
    },
    {
     "name": "stdout",
     "output_type": "stream",
     "text": [
      "An exception occurred Key error\n",
      "An exception occurred Key error\n"
     ]
    },
    {
     "name": "stderr",
     "output_type": "stream",
     "text": [
      "\n",
      " 94%|█████████▍| 425/452 [04:46<00:03,  7.75it/s]\u001b[A\n",
      " 94%|█████████▍| 426/452 [04:47<00:03,  8.11it/s]\u001b[A"
     ]
    },
    {
     "name": "stdout",
     "output_type": "stream",
     "text": [
      "An exception occurred Key error\n",
      "An exception occurred Key error\n"
     ]
    },
    {
     "name": "stderr",
     "output_type": "stream",
     "text": [
      "\n",
      " 94%|█████████▍| 427/452 [04:47<00:03,  7.90it/s]\u001b[A\n",
      " 95%|█████████▍| 428/452 [04:47<00:03,  7.58it/s]\u001b[A"
     ]
    },
    {
     "name": "stdout",
     "output_type": "stream",
     "text": [
      "An exception occurred Key error\n",
      "An exception occurred Key error\n"
     ]
    },
    {
     "name": "stderr",
     "output_type": "stream",
     "text": [
      "\n",
      " 95%|█████████▍| 429/452 [04:47<00:02,  7.74it/s]\u001b[A\n",
      " 95%|█████████▌| 430/452 [04:47<00:03,  6.99it/s]\u001b[A"
     ]
    },
    {
     "name": "stdout",
     "output_type": "stream",
     "text": [
      "An exception occurred Key error\n"
     ]
    },
    {
     "name": "stderr",
     "output_type": "stream",
     "text": [
      "\n",
      " 95%|█████████▌| 431/452 [04:47<00:02,  7.46it/s]\u001b[A\n",
      " 96%|█████████▌| 432/452 [04:47<00:02,  7.69it/s]\u001b[A"
     ]
    },
    {
     "name": "stdout",
     "output_type": "stream",
     "text": [
      "An exception occurred Key error\n",
      "An exception occurred Key error\n"
     ]
    },
    {
     "name": "stderr",
     "output_type": "stream",
     "text": [
      "\n",
      " 96%|█████████▌| 433/452 [04:47<00:02,  7.98it/s]\u001b[A\n",
      " 96%|█████████▌| 434/452 [04:48<00:02,  7.70it/s]\u001b[A"
     ]
    },
    {
     "name": "stdout",
     "output_type": "stream",
     "text": [
      "An exception occurred Key error\n",
      "An exception occurred Key error\n"
     ]
    },
    {
     "name": "stderr",
     "output_type": "stream",
     "text": [
      "\n",
      " 96%|█████████▌| 435/452 [04:48<00:02,  7.74it/s]\u001b[A\n",
      " 96%|█████████▋| 436/452 [04:48<00:02,  7.72it/s]\u001b[A"
     ]
    },
    {
     "name": "stdout",
     "output_type": "stream",
     "text": [
      "An exception occurred Key error\n",
      "An exception occurred Key error\n"
     ]
    },
    {
     "name": "stderr",
     "output_type": "stream",
     "text": [
      "\n",
      " 97%|█████████▋| 437/452 [04:48<00:02,  7.40it/s]\u001b[A\n",
      " 97%|█████████▋| 438/452 [04:48<00:01,  7.17it/s]\u001b[A"
     ]
    },
    {
     "name": "stdout",
     "output_type": "stream",
     "text": [
      "An exception occurred Key error\n",
      "An exception occurred Key error\n"
     ]
    },
    {
     "name": "stderr",
     "output_type": "stream",
     "text": [
      "\n",
      " 97%|█████████▋| 439/452 [04:48<00:01,  7.55it/s]\u001b[A\n",
      " 97%|█████████▋| 440/452 [04:48<00:01,  7.89it/s]\u001b[A"
     ]
    },
    {
     "name": "stdout",
     "output_type": "stream",
     "text": [
      "An exception occurred Key error\n",
      "An exception occurred Key error\n"
     ]
    },
    {
     "name": "stderr",
     "output_type": "stream",
     "text": [
      "\n",
      " 98%|█████████▊| 441/452 [04:49<00:01,  6.51it/s]\u001b[A\n",
      " 98%|█████████▊| 442/452 [04:49<00:01,  5.98it/s]\u001b[A\n",
      " 98%|█████████▊| 443/452 [04:49<00:01,  5.36it/s]\u001b[A\n",
      " 98%|█████████▊| 444/452 [04:49<00:01,  5.04it/s]\u001b[A\n",
      " 98%|█████████▊| 445/452 [04:49<00:01,  4.83it/s]\u001b[A\n",
      " 99%|█████████▊| 446/452 [04:50<00:01,  4.72it/s]\u001b[A\n",
      " 99%|█████████▉| 447/452 [04:50<00:01,  3.80it/s]\u001b[A\n",
      " 99%|█████████▉| 448/452 [04:50<00:01,  3.27it/s]\u001b[A\n",
      " 99%|█████████▉| 449/452 [04:51<00:01,  2.74it/s]\u001b[A\n",
      "100%|█████████▉| 450/452 [04:51<00:00,  2.67it/s]\u001b[A\n",
      "100%|█████████▉| 451/452 [04:52<00:00,  2.49it/s]\u001b[A\n",
      "100%|██████████| 452/452 [04:52<00:00,  1.54it/s]\u001b[A\n"
     ]
    },
    {
     "name": "stdout",
     "output_type": "stream",
     "text": [
      "length of df 373\n",
      "CampusX-official_comments.csv Witten\n"
     ]
    },
    {
     "name": "stderr",
     "output_type": "stream",
     "text": [
      "100%|██████████| 10/10 [54:59<00:00, 329.91s/it]\n"
     ]
    }
   ],
   "source": [
    "for channel_name,channel_id in tqdm(channel_name_id_map.items()):\n",
    "    print(channel_name,channel_id)\n",
    "    videos_df = pd.read_csv(f\"{channel_name}_videos.csv\")\n",
    "    extracted_comments_df = []\n",
    "    i = 0\n",
    "    for video_id in tqdm(videos_df['videoId'].values,miniters=50):\n",
    "        result = extract_comments_from_video(video_id) \n",
    "        if isinstance(result,str): # If exception occurs this result will be an str of error\n",
    "            continue\n",
    "        extracted_comments_df.append(result)\n",
    "        i = i + 1\n",
    "        if i % 100 == 0:\n",
    "            time.sleep(60)\n",
    "    print(\"length of df\", len(extracted_comments_df))\n",
    "    result_comment_df = pd.concat(extracted_comments_df)\n",
    "    result_comment_df.to_csv(f'{channel_name}_comments.csv')\n",
    "    print(f'{channel_name}_comments.csv Witten')\n",
    "    time.sleep(60)\n",
    "    "
   ]
  },
  {
   "cell_type": "code",
   "execution_count": null,
   "metadata": {},
   "outputs": [],
   "source": []
  }
 ],
 "metadata": {
  "kernelspec": {
   "display_name": "Python 3",
   "language": "python",
   "name": "python3"
  },
  "language_info": {
   "codemirror_mode": {
    "name": "ipython",
    "version": 3
   },
   "file_extension": ".py",
   "mimetype": "text/x-python",
   "name": "python",
   "nbconvert_exporter": "python",
   "pygments_lexer": "ipython3",
   "version": "3.7.6"
  }
 },
 "nbformat": 4,
 "nbformat_minor": 4
}
